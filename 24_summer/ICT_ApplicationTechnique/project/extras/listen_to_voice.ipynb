{
 "cells": [
  {
   "metadata": {
    "ExecuteTime": {
     "end_time": "2024-07-13T19:44:40.250222Z",
     "start_time": "2024-07-13T19:44:39.807948Z"
    }
   },
   "cell_type": "code",
   "source": [
    "import torch\n",
    "import torchaudio"
   ],
   "id": "4f5e074936749be5",
   "outputs": [],
   "execution_count": 1
  },
  {
   "cell_type": "code",
   "id": "initial_id",
   "metadata": {
    "collapsed": true,
    "ExecuteTime": {
     "end_time": "2024-07-13T12:51:07.144865Z",
     "start_time": "2024-07-13T12:51:07.129683Z"
    }
   },
   "source": [
    "file_path = '../data/train_audio/abethr1/XC128013.ogg'\n",
    "data, sample_rate = torchaudio.load(file_path)\n",
    "print(data.shape, sample_rate) # Ts=1/fs: 31.25 µs(micro second)\n",
    "print(f'time:{data.shape[1] / sample_rate: .1f}s')"
   ],
   "outputs": [
    {
     "name": "stdout",
     "output_type": "stream",
     "text": [
      "torch.Size([1, 1459513]) 32000\n",
      "time: 45.6s\n"
     ]
    }
   ],
   "execution_count": 3
  },
  {
   "metadata": {
    "ExecuteTime": {
     "end_time": "2024-07-13T12:51:25.111532Z",
     "start_time": "2024-07-13T12:51:19.986536Z"
    }
   },
   "cell_type": "code",
   "source": [
    "import simpleaudio as sa\n",
    "import time\n",
    "\n",
    "# simpleaudio 요구 사항\n",
    "max_val = data.abs().max() # 데이터의 최대 진폭(음량)\n",
    "audio = (data * (2**15 - 1) / max_val) # 데이터를 -1 ~ +1로 정규화한 뒤 -32767과 +32767 사이의 범위로 스케일링\n",
    "print(type(audio))\n",
    "audio_data = audio.type(torch.int16).numpy() # 데이터 타입을 int16으로 변경\n",
    "\n",
    "# 오디오 객체 생성 및 재생\n",
    "audio_obj = sa.play_buffer(\n",
    "    audio_data=audio_data,\n",
    "    num_channels=1, # 1: mono, 2: stereo\n",
    "    bytes_per_sample=2,\n",
    "    sample_rate=sample_rate\n",
    ")\n",
    "time.sleep(5)\n",
    "audio_obj.stop()"
   ],
   "id": "f601821917f474a3",
   "outputs": [
    {
     "name": "stdout",
     "output_type": "stream",
     "text": [
      "<class 'torch.Tensor'>\n"
     ]
    }
   ],
   "execution_count": 4
  },
  {
   "metadata": {},
   "cell_type": "code",
   "outputs": [],
   "execution_count": null,
   "source": "",
   "id": "7295c2aa4bb782c4"
  }
 ],
 "metadata": {
  "kernelspec": {
   "display_name": "Python 3",
   "language": "python",
   "name": "python3"
  },
  "language_info": {
   "codemirror_mode": {
    "name": "ipython",
    "version": 2
   },
   "file_extension": ".py",
   "mimetype": "text/x-python",
   "name": "python",
   "nbconvert_exporter": "python",
   "pygments_lexer": "ipython2",
   "version": "2.7.6"
  }
 },
 "nbformat": 4,
 "nbformat_minor": 5
}
