{
 "cells": [
  {
   "cell_type": "code",
   "id": "initial_id",
   "metadata": {
    "collapsed": true,
    "ExecuteTime": {
     "end_time": "2024-07-13T12:04:31.145785Z",
     "start_time": "2024-07-13T12:04:30.987267Z"
    }
   },
   "source": [
    "spectrogram = nn.Sequential(\n",
    "    AT.Spectrogram(\n",
    "        n_fft=nfft,\n",
    "        hop_length=hop_length,\n",
    "        win_length=win_length\n",
    "    ),\n",
    "    AT.AmplitudeToDB() # convert power spectrogram to log scale dB\n",
    ")\n",
    "spec = spectrogram(data)\n",
    "\n",
    "spec = spec.squeeze().numpy()\n",
    "spec = (spec - spec.min()) / (spec.max() - spec.min()) * 255 # min-max normalization\n",
    "spec = spec.astype('uint8')\n",
    "print(spec)"
   ],
   "outputs": [
    {
     "ename": "NameError",
     "evalue": "name 'nn' is not defined",
     "output_type": "error",
     "traceback": [
      "\u001B[0;31m---------------------------------------------------------------------------\u001B[0m",
      "\u001B[0;31mNameError\u001B[0m                                 Traceback (most recent call last)",
      "Cell \u001B[0;32mIn[1], line 1\u001B[0m\n\u001B[0;32m----> 1\u001B[0m spectrogram \u001B[38;5;241m=\u001B[39m nn\u001B[38;5;241m.\u001B[39mSequential(\n\u001B[1;32m      2\u001B[0m     AT\u001B[38;5;241m.\u001B[39mSpectrogram(\n\u001B[1;32m      3\u001B[0m         n_fft\u001B[38;5;241m=\u001B[39mnfft,\n\u001B[1;32m      4\u001B[0m         hop_length\u001B[38;5;241m=\u001B[39mhop_length,\n\u001B[1;32m      5\u001B[0m         win_length\u001B[38;5;241m=\u001B[39mwin_length\n\u001B[1;32m      6\u001B[0m     ),\n\u001B[1;32m      7\u001B[0m     AT\u001B[38;5;241m.\u001B[39mAmplitudeToDB() \u001B[38;5;66;03m# convert power spectrogram to log scale dB\u001B[39;00m\n\u001B[1;32m      8\u001B[0m )\n\u001B[1;32m      9\u001B[0m spec \u001B[38;5;241m=\u001B[39m spectrogram(data)\n\u001B[1;32m     11\u001B[0m spec \u001B[38;5;241m=\u001B[39m spec\u001B[38;5;241m.\u001B[39msqueeze()\u001B[38;5;241m.\u001B[39mnumpy()\n",
      "\u001B[0;31mNameError\u001B[0m: name 'nn' is not defined"
     ]
    }
   ],
   "execution_count": 1
  },
  {
   "metadata": {
    "ExecuteTime": {
     "end_time": "2024-07-13T12:04:33.407662Z",
     "start_time": "2024-07-13T12:04:33.387013Z"
    }
   },
   "cell_type": "code",
   "source": [
    "from PIL import Image\n",
    "\n",
    "print(spec.shape)\n",
    "img = Image.fromarray(spec)\n",
    "print(img.size)\n",
    "img"
   ],
   "id": "a320b428a150dba2",
   "outputs": [
    {
     "ename": "NameError",
     "evalue": "name 'spec' is not defined",
     "output_type": "error",
     "traceback": [
      "\u001B[0;31m---------------------------------------------------------------------------\u001B[0m",
      "\u001B[0;31mNameError\u001B[0m                                 Traceback (most recent call last)",
      "Cell \u001B[0;32mIn[2], line 3\u001B[0m\n\u001B[1;32m      1\u001B[0m \u001B[38;5;28;01mfrom\u001B[39;00m \u001B[38;5;21;01mPIL\u001B[39;00m \u001B[38;5;28;01mimport\u001B[39;00m Image\n\u001B[0;32m----> 3\u001B[0m \u001B[38;5;28mprint\u001B[39m(spec\u001B[38;5;241m.\u001B[39mshape)\n\u001B[1;32m      4\u001B[0m img \u001B[38;5;241m=\u001B[39m Image\u001B[38;5;241m.\u001B[39mfromarray(spec)\n\u001B[1;32m      5\u001B[0m \u001B[38;5;28mprint\u001B[39m(img\u001B[38;5;241m.\u001B[39msize)\n",
      "\u001B[0;31mNameError\u001B[0m: name 'spec' is not defined"
     ]
    }
   ],
   "execution_count": 2
  },
  {
   "metadata": {},
   "cell_type": "markdown",
   "source": "### Resizing the images",
   "id": "d26448f80c90a910"
  },
  {
   "metadata": {},
   "cell_type": "code",
   "outputs": [],
   "execution_count": null,
   "source": [
    "img_size = (512, 512)\n",
    "img = img.resize(img_size)\n",
    "img"
   ],
   "id": "741f4ec17feac20a"
  }
 ],
 "metadata": {
  "kernelspec": {
   "display_name": "Python 3",
   "language": "python",
   "name": "python3"
  },
  "language_info": {
   "codemirror_mode": {
    "name": "ipython",
    "version": 2
   },
   "file_extension": ".py",
   "mimetype": "text/x-python",
   "name": "python",
   "nbconvert_exporter": "python",
   "pygments_lexer": "ipython2",
   "version": "2.7.6"
  }
 },
 "nbformat": 4,
 "nbformat_minor": 5
}
