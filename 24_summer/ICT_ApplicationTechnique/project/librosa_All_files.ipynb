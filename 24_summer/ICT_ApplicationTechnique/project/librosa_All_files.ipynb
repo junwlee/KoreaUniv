{
 "cells": [
  {
   "cell_type": "code",
   "id": "initial_id",
   "metadata": {
    "collapsed": true,
    "ExecuteTime": {
     "end_time": "2024-07-14T08:03:15.389753Z",
     "start_time": "2024-07-14T08:03:15.129755Z"
    }
   },
   "source": [
    "import os\n",
    "import librosa\n",
    "import librosa.display\n",
    "import matplotlib.pyplot as plt\n",
    "import numpy as np\n",
    "\n",
    "class Spectrogram:\n",
    "    def __init__(self, root_dir):\n",
    "        self.root_dir = root_dir\n",
    "        \n",
    "    def load_data(self, file_path):\n",
    "        data, sample_rate = librosa.load(file_path, sr=None)\n",
    "        return data, sample_rate\n",
    "\n",
    "    def param_set(self, fs):\n",
    "        win_length = int(np.ceil(fs * 0.025))\n",
    "        nfft = 2 ** int(np.ceil(np.log2(win_length)))\n",
    "        hop_length = int(np.ceil(fs * 0.01))\n",
    "        return nfft, win_length, hop_length\n",
    "    \n",
    "    def create_spec(self, data, nfft, win_length, hop_length):\n",
    "        # Define & Perform transform\n",
    "        stft = librosa.stft(\n",
    "            data,\n",
    "            n_fft=nfft,\n",
    "            win_length=win_length,\n",
    "            hop_length=hop_length\n",
    "        )\n",
    "        magnitude = np.abs(stft)\n",
    "        log_spectrogram = librosa.amplitude_to_db(magnitude)\n",
    "        return log_spectrogram\n",
    "\n",
    "    def create_img(self, file_path, output_dir):\n",
    "        data, sample_rate = self.load_data(file_path)\n",
    "        nfft, win_length, hop_length = self.param_set(sample_rate)\n",
    "        log_spec = self.create_spec(data, nfft, win_length, hop_length)\n",
    "    \n",
    "        plt.figure(figsize=(15, 4))\n",
    "        librosa.display.specshow(\n",
    "            log_spec,\n",
    "            sr=sample_rate,\n",
    "            hop_length=hop_length,\n",
    "            x_axis='time',\n",
    "            y_axis='hz'\n",
    "        )\n",
    "        plt.xlabel(\"Time (sec)\")\n",
    "        plt.ylabel(\"Frequency (Hz)\")\n",
    "        plt.colorbar(format=\"%+2.0f dB\")\n",
    "        plt.title(\"Spectrogram (dB)\")\n",
    "        \n",
    "        # Generate unique filename and save figure\n",
    "        file_name = os.path.basename(file_path).replace('.ogg', '.png')\n",
    "        species_folder = os.path.basename(os.path.dirname(file_path))\n",
    "        save_path = os.path.join(output_dir, species_folder)\n",
    "        os.makedirs(save_path, exist_ok=True)\n",
    "        plt.savefig(os.path.join(save_path, file_name))\n",
    "        plt.close()\n",
    "    \n",
    "    def process_all_files(self, output_dir):\n",
    "        for subdir, _, files in os.walk(self.root_dir):\n",
    "            for file in files:\n",
    "                if file.endswith('.ogg'):\n",
    "                    file_path = os.path.join(subdir, file)\n",
    "                    self.create_img(file_path, output_dir)\n",
    "                    print(f'Processed and saved spectrogram for {file_path}')"
   ],
   "outputs": [],
   "execution_count": 1
  },
  {
   "metadata": {
    "jupyter": {
     "is_executing": true
    },
    "ExecuteTime": {
     "start_time": "2024-07-14T08:03:29.086388Z"
    }
   },
   "cell_type": "code",
   "source": [
    "# Usage\n",
    "root_dir = './data/train_audio'\n",
    "output_dir = './librosa_output'\n",
    "spec_obj = Spectrogram(root_dir)\n",
    "spec_obj.process_all_files(output_dir)"
   ],
   "id": "cc4f5e758bb2268a",
   "outputs": [
    {
     "name": "stdout",
     "output_type": "stream",
     "text": [
      "Processed and saved spectrogram for ./data/train_audio/ruegls1/XC608033.ogg\n",
      "Processed and saved spectrogram for ./data/train_audio/ruegls1/XC616594.ogg\n",
      "Processed and saved spectrogram for ./data/train_audio/ruegls1/XC444915.ogg\n",
      "Processed and saved spectrogram for ./data/train_audio/ruegls1/XC410588.ogg\n",
      "Processed and saved spectrogram for ./data/train_audio/ruegls1/XC364252.ogg\n",
      "Processed and saved spectrogram for ./data/train_audio/ruegls1/XC285544.ogg\n",
      "Processed and saved spectrogram for ./data/train_audio/ruegls1/XC252342.ogg\n",
      "Processed and saved spectrogram for ./data/train_audio/ruegls1/XC131661.ogg\n",
      "Processed and saved spectrogram for ./data/train_audio/ruegls1/XC138679.ogg\n",
      "Processed and saved spectrogram for ./data/train_audio/ruegls1/XC131311.ogg\n",
      "Processed and saved spectrogram for ./data/train_audio/ruegls1/XC138678.ogg\n",
      "Processed and saved spectrogram for ./data/train_audio/ruegls1/XC748259.ogg\n",
      "Processed and saved spectrogram for ./data/train_audio/ruegls1/XC701339.ogg\n",
      "Processed and saved spectrogram for ./data/train_audio/ruegls1/XC748260.ogg\n",
      "Processed and saved spectrogram for ./data/train_audio/ruegls1/XC444351.ogg\n",
      "Processed and saved spectrogram for ./data/train_audio/ruegls1/XC282020.ogg\n",
      "Processed and saved spectrogram for ./data/train_audio/ruegls1/XC294696.ogg\n",
      "Processed and saved spectrogram for ./data/train_audio/ruegls1/XC701668.ogg\n",
      "Processed and saved spectrogram for ./data/train_audio/ruegls1/XC701859.ogg\n",
      "Processed and saved spectrogram for ./data/train_audio/ruegls1/XC396427.ogg\n",
      "Processed and saved spectrogram for ./data/train_audio/ruegls1/XC117142.ogg\n",
      "Processed and saved spectrogram for ./data/train_audio/ruegls1/XC616589.ogg\n",
      "Processed and saved spectrogram for ./data/train_audio/ruegls1/XC281992.ogg\n",
      "Processed and saved spectrogram for ./data/train_audio/ruegls1/XC237765.ogg\n",
      "Processed and saved spectrogram for ./data/train_audio/ruegls1/XC293978.ogg\n",
      "Processed and saved spectrogram for ./data/train_audio/ruegls1/XC117140.ogg\n"
     ]
    }
   ],
   "execution_count": null
  },
  {
   "metadata": {},
   "cell_type": "code",
   "outputs": [],
   "execution_count": null,
   "source": "",
   "id": "f5b2ba6565a1d381"
  }
 ],
 "metadata": {
  "kernelspec": {
   "display_name": "Python 3",
   "language": "python",
   "name": "python3"
  },
  "language_info": {
   "codemirror_mode": {
    "name": "ipython",
    "version": 2
   },
   "file_extension": ".py",
   "mimetype": "text/x-python",
   "name": "python",
   "nbconvert_exporter": "python",
   "pygments_lexer": "ipython2",
   "version": "2.7.6"
  }
 },
 "nbformat": 4,
 "nbformat_minor": 5
}
