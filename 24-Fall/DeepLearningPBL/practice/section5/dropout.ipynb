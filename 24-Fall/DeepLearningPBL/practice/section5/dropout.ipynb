{
 "cells": [
  {
   "metadata": {
    "ExecuteTime": {
     "end_time": "2024-10-08T12:47:58.129240Z",
     "start_time": "2024-10-08T12:47:57.946961Z"
    }
   },
   "cell_type": "code",
   "source": [
    "import tensorflow as tf\n",
    "\n",
    "fashion_mnist = tf.keras.datasets.fashion_mnist\n",
    "(x_train, y_train_sparse), (x_test, y_test_sparse) = fashion_mnist.load_data()"
   ],
   "id": "fb8e861e2a817253",
   "outputs": [],
   "execution_count": 2
  },
  {
   "metadata": {
    "ExecuteTime": {
     "end_time": "2024-10-08T12:48:31.826629Z",
     "start_time": "2024-10-08T12:48:31.771001Z"
    }
   },
   "cell_type": "code",
   "source": [
    "from tensorflow.keras.utils import to_categorical\n",
    "\n",
    "y_train = to_categorical(y_train_sparse)\n",
    "y_test = to_categorical(y_test_sparse)\n",
    "\n",
    "x_train = x_train / 255.0\n",
    "x_test = x_test / 255.0"
   ],
   "id": "95fbd57094a2d056",
   "outputs": [],
   "execution_count": 4
  },
  {
   "cell_type": "code",
   "id": "initial_id",
   "metadata": {
    "collapsed": true,
    "ExecuteTime": {
     "end_time": "2024-10-08T12:46:37.086799Z",
     "start_time": "2024-10-08T12:46:35.812300Z"
    }
   },
   "source": [
    "from tensorflow.keras.models import Sequential\n",
    "from tensorflow.keras.layers import Flatten, Dense, Dropout\n",
    "\n",
    "model = Sequential()\n",
    "model.add(Flatten(input_shape=[28, 28]))\n",
    "model.add(Dropout(0.1))\n",
    "model.add(\n",
    "    Dense(256, activation='elu', kernel_initializer='he_uniform')\n",
    ")\n",
    "model.add(Dropout(0.1))\n",
    "model.add(\n",
    "    Dense(128, activation='selu', kernel_initializer='lecun_uniform')\n",
    ")\n",
    "model.add(\n",
    "    Dense(10, activation='softmax')\n",
    ")\n",
    "model.summary()"
   ],
   "outputs": [
    {
     "name": "stdout",
     "output_type": "stream",
     "text": [
      "Model: \"sequential\"\n",
      "_________________________________________________________________\n",
      " Layer (type)                Output Shape              Param #   \n",
      "=================================================================\n",
      " flatten (Flatten)           (None, 784)               0         \n",
      "                                                                 \n",
      " dropout (Dropout)           (None, 784)               0         \n",
      "                                                                 \n",
      " dense (Dense)               (None, 256)               200960    \n",
      "                                                                 \n",
      " dropout_1 (Dropout)         (None, 256)               0         \n",
      "                                                                 \n",
      " dense_1 (Dense)             (None, 128)               32896     \n",
      "                                                                 \n",
      " dense_2 (Dense)             (None, 10)                1290      \n",
      "                                                                 \n",
      "=================================================================\n",
      "Total params: 235,146\n",
      "Trainable params: 235,146\n",
      "Non-trainable params: 0\n",
      "_________________________________________________________________\n"
     ]
    }
   ],
   "execution_count": 1
  },
  {
   "metadata": {
    "ExecuteTime": {
     "end_time": "2024-10-08T12:49:31.436258Z",
     "start_time": "2024-10-08T12:48:44.677602Z"
    }
   },
   "cell_type": "code",
   "source": [
    "model.compile(loss='categorical_crossentropy', optimizer='nadam', metrics=['accuracy'])\n",
    "results = model.fit(\n",
    "    x_train, y_train, batch_size=32, epochs=15, validation_split=0.1\n",
    ")"
   ],
   "id": "d1168e67cbdb229b",
   "outputs": [
    {
     "name": "stdout",
     "output_type": "stream",
     "text": [
      "Epoch 1/15\n",
      "   1/1688 [..............................] - ETA: 5:16 - loss: 2.5694 - accuracy: 0.0000e+00"
     ]
    },
    {
     "name": "stderr",
     "output_type": "stream",
     "text": [
      "2024-10-08 21:48:44.785029: W tensorflow/tsl/platform/profile_utils/cpu_utils.cc:128] Failed to get CPU frequency: 0 Hz\n"
     ]
    },
    {
     "name": "stdout",
     "output_type": "stream",
     "text": [
      "1688/1688 [==============================] - 3s 2ms/step - loss: 0.5158 - accuracy: 0.8135 - val_loss: 0.3941 - val_accuracy: 0.8572\n",
      "Epoch 2/15\n",
      "1688/1688 [==============================] - 3s 2ms/step - loss: 0.4040 - accuracy: 0.8504 - val_loss: 0.3681 - val_accuracy: 0.8628\n",
      "Epoch 3/15\n",
      "1688/1688 [==============================] - 3s 2ms/step - loss: 0.3661 - accuracy: 0.8639 - val_loss: 0.3767 - val_accuracy: 0.8675\n",
      "Epoch 4/15\n",
      "1688/1688 [==============================] - 3s 2ms/step - loss: 0.3449 - accuracy: 0.8699 - val_loss: 0.3621 - val_accuracy: 0.8643\n",
      "Epoch 5/15\n",
      "1688/1688 [==============================] - 3s 2ms/step - loss: 0.3266 - accuracy: 0.8779 - val_loss: 0.3387 - val_accuracy: 0.8743\n",
      "Epoch 6/15\n",
      "1688/1688 [==============================] - 3s 2ms/step - loss: 0.3165 - accuracy: 0.8820 - val_loss: 0.3369 - val_accuracy: 0.8842\n",
      "Epoch 7/15\n",
      "1688/1688 [==============================] - 3s 2ms/step - loss: 0.3036 - accuracy: 0.8837 - val_loss: 0.3339 - val_accuracy: 0.8802\n",
      "Epoch 8/15\n",
      "1688/1688 [==============================] - 3s 2ms/step - loss: 0.2953 - accuracy: 0.8883 - val_loss: 0.3134 - val_accuracy: 0.8838\n",
      "Epoch 9/15\n",
      "1688/1688 [==============================] - 3s 2ms/step - loss: 0.2834 - accuracy: 0.8929 - val_loss: 0.3116 - val_accuracy: 0.8877\n",
      "Epoch 10/15\n",
      "1688/1688 [==============================] - 3s 2ms/step - loss: 0.2764 - accuracy: 0.8944 - val_loss: 0.3043 - val_accuracy: 0.8853\n",
      "Epoch 11/15\n",
      "1688/1688 [==============================] - 3s 2ms/step - loss: 0.2706 - accuracy: 0.8985 - val_loss: 0.3186 - val_accuracy: 0.8863\n",
      "Epoch 12/15\n",
      "1688/1688 [==============================] - 3s 2ms/step - loss: 0.2619 - accuracy: 0.8995 - val_loss: 0.3218 - val_accuracy: 0.8878\n",
      "Epoch 13/15\n",
      "1688/1688 [==============================] - 3s 2ms/step - loss: 0.2591 - accuracy: 0.9012 - val_loss: 0.3201 - val_accuracy: 0.8913\n",
      "Epoch 14/15\n",
      "1688/1688 [==============================] - 3s 2ms/step - loss: 0.2525 - accuracy: 0.9033 - val_loss: 0.3204 - val_accuracy: 0.8840\n",
      "Epoch 15/15\n",
      "1688/1688 [==============================] - 3s 2ms/step - loss: 0.2491 - accuracy: 0.9054 - val_loss: 0.3045 - val_accuracy: 0.8947\n"
     ]
    }
   ],
   "execution_count": 5
  },
  {
   "metadata": {},
   "cell_type": "code",
   "outputs": [],
   "execution_count": null,
   "source": "",
   "id": "b449780fcfcea2f4"
  }
 ],
 "metadata": {
  "kernelspec": {
   "display_name": "Python 3",
   "language": "python",
   "name": "python3"
  },
  "language_info": {
   "codemirror_mode": {
    "name": "ipython",
    "version": 2
   },
   "file_extension": ".py",
   "mimetype": "text/x-python",
   "name": "python",
   "nbconvert_exporter": "python",
   "pygments_lexer": "ipython2",
   "version": "2.7.6"
  }
 },
 "nbformat": 4,
 "nbformat_minor": 5
}
