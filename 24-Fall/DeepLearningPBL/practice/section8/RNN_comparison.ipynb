{
 "cells": [
  {
   "cell_type": "code",
   "id": "initial_id",
   "metadata": {
    "collapsed": true,
    "ExecuteTime": {
     "end_time": "2024-11-05T12:28:45.012269Z",
     "start_time": "2024-11-05T12:28:43.500410Z"
    }
   },
   "source": [
    "from tensorflow.keras.datasets import imdb\n",
    "import numpy as np\n",
    "\n",
    "max_features = 10000\n",
    "(x_train, y_train), (x_test, y_test) = imdb.load_data(num_words=max_features)\n",
    "\n",
    "unique, counts = np.unique(y_train, return_counts=True)\n",
    "print(unique, counts)\n",
    "print(dict(zip(unique, counts)))\n",
    "\n",
    "unique, counts = np.unique(y_test, return_counts=True)\n",
    "print(dict(zip(unique, counts)))"
   ],
   "outputs": [
    {
     "name": "stdout",
     "output_type": "stream",
     "text": [
      "[0 1] [12500 12500]\n",
      "{0: 12500, 1: 12500}\n",
      "{0: 12500, 1: 12500}\n"
     ]
    }
   ],
   "execution_count": 8
  },
  {
   "metadata": {
    "ExecuteTime": {
     "end_time": "2024-11-05T12:28:45.053191Z",
     "start_time": "2024-11-05T12:28:45.051031Z"
    }
   },
   "cell_type": "code",
   "source": [
    "print(x_train[0])\n",
    "print(len(x_train[0]))"
   ],
   "id": "35a1455bd629f5c5",
   "outputs": [
    {
     "name": "stdout",
     "output_type": "stream",
     "text": [
      "[1, 14, 22, 16, 43, 530, 973, 1622, 1385, 65, 458, 4468, 66, 3941, 4, 173, 36, 256, 5, 25, 100, 43, 838, 112, 50, 670, 2, 9, 35, 480, 284, 5, 150, 4, 172, 112, 167, 2, 336, 385, 39, 4, 172, 4536, 1111, 17, 546, 38, 13, 447, 4, 192, 50, 16, 6, 147, 2025, 19, 14, 22, 4, 1920, 4613, 469, 4, 22, 71, 87, 12, 16, 43, 530, 38, 76, 15, 13, 1247, 4, 22, 17, 515, 17, 12, 16, 626, 18, 2, 5, 62, 386, 12, 8, 316, 8, 106, 5, 4, 2223, 5244, 16, 480, 66, 3785, 33, 4, 130, 12, 16, 38, 619, 5, 25, 124, 51, 36, 135, 48, 25, 1415, 33, 6, 22, 12, 215, 28, 77, 52, 5, 14, 407, 16, 82, 2, 8, 4, 107, 117, 5952, 15, 256, 4, 2, 7, 3766, 5, 723, 36, 71, 43, 530, 476, 26, 400, 317, 46, 7, 4, 2, 1029, 13, 104, 88, 4, 381, 15, 297, 98, 32, 2071, 56, 26, 141, 6, 194, 7486, 18, 4, 226, 22, 21, 134, 476, 26, 480, 5, 144, 30, 5535, 18, 51, 36, 28, 224, 92, 25, 104, 4, 226, 65, 16, 38, 1334, 88, 12, 16, 283, 5, 16, 4472, 113, 103, 32, 15, 16, 5345, 19, 178, 32]\n",
      "218\n"
     ]
    }
   ],
   "execution_count": 9
  },
  {
   "metadata": {
    "ExecuteTime": {
     "end_time": "2024-11-05T12:28:45.111741Z",
     "start_time": "2024-11-05T12:28:45.090041Z"
    }
   },
   "cell_type": "code",
   "source": [
    "word_index = imdb.get_word_index()\n",
    "print(len(word_index))\n",
    "\n",
    "for k, v in word_index.items():\n",
    "    if v == 1600: # 등장빈도 순위가 1600인 단어\n",
    "        print(k)"
   ],
   "id": "ad10b96b2a24fb82",
   "outputs": [
    {
     "name": "stdout",
     "output_type": "stream",
     "text": [
      "88584\n",
      "apartment\n"
     ]
    }
   ],
   "execution_count": 10
  },
  {
   "metadata": {
    "ExecuteTime": {
     "end_time": "2024-11-05T12:28:45.169175Z",
     "start_time": "2024-11-05T12:28:45.149250Z"
    }
   },
   "cell_type": "code",
   "source": [
    "exch_idx = dict(\n",
    "    [(value, key) for (key, value) in word_index.items()]\n",
    ")\n",
    "review = ' '.join(\n",
    "    [exch_idx.get(i-3, '!') for i in x_train[1]]\n",
    ")\n",
    "\n",
    "print(review)"
   ],
   "id": "7d907a4934043341",
   "outputs": [
    {
     "name": "stdout",
     "output_type": "stream",
     "text": [
      "! big hair big boobs bad music and a giant safety pin these are the words to best describe this terrible movie i love cheesy horror movies and i've seen hundreds but this had got to be on of the worst ever made the plot is paper thin and ridiculous the acting is an abomination the script is completely laughable the best is the end showdown with the cop and how he worked out who the killer is it's just so damn terribly written the clothes are sickening and funny in equal ! the hair is big lots of boobs ! men wear those cut ! shirts that show off their ! sickening that men actually wore them and the music is just ! trash that plays over and over again in almost every scene there is trashy music boobs and ! taking away bodies and the gym still doesn't close for ! all joking aside this is a truly bad film whose only charm is to look back on the disaster that was the 80's and have a good old laugh at how bad everything was back then\n"
     ]
    }
   ],
   "execution_count": 11
  },
  {
   "metadata": {
    "ExecuteTime": {
     "end_time": "2024-11-05T12:28:45.469195Z",
     "start_time": "2024-11-05T12:28:45.206602Z"
    }
   },
   "cell_type": "code",
   "source": [
    "from tensorflow.keras.preprocessing import sequence\n",
    "\n",
    "len_max = 700\n",
    "input_train = sequence.pad_sequences(x_train, maxlen=len_max)\n",
    "input_test = sequence.pad_sequences(x_test, maxlen=len_max)\n",
    "\n",
    "print(input_train.shape)\n",
    "print(input_test.shape)"
   ],
   "id": "256259634e398c07",
   "outputs": [
    {
     "name": "stdout",
     "output_type": "stream",
     "text": [
      "(25000, 700)\n",
      "(25000, 700)\n"
     ]
    }
   ],
   "execution_count": 12
  },
  {
   "metadata": {},
   "cell_type": "markdown",
   "source": "## SimpleRNN",
   "id": "2f349109f0c814b2"
  },
  {
   "metadata": {
    "ExecuteTime": {
     "end_time": "2024-11-05T12:32:47.872818Z",
     "start_time": "2024-11-05T12:30:46.152317Z"
    }
   },
   "cell_type": "code",
   "source": [
    "from tensorflow.keras.models import Sequential\n",
    "from tensorflow.keras.layers import Dense, Embedding, SimpleRNN\n",
    "\n",
    "srnn = Sequential()\n",
    "srnn.add(Embedding(max_features, 32))\n",
    "srnn.add(SimpleRNN(32))\n",
    "srnn.add(Dense(1, activation='sigmoid'))\n",
    "srnn.summary()\n",
    "\n",
    "srnn.compile(optimizer='rmsprop', loss='binary_crossentropy', metrics=['accuracy'])\n",
    "srnn.fit(input_train, y_train,epochs=10, batch_size=128)"
   ],
   "id": "66998ff1cdf1d8ae",
   "outputs": [
    {
     "name": "stdout",
     "output_type": "stream",
     "text": [
      "Model: \"sequential_2\"\n",
      "_________________________________________________________________\n",
      " Layer (type)                Output Shape              Param #   \n",
      "=================================================================\n",
      " embedding_2 (Embedding)     (None, None, 32)          320000    \n",
      "                                                                 \n",
      " simple_rnn_2 (SimpleRNN)    (None, 32)                2080      \n",
      "                                                                 \n",
      " dense_2 (Dense)             (None, 1)                 33        \n",
      "                                                                 \n",
      "=================================================================\n",
      "Total params: 322,113\n",
      "Trainable params: 322,113\n",
      "Non-trainable params: 0\n",
      "_________________________________________________________________\n",
      "Epoch 1/10\n",
      "196/196 [==============================] - 12s 60ms/step - loss: 0.5554 - accuracy: 0.7095\n",
      "Epoch 2/10\n",
      "196/196 [==============================] - 12s 62ms/step - loss: 0.3597 - accuracy: 0.8511\n",
      "Epoch 3/10\n",
      "196/196 [==============================] - 12s 62ms/step - loss: 0.2823 - accuracy: 0.8877\n",
      "Epoch 4/10\n",
      "196/196 [==============================] - 12s 63ms/step - loss: 0.2215 - accuracy: 0.9156\n",
      "Epoch 5/10\n",
      "196/196 [==============================] - 12s 62ms/step - loss: 0.1802 - accuracy: 0.9354\n",
      "Epoch 6/10\n",
      "196/196 [==============================] - 12s 62ms/step - loss: 0.1265 - accuracy: 0.9558\n",
      "Epoch 7/10\n",
      "196/196 [==============================] - 12s 62ms/step - loss: 0.0914 - accuracy: 0.9698\n",
      "Epoch 8/10\n",
      "196/196 [==============================] - 12s 62ms/step - loss: 0.0585 - accuracy: 0.9820\n",
      "Epoch 9/10\n",
      "196/196 [==============================] - 12s 63ms/step - loss: 0.0463 - accuracy: 0.9853\n",
      "Epoch 10/10\n",
      "196/196 [==============================] - 12s 63ms/step - loss: 0.0304 - accuracy: 0.9908\n"
     ]
    },
    {
     "data": {
      "text/plain": [
       "<keras.callbacks.History at 0x30f9c3190>"
      ]
     },
     "execution_count": 14,
     "metadata": {},
     "output_type": "execute_result"
    }
   ],
   "execution_count": 14
  },
  {
   "metadata": {
    "ExecuteTime": {
     "end_time": "2024-11-05T12:33:05.370626Z",
     "start_time": "2024-11-05T12:32:53.845550Z"
    }
   },
   "cell_type": "code",
   "source": [
    "train_loss = srnn.evaluate(input_train, y_train)\n",
    "test_loss = srnn.evaluate(input_test, y_test)\n",
    "\n",
    "print(train_loss)\n",
    "print(test_loss)"
   ],
   "id": "4bc4cae828c110df",
   "outputs": [
    {
     "name": "stdout",
     "output_type": "stream",
     "text": [
      "782/782 [==============================] - 6s 7ms/step - loss: 0.0328 - accuracy: 0.9880\n",
      "782/782 [==============================] - 6s 7ms/step - loss: 0.6050 - accuracy: 0.8573\n",
      "[0.032807908952236176, 0.9879999756813049]\n",
      "[0.6049891710281372, 0.8573200106620789]\n"
     ]
    }
   ],
   "execution_count": 15
  },
  {
   "metadata": {},
   "cell_type": "markdown",
   "source": "## LSTM",
   "id": "e965e7e43e943a75"
  },
  {
   "metadata": {
    "ExecuteTime": {
     "end_time": "2024-11-05T13:03:56.583654Z",
     "start_time": "2024-11-05T12:58:38.768546Z"
    }
   },
   "cell_type": "code",
   "source": [
    "from tensorflow.keras.layers import LSTM\n",
    "from tensorflow.keras.models import Sequential\n",
    "\n",
    "lstm = Sequential()\n",
    "lstm.add(Embedding(max_features, 32))\n",
    "lstm.add(LSTM(32))\n",
    "lstm.add(Dense(1, activation='sigmoid'))\n",
    "lstm.summary()\n",
    "\n",
    "lstm.compile(optimizer='rmsprop', loss='binary_crossentropy',metrics=['accuracy'])\n",
    "lstm.fit(input_train, y_train,epochs=10, batch_size=128)"
   ],
   "id": "65d1f953a49f450f",
   "outputs": [
    {
     "name": "stdout",
     "output_type": "stream",
     "text": [
      "Model: \"sequential_4\"\n",
      "_________________________________________________________________\n",
      " Layer (type)                Output Shape              Param #   \n",
      "=================================================================\n",
      " embedding_4 (Embedding)     (None, None, 32)          320000    \n",
      "                                                                 \n",
      " lstm (LSTM)                 (None, 32)                8320      \n",
      "                                                                 \n",
      " dense_4 (Dense)             (None, 1)                 33        \n",
      "                                                                 \n",
      "=================================================================\n",
      "Total params: 328,353\n",
      "Trainable params: 328,353\n",
      "Non-trainable params: 0\n",
      "_________________________________________________________________\n",
      "Epoch 1/10\n"
     ]
    },
    {
     "name": "stderr",
     "output_type": "stream",
     "text": [
      "2024-11-05 21:58:38.840960: I tensorflow/core/common_runtime/executor.cc:1197] [/device:CPU:0] (DEBUG INFO) Executor start aborting (this does not indicate an error and you can ignore this message): INVALID_ARGUMENT: You must feed a value for placeholder tensor 'gradients/split_2_grad/concat/split_2/split_dim' with dtype int32\n",
      "\t [[{{node gradients/split_2_grad/concat/split_2/split_dim}}]]\n",
      "2024-11-05 21:58:38.841441: I tensorflow/core/common_runtime/executor.cc:1197] [/device:CPU:0] (DEBUG INFO) Executor start aborting (this does not indicate an error and you can ignore this message): INVALID_ARGUMENT: You must feed a value for placeholder tensor 'gradients/split_grad/concat/split/split_dim' with dtype int32\n",
      "\t [[{{node gradients/split_grad/concat/split/split_dim}}]]\n",
      "2024-11-05 21:58:38.842084: I tensorflow/core/common_runtime/executor.cc:1197] [/device:CPU:0] (DEBUG INFO) Executor start aborting (this does not indicate an error and you can ignore this message): INVALID_ARGUMENT: You must feed a value for placeholder tensor 'gradients/split_1_grad/concat/split_1/split_dim' with dtype int32\n",
      "\t [[{{node gradients/split_1_grad/concat/split_1/split_dim}}]]\n",
      "2024-11-05 21:58:38.927208: I tensorflow/core/common_runtime/executor.cc:1197] [/device:CPU:0] (DEBUG INFO) Executor start aborting (this does not indicate an error and you can ignore this message): INVALID_ARGUMENT: You must feed a value for placeholder tensor 'gradients/split_2_grad/concat/split_2/split_dim' with dtype int32\n",
      "\t [[{{node gradients/split_2_grad/concat/split_2/split_dim}}]]\n",
      "2024-11-05 21:58:38.927634: I tensorflow/core/common_runtime/executor.cc:1197] [/device:CPU:0] (DEBUG INFO) Executor start aborting (this does not indicate an error and you can ignore this message): INVALID_ARGUMENT: You must feed a value for placeholder tensor 'gradients/split_grad/concat/split/split_dim' with dtype int32\n",
      "\t [[{{node gradients/split_grad/concat/split/split_dim}}]]\n",
      "2024-11-05 21:58:38.928122: I tensorflow/core/common_runtime/executor.cc:1197] [/device:CPU:0] (DEBUG INFO) Executor start aborting (this does not indicate an error and you can ignore this message): INVALID_ARGUMENT: You must feed a value for placeholder tensor 'gradients/split_1_grad/concat/split_1/split_dim' with dtype int32\n",
      "\t [[{{node gradients/split_1_grad/concat/split_1/split_dim}}]]\n",
      "2024-11-05 21:58:39.114054: I tensorflow/core/common_runtime/executor.cc:1197] [/device:CPU:0] (DEBUG INFO) Executor start aborting (this does not indicate an error and you can ignore this message): INVALID_ARGUMENT: You must feed a value for placeholder tensor 'gradients/split_2_grad/concat/split_2/split_dim' with dtype int32\n",
      "\t [[{{node gradients/split_2_grad/concat/split_2/split_dim}}]]\n",
      "2024-11-05 21:58:39.114685: I tensorflow/core/common_runtime/executor.cc:1197] [/device:CPU:0] (DEBUG INFO) Executor start aborting (this does not indicate an error and you can ignore this message): INVALID_ARGUMENT: You must feed a value for placeholder tensor 'gradients/split_grad/concat/split/split_dim' with dtype int32\n",
      "\t [[{{node gradients/split_grad/concat/split/split_dim}}]]\n",
      "2024-11-05 21:58:39.115449: I tensorflow/core/common_runtime/executor.cc:1197] [/device:CPU:0] (DEBUG INFO) Executor start aborting (this does not indicate an error and you can ignore this message): INVALID_ARGUMENT: You must feed a value for placeholder tensor 'gradients/split_1_grad/concat/split_1/split_dim' with dtype int32\n",
      "\t [[{{node gradients/split_1_grad/concat/split_1/split_dim}}]]\n"
     ]
    },
    {
     "name": "stdout",
     "output_type": "stream",
     "text": [
      "196/196 [==============================] - 31s 157ms/step - loss: 0.5150 - accuracy: 0.7653\n",
      "Epoch 2/10\n",
      "196/196 [==============================] - 31s 159ms/step - loss: 0.2989 - accuracy: 0.8844\n",
      "Epoch 3/10\n",
      "196/196 [==============================] - 31s 160ms/step - loss: 0.2315 - accuracy: 0.9135\n",
      "Epoch 4/10\n",
      "196/196 [==============================] - 31s 159ms/step - loss: 0.2029 - accuracy: 0.9249\n",
      "Epoch 5/10\n",
      "196/196 [==============================] - 32s 163ms/step - loss: 0.1822 - accuracy: 0.9324\n",
      "Epoch 6/10\n",
      "196/196 [==============================] - 32s 162ms/step - loss: 0.1656 - accuracy: 0.9405\n",
      "Epoch 7/10\n",
      "196/196 [==============================] - 32s 162ms/step - loss: 0.1547 - accuracy: 0.9444\n",
      "Epoch 8/10\n",
      "196/196 [==============================] - 32s 164ms/step - loss: 0.1456 - accuracy: 0.9506\n",
      "Epoch 9/10\n",
      "196/196 [==============================] - 33s 166ms/step - loss: 0.1338 - accuracy: 0.9539\n",
      "Epoch 10/10\n",
      "196/196 [==============================] - 32s 165ms/step - loss: 0.1269 - accuracy: 0.9557\n"
     ]
    },
    {
     "data": {
      "text/plain": [
       "<keras.callbacks.History at 0x30cfea0e0>"
      ]
     },
     "execution_count": 18,
     "metadata": {},
     "output_type": "execute_result"
    }
   ],
   "execution_count": 18
  },
  {
   "metadata": {
    "ExecuteTime": {
     "end_time": "2024-11-05T13:07:34.886488Z",
     "start_time": "2024-11-05T13:07:09.878907Z"
    }
   },
   "cell_type": "code",
   "source": [
    "train_loss = lstm.evaluate(input_train, y_train)\n",
    "test_loss = lstm.evaluate(input_test, y_test)\n",
    "\n",
    "print(train_loss)\n",
    "print(test_loss)"
   ],
   "id": "a5f72f73d5c39958",
   "outputs": [
    {
     "name": "stdout",
     "output_type": "stream",
     "text": [
      "  8/782 [..............................] - ETA: 12s - loss: 0.0333 - accuracy: 0.9883"
     ]
    },
    {
     "name": "stderr",
     "output_type": "stream",
     "text": [
      "2024-11-05 22:07:09.957718: I tensorflow/core/common_runtime/executor.cc:1197] [/device:CPU:0] (DEBUG INFO) Executor start aborting (this does not indicate an error and you can ignore this message): INVALID_ARGUMENT: You must feed a value for placeholder tensor 'gradients/split_2_grad/concat/split_2/split_dim' with dtype int32\n",
      "\t [[{{node gradients/split_2_grad/concat/split_2/split_dim}}]]\n",
      "2024-11-05 22:07:09.958120: I tensorflow/core/common_runtime/executor.cc:1197] [/device:CPU:0] (DEBUG INFO) Executor start aborting (this does not indicate an error and you can ignore this message): INVALID_ARGUMENT: You must feed a value for placeholder tensor 'gradients/split_grad/concat/split/split_dim' with dtype int32\n",
      "\t [[{{node gradients/split_grad/concat/split/split_dim}}]]\n",
      "2024-11-05 22:07:09.958740: I tensorflow/core/common_runtime/executor.cc:1197] [/device:CPU:0] (DEBUG INFO) Executor start aborting (this does not indicate an error and you can ignore this message): INVALID_ARGUMENT: You must feed a value for placeholder tensor 'gradients/split_1_grad/concat/split_1/split_dim' with dtype int32\n",
      "\t [[{{node gradients/split_1_grad/concat/split_1/split_dim}}]]\n"
     ]
    },
    {
     "name": "stdout",
     "output_type": "stream",
     "text": [
      "782/782 [==============================] - 13s 16ms/step - loss: 0.0799 - accuracy: 0.9745\n",
      "782/782 [==============================] - 12s 16ms/step - loss: 0.4014 - accuracy: 0.8712\n",
      "[0.07990054041147232, 0.9745200276374817]\n",
      "[0.4013682007789612, 0.8711599707603455]\n"
     ]
    }
   ],
   "execution_count": 19
  },
  {
   "metadata": {
    "ExecuteTime": {
     "end_time": "2024-11-05T22:47:13.880975Z",
     "start_time": "2024-11-05T22:10:09.122639Z"
    }
   },
   "cell_type": "code",
   "source": [
    "model = Sequential()\n",
    "model.add(Embedding(max_features, 32))\n",
    "model.add(LSTM(32, dropout=0.3, recurrent_dropout=0.5, return_sequences=True))\n",
    "model.add(LSTM(64, dropout=0.5, recurrent_dropout=0.5))\n",
    "model.add(Dense(1, activation='sigmoid'))\n",
    "model.summary()\n",
    "\n",
    "model.compile(optimizer='rmsprop', loss='binary_crossentropy',metrics=['accuracy'])\n",
    "model.fit(input_train, y_train,epochs=10, batch_size=128)"
   ],
   "id": "36ad71551077459a",
   "outputs": [
    {
     "name": "stdout",
     "output_type": "stream",
     "text": [
      "Model: \"sequential_6\"\n",
      "_________________________________________________________________\n",
      " Layer (type)                Output Shape              Param #   \n",
      "=================================================================\n",
      " embedding_6 (Embedding)     (None, None, 32)          320000    \n",
      "                                                                 \n",
      " lstm_3 (LSTM)               (None, None, 32)          8320      \n",
      "                                                                 \n",
      " lstm_4 (LSTM)               (None, 64)                24832     \n",
      "                                                                 \n",
      " dense_6 (Dense)             (None, 1)                 65        \n",
      "                                                                 \n",
      "=================================================================\n",
      "Total params: 353,217\n",
      "Trainable params: 353,217\n",
      "Non-trainable params: 0\n",
      "_________________________________________________________________\n",
      "Epoch 1/10\n",
      "196/196 [==============================] - 215s 1s/step - loss: 0.4666 - accuracy: 0.7766\n",
      "Epoch 2/10\n",
      "196/196 [==============================] - 213s 1s/step - loss: 0.3054 - accuracy: 0.8779\n",
      "Epoch 3/10\n",
      "196/196 [==============================] - 221s 1s/step - loss: 0.2534 - accuracy: 0.9035\n",
      "Epoch 4/10\n",
      "196/196 [==============================] - 228s 1s/step - loss: 0.2284 - accuracy: 0.9139\n",
      "Epoch 5/10\n",
      "196/196 [==============================] - 223s 1s/step - loss: 0.2067 - accuracy: 0.9240\n",
      "Epoch 6/10\n",
      "196/196 [==============================] - 226s 1s/step - loss: 0.1917 - accuracy: 0.9282\n",
      "Epoch 7/10\n",
      "196/196 [==============================] - 229s 1s/step - loss: 0.1779 - accuracy: 0.9345\n",
      "Epoch 8/10\n",
      "196/196 [==============================] - 229s 1s/step - loss: 0.1705 - accuracy: 0.9363\n",
      "Epoch 9/10\n",
      "196/196 [==============================] - 216s 1s/step - loss: 0.1591 - accuracy: 0.9420\n",
      "Epoch 10/10\n",
      "196/196 [==============================] - 223s 1s/step - loss: 0.1510 - accuracy: 0.9461\n"
     ]
    },
    {
     "data": {
      "text/plain": [
       "<keras.callbacks.History at 0x30c783d90>"
      ]
     },
     "execution_count": 21,
     "metadata": {},
     "output_type": "execute_result"
    }
   ],
   "execution_count": 21
  },
  {
   "metadata": {
    "ExecuteTime": {
     "end_time": "2024-11-06T00:52:38.324640Z",
     "start_time": "2024-11-06T00:51:11.563627Z"
    }
   },
   "cell_type": "code",
   "source": [
    "train_loss = model.evaluate(input_train, y_train)\n",
    "test_loss = model.evaluate(input_test, y_test)\n",
    "\n",
    "print(train_loss)\n",
    "print(test_loss)"
   ],
   "id": "47f092f0e36f96f5",
   "outputs": [
    {
     "name": "stdout",
     "output_type": "stream",
     "text": [
      "782/782 [==============================] - 43s 55ms/step - loss: 0.1364 - accuracy: 0.9540\n",
      "782/782 [==============================] - 44s 56ms/step - loss: 0.4779 - accuracy: 0.8624\n",
      "[0.13640786707401276, 0.954039990901947]\n",
      "[0.47793900966644287, 0.8624399900436401]\n"
     ]
    }
   ],
   "execution_count": 22
  },
  {
   "metadata": {},
   "cell_type": "markdown",
   "source": "## GRU",
   "id": "b017b6a05414946"
  },
  {
   "metadata": {
    "ExecuteTime": {
     "end_time": "2024-11-05T12:37:51.460990Z",
     "start_time": "2024-11-05T12:33:13.239840Z"
    }
   },
   "cell_type": "code",
   "source": [
    "from tensorflow.keras.layers import GRU\n",
    "from tensorflow.keras.models import Sequential\n",
    "\n",
    "gru = Sequential()\n",
    "gru.add(Embedding(max_features, 32))\n",
    "gru.add(GRU(32))\n",
    "gru.add(Dense(1, activation='sigmoid'))\n",
    "gru.summary()\n",
    "\n",
    "gru.compile(optimizer='rmsprop', loss='binary_crossentropy', metrics=['accuracy'])\n",
    "gru.fit(input_train, y_train,epochs=10, batch_size=128)"
   ],
   "id": "c2a7fbe49ff6479d",
   "outputs": [
    {
     "name": "stdout",
     "output_type": "stream",
     "text": [
      "Model: \"sequential_3\"\n",
      "_________________________________________________________________\n",
      " Layer (type)                Output Shape              Param #   \n",
      "=================================================================\n",
      " embedding_3 (Embedding)     (None, None, 32)          320000    \n",
      "                                                                 \n",
      " gru (GRU)                   (None, 32)                6336      \n",
      "                                                                 \n",
      " dense_3 (Dense)             (None, 1)                 33        \n",
      "                                                                 \n",
      "=================================================================\n",
      "Total params: 326,369\n",
      "Trainable params: 326,369\n",
      "Non-trainable params: 0\n",
      "_________________________________________________________________\n",
      "Epoch 1/10\n"
     ]
    },
    {
     "name": "stderr",
     "output_type": "stream",
     "text": [
      "2024-11-05 21:33:13.303995: I tensorflow/core/common_runtime/executor.cc:1197] [/device:CPU:0] (DEBUG INFO) Executor start aborting (this does not indicate an error and you can ignore this message): INVALID_ARGUMENT: You must feed a value for placeholder tensor 'gradients/split_2_grad/concat/split_2/split_dim' with dtype int32\n",
      "\t [[{{node gradients/split_2_grad/concat/split_2/split_dim}}]]\n",
      "2024-11-05 21:33:13.304436: I tensorflow/core/common_runtime/executor.cc:1197] [/device:CPU:0] (DEBUG INFO) Executor start aborting (this does not indicate an error and you can ignore this message): INVALID_ARGUMENT: You must feed a value for placeholder tensor 'gradients/split_grad/concat/split/split_dim' with dtype int32\n",
      "\t [[{{node gradients/split_grad/concat/split/split_dim}}]]\n",
      "2024-11-05 21:33:13.304920: I tensorflow/core/common_runtime/executor.cc:1197] [/device:CPU:0] (DEBUG INFO) Executor start aborting (this does not indicate an error and you can ignore this message): INVALID_ARGUMENT: You must feed a value for placeholder tensor 'gradients/split_1_grad/concat/split_1/split_dim' with dtype int32\n",
      "\t [[{{node gradients/split_1_grad/concat/split_1/split_dim}}]]\n",
      "2024-11-05 21:33:13.385951: I tensorflow/core/common_runtime/executor.cc:1197] [/device:CPU:0] (DEBUG INFO) Executor start aborting (this does not indicate an error and you can ignore this message): INVALID_ARGUMENT: You must feed a value for placeholder tensor 'gradients/split_2_grad/concat/split_2/split_dim' with dtype int32\n",
      "\t [[{{node gradients/split_2_grad/concat/split_2/split_dim}}]]\n",
      "2024-11-05 21:33:13.386951: I tensorflow/core/common_runtime/executor.cc:1197] [/device:CPU:0] (DEBUG INFO) Executor start aborting (this does not indicate an error and you can ignore this message): INVALID_ARGUMENT: You must feed a value for placeholder tensor 'gradients/split_grad/concat/split/split_dim' with dtype int32\n",
      "\t [[{{node gradients/split_grad/concat/split/split_dim}}]]\n",
      "2024-11-05 21:33:13.387504: I tensorflow/core/common_runtime/executor.cc:1197] [/device:CPU:0] (DEBUG INFO) Executor start aborting (this does not indicate an error and you can ignore this message): INVALID_ARGUMENT: You must feed a value for placeholder tensor 'gradients/split_1_grad/concat/split_1/split_dim' with dtype int32\n",
      "\t [[{{node gradients/split_1_grad/concat/split_1/split_dim}}]]\n",
      "2024-11-05 21:33:13.582594: I tensorflow/core/common_runtime/executor.cc:1197] [/device:CPU:0] (DEBUG INFO) Executor start aborting (this does not indicate an error and you can ignore this message): INVALID_ARGUMENT: You must feed a value for placeholder tensor 'gradients/split_2_grad/concat/split_2/split_dim' with dtype int32\n",
      "\t [[{{node gradients/split_2_grad/concat/split_2/split_dim}}]]\n",
      "2024-11-05 21:33:13.583317: I tensorflow/core/common_runtime/executor.cc:1197] [/device:CPU:0] (DEBUG INFO) Executor start aborting (this does not indicate an error and you can ignore this message): INVALID_ARGUMENT: You must feed a value for placeholder tensor 'gradients/split_grad/concat/split/split_dim' with dtype int32\n",
      "\t [[{{node gradients/split_grad/concat/split/split_dim}}]]\n",
      "2024-11-05 21:33:13.583734: I tensorflow/core/common_runtime/executor.cc:1197] [/device:CPU:0] (DEBUG INFO) Executor start aborting (this does not indicate an error and you can ignore this message): INVALID_ARGUMENT: You must feed a value for placeholder tensor 'gradients/split_1_grad/concat/split_1/split_dim' with dtype int32\n",
      "\t [[{{node gradients/split_1_grad/concat/split_1/split_dim}}]]\n"
     ]
    },
    {
     "name": "stdout",
     "output_type": "stream",
     "text": [
      "196/196 [==============================] - 28s 142ms/step - loss: 0.5307 - accuracy: 0.7336\n",
      "Epoch 2/10\n",
      "196/196 [==============================] - 28s 144ms/step - loss: 0.3046 - accuracy: 0.8756\n",
      "Epoch 3/10\n",
      "196/196 [==============================] - 27s 139ms/step - loss: 0.2510 - accuracy: 0.9015\n",
      "Epoch 4/10\n",
      "196/196 [==============================] - 28s 141ms/step - loss: 0.2142 - accuracy: 0.9184\n",
      "Epoch 5/10\n",
      "196/196 [==============================] - 27s 140ms/step - loss: 0.1913 - accuracy: 0.9281\n",
      "Epoch 6/10\n",
      "196/196 [==============================] - 28s 143ms/step - loss: 0.1717 - accuracy: 0.9361\n",
      "Epoch 7/10\n",
      "196/196 [==============================] - 28s 142ms/step - loss: 0.1605 - accuracy: 0.9421\n",
      "Epoch 8/10\n",
      "196/196 [==============================] - 28s 142ms/step - loss: 0.1465 - accuracy: 0.9476\n",
      "Epoch 9/10\n",
      "196/196 [==============================] - 28s 142ms/step - loss: 0.1373 - accuracy: 0.9508\n",
      "Epoch 10/10\n",
      "196/196 [==============================] - 27s 140ms/step - loss: 0.1279 - accuracy: 0.9558\n"
     ]
    },
    {
     "data": {
      "text/plain": [
       "<keras.callbacks.History at 0x349c66170>"
      ]
     },
     "execution_count": 16,
     "metadata": {},
     "output_type": "execute_result"
    }
   ],
   "execution_count": 16
  },
  {
   "metadata": {
    "ExecuteTime": {
     "end_time": "2024-11-05T12:57:31.200075Z",
     "start_time": "2024-11-05T12:57:08.929228Z"
    }
   },
   "cell_type": "code",
   "source": [
    "train_loss = gru.evaluate(input_train, y_train)\n",
    "test_loss = gru.evaluate(input_test, y_test)\n",
    "\n",
    "print(train_loss)\n",
    "print(test_loss)"
   ],
   "id": "69c90ce62c407ea0",
   "outputs": [
    {
     "name": "stdout",
     "output_type": "stream",
     "text": [
      "  9/782 [..............................] - ETA: 10s - loss: 0.0358 - accuracy: 0.9931"
     ]
    },
    {
     "name": "stderr",
     "output_type": "stream",
     "text": [
      "2024-11-05 21:57:09.104493: I tensorflow/core/common_runtime/executor.cc:1197] [/device:CPU:0] (DEBUG INFO) Executor start aborting (this does not indicate an error and you can ignore this message): INVALID_ARGUMENT: You must feed a value for placeholder tensor 'gradients/split_2_grad/concat/split_2/split_dim' with dtype int32\n",
      "\t [[{{node gradients/split_2_grad/concat/split_2/split_dim}}]]\n",
      "2024-11-05 21:57:09.104957: I tensorflow/core/common_runtime/executor.cc:1197] [/device:CPU:0] (DEBUG INFO) Executor start aborting (this does not indicate an error and you can ignore this message): INVALID_ARGUMENT: You must feed a value for placeholder tensor 'gradients/split_grad/concat/split/split_dim' with dtype int32\n",
      "\t [[{{node gradients/split_grad/concat/split/split_dim}}]]\n",
      "2024-11-05 21:57:09.105438: I tensorflow/core/common_runtime/executor.cc:1197] [/device:CPU:0] (DEBUG INFO) Executor start aborting (this does not indicate an error and you can ignore this message): INVALID_ARGUMENT: You must feed a value for placeholder tensor 'gradients/split_1_grad/concat/split_1/split_dim' with dtype int32\n",
      "\t [[{{node gradients/split_1_grad/concat/split_1/split_dim}}]]\n"
     ]
    },
    {
     "name": "stdout",
     "output_type": "stream",
     "text": [
      "782/782 [==============================] - 11s 14ms/step - loss: 0.0935 - accuracy: 0.9703\n",
      "782/782 [==============================] - 11s 14ms/step - loss: 0.3726 - accuracy: 0.8701\n",
      "[0.09348645806312561, 0.9703199863433838]\n",
      "[0.37263959646224976, 0.8701199889183044]\n"
     ]
    }
   ],
   "execution_count": 17
  }
 ],
 "metadata": {
  "kernelspec": {
   "display_name": "Python 3",
   "language": "python",
   "name": "python3"
  },
  "language_info": {
   "codemirror_mode": {
    "name": "ipython",
    "version": 2
   },
   "file_extension": ".py",
   "mimetype": "text/x-python",
   "name": "python",
   "nbconvert_exporter": "python",
   "pygments_lexer": "ipython2",
   "version": "2.7.6"
  }
 },
 "nbformat": 4,
 "nbformat_minor": 5
}
