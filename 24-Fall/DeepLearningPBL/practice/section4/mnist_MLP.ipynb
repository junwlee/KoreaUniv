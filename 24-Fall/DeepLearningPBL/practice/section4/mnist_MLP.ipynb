{
 "cells": [
  {
   "cell_type": "code",
   "id": "initial_id",
   "metadata": {
    "collapsed": true,
    "ExecuteTime": {
     "end_time": "2024-09-30T06:06:47.934194Z",
     "start_time": "2024-09-30T06:06:46.618429Z"
    }
   },
   "source": [
    "import numpy as np\n",
    "import matplotlib.pyplot as plt\n",
    "import tensorflow as tf\n",
    "from tensorflow.keras.datasets import mnist\n",
    "\n",
    "(x_train, y_train), (x_test, y_test) = mnist.load_data()\n",
    "print(x_train.shape)\n",
    "print(y_train.shape)\n",
    "print(x_test.shape)"
   ],
   "outputs": [
    {
     "name": "stdout",
     "output_type": "stream",
     "text": [
      "(60000, 28, 28)\n",
      "(60000,)\n",
      "(10000, 28, 28)\n"
     ]
    }
   ],
   "execution_count": 1
  },
  {
   "metadata": {
    "ExecuteTime": {
     "end_time": "2024-09-30T06:06:47.938063Z",
     "start_time": "2024-09-30T06:06:47.935069Z"
    }
   },
   "cell_type": "code",
   "source": [
    "unique, counts = np.unique(y_train, return_counts=True)\n",
    "print(f\"Train labels: {dict(zip(unique, counts))}\")\n",
    "unique, counts = np.unique(y_test, return_counts=True)\n",
    "print(f\"Test labels: {dict(zip(unique, counts))}\")"
   ],
   "id": "b2baf11a7f58edb7",
   "outputs": [
    {
     "name": "stdout",
     "output_type": "stream",
     "text": [
      "Train labels: {0: 5923, 1: 6742, 2: 5958, 3: 6131, 4: 5842, 5: 5421, 6: 5918, 7: 6265, 8: 5851, 9: 5949}\n",
      "Test labels: {0: 980, 1: 1135, 2: 1032, 3: 1010, 4: 982, 5: 892, 6: 958, 7: 1028, 8: 974, 9: 1009}\n"
     ]
    }
   ],
   "execution_count": 2
  },
  {
   "metadata": {
    "ExecuteTime": {
     "end_time": "2024-09-30T06:06:48.035167Z",
     "start_time": "2024-09-30T06:06:47.938625Z"
    }
   },
   "cell_type": "code",
   "source": [
    "# 4개의 임의표본 추출하기\n",
    "indices = np.random.randint(0, x_train.shape[0], size=4)\n",
    "images = x_train[indices]\n",
    "labels = y_train[indices]\n",
    "\n",
    "plt.figure(figsize=(5, 5))\n",
    "\n",
    "for i in range(len(indices)):\n",
    "    plt.subplot(2, 2, i + 1)\n",
    "    image = images[i]\n",
    "    plt.imshow(image, cmap=\"gray\")\n",
    "    plt.grid(False)\n",
    "plt.show()"
   ],
   "id": "bdde456d37271435",
   "outputs": [
    {
     "data": {
      "text/plain": [
       "<Figure size 500x500 with 4 Axes>"
      ],
      "image/png": "[encoded data removed]"
     },
     "metadata": {},
     "output_type": "display_data"
    }
   ],
   "execution_count": 3
  },
  {
   "metadata": {
    "ExecuteTime": {
     "end_time": "2024-09-30T06:06:48.080018Z",
     "start_time": "2024-09-30T06:06:48.036581Z"
    }
   },
   "cell_type": "code",
   "source": [
    "# pre-processing\n",
    "from tensorflow.keras.utils import to_categorical\n",
    "\n",
    "num_features = x_train.shape[1] * x_train.shape[2] # 784\n",
    "\n",
    "x_train = x_train.reshape(-1, num_features).astype('float32')\n",
    "x_test = x_test.reshape(-1, num_features).astype('float32')\n",
    "\n",
    "x_train = x_train / 255.0\n",
    "x_test = x_test / 255.0\n",
    "\n",
    "y_train = to_categorical(y_train)\n",
    "y_test = to_categorical(y_test)\n",
    "print(y_train.shape)\n",
    "num_classes = y_train.shape[1]"
   ],
   "id": "10f15e7809c88a25",
   "outputs": [
    {
     "name": "stdout",
     "output_type": "stream",
     "text": [
      "(60000, 10)\n"
     ]
    }
   ],
   "execution_count": 4
  },
  {
   "metadata": {
    "ExecuteTime": {
     "end_time": "2024-09-30T06:06:48.111170Z",
     "start_time": "2024-09-30T06:06:48.080505Z"
    }
   },
   "cell_type": "code",
   "source": [
    "from tensorflow.keras.layers import Dense, Dropout, Activation\n",
    "from tensorflow.keras.models import Sequential\n",
    "\n",
    "model = Sequential()\n",
    "model.add(Dense(256, input_dim=(num_features)))\n",
    "model.add(Activation('relu'))\n",
    "model.add(Dropout(0.45))\n",
    "model.add(Dense(256))\n",
    "model.add(Activation('relu'))\n",
    "model.add(Dense(num_classes))\n",
    "model.add(Activation('softmax'))\n",
    "model.summary()"
   ],
   "id": "30393a4f88886ad5",
   "outputs": [
    {
     "name": "stdout",
     "output_type": "stream",
     "text": [
      "Model: \"sequential\"\n",
      "_________________________________________________________________\n",
      " Layer (type)                Output Shape              Param #   \n",
      "=================================================================\n",
      " dense (Dense)               (None, 256)               200960    \n",
      "                                                                 \n",
      " activation (Activation)     (None, 256)               0         \n",
      "                                                                 \n",
      " dropout (Dropout)           (None, 256)               0         \n",
      "                                                                 \n",
      " dense_1 (Dense)             (None, 256)               65792     \n",
      "                                                                 \n",
      " activation_1 (Activation)   (None, 256)               0         \n",
      "                                                                 \n",
      " dense_2 (Dense)             (None, 10)                2570      \n",
      "                                                                 \n",
      " activation_2 (Activation)   (None, 10)                0         \n",
      "                                                                 \n",
      "=================================================================\n",
      "Total params: 269,322\n",
      "Trainable params: 269,322\n",
      "Non-trainable params: 0\n",
      "_________________________________________________________________\n"
     ]
    }
   ],
   "execution_count": 5
  },
  {
   "metadata": {},
   "cell_type": "code",
   "source": [
    "# validation data\n",
    "x_val = x_train[:10000]\n",
    "partial_x_train = x_train[10000:]\n",
    "y_val = y_train[:10000]\n",
    "partial_y_train = y_train[10000:]\n",
    "\n",
    "print(partial_x_train.shape)\n",
    "print(partial_y_train.shape)"
   ],
   "id": "5509fbf9ce4687bf",
   "outputs": [
    {
     "name": "stdout",
     "output_type": "stream",
     "text": [
      "(50000, 784)\n",
      "(50000, 10)\n"
     ]
    }
   ],
   "execution_count": 6
  },
  {
   "metadata": {
    "ExecuteTime": {
     "end_time": "2024-09-30T06:06:59.193192Z",
     "start_time": "2024-09-30T06:06:48.114223Z"
    }
   },
   "cell_type": "code",
   "source": [
    "model.compile(\n",
    "    loss='categorical_crossentropy',\n",
    "    optimizer='adam',\n",
    "    metrics=['accuracy']\n",
    ")\n",
    "\n",
    "history = model.fit(\n",
    "    partial_x_train, partial_y_train,\n",
    "    epochs=10,\n",
    "    batch_size=64,\n",
    "    validation_data=(x_val, y_val)\n",
    ")\n",
    "\n",
    "history_out = history.history\n",
    "history_out.keys()"
   ],
   "id": "d100b72f90c3441d",
   "outputs": [
    {
     "name": "stdout",
     "output_type": "stream",
     "text": [
      "Epoch 1/10\n",
      " 45/782 [>.............................] - ETA: 0s - loss: 1.1907 - accuracy: 0.6382  "
     ]
    },
    {
     "name": "stderr",
     "output_type": "stream",
     "text": [
      "2024-09-30 15:06:48.137761: W tensorflow/tsl/platform/profile_utils/cpu_utils.cc:128] Failed to get CPU frequency: 0 Hz\n"
     ]
    },
    {
     "name": "stdout",
     "output_type": "stream",
     "text": [
      "782/782 [==============================] - 1s 1ms/step - loss: 0.3335 - accuracy: 0.8989 - val_loss: 0.1384 - val_accuracy: 0.9578\n",
      "Epoch 2/10\n",
      "782/782 [==============================] - 1s 1ms/step - loss: 0.1656 - accuracy: 0.9495 - val_loss: 0.1070 - val_accuracy: 0.9681\n",
      "Epoch 3/10\n",
      "782/782 [==============================] - 1s 1ms/step - loss: 0.1324 - accuracy: 0.9589 - val_loss: 0.1018 - val_accuracy: 0.9689\n",
      "Epoch 4/10\n",
      "782/782 [==============================] - 1s 1ms/step - loss: 0.1119 - accuracy: 0.9646 - val_loss: 0.0929 - val_accuracy: 0.9731\n",
      "Epoch 5/10\n",
      "782/782 [==============================] - 1s 1ms/step - loss: 0.1005 - accuracy: 0.9683 - val_loss: 0.0874 - val_accuracy: 0.9752\n",
      "Epoch 6/10\n",
      "782/782 [==============================] - 1s 1ms/step - loss: 0.0909 - accuracy: 0.9705 - val_loss: 0.0786 - val_accuracy: 0.9783\n",
      "Epoch 7/10\n",
      "782/782 [==============================] - 1s 1ms/step - loss: 0.0831 - accuracy: 0.9735 - val_loss: 0.0777 - val_accuracy: 0.9776\n",
      "Epoch 8/10\n",
      "782/782 [==============================] - 1s 1ms/step - loss: 0.0776 - accuracy: 0.9750 - val_loss: 0.0767 - val_accuracy: 0.9782\n",
      "Epoch 9/10\n",
      "782/782 [==============================] - 1s 1ms/step - loss: 0.0752 - accuracy: 0.9750 - val_loss: 0.0689 - val_accuracy: 0.9804\n",
      "Epoch 10/10\n",
      "782/782 [==============================] - 1s 1ms/step - loss: 0.0664 - accuracy: 0.9778 - val_loss: 0.0899 - val_accuracy: 0.9759\n"
     ]
    },
    {
     "data": {
      "text/plain": [
       "dict_keys(['loss', 'accuracy', 'val_loss', 'val_accuracy'])"
      ]
     },
     "execution_count": 7,
     "metadata": {},
     "output_type": "execute_result"
    }
   ],
   "execution_count": 7
  },
  {
   "metadata": {
    "ExecuteTime": {
     "end_time": "2024-09-30T06:06:59.240738Z",
     "start_time": "2024-09-30T06:06:59.193881Z"
    }
   },
   "cell_type": "code",
   "source": [
    "loss = history_out['loss']\n",
    "val_loss = history_out['val_loss']\n",
    "accuracy = history_out['accuracy']\n",
    "val_accuracy = history_out['val_accuracy']\n",
    "\n",
    "plt.plot(loss, 'bo', label='Training loss')\n",
    "plt.plot(val_loss, 'b', label='Validation loss')\n",
    "plt.title('Training and validation loss')\n",
    "plt.xlabel('Epochs')\n",
    "plt.ylabel('Loss')\n",
    "plt.legend()\n",
    "plt.show()"
   ],
   "id": "f556ae289c433a6",
   "outputs": [
    {
     "data": {
      "text/plain": [
       "<Figure size 640x480 with 1 Axes>"
      ],
      "image/png": "[encoded data removed]"
     },
     "metadata": {},
     "output_type": "display_data"
    }
   ],
   "execution_count": 8
  },
  {
   "metadata": {
    "ExecuteTime": {
     "end_time": "2024-09-30T06:06:59.292382Z",
     "start_time": "2024-09-30T06:06:59.241386Z"
    }
   },
   "cell_type": "code",
   "source": [
    "plt.clf() # clf method가 적용된 그래프의 figure를 지운다\n",
    "plt.plot(accuracy, 'bo', label='Training accuracy')\n",
    "plt.plot(val_accuracy, 'b', label='Validation accuracy')\n",
    "plt.title('Training and validation accuracy')\n",
    "plt.xlabel('Epochs')\n",
    "plt.ylabel('Accuracy')\n",
    "plt.legend()\n",
    "plt.show()"
   ],
   "id": "566a1a77a1d2fb32",
   "outputs": [
    {
     "data": {
      "text/plain": [
       "<Figure size 640x480 with 1 Axes>"
      ],
      "image/png": "[encoded data removed]"
     },
     "metadata": {},
     "output_type": "display_data"
    }
   ],
   "execution_count": 9
  },
  {
   "metadata": {
    "ExecuteTime": {
     "end_time": "2024-09-30T06:07:49.156839Z",
     "start_time": "2024-09-30T06:06:59.293961Z"
    }
   },
   "cell_type": "code",
   "source": [
    "model.fit(\n",
    "    x_train, y_train,\n",
    "    epochs=40,\n",
    "    batch_size=64,\n",
    ")"
   ],
   "id": "bd79bafb59da0a55",
   "outputs": [
    {
     "name": "stdout",
     "output_type": "stream",
     "text": [
      "Epoch 1/40\n",
      "938/938 [==============================] - 1s 1ms/step - loss: 0.0754 - accuracy: 0.9766\n",
      "Epoch 2/40\n",
      "938/938 [==============================] - 1s 1ms/step - loss: 0.0677 - accuracy: 0.9789\n",
      "Epoch 3/40\n",
      "938/938 [==============================] - 1s 1ms/step - loss: 0.0626 - accuracy: 0.9802\n",
      "Epoch 4/40\n",
      "938/938 [==============================] - 1s 1ms/step - loss: 0.0570 - accuracy: 0.9817\n",
      "Epoch 5/40\n",
      "938/938 [==============================] - 1s 1ms/step - loss: 0.0608 - accuracy: 0.9803\n",
      "Epoch 6/40\n",
      "938/938 [==============================] - 1s 1ms/step - loss: 0.0518 - accuracy: 0.9834\n",
      "Epoch 7/40\n",
      "938/938 [==============================] - 1s 1ms/step - loss: 0.0517 - accuracy: 0.9835\n",
      "Epoch 8/40\n",
      "938/938 [==============================] - 1s 1ms/step - loss: 0.0495 - accuracy: 0.9840\n",
      "Epoch 9/40\n",
      "938/938 [==============================] - 1s 1ms/step - loss: 0.0471 - accuracy: 0.9847\n",
      "Epoch 10/40\n",
      "938/938 [==============================] - 1s 1ms/step - loss: 0.0485 - accuracy: 0.9842\n",
      "Epoch 11/40\n",
      "938/938 [==============================] - 1s 1ms/step - loss: 0.0465 - accuracy: 0.9849\n",
      "Epoch 12/40\n",
      "938/938 [==============================] - 1s 1ms/step - loss: 0.0432 - accuracy: 0.9857\n",
      "Epoch 13/40\n",
      "938/938 [==============================] - 1s 1ms/step - loss: 0.0413 - accuracy: 0.9862\n",
      "Epoch 14/40\n",
      "938/938 [==============================] - 1s 1ms/step - loss: 0.0428 - accuracy: 0.9871\n",
      "Epoch 15/40\n",
      "938/938 [==============================] - 1s 1ms/step - loss: 0.0392 - accuracy: 0.9869\n",
      "Epoch 16/40\n",
      "938/938 [==============================] - 1s 1ms/step - loss: 0.0404 - accuracy: 0.9866\n",
      "Epoch 17/40\n",
      "938/938 [==============================] - 1s 1ms/step - loss: 0.0396 - accuracy: 0.9873\n",
      "Epoch 18/40\n",
      "938/938 [==============================] - 1s 1ms/step - loss: 0.0400 - accuracy: 0.9869\n",
      "Epoch 19/40\n",
      "938/938 [==============================] - 1s 1ms/step - loss: 0.0359 - accuracy: 0.9882\n",
      "Epoch 20/40\n",
      "938/938 [==============================] - 1s 1ms/step - loss: 0.0369 - accuracy: 0.9881\n",
      "Epoch 21/40\n",
      "938/938 [==============================] - 1s 1ms/step - loss: 0.0358 - accuracy: 0.9885\n",
      "Epoch 22/40\n",
      "938/938 [==============================] - 1s 1ms/step - loss: 0.0355 - accuracy: 0.9884\n",
      "Epoch 23/40\n",
      "938/938 [==============================] - 1s 1ms/step - loss: 0.0358 - accuracy: 0.9887\n",
      "Epoch 24/40\n",
      "938/938 [==============================] - 1s 1ms/step - loss: 0.0342 - accuracy: 0.9887\n",
      "Epoch 25/40\n",
      "938/938 [==============================] - 1s 1ms/step - loss: 0.0341 - accuracy: 0.9891\n",
      "Epoch 26/40\n",
      "938/938 [==============================] - 1s 1ms/step - loss: 0.0347 - accuracy: 0.9891\n",
      "Epoch 27/40\n",
      "938/938 [==============================] - 1s 1ms/step - loss: 0.0346 - accuracy: 0.9892\n",
      "Epoch 28/40\n",
      "938/938 [==============================] - 1s 1ms/step - loss: 0.0341 - accuracy: 0.9891\n",
      "Epoch 29/40\n",
      "938/938 [==============================] - 1s 1ms/step - loss: 0.0312 - accuracy: 0.9897\n",
      "Epoch 30/40\n",
      "938/938 [==============================] - 1s 1ms/step - loss: 0.0311 - accuracy: 0.9902\n",
      "Epoch 31/40\n",
      "938/938 [==============================] - 1s 1ms/step - loss: 0.0318 - accuracy: 0.9892\n",
      "Epoch 32/40\n",
      "938/938 [==============================] - 1s 1ms/step - loss: 0.0313 - accuracy: 0.9900\n",
      "Epoch 33/40\n",
      "938/938 [==============================] - 1s 1ms/step - loss: 0.0298 - accuracy: 0.9901\n",
      "Epoch 34/40\n",
      "938/938 [==============================] - 1s 1ms/step - loss: 0.0317 - accuracy: 0.9899\n",
      "Epoch 35/40\n",
      "938/938 [==============================] - 1s 1ms/step - loss: 0.0273 - accuracy: 0.9916\n",
      "Epoch 36/40\n",
      "938/938 [==============================] - 1s 1ms/step - loss: 0.0302 - accuracy: 0.9899\n",
      "Epoch 37/40\n",
      "938/938 [==============================] - 1s 1ms/step - loss: 0.0297 - accuracy: 0.9903\n",
      "Epoch 38/40\n",
      "938/938 [==============================] - 1s 1ms/step - loss: 0.0288 - accuracy: 0.9906\n",
      "Epoch 39/40\n",
      "938/938 [==============================] - 1s 1ms/step - loss: 0.0282 - accuracy: 0.9908\n",
      "Epoch 40/40\n",
      "938/938 [==============================] - 1s 1ms/step - loss: 0.0265 - accuracy: 0.9914\n"
     ]
    },
    {
     "data": {
      "text/plain": [
       "<keras.callbacks.History at 0x32e59b350>"
      ]
     },
     "execution_count": 10,
     "metadata": {},
     "output_type": "execute_result"
    }
   ],
   "execution_count": 10
  },
  {
   "metadata": {
    "ExecuteTime": {
     "end_time": "2024-09-30T06:07:50.029347Z",
     "start_time": "2024-09-30T06:07:49.157453Z"
    }
   },
   "cell_type": "code",
   "source": [
    "train_results = model.evaluate(x_train, y_train, verbose=2)\n",
    "test_results = model.evaluate(x_test, y_test, verbose=2)\n",
    "\n",
    "# TensorFlow/Keras에서 model.evaluate()를 사용할 때, 별도로 배치 사이즈를 지정하지 않으면 기본값으로 배치 사이즈가 32로 설정\n",
    "print(train_results)\n",
    "print(test_results)"
   ],
   "id": "b0b864a03d94feec",
   "outputs": [
    {
     "name": "stdout",
     "output_type": "stream",
     "text": [
      "1875/1875 - 1s - loss: 0.0038 - accuracy: 0.9989 - 731ms/epoch - 390us/step\n",
      "313/313 - 0s - loss: 0.0799 - accuracy: 0.9825 - 118ms/epoch - 376us/step\n",
      "[0.0038137207739055157, 0.9988666772842407]\n",
      "[0.07985977083444595, 0.9825000166893005]\n"
     ]
    }
   ],
   "execution_count": 11
  },
  {
   "metadata": {
    "ExecuteTime": {
     "end_time": "2024-09-30T06:07:50.218517Z",
     "start_time": "2024-09-30T06:07:50.029972Z"
    }
   },
   "cell_type": "code",
   "source": [
    "import pandas as pd\n",
    "\n",
    "pred = model.predict(x_test)\n",
    "pred = pd.DataFrame(pred)\n",
    "pred.head()"
   ],
   "id": "19530e513fc1642e",
   "outputs": [
    {
     "name": "stdout",
     "output_type": "stream",
     "text": [
      "313/313 [==============================] - 0s 367us/step\n"
     ]
    },
    {
     "data": {
      "text/plain": [
       "              0             1             2             3             4  \\\n",
       "0  1.999663e-13  1.086976e-09  2.949714e-08  3.310296e-07  2.510849e-09   \n",
       "1  1.298533e-20  9.779200e-16  1.000000e+00  1.025974e-15  2.017334e-26   \n",
       "2  1.071045e-14  1.000000e+00  2.381465e-11  1.218992e-16  1.105621e-10   \n",
       "3  9.999996e-01  9.495920e-14  7.128441e-10  6.388967e-10  1.615738e-10   \n",
       "4  1.426142e-09  1.497139e-11  9.301390e-09  6.868733e-12  9.999971e-01   \n",
       "\n",
       "              5             6             7             8             9  \n",
       "0  1.528542e-11  8.910438e-18  9.999996e-01  1.908863e-10  3.692629e-08  \n",
       "1  6.628726e-19  1.671797e-18  4.515122e-20  1.446867e-21  9.865867e-31  \n",
       "2  1.448199e-12  2.367117e-09  1.214345e-10  2.197356e-10  1.662395e-14  \n",
       "3  2.132476e-11  2.987106e-07  2.744511e-12  1.092311e-12  4.902603e-09  \n",
       "4  7.194696e-11  1.992024e-10  2.766620e-08  2.902481e-12  2.913005e-06  "
      ],
      "text/html": [
       "<div>\n",
       "<style scoped>\n",
       "    .dataframe tbody tr th:only-of-type {\n",
       "        vertical-align: middle;\n",
       "    }\n",
       "\n",
       "    .dataframe tbody tr th {\n",
       "        vertical-align: top;\n",
       "    }\n",
       "\n",
       "    .dataframe thead th {\n",
       "        text-align: right;\n",
       "    }\n",
       "</style>\n",
       "<table border=\"1\" class=\"dataframe\">\n",
       "  <thead>\n",
       "    <tr style=\"text-align: right;\">\n",
       "      <th></th>\n",
       "      <th>0</th>\n",
       "      <th>1</th>\n",
       "      <th>2</th>\n",
       "      <th>3</th>\n",
       "      <th>4</th>\n",
       "      <th>5</th>\n",
       "      <th>6</th>\n",
       "      <th>7</th>\n",
       "      <th>8</th>\n",
       "      <th>9</th>\n",
       "    </tr>\n",
       "  </thead>\n",
       "  <tbody>\n",
       "    <tr>\n",
       "      <th>0</th>\n",
       "      <td>1.999663e-13</td>\n",
       "      <td>1.086976e-09</td>\n",
       "      <td>2.949714e-08</td>\n",
       "      <td>3.310296e-07</td>\n",
       "      <td>2.510849e-09</td>\n",
       "      <td>1.528542e-11</td>\n",
       "      <td>8.910438e-18</td>\n",
       "      <td>9.999996e-01</td>\n",
       "      <td>1.908863e-10</td>\n",
       "      <td>3.692629e-08</td>\n",
       "    </tr>\n",
       "    <tr>\n",
       "      <th>1</th>\n",
       "      <td>1.298533e-20</td>\n",
       "      <td>9.779200e-16</td>\n",
       "      <td>1.000000e+00</td>\n",
       "      <td>1.025974e-15</td>\n",
       "      <td>2.017334e-26</td>\n",
       "      <td>6.628726e-19</td>\n",
       "      <td>1.671797e-18</td>\n",
       "      <td>4.515122e-20</td>\n",
       "      <td>1.446867e-21</td>\n",
       "      <td>9.865867e-31</td>\n",
       "    </tr>\n",
       "    <tr>\n",
       "      <th>2</th>\n",
       "      <td>1.071045e-14</td>\n",
       "      <td>1.000000e+00</td>\n",
       "      <td>2.381465e-11</td>\n",
       "      <td>1.218992e-16</td>\n",
       "      <td>1.105621e-10</td>\n",
       "      <td>1.448199e-12</td>\n",
       "      <td>2.367117e-09</td>\n",
       "      <td>1.214345e-10</td>\n",
       "      <td>2.197356e-10</td>\n",
       "      <td>1.662395e-14</td>\n",
       "    </tr>\n",
       "    <tr>\n",
       "      <th>3</th>\n",
       "      <td>9.999996e-01</td>\n",
       "      <td>9.495920e-14</td>\n",
       "      <td>7.128441e-10</td>\n",
       "      <td>6.388967e-10</td>\n",
       "      <td>1.615738e-10</td>\n",
       "      <td>2.132476e-11</td>\n",
       "      <td>2.987106e-07</td>\n",
       "      <td>2.744511e-12</td>\n",
       "      <td>1.092311e-12</td>\n",
       "      <td>4.902603e-09</td>\n",
       "    </tr>\n",
       "    <tr>\n",
       "      <th>4</th>\n",
       "      <td>1.426142e-09</td>\n",
       "      <td>1.497139e-11</td>\n",
       "      <td>9.301390e-09</td>\n",
       "      <td>6.868733e-12</td>\n",
       "      <td>9.999971e-01</td>\n",
       "      <td>7.194696e-11</td>\n",
       "      <td>1.992024e-10</td>\n",
       "      <td>2.766620e-08</td>\n",
       "      <td>2.902481e-12</td>\n",
       "      <td>2.913005e-06</td>\n",
       "    </tr>\n",
       "  </tbody>\n",
       "</table>\n",
       "</div>"
      ]
     },
     "execution_count": 12,
     "metadata": {},
     "output_type": "execute_result"
    }
   ],
   "execution_count": 12
  },
  {
   "metadata": {},
   "cell_type": "markdown",
   "source": "## Functional API",
   "id": "3d2ea3f1cabd7cdb"
  },
  {
   "metadata": {
    "ExecuteTime": {
     "end_time": "2024-09-30T06:07:50.232478Z",
     "start_time": "2024-09-30T06:07:50.219094Z"
    }
   },
   "cell_type": "code",
   "source": [
    "from keras.models import Model\n",
    "from keras.layers import Input, Dense, Dropout\n",
    "\n",
    "x = Input(shape=(num_features,))\n",
    "h1 = Dense(256, activation='relu')(x)\n",
    "h1 = Dropout(0.45)(h1)\n",
    "h2 = Dense(256, activation='relu')(h1)\n",
    "out = Dense(num_classes, activation='softmax')(h2)\n",
    "model = Model(inputs=x, outputs=out)"
   ],
   "id": "616e1e06ad5da2e4",
   "outputs": [],
   "execution_count": 13
  },
  {
   "metadata": {
    "ExecuteTime": {
     "end_time": "2024-09-30T06:08:31.734993Z",
     "start_time": "2024-09-30T06:07:50.233219Z"
    }
   },
   "cell_type": "code",
   "source": [
    "model.compile(loss='categorical_crossentropy', optimizer='adam', metrics=['accuracy'])\n",
    "model.fit(x_train, y_train, epochs=35, batch_size=64)"
   ],
   "id": "8241e4e02f64edcc",
   "outputs": [
    {
     "name": "stdout",
     "output_type": "stream",
     "text": [
      "Epoch 1/35\n",
      "938/938 [==============================] - 1s 1ms/step - loss: 0.3107 - accuracy: 0.9054\n",
      "Epoch 2/35\n",
      "938/938 [==============================] - 1s 1ms/step - loss: 0.1561 - accuracy: 0.9528\n",
      "Epoch 3/35\n",
      "938/938 [==============================] - 1s 1ms/step - loss: 0.1260 - accuracy: 0.9610\n",
      "Epoch 4/35\n",
      "938/938 [==============================] - 1s 1ms/step - loss: 0.1069 - accuracy: 0.9663\n",
      "Epoch 5/35\n",
      "938/938 [==============================] - 1s 1ms/step - loss: 0.0940 - accuracy: 0.9702\n",
      "Epoch 6/35\n",
      "938/938 [==============================] - 1s 1ms/step - loss: 0.0878 - accuracy: 0.9725\n",
      "Epoch 7/35\n",
      "938/938 [==============================] - 1s 1ms/step - loss: 0.0793 - accuracy: 0.9747\n",
      "Epoch 8/35\n",
      "938/938 [==============================] - 1s 1ms/step - loss: 0.0736 - accuracy: 0.9770\n",
      "Epoch 9/35\n",
      "938/938 [==============================] - 1s 1ms/step - loss: 0.0691 - accuracy: 0.9777\n",
      "Epoch 10/35\n",
      "938/938 [==============================] - 1s 1ms/step - loss: 0.0636 - accuracy: 0.9791\n",
      "Epoch 11/35\n",
      "938/938 [==============================] - 1s 1ms/step - loss: 0.0603 - accuracy: 0.9804\n",
      "Epoch 12/35\n",
      "938/938 [==============================] - 1s 1ms/step - loss: 0.0573 - accuracy: 0.9810\n",
      "Epoch 13/35\n",
      "938/938 [==============================] - 1s 1ms/step - loss: 0.0586 - accuracy: 0.9812\n",
      "Epoch 14/35\n",
      "938/938 [==============================] - 1s 1ms/step - loss: 0.0535 - accuracy: 0.9831\n",
      "Epoch 15/35\n",
      "938/938 [==============================] - 1s 1ms/step - loss: 0.0530 - accuracy: 0.9830\n",
      "Epoch 16/35\n",
      "938/938 [==============================] - 1s 1ms/step - loss: 0.0494 - accuracy: 0.9836\n",
      "Epoch 17/35\n",
      "938/938 [==============================] - 1s 1ms/step - loss: 0.0464 - accuracy: 0.9843\n",
      "Epoch 18/35\n",
      "938/938 [==============================] - 1s 1ms/step - loss: 0.0462 - accuracy: 0.9852\n",
      "Epoch 19/35\n",
      "938/938 [==============================] - 1s 1ms/step - loss: 0.0463 - accuracy: 0.9851\n",
      "Epoch 20/35\n",
      "938/938 [==============================] - 1s 1ms/step - loss: 0.0438 - accuracy: 0.9851\n",
      "Epoch 21/35\n",
      "938/938 [==============================] - 1s 1ms/step - loss: 0.0437 - accuracy: 0.9855\n",
      "Epoch 22/35\n",
      "938/938 [==============================] - 1s 1ms/step - loss: 0.0436 - accuracy: 0.9855\n",
      "Epoch 23/35\n",
      "938/938 [==============================] - 1s 1ms/step - loss: 0.0405 - accuracy: 0.9868\n",
      "Epoch 24/35\n",
      "938/938 [==============================] - 1s 1ms/step - loss: 0.0398 - accuracy: 0.9866\n",
      "Epoch 25/35\n",
      "938/938 [==============================] - 1s 1ms/step - loss: 0.0376 - accuracy: 0.9876\n",
      "Epoch 26/35\n",
      "938/938 [==============================] - 1s 1ms/step - loss: 0.0374 - accuracy: 0.9877\n",
      "Epoch 27/35\n",
      "938/938 [==============================] - 1s 1ms/step - loss: 0.0379 - accuracy: 0.9880\n",
      "Epoch 28/35\n",
      "938/938 [==============================] - 1s 1ms/step - loss: 0.0346 - accuracy: 0.9883\n",
      "Epoch 29/35\n",
      "938/938 [==============================] - 1s 1ms/step - loss: 0.0346 - accuracy: 0.9886\n",
      "Epoch 30/35\n",
      "938/938 [==============================] - 1s 1ms/step - loss: 0.0348 - accuracy: 0.9884\n",
      "Epoch 31/35\n",
      "938/938 [==============================] - 1s 1ms/step - loss: 0.0338 - accuracy: 0.9888\n",
      "Epoch 32/35\n",
      "938/938 [==============================] - 1s 1ms/step - loss: 0.0347 - accuracy: 0.9890\n",
      "Epoch 33/35\n",
      "938/938 [==============================] - 1s 1ms/step - loss: 0.0356 - accuracy: 0.9881\n",
      "Epoch 34/35\n",
      "938/938 [==============================] - 1s 1ms/step - loss: 0.0326 - accuracy: 0.9890\n",
      "Epoch 35/35\n",
      "938/938 [==============================] - 1s 1ms/step - loss: 0.0340 - accuracy: 0.9891\n"
     ]
    },
    {
     "data": {
      "text/plain": [
       "<keras.callbacks.History at 0x345da15d0>"
      ]
     },
     "execution_count": 14,
     "metadata": {},
     "output_type": "execute_result"
    }
   ],
   "execution_count": 14
  }
 ],
 "metadata": {
  "kernelspec": {
   "display_name": "Python 3",
   "language": "python",
   "name": "python3"
  },
  "language_info": {
   "codemirror_mode": {
    "name": "ipython",
    "version": 2
   },
   "file_extension": ".py",
   "mimetype": "text/x-python",
   "name": "python",
   "nbconvert_exporter": "python",
   "pygments_lexer": "ipython2",
   "version": "2.7.6"
  }
 },
 "nbformat": 4,
 "nbformat_minor": 5
}
