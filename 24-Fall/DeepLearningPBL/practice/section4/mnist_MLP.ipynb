{
 "cells": [
  {
   "cell_type": "code",
   "id": "initial_id",
   "metadata": {
    "collapsed": true,
    "ExecuteTime": {
     "end_time": "2024-09-30T05:25:16.101950Z",
     "start_time": "2024-09-30T05:25:04.937381Z"
    }
   },
   "source": [
    "import numpy as np\n",
    "import matplotlib.pyplot as plt\n",
    "import tensorflow as tf\n",
    "from tensorflow.keras.datasets import mnist\n",
    "\n",
    "(x_train, y_train), (x_test, y_test) = mnist.load_data()\n",
    "print(x_train.shape)\n",
    "print(y_train.shape)\n",
    "print(x_test.shape)"
   ],
   "outputs": [
    {
     "name": "stdout",
     "output_type": "stream",
     "text": [
      "(60000, 28, 28)\n",
      "(60000,)\n",
      "(10000, 28, 28)\n"
     ]
    }
   ],
   "execution_count": 1
  },
  {
   "metadata": {
    "ExecuteTime": {
     "end_time": "2024-09-30T05:25:16.105729Z",
     "start_time": "2024-09-30T05:25:16.102802Z"
    }
   },
   "cell_type": "code",
   "source": [
    "unique, counts = np.unique(y_train, return_counts=True)\n",
    "print(f\"Train labels: {dict(zip(unique, counts))}\")\n",
    "unique, counts = np.unique(y_test, return_counts=True)\n",
    "print(f\"Test labels: {dict(zip(unique, counts))}\")"
   ],
   "id": "b2baf11a7f58edb7",
   "outputs": [
    {
     "name": "stdout",
     "output_type": "stream",
     "text": [
      "Train labels: {0: 5923, 1: 6742, 2: 5958, 3: 6131, 4: 5842, 5: 5421, 6: 5918, 7: 6265, 8: 5851, 9: 5949}\n",
      "Test labels: {0: 980, 1: 1135, 2: 1032, 3: 1010, 4: 982, 5: 892, 6: 958, 7: 1028, 8: 974, 9: 1009}\n"
     ]
    }
   ],
   "execution_count": 2
  },
  {
   "metadata": {
    "ExecuteTime": {
     "end_time": "2024-09-30T05:25:16.241591Z",
     "start_time": "2024-09-30T05:25:16.106245Z"
    }
   },
   "cell_type": "code",
   "source": [
    "# 4개의 임의표본 추출하기\n",
    "indices = np.random.randint(0, x_train.shape[0], size=4)\n",
    "images = x_train[indices]\n",
    "labels = y_train[indices]\n",
    "\n",
    "plt.figure(figsize=(5, 5))\n",
    "\n",
    "for i in range(len(indices)):\n",
    "    plt.subplot(2, 2, i + 1)\n",
    "    image = images[i]\n",
    "    plt.imshow(image, cmap=\"gray\")\n",
    "    plt.grid(False)\n",
    "plt.show()"
   ],
   "id": "bdde456d37271435",
   "outputs": [
    {
     "data": {
      "text/plain": [
       "<Figure size 500x500 with 4 Axes>"
      ],
      "image/png": "[encoded data removed]"
     },
     "metadata": {},
     "output_type": "display_data"
    }
   ],
   "execution_count": 3
  },
  {
   "metadata": {
    "ExecuteTime": {
     "end_time": "2024-09-30T05:25:16.276918Z",
     "start_time": "2024-09-30T05:25:16.242658Z"
    }
   },
   "cell_type": "code",
   "source": [
    "# pre-processing\n",
    "from tensorflow.keras.utils import to_categorical\n",
    "\n",
    "num_features = x_train.shape[1] * x_train.shape[2] # 784\n",
    "\n",
    "x_train = x_train.reshape(-1, num_features).astype('float32')\n",
    "x_test = x_test.reshape(-1, num_features).astype('float32')\n",
    "\n",
    "x_train = x_train / 255.0\n",
    "x_test = x_test / 255.0\n",
    "\n",
    "y_train = to_categorical(y_train)\n",
    "y_test = to_categorical(y_test)\n",
    "print(y_train.shape)\n",
    "num_classes = y_train.shape[1]"
   ],
   "id": "10f15e7809c88a25",
   "outputs": [
    {
     "name": "stdout",
     "output_type": "stream",
     "text": [
      "(60000, 10)\n"
     ]
    }
   ],
   "execution_count": 4
  },
  {
   "metadata": {
    "ExecuteTime": {
     "end_time": "2024-09-30T05:25:16.311547Z",
     "start_time": "2024-09-30T05:25:16.277508Z"
    }
   },
   "cell_type": "code",
   "source": [
    "from tensorflow.keras.layers import Dense, Dropout, Activation\n",
    "from tensorflow.keras.models import Sequential\n",
    "\n",
    "model = Sequential()\n",
    "model.add(Dense(256, input_dim=(num_features)))\n",
    "model.add(Activation('relu'))\n",
    "model.add(Dropout(0.45))\n",
    "model.add(Dense(256))\n",
    "model.add(Activation('relu'))\n",
    "model.add(Dense(num_classes))\n",
    "model.add(Activation('softmax'))\n",
    "model.summary()"
   ],
   "id": "30393a4f88886ad5",
   "outputs": [
    {
     "name": "stdout",
     "output_type": "stream",
     "text": [
      "Model: \"sequential\"\n",
      "_________________________________________________________________\n",
      " Layer (type)                Output Shape              Param #   \n",
      "=================================================================\n",
      " dense (Dense)               (None, 256)               200960    \n",
      "                                                                 \n",
      " activation (Activation)     (None, 256)               0         \n",
      "                                                                 \n",
      " dropout (Dropout)           (None, 256)               0         \n",
      "                                                                 \n",
      " dense_1 (Dense)             (None, 256)               65792     \n",
      "                                                                 \n",
      " activation_1 (Activation)   (None, 256)               0         \n",
      "                                                                 \n",
      " dense_2 (Dense)             (None, 10)                2570      \n",
      "                                                                 \n",
      " activation_2 (Activation)   (None, 10)                0         \n",
      "                                                                 \n",
      "=================================================================\n",
      "Total params: 269,322\n",
      "Trainable params: 269,322\n",
      "Non-trainable params: 0\n",
      "_________________________________________________________________\n"
     ]
    }
   ],
   "execution_count": 5
  },
  {
   "metadata": {},
   "cell_type": "code",
   "source": [
    "# validation data\n",
    "x_val = x_train[:10000]\n",
    "partial_x_train = x_train[10000:]\n",
    "y_val = y_train[:10000]\n",
    "partial_y_train = y_train[10000:]\n",
    "\n",
    "print(partial_x_train.shape)\n",
    "print(partial_y_train.shape)"
   ],
   "id": "5509fbf9ce4687bf",
   "outputs": [
    {
     "name": "stdout",
     "output_type": "stream",
     "text": [
      "(50000, 784)\n",
      "(50000, 10)\n"
     ]
    }
   ],
   "execution_count": 6
  },
  {
   "metadata": {
    "ExecuteTime": {
     "end_time": "2024-09-30T05:25:27.263621Z",
     "start_time": "2024-09-30T05:25:16.314438Z"
    }
   },
   "cell_type": "code",
   "source": [
    "model.compile(\n",
    "    loss='categorical_crossentropy',\n",
    "    optimizer='adam',\n",
    "    metrics=['accuracy']\n",
    ")\n",
    "\n",
    "history = model.fit(\n",
    "    partial_x_train, partial_y_train,\n",
    "    epochs=10,\n",
    "    batch_size=64,\n",
    "    validation_data=(x_val, y_val)\n",
    ")\n",
    "\n",
    "history_out = history.history\n",
    "history_out.keys()"
   ],
   "id": "d100b72f90c3441d",
   "outputs": [
    {
     "name": "stdout",
     "output_type": "stream",
     "text": [
      "Epoch 1/10\n",
      " 46/782 [>.............................] - ETA: 0s - loss: 1.1440 - accuracy: 0.6454  "
     ]
    },
    {
     "name": "stderr",
     "output_type": "stream",
     "text": [
      "2024-09-30 14:25:16.339846: W tensorflow/tsl/platform/profile_utils/cpu_utils.cc:128] Failed to get CPU frequency: 0 Hz\n"
     ]
    },
    {
     "name": "stdout",
     "output_type": "stream",
     "text": [
      "782/782 [==============================] - 1s 1ms/step - loss: 0.3299 - accuracy: 0.8987 - val_loss: 0.1499 - val_accuracy: 0.9546\n",
      "Epoch 2/10\n",
      "782/782 [==============================] - 1s 1ms/step - loss: 0.1643 - accuracy: 0.9507 - val_loss: 0.1079 - val_accuracy: 0.9674\n",
      "Epoch 3/10\n",
      "782/782 [==============================] - 1s 1ms/step - loss: 0.1291 - accuracy: 0.9597 - val_loss: 0.0920 - val_accuracy: 0.9727\n",
      "Epoch 4/10\n",
      "782/782 [==============================] - 1s 1ms/step - loss: 0.1104 - accuracy: 0.9647 - val_loss: 0.0899 - val_accuracy: 0.9734\n",
      "Epoch 5/10\n",
      "782/782 [==============================] - 1s 1ms/step - loss: 0.0992 - accuracy: 0.9684 - val_loss: 0.0774 - val_accuracy: 0.9773\n",
      "Epoch 6/10\n",
      "782/782 [==============================] - 1s 1ms/step - loss: 0.0865 - accuracy: 0.9723 - val_loss: 0.0774 - val_accuracy: 0.9762\n",
      "Epoch 7/10\n",
      "782/782 [==============================] - 1s 1ms/step - loss: 0.0802 - accuracy: 0.9746 - val_loss: 0.0787 - val_accuracy: 0.9761\n",
      "Epoch 8/10\n",
      "782/782 [==============================] - 1s 1ms/step - loss: 0.0765 - accuracy: 0.9761 - val_loss: 0.0684 - val_accuracy: 0.9803\n",
      "Epoch 9/10\n",
      "782/782 [==============================] - 1s 1ms/step - loss: 0.0686 - accuracy: 0.9771 - val_loss: 0.0745 - val_accuracy: 0.9793\n",
      "Epoch 10/10\n",
      "782/782 [==============================] - 1s 1ms/step - loss: 0.0659 - accuracy: 0.9784 - val_loss: 0.0718 - val_accuracy: 0.9797\n"
     ]
    },
    {
     "data": {
      "text/plain": [
       "dict_keys(['loss', 'accuracy', 'val_loss', 'val_accuracy'])"
      ]
     },
     "execution_count": 7,
     "metadata": {},
     "output_type": "execute_result"
    }
   ],
   "execution_count": 7
  },
  {
   "metadata": {
    "ExecuteTime": {
     "end_time": "2024-09-30T05:25:27.312708Z",
     "start_time": "2024-09-30T05:25:27.264141Z"
    }
   },
   "cell_type": "code",
   "source": [
    "loss = history_out['loss']\n",
    "val_loss = history_out['val_loss']\n",
    "accuracy = history_out['accuracy']\n",
    "val_accuracy = history_out['val_accuracy']\n",
    "\n",
    "plt.plot(loss, 'bo', label='Training loss')\n",
    "plt.plot(val_loss, 'b', label='Validation loss')\n",
    "plt.title('Training and validation loss')\n",
    "plt.xlabel('Epochs')\n",
    "plt.ylabel('Loss')\n",
    "plt.legend()\n",
    "plt.show()"
   ],
   "id": "f556ae289c433a6",
   "outputs": [
    {
     "data": {
      "text/plain": [
       "<Figure size 640x480 with 1 Axes>"
      ],
      "image/png": "[encoded data removed]"
     },
     "metadata": {},
     "output_type": "display_data"
    }
   ],
   "execution_count": 8
  },
  {
   "metadata": {
    "ExecuteTime": {
     "end_time": "2024-09-30T05:25:27.364364Z",
     "start_time": "2024-09-30T05:25:27.313241Z"
    }
   },
   "cell_type": "code",
   "source": [
    "plt.clf() # clf method가 적용된 그래프의 figure를 지운다\n",
    "plt.plot(accuracy, 'bo', label='Training accuracy')\n",
    "plt.plot(val_accuracy, 'b', label='Validation accuracy')\n",
    "plt.title('Training and validation accuracy')\n",
    "plt.xlabel('Epochs')\n",
    "plt.ylabel('Accuracy')\n",
    "plt.legend()\n",
    "plt.show()"
   ],
   "id": "566a1a77a1d2fb32",
   "outputs": [
    {
     "data": {
      "text/plain": [
       "<Figure size 640x480 with 1 Axes>"
      ],
      "image/png": "[encoded data removed]"
     },
     "metadata": {},
     "output_type": "display_data"
    }
   ],
   "execution_count": 9
  },
  {
   "metadata": {
    "ExecuteTime": {
     "end_time": "2024-09-30T05:30:00.566283Z",
     "start_time": "2024-09-30T05:29:11.463604Z"
    }
   },
   "cell_type": "code",
   "source": [
    "model.fit(\n",
    "    x_train, y_train,\n",
    "    epochs=40,\n",
    "    batch_size=64,\n",
    ")"
   ],
   "id": "bd79bafb59da0a55",
   "outputs": [
    {
     "name": "stdout",
     "output_type": "stream",
     "text": [
      "Epoch 1/40\n",
      "938/938 [==============================] - 1s 1ms/step - loss: 0.0309 - accuracy: 0.9898\n",
      "Epoch 2/40\n",
      "938/938 [==============================] - 1s 1ms/step - loss: 0.0279 - accuracy: 0.9911\n",
      "Epoch 3/40\n",
      "938/938 [==============================] - 1s 1ms/step - loss: 0.0294 - accuracy: 0.9907\n",
      "Epoch 4/40\n",
      "938/938 [==============================] - 1s 1ms/step - loss: 0.0315 - accuracy: 0.9896\n",
      "Epoch 5/40\n",
      "938/938 [==============================] - 1s 1ms/step - loss: 0.0295 - accuracy: 0.9908\n",
      "Epoch 6/40\n",
      "938/938 [==============================] - 1s 1ms/step - loss: 0.0267 - accuracy: 0.9918\n",
      "Epoch 7/40\n",
      "938/938 [==============================] - 1s 1ms/step - loss: 0.0322 - accuracy: 0.9898\n",
      "Epoch 8/40\n",
      "938/938 [==============================] - 1s 1ms/step - loss: 0.0260 - accuracy: 0.9914\n",
      "Epoch 9/40\n",
      "938/938 [==============================] - 1s 1ms/step - loss: 0.0271 - accuracy: 0.9911\n",
      "Epoch 10/40\n",
      "938/938 [==============================] - 1s 1ms/step - loss: 0.0263 - accuracy: 0.9912\n",
      "Epoch 11/40\n",
      "938/938 [==============================] - 1s 1ms/step - loss: 0.0295 - accuracy: 0.9906\n",
      "Epoch 12/40\n",
      "938/938 [==============================] - 1s 1ms/step - loss: 0.0259 - accuracy: 0.9916\n",
      "Epoch 13/40\n",
      "938/938 [==============================] - 1s 1ms/step - loss: 0.0295 - accuracy: 0.9908\n",
      "Epoch 14/40\n",
      "938/938 [==============================] - 1s 1ms/step - loss: 0.0242 - accuracy: 0.9925\n",
      "Epoch 15/40\n",
      "938/938 [==============================] - 1s 1ms/step - loss: 0.0274 - accuracy: 0.9916\n",
      "Epoch 16/40\n",
      "938/938 [==============================] - 1s 1ms/step - loss: 0.0270 - accuracy: 0.9915\n",
      "Epoch 17/40\n",
      "938/938 [==============================] - 1s 1ms/step - loss: 0.0252 - accuracy: 0.9920\n",
      "Epoch 18/40\n",
      "938/938 [==============================] - 1s 1ms/step - loss: 0.0264 - accuracy: 0.9915\n",
      "Epoch 19/40\n",
      "938/938 [==============================] - 1s 1ms/step - loss: 0.0247 - accuracy: 0.9925\n",
      "Epoch 20/40\n",
      "938/938 [==============================] - 1s 1ms/step - loss: 0.0291 - accuracy: 0.9908\n",
      "Epoch 21/40\n",
      "938/938 [==============================] - 1s 1ms/step - loss: 0.0252 - accuracy: 0.9923\n",
      "Epoch 22/40\n",
      "938/938 [==============================] - 1s 1ms/step - loss: 0.0245 - accuracy: 0.9925\n",
      "Epoch 23/40\n",
      "938/938 [==============================] - 1s 1ms/step - loss: 0.0226 - accuracy: 0.9925\n",
      "Epoch 24/40\n",
      "938/938 [==============================] - 1s 1ms/step - loss: 0.0261 - accuracy: 0.9919\n",
      "Epoch 25/40\n",
      "938/938 [==============================] - 1s 1ms/step - loss: 0.0226 - accuracy: 0.9928\n",
      "Epoch 26/40\n",
      "938/938 [==============================] - 1s 1ms/step - loss: 0.0255 - accuracy: 0.9922\n",
      "Epoch 27/40\n",
      "938/938 [==============================] - 1s 1ms/step - loss: 0.0224 - accuracy: 0.9928\n",
      "Epoch 28/40\n",
      "938/938 [==============================] - 1s 1ms/step - loss: 0.0236 - accuracy: 0.9931\n",
      "Epoch 29/40\n",
      "938/938 [==============================] - 1s 1ms/step - loss: 0.0234 - accuracy: 0.9923\n",
      "Epoch 30/40\n",
      "938/938 [==============================] - 1s 1ms/step - loss: 0.0235 - accuracy: 0.9927\n",
      "Epoch 31/40\n",
      "938/938 [==============================] - 1s 1ms/step - loss: 0.0269 - accuracy: 0.9917\n",
      "Epoch 32/40\n",
      "938/938 [==============================] - 1s 1ms/step - loss: 0.0244 - accuracy: 0.9926\n",
      "Epoch 33/40\n",
      "938/938 [==============================] - 1s 1ms/step - loss: 0.0247 - accuracy: 0.9923\n",
      "Epoch 34/40\n",
      "938/938 [==============================] - 1s 1ms/step - loss: 0.0239 - accuracy: 0.9932\n",
      "Epoch 35/40\n",
      "938/938 [==============================] - 1s 1ms/step - loss: 0.0228 - accuracy: 0.9931\n",
      "Epoch 36/40\n",
      "938/938 [==============================] - 1s 1ms/step - loss: 0.0230 - accuracy: 0.9931\n",
      "Epoch 37/40\n",
      "938/938 [==============================] - 1s 1ms/step - loss: 0.0210 - accuracy: 0.9936\n",
      "Epoch 38/40\n",
      "938/938 [==============================] - 1s 1ms/step - loss: 0.0256 - accuracy: 0.9922\n",
      "Epoch 39/40\n",
      "938/938 [==============================] - 1s 1ms/step - loss: 0.0201 - accuracy: 0.9938\n",
      "Epoch 40/40\n",
      "938/938 [==============================] - 1s 1ms/step - loss: 0.0222 - accuracy: 0.9932\n"
     ]
    },
    {
     "data": {
      "text/plain": [
       "<keras.callbacks.History at 0x31ce04e90>"
      ]
     },
     "execution_count": 11,
     "metadata": {},
     "output_type": "execute_result"
    }
   ],
   "execution_count": 11
  },
  {
   "metadata": {
    "ExecuteTime": {
     "end_time": "2024-09-30T05:31:23.388990Z",
     "start_time": "2024-09-30T05:31:22.524674Z"
    }
   },
   "cell_type": "code",
   "source": [
    "train_results = model.evaluate(x_train, y_train, verbose=2)\n",
    "test_results = model.evaluate(x_test, y_test, verbose=2)\n",
    "\n",
    "print(train_results)\n",
    "print(test_results)"
   ],
   "id": "b0b864a03d94feec",
   "outputs": [
    {
     "name": "stdout",
     "output_type": "stream",
     "text": [
      "1875/1875 - 1s - loss: 0.0018 - accuracy: 0.9995 - 720ms/epoch - 384us/step\n",
      "313/313 - 0s - loss: 0.0834 - accuracy: 0.9834 - 114ms/epoch - 365us/step\n",
      "[0.0017550326883792877, 0.9995166659355164]\n",
      "[0.08341293036937714, 0.9833999872207642]\n"
     ]
    }
   ],
   "execution_count": 13
  },
  {
   "metadata": {
    "ExecuteTime": {
     "end_time": "2024-09-30T05:34:14.565918Z",
     "start_time": "2024-09-30T05:34:14.368465Z"
    }
   },
   "cell_type": "code",
   "source": [
    "import pandas as pd\n",
    "\n",
    "pred = model.predict(x_test)\n",
    "pred = pd.DataFrame(pred)\n",
    "pred.head()"
   ],
   "id": "19530e513fc1642e",
   "outputs": [
    {
     "name": "stdout",
     "output_type": "stream",
     "text": [
      "313/313 [==============================] - 0s 374us/step\n"
     ]
    },
    {
     "data": {
      "text/plain": [
       "              0             1             2             3             4  \\\n",
       "0  4.627531e-13  7.627349e-11  4.364082e-11  2.368184e-11  6.824012e-09   \n",
       "1  5.879857e-18  6.950018e-10  1.000000e+00  1.326391e-17  7.350449e-17   \n",
       "2  3.959886e-11  1.000000e+00  3.857102e-12  8.245347e-16  7.675488e-09   \n",
       "3  1.000000e+00  2.116829e-24  2.189038e-16  2.490744e-17  6.065613e-14   \n",
       "4  1.995198e-12  3.452218e-15  1.190652e-10  1.963707e-12  9.999994e-01   \n",
       "\n",
       "              5             6             7             8             9  \n",
       "0  2.885790e-16  5.550103e-17  1.000000e+00  3.432798e-15  6.963277e-09  \n",
       "1  9.514832e-18  7.049819e-17  5.231207e-19  3.085626e-15  3.238225e-24  \n",
       "2  1.621021e-13  3.128658e-11  2.209225e-09  8.235058e-11  5.263324e-15  \n",
       "3  1.747031e-16  3.718273e-11  1.758794e-16  4.288755e-17  1.768202e-12  \n",
       "4  1.760535e-12  2.524437e-13  3.782614e-11  6.653360e-15  5.597437e-07  "
      ],
      "text/html": [
       "<div>\n",
       "<style scoped>\n",
       "    .dataframe tbody tr th:only-of-type {\n",
       "        vertical-align: middle;\n",
       "    }\n",
       "\n",
       "    .dataframe tbody tr th {\n",
       "        vertical-align: top;\n",
       "    }\n",
       "\n",
       "    .dataframe thead th {\n",
       "        text-align: right;\n",
       "    }\n",
       "</style>\n",
       "<table border=\"1\" class=\"dataframe\">\n",
       "  <thead>\n",
       "    <tr style=\"text-align: right;\">\n",
       "      <th></th>\n",
       "      <th>0</th>\n",
       "      <th>1</th>\n",
       "      <th>2</th>\n",
       "      <th>3</th>\n",
       "      <th>4</th>\n",
       "      <th>5</th>\n",
       "      <th>6</th>\n",
       "      <th>7</th>\n",
       "      <th>8</th>\n",
       "      <th>9</th>\n",
       "    </tr>\n",
       "  </thead>\n",
       "  <tbody>\n",
       "    <tr>\n",
       "      <th>0</th>\n",
       "      <td>4.627531e-13</td>\n",
       "      <td>7.627349e-11</td>\n",
       "      <td>4.364082e-11</td>\n",
       "      <td>2.368184e-11</td>\n",
       "      <td>6.824012e-09</td>\n",
       "      <td>2.885790e-16</td>\n",
       "      <td>5.550103e-17</td>\n",
       "      <td>1.000000e+00</td>\n",
       "      <td>3.432798e-15</td>\n",
       "      <td>6.963277e-09</td>\n",
       "    </tr>\n",
       "    <tr>\n",
       "      <th>1</th>\n",
       "      <td>5.879857e-18</td>\n",
       "      <td>6.950018e-10</td>\n",
       "      <td>1.000000e+00</td>\n",
       "      <td>1.326391e-17</td>\n",
       "      <td>7.350449e-17</td>\n",
       "      <td>9.514832e-18</td>\n",
       "      <td>7.049819e-17</td>\n",
       "      <td>5.231207e-19</td>\n",
       "      <td>3.085626e-15</td>\n",
       "      <td>3.238225e-24</td>\n",
       "    </tr>\n",
       "    <tr>\n",
       "      <th>2</th>\n",
       "      <td>3.959886e-11</td>\n",
       "      <td>1.000000e+00</td>\n",
       "      <td>3.857102e-12</td>\n",
       "      <td>8.245347e-16</td>\n",
       "      <td>7.675488e-09</td>\n",
       "      <td>1.621021e-13</td>\n",
       "      <td>3.128658e-11</td>\n",
       "      <td>2.209225e-09</td>\n",
       "      <td>8.235058e-11</td>\n",
       "      <td>5.263324e-15</td>\n",
       "    </tr>\n",
       "    <tr>\n",
       "      <th>3</th>\n",
       "      <td>1.000000e+00</td>\n",
       "      <td>2.116829e-24</td>\n",
       "      <td>2.189038e-16</td>\n",
       "      <td>2.490744e-17</td>\n",
       "      <td>6.065613e-14</td>\n",
       "      <td>1.747031e-16</td>\n",
       "      <td>3.718273e-11</td>\n",
       "      <td>1.758794e-16</td>\n",
       "      <td>4.288755e-17</td>\n",
       "      <td>1.768202e-12</td>\n",
       "    </tr>\n",
       "    <tr>\n",
       "      <th>4</th>\n",
       "      <td>1.995198e-12</td>\n",
       "      <td>3.452218e-15</td>\n",
       "      <td>1.190652e-10</td>\n",
       "      <td>1.963707e-12</td>\n",
       "      <td>9.999994e-01</td>\n",
       "      <td>1.760535e-12</td>\n",
       "      <td>2.524437e-13</td>\n",
       "      <td>3.782614e-11</td>\n",
       "      <td>6.653360e-15</td>\n",
       "      <td>5.597437e-07</td>\n",
       "    </tr>\n",
       "  </tbody>\n",
       "</table>\n",
       "</div>"
      ]
     },
     "execution_count": 14,
     "metadata": {},
     "output_type": "execute_result"
    }
   ],
   "execution_count": 14
  },
  {
   "metadata": {},
   "cell_type": "markdown",
   "source": "## Functional API",
   "id": "3d2ea3f1cabd7cdb"
  },
  {
   "metadata": {
    "ExecuteTime": {
     "end_time": "2024-09-30T05:37:47.666424Z",
     "start_time": "2024-09-30T05:37:47.648540Z"
    }
   },
   "cell_type": "code",
   "source": [
    "from keras.models import Model\n",
    "from keras.layers import Input, Dense, Dropout\n",
    "\n",
    "x = Input(shape=(num_features,))\n",
    "h1 = Dense(256, activation='relu')(x)\n",
    "h1 = Dropout(0.45)(h1)\n",
    "h2 = Dense(256, activation='relu')(h1)\n",
    "out = Dense(num_classes, activation='softmax')(h2)\n",
    "model = Model(inputs=x, outputs=out)"
   ],
   "id": "616e1e06ad5da2e4",
   "outputs": [],
   "execution_count": 15
  },
  {
   "metadata": {
    "ExecuteTime": {
     "end_time": "2024-09-30T05:38:58.311129Z",
     "start_time": "2024-09-30T05:38:15.465129Z"
    }
   },
   "cell_type": "code",
   "source": [
    "model.compile(loss='categorical_crossentropy', optimizer='adam', metrics=['accuracy'])\n",
    "model.fit(x_train, y_train, epochs=35, batch_size=64)"
   ],
   "id": "8241e4e02f64edcc",
   "outputs": [
    {
     "name": "stdout",
     "output_type": "stream",
     "text": [
      "Epoch 1/35\n",
      "938/938 [==============================] - 1s 1ms/step - loss: 0.3059 - accuracy: 0.9082\n",
      "Epoch 2/35\n",
      "938/938 [==============================] - 1s 1ms/step - loss: 0.1575 - accuracy: 0.9519\n",
      "Epoch 3/35\n",
      "938/938 [==============================] - 1s 1ms/step - loss: 0.1248 - accuracy: 0.9615\n",
      "Epoch 4/35\n",
      "938/938 [==============================] - 1s 1ms/step - loss: 0.1072 - accuracy: 0.9659\n",
      "Epoch 5/35\n",
      "938/938 [==============================] - 1s 1ms/step - loss: 0.0954 - accuracy: 0.9699\n",
      "Epoch 6/35\n",
      "938/938 [==============================] - 1s 1ms/step - loss: 0.0864 - accuracy: 0.9726\n",
      "Epoch 7/35\n",
      "938/938 [==============================] - 1s 1ms/step - loss: 0.0783 - accuracy: 0.9746\n",
      "Epoch 8/35\n",
      "938/938 [==============================] - 1s 1ms/step - loss: 0.0755 - accuracy: 0.9759\n",
      "Epoch 9/35\n",
      "938/938 [==============================] - 1s 1ms/step - loss: 0.0687 - accuracy: 0.9777\n",
      "Epoch 10/35\n",
      "938/938 [==============================] - 1s 1ms/step - loss: 0.0642 - accuracy: 0.9791\n",
      "Epoch 11/35\n",
      "938/938 [==============================] - 1s 1ms/step - loss: 0.0623 - accuracy: 0.9801\n",
      "Epoch 12/35\n",
      "938/938 [==============================] - 1s 1ms/step - loss: 0.0595 - accuracy: 0.9807\n",
      "Epoch 13/35\n",
      "938/938 [==============================] - 1s 1ms/step - loss: 0.0527 - accuracy: 0.9828\n",
      "Epoch 14/35\n",
      "938/938 [==============================] - 1s 1ms/step - loss: 0.0536 - accuracy: 0.9823\n",
      "Epoch 15/35\n",
      "938/938 [==============================] - 1s 1ms/step - loss: 0.0516 - accuracy: 0.9833\n",
      "Epoch 16/35\n",
      "938/938 [==============================] - 1s 1ms/step - loss: 0.0516 - accuracy: 0.9831\n",
      "Epoch 17/35\n",
      "938/938 [==============================] - 1s 1ms/step - loss: 0.0477 - accuracy: 0.9843\n",
      "Epoch 18/35\n",
      "938/938 [==============================] - 1s 1ms/step - loss: 0.0433 - accuracy: 0.9857\n",
      "Epoch 19/35\n",
      "938/938 [==============================] - 1s 1ms/step - loss: 0.0449 - accuracy: 0.9852\n",
      "Epoch 20/35\n",
      "938/938 [==============================] - 1s 1ms/step - loss: 0.0423 - accuracy: 0.9861\n",
      "Epoch 21/35\n",
      "938/938 [==============================] - 1s 1ms/step - loss: 0.0444 - accuracy: 0.9853\n",
      "Epoch 22/35\n",
      "938/938 [==============================] - 1s 1ms/step - loss: 0.0407 - accuracy: 0.9861\n",
      "Epoch 23/35\n",
      "938/938 [==============================] - 1s 1ms/step - loss: 0.0405 - accuracy: 0.9872\n",
      "Epoch 24/35\n",
      "938/938 [==============================] - 1s 1ms/step - loss: 0.0380 - accuracy: 0.9865\n",
      "Epoch 25/35\n",
      "938/938 [==============================] - 1s 1ms/step - loss: 0.0396 - accuracy: 0.9866\n",
      "Epoch 26/35\n",
      "938/938 [==============================] - 1s 1ms/step - loss: 0.0373 - accuracy: 0.9879\n",
      "Epoch 27/35\n",
      "938/938 [==============================] - 1s 1ms/step - loss: 0.0368 - accuracy: 0.9877\n",
      "Epoch 28/35\n",
      "938/938 [==============================] - 1s 1ms/step - loss: 0.0375 - accuracy: 0.9878\n",
      "Epoch 29/35\n",
      "938/938 [==============================] - 1s 1ms/step - loss: 0.0355 - accuracy: 0.9884\n",
      "Epoch 30/35\n",
      "938/938 [==============================] - 1s 1ms/step - loss: 0.0330 - accuracy: 0.9895\n",
      "Epoch 31/35\n",
      "938/938 [==============================] - 1s 1ms/step - loss: 0.0360 - accuracy: 0.9887\n",
      "Epoch 32/35\n",
      "938/938 [==============================] - 1s 1ms/step - loss: 0.0325 - accuracy: 0.9893\n",
      "Epoch 33/35\n",
      "938/938 [==============================] - 1s 1ms/step - loss: 0.0326 - accuracy: 0.9894\n",
      "Epoch 34/35\n",
      "938/938 [==============================] - 1s 1ms/step - loss: 0.0342 - accuracy: 0.9887\n",
      "Epoch 35/35\n",
      "938/938 [==============================] - 1s 1ms/step - loss: 0.0349 - accuracy: 0.9895\n"
     ]
    },
    {
     "data": {
      "text/plain": [
       "<keras.callbacks.History at 0x31fd68450>"
      ]
     },
     "execution_count": 16,
     "metadata": {},
     "output_type": "execute_result"
    }
   ],
   "execution_count": 16
  }
 ],
 "metadata": {
  "kernelspec": {
   "display_name": "Python 3",
   "language": "python",
   "name": "python3"
  },
  "language_info": {
   "codemirror_mode": {
    "name": "ipython",
    "version": 2
   },
   "file_extension": ".py",
   "mimetype": "text/x-python",
   "name": "python",
   "nbconvert_exporter": "python",
   "pygments_lexer": "ipython2",
   "version": "2.7.6"
  }
 },
 "nbformat": 4,
 "nbformat_minor": 5
}
