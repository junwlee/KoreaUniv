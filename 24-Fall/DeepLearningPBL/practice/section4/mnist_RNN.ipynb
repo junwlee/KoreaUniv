{
 "cells": [
  {
   "metadata": {},
   "cell_type": "markdown",
   "source": "# Import Library",
   "id": "fd9a8d3d4e8373e4"
  },
  {
   "cell_type": "code",
   "id": "initial_id",
   "metadata": {
    "collapsed": true,
    "ExecuteTime": {
     "end_time": "2024-10-07T10:06:52.677025Z",
     "start_time": "2024-10-07T10:06:43.644297Z"
    }
   },
   "source": [
    "import numpy as np\n",
    "from keras.datasets import mnist\n",
    "from keras.models import Sequential\n",
    "from keras.layers import Dense, SimpleRNN\n",
    "from keras.utils import to_categorical"
   ],
   "outputs": [],
   "execution_count": 1
  },
  {
   "metadata": {},
   "cell_type": "markdown",
   "source": "# Load Data",
   "id": "1a9476a5df9f2b52"
  },
  {
   "metadata": {
    "ExecuteTime": {
     "end_time": "2024-10-07T10:07:12.445074Z",
     "start_time": "2024-10-07T10:07:12.317489Z"
    }
   },
   "cell_type": "code",
   "source": "(x_train, y_train), (x_test, y_test) = mnist.load_data()",
   "id": "3a87c4b2d69f6e4f",
   "outputs": [],
   "execution_count": 2
  },
  {
   "metadata": {},
   "cell_type": "markdown",
   "source": "# Preprocessing",
   "id": "9481e2c94096e82e"
  },
  {
   "metadata": {
    "ExecuteTime": {
     "end_time": "2024-10-07T10:07:54.867627Z",
     "start_time": "2024-10-07T10:07:54.864721Z"
    }
   },
   "cell_type": "code",
   "source": [
    "y_train = to_categorical(y_train)\n",
    "y_test = to_categorical(y_test)"
   ],
   "id": "78b92469d51bbdde",
   "outputs": [],
   "execution_count": 3
  },
  {
   "metadata": {
    "ExecuteTime": {
     "end_time": "2024-10-07T10:08:00.966854Z",
     "start_time": "2024-10-07T10:08:00.965020Z"
    }
   },
   "cell_type": "code",
   "source": "print(x_train.shape)",
   "id": "b87172911b264d69",
   "outputs": [
    {
     "name": "stdout",
     "output_type": "stream",
     "text": [
      "(60000, 28, 28)\n"
     ]
    }
   ],
   "execution_count": 4
  },
  {
   "metadata": {
    "ExecuteTime": {
     "end_time": "2024-10-07T10:15:50.763617Z",
     "start_time": "2024-10-07T10:15:50.740529Z"
    }
   },
   "cell_type": "code",
   "source": [
    "shape1 = x_train.shape[1]\n",
    "shape2 = x_train.shape[2]\n",
    "x_train = x_train.reshape(-1, shape1, shape2).astype('float32')\n",
    "x_test = x_test.reshape(-1, shape1, shape2).astype('float32')"
   ],
   "id": "eb4db1bb9fe775f3",
   "outputs": [],
   "execution_count": 9
  },
  {
   "metadata": {
    "ExecuteTime": {
     "end_time": "2024-10-07T10:16:23.532663Z",
     "start_time": "2024-10-07T10:16:23.507081Z"
    }
   },
   "cell_type": "code",
   "source": [
    "x_train = x_train / 255.\n",
    "x_test = x_test / 255."
   ],
   "id": "9ca952ed79b60f0a",
   "outputs": [],
   "execution_count": 10
  },
  {
   "metadata": {
    "ExecuteTime": {
     "end_time": "2024-10-07T10:17:04.722982Z",
     "start_time": "2024-10-07T10:17:04.720902Z"
    }
   },
   "cell_type": "code",
   "source": "input_shape = (shape1, shape2)",
   "id": "a41879d6291c642e",
   "outputs": [],
   "execution_count": 11
  },
  {
   "metadata": {},
   "cell_type": "markdown",
   "source": "# Define Model",
   "id": "6f2202f7d44bada4"
  },
  {
   "metadata": {
    "ExecuteTime": {
     "end_time": "2024-10-07T10:19:05.067954Z",
     "start_time": "2024-10-07T10:19:05.016186Z"
    }
   },
   "cell_type": "code",
   "source": [
    "model = Sequential()\n",
    "model.add(\n",
    "    SimpleRNN(\n",
    "        units=256, dropout=0.2, input_shape=input_shape\n",
    "    )\n",
    ")\n",
    "model.add(Dense(10, activation='softmax'))\n",
    "\n",
    "model.summary()"
   ],
   "id": "4936c61b2c35f12c",
   "outputs": [
    {
     "name": "stdout",
     "output_type": "stream",
     "text": [
      "Model: \"sequential\"\n",
      "_________________________________________________________________\n",
      " Layer (type)                Output Shape              Param #   \n",
      "=================================================================\n",
      " simple_rnn (SimpleRNN)      (None, 256)               72960     \n",
      "                                                                 \n",
      " dense (Dense)               (None, 10)                2570      \n",
      "                                                                 \n",
      "=================================================================\n",
      "Total params: 75,530\n",
      "Trainable params: 75,530\n",
      "Non-trainable params: 0\n",
      "_________________________________________________________________\n"
     ]
    }
   ],
   "execution_count": 12
  },
  {
   "metadata": {},
   "cell_type": "markdown",
   "source": "# Compile and Fit",
   "id": "8772381d1f39ef22"
  },
  {
   "metadata": {
    "ExecuteTime": {
     "end_time": "2024-10-07T10:39:37.749244Z",
     "start_time": "2024-10-07T10:34:02.221974Z"
    }
   },
   "cell_type": "code",
   "source": [
    "model.compile(loss='categorical_crossentropy',optimizer='RMSprop',metrics=['accuracy'])\n",
    "model.fit(x_train, y_train,epochs=30, batch_size=64)\n",
    "\n",
    "score = model.evaluate(x_test, y_test)\n",
    "print(score)"
   ],
   "id": "b96e8296e0314572",
   "outputs": [
    {
     "name": "stdout",
     "output_type": "stream",
     "text": [
      "Epoch 1/30\n",
      "938/938 [==============================] - 11s 12ms/step - loss: 0.1590 - accuracy: 0.9530\n",
      "Epoch 2/30\n",
      "938/938 [==============================] - 11s 12ms/step - loss: 0.1666 - accuracy: 0.9514\n",
      "Epoch 3/30\n",
      "938/938 [==============================] - 11s 12ms/step - loss: 0.1933 - accuracy: 0.9426\n",
      "Epoch 4/30\n",
      "938/938 [==============================] - 11s 11ms/step - loss: 0.1876 - accuracy: 0.9435\n",
      "Epoch 5/30\n",
      "938/938 [==============================] - 11s 12ms/step - loss: 0.2008 - accuracy: 0.9395\n",
      "Epoch 6/30\n",
      "938/938 [==============================] - 11s 12ms/step - loss: 0.1746 - accuracy: 0.9490\n",
      "Epoch 7/30\n",
      "938/938 [==============================] - 11s 12ms/step - loss: 0.1781 - accuracy: 0.9473\n",
      "Epoch 8/30\n",
      "938/938 [==============================] - 11s 12ms/step - loss: 0.1896 - accuracy: 0.9438\n",
      "Epoch 9/30\n",
      "938/938 [==============================] - 11s 12ms/step - loss: 0.2140 - accuracy: 0.9356\n",
      "Epoch 10/30\n",
      "938/938 [==============================] - 11s 12ms/step - loss: 0.1936 - accuracy: 0.9441\n",
      "Epoch 11/30\n",
      "938/938 [==============================] - 11s 12ms/step - loss: 0.2147 - accuracy: 0.9364\n",
      "Epoch 12/30\n",
      "938/938 [==============================] - 11s 12ms/step - loss: 0.2449 - accuracy: 0.9266\n",
      "Epoch 13/30\n",
      "938/938 [==============================] - 11s 12ms/step - loss: 0.2236 - accuracy: 0.9332\n",
      "Epoch 14/30\n",
      "938/938 [==============================] - 11s 12ms/step - loss: 0.2163 - accuracy: 0.9355\n",
      "Epoch 15/30\n",
      "938/938 [==============================] - 11s 12ms/step - loss: 0.2229 - accuracy: 0.9331\n",
      "Epoch 16/30\n",
      "938/938 [==============================] - 11s 12ms/step - loss: 0.2310 - accuracy: 0.9301\n",
      "Epoch 17/30\n",
      "938/938 [==============================] - 11s 12ms/step - loss: 0.2357 - accuracy: 0.9291\n",
      "Epoch 18/30\n",
      "938/938 [==============================] - 11s 12ms/step - loss: 0.2335 - accuracy: 0.9295\n",
      "Epoch 19/30\n",
      "938/938 [==============================] - 11s 12ms/step - loss: 0.2471 - accuracy: 0.9267\n",
      "Epoch 20/30\n",
      "938/938 [==============================] - 11s 12ms/step - loss: 0.2658 - accuracy: 0.9190\n",
      "Epoch 21/30\n",
      "938/938 [==============================] - 11s 12ms/step - loss: 0.2882 - accuracy: 0.9109\n",
      "Epoch 22/30\n",
      "938/938 [==============================] - 11s 12ms/step - loss: 0.2935 - accuracy: 0.9111\n",
      "Epoch 23/30\n",
      "938/938 [==============================] - 11s 12ms/step - loss: 0.2892 - accuracy: 0.9117\n",
      "Epoch 24/30\n",
      "938/938 [==============================] - 11s 12ms/step - loss: 0.2735 - accuracy: 0.9170\n",
      "Epoch 25/30\n",
      "938/938 [==============================] - 11s 12ms/step - loss: 0.2752 - accuracy: 0.9147\n",
      "Epoch 26/30\n",
      "938/938 [==============================] - 11s 12ms/step - loss: 0.3005 - accuracy: 0.9071\n",
      "Epoch 27/30\n",
      "938/938 [==============================] - 11s 12ms/step - loss: 0.3303 - accuracy: 0.8985\n",
      "Epoch 28/30\n",
      "938/938 [==============================] - 11s 12ms/step - loss: 0.3064 - accuracy: 0.9039\n",
      "Epoch 29/30\n",
      "938/938 [==============================] - 11s 12ms/step - loss: 0.3035 - accuracy: 0.9054\n",
      "Epoch 30/30\n",
      "938/938 [==============================] - 11s 12ms/step - loss: 0.3086 - accuracy: 0.9044\n",
      "313/313 [==============================] - 1s 2ms/step - loss: 0.3090 - accuracy: 0.9061\n",
      "[0.3090108335018158, 0.9060999751091003]\n"
     ]
    }
   ],
   "execution_count": 14
  },
  {
   "metadata": {},
   "cell_type": "markdown",
   "source": "# Functional API",
   "id": "fefe62703038fef8"
  },
  {
   "metadata": {
    "ExecuteTime": {
     "end_time": "2024-10-07T10:41:02.068855Z",
     "start_time": "2024-10-07T10:41:02.038031Z"
    }
   },
   "cell_type": "code",
   "source": [
    "from keras.models import Model\n",
    "from keras.layers import Input\n",
    "\n",
    "x = Input(shape=input_shape)\n",
    "h = SimpleRNN(256, dropout=0.2)(x)\n",
    "out = Dense(10, activation='softmax')(h)\n",
    "model = Model(inputs=x, outputs=out)"
   ],
   "id": "ab160ec918b1a853",
   "outputs": [],
   "execution_count": 15
  },
  {
   "metadata": {
    "ExecuteTime": {
     "end_time": "2024-10-07T10:42:18.727082Z",
     "start_time": "2024-10-07T10:41:03.137229Z"
    }
   },
   "cell_type": "code",
   "source": [
    "model.compile(loss='categorical_crossentropy',optimizer='RMSprop',metrics=['accuracy'])\n",
    "model.fit(x_train, y_train,epochs=10, batch_size=128)\n",
    "score = model.evaluate(x_test, y_test)\n",
    "print(score)"
   ],
   "id": "5ed19b5238047f8b",
   "outputs": [
    {
     "name": "stdout",
     "output_type": "stream",
     "text": [
      "Epoch 1/10\n",
      "469/469 [==============================] - 8s 16ms/step - loss: 0.4588 - accuracy: 0.8555\n",
      "Epoch 2/10\n",
      "469/469 [==============================] - 7s 16ms/step - loss: 0.2296 - accuracy: 0.9312\n",
      "Epoch 3/10\n",
      "469/469 [==============================] - 7s 16ms/step - loss: 0.1783 - accuracy: 0.9466\n",
      "Epoch 4/10\n",
      "469/469 [==============================] - 7s 16ms/step - loss: 0.1574 - accuracy: 0.9528\n",
      "Epoch 5/10\n",
      "469/469 [==============================] - 7s 16ms/step - loss: 0.1421 - accuracy: 0.9573\n",
      "Epoch 6/10\n",
      "469/469 [==============================] - 7s 16ms/step - loss: 0.1324 - accuracy: 0.9600\n",
      "Epoch 7/10\n",
      "469/469 [==============================] - 8s 16ms/step - loss: 0.1272 - accuracy: 0.9631\n",
      "Epoch 8/10\n",
      "469/469 [==============================] - 8s 16ms/step - loss: 0.1214 - accuracy: 0.9645\n",
      "Epoch 9/10\n",
      "469/469 [==============================] - 8s 16ms/step - loss: 0.1152 - accuracy: 0.9659\n",
      "Epoch 10/10\n",
      "469/469 [==============================] - 8s 16ms/step - loss: 0.1076 - accuracy: 0.9681\n",
      "313/313 [==============================] - 1s 2ms/step - loss: 0.0950 - accuracy: 0.9719\n",
      "[0.09498795121908188, 0.9718999862670898]\n"
     ]
    }
   ],
   "execution_count": 16
  }
 ],
 "metadata": {
  "kernelspec": {
   "display_name": "Python 3",
   "language": "python",
   "name": "python3"
  },
  "language_info": {
   "codemirror_mode": {
    "name": "ipython",
    "version": 2
   },
   "file_extension": ".py",
   "mimetype": "text/x-python",
   "name": "python",
   "nbconvert_exporter": "python",
   "pygments_lexer": "ipython2",
   "version": "2.7.6"
  }
 },
 "nbformat": 4,
 "nbformat_minor": 5
}
