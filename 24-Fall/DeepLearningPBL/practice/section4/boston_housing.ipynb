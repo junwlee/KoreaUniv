{
 "cells": [
  {
   "cell_type": "code",
   "id": "initial_id",
   "metadata": {
    "collapsed": true,
    "ExecuteTime": {
     "end_time": "2024-10-07T11:03:54.240857Z",
     "start_time": "2024-10-07T11:03:51.859650Z"
    }
   },
   "source": [
    "from tensorflow.keras.datasets import boston_housing\n",
    "\n",
    "(x_train, y_train), (x_test, y_test) = boston_housing.load_data()\n",
    "\n",
    "print(f\"x_train shape: {x_train.shape}, y_train shape: {y_train.shape}\")\n",
    "print(f\"x_test shape: {x_test.shape}, y_test shape: {y_test.shape}\")"
   ],
   "outputs": [
    {
     "name": "stdout",
     "output_type": "stream",
     "text": [
      "Downloading data from https://storage.googleapis.com/tensorflow/tf-keras-datasets/boston_housing.npz\n",
      "57026/57026 [==============================] - 0s 2us/step\n",
      "x_train shape: (404, 13), y_train shape: (404,)\n",
      "x_test shape: (102, 13), y_test shape: (102,)\n"
     ]
    }
   ],
   "execution_count": 1
  },
  {
   "metadata": {
    "ExecuteTime": {
     "end_time": "2024-10-07T11:05:45.815040Z",
     "start_time": "2024-10-07T11:05:45.812429Z"
    }
   },
   "cell_type": "code",
   "source": [
    "x_train1, x_train2 = x_train[:, :10], x_train[:, 3:]\n",
    "x_test1, x_test2 = x_test[:, :10], x_test[:, 3:]\n",
    "print(x_train1.shape, x_train2.shape, x_test1.shape, x_test2.shape)"
   ],
   "id": "23894edcd04500c7",
   "outputs": [
    {
     "name": "stdout",
     "output_type": "stream",
     "text": [
      "(404, 10) (404, 10) (102, 10) (102, 10)\n"
     ]
    }
   ],
   "execution_count": 2
  },
  {
   "metadata": {
    "ExecuteTime": {
     "end_time": "2024-10-07T11:13:56.117862Z",
     "start_time": "2024-10-07T11:13:56.089297Z"
    }
   },
   "cell_type": "code",
   "source": [
    "from tensorflow.keras.models import Model\n",
    "from tensorflow.keras.layers import Input, Dense, concatenate\n",
    "\n",
    "input1 = Input(shape=[10])\n",
    "input2 = Input(shape=[10])\n",
    "\n",
    "h1 = Dense(16, activation='relu')(input1)\n",
    "h2 = Dense(16, activation='relu')(h1)\n",
    "\n",
    "concat = concatenate([h2, input2])\n",
    "\n",
    "out1 = Dense(1)(concat)\n",
    "out2 = Dense(1)(h2)\n",
    "\n",
    "model = Model(inputs=[input1, input2], outputs=[out1, out2])\n",
    "\n",
    "model.summary()"
   ],
   "id": "bbc9c8b27423ed61",
   "outputs": [
    {
     "name": "stdout",
     "output_type": "stream",
     "text": [
      "Model: \"model_1\"\n",
      "__________________________________________________________________________________________________\n",
      " Layer (type)                   Output Shape         Param #     Connected to                     \n",
      "==================================================================================================\n",
      " input_3 (InputLayer)           [(None, 10)]         0           []                               \n",
      "                                                                                                  \n",
      " dense_4 (Dense)                (None, 16)           176         ['input_3[0][0]']                \n",
      "                                                                                                  \n",
      " dense_5 (Dense)                (None, 16)           272         ['dense_4[0][0]']                \n",
      "                                                                                                  \n",
      " input_4 (InputLayer)           [(None, 10)]         0           []                               \n",
      "                                                                                                  \n",
      " concatenate_1 (Concatenate)    (None, 26)           0           ['dense_5[0][0]',                \n",
      "                                                                  'input_4[0][0]']                \n",
      "                                                                                                  \n",
      " dense_6 (Dense)                (None, 1)            27          ['concatenate_1[0][0]']          \n",
      "                                                                                                  \n",
      " dense_7 (Dense)                (None, 1)            17          ['dense_5[0][0]']                \n",
      "                                                                                                  \n",
      "==================================================================================================\n",
      "Total params: 492\n",
      "Trainable params: 492\n",
      "Non-trainable params: 0\n",
      "__________________________________________________________________________________________________\n"
     ]
    }
   ],
   "execution_count": 4
  },
  {
   "metadata": {
    "ExecuteTime": {
     "end_time": "2024-10-07T11:23:03.824472Z",
     "start_time": "2024-10-07T11:23:03.819903Z"
    }
   },
   "cell_type": "code",
   "source": [
    "hidden1 = model.layers[1]\n",
    "weights, biases = hidden1.get_weights()\n",
    "print(weights.shape, weights)\n",
    "print()\n",
    "print(biases.shape, biases)"
   ],
   "id": "aaf2a697b9dd0d5e",
   "outputs": [
    {
     "name": "stdout",
     "output_type": "stream",
     "text": [
      "(10, 16) [[ 0.42620045 -0.16656509  0.3212301   0.11847836  0.33393168 -0.42087597\n",
      "  -0.39576265 -0.07532051 -0.2129448   0.31185126 -0.04888046 -0.38324583\n",
      "   0.33468038 -0.4271921  -0.3453967   0.27728635]\n",
      " [-0.05978784 -0.23602748  0.39273316  0.06141502 -0.07696545 -0.15262508\n",
      "  -0.16441256  0.00888234 -0.3894463   0.38925982 -0.24433224 -0.14987916\n",
      "   0.07354593 -0.10363343  0.204121   -0.28580356]\n",
      " [ 0.21209455 -0.28102952  0.0185923  -0.14583203  0.45889497  0.17670512\n",
      "   0.21450019 -0.04445273 -0.03529999  0.13878405  0.25069416 -0.07329994\n",
      "   0.37712008 -0.1036143  -0.32775378  0.02882272]\n",
      " [ 0.43815404 -0.08414891 -0.32477808  0.01682416  0.3077976   0.22120297\n",
      "   0.08328271  0.39017105  0.23750424  0.37641913 -0.41740987 -0.20794478\n",
      "  -0.4283356  -0.2948826  -0.15571117 -0.2898112 ]\n",
      " [ 0.03030759 -0.32484764  0.01770949 -0.03264076  0.38463444 -0.08567485\n",
      "  -0.45424148 -0.06091323  0.04342848 -0.33546466  0.4630369   0.13006276\n",
      "   0.29257232 -0.11520591 -0.41629684 -0.35842103]\n",
      " [-0.23644644  0.257752    0.38742936  0.23967767 -0.09584752  0.47002077\n",
      "  -0.04285568 -0.22790232  0.14291859  0.06486082 -0.40438753 -0.43133783\n",
      "   0.01729867 -0.09468213  0.23888987 -0.3666597 ]\n",
      " [-0.13421294 -0.12003496  0.02766281  0.03371954 -0.15695637  0.37576264\n",
      "  -0.04724413 -0.17410523  0.17993432  0.38606966  0.00858274  0.2526986\n",
      "  -0.0524509   0.41864383  0.13414413 -0.01535654]\n",
      " [-0.47446874  0.40038508  0.06688488 -0.30234873 -0.4483252  -0.47151563\n",
      "  -0.17061713 -0.3457474  -0.2551629   0.03735548 -0.3276302  -0.16294265\n",
      "   0.01828879  0.21583676  0.31803292 -0.21029395]\n",
      " [ 0.47988224 -0.26550472 -0.19707668  0.42682856  0.1076147  -0.03904337\n",
      "   0.04306251  0.04254359  0.04096329  0.2756294   0.18270618  0.21038353\n",
      "  -0.03636512  0.22021705 -0.4430827  -0.23441029]\n",
      " [ 0.32670534  0.3441643   0.14072216 -0.46638045  0.22270942  0.44014072\n",
      "  -0.18005952  0.3710698  -0.12472415  0.23424673  0.30670786  0.14527464\n",
      "   0.4457149   0.08293027 -0.04362318 -0.34012604]]\n",
      "\n",
      "(16,) [0. 0. 0. 0. 0. 0. 0. 0. 0. 0. 0. 0. 0. 0. 0. 0.]\n"
     ]
    }
   ],
   "execution_count": 6
  },
  {
   "metadata": {
    "ExecuteTime": {
     "end_time": "2024-10-07T11:29:28.365756Z",
     "start_time": "2024-10-07T11:29:27.280598Z"
    }
   },
   "cell_type": "code",
   "source": [
    "model.compile(loss=['mse', 'mse'], loss_weights=[0.2, 0.8], optimizer='RMSprop')\n",
    "history = model.fit(\n",
    "    [x_train1, x_train2], [y_train, y_train], \n",
    "    epochs=50,\n",
    "    batch_size=32,\n",
    "    validation_data=([x_test1, x_test2], [y_test,y_test])\n",
    ")"
   ],
   "id": "5fdd7079290db0e",
   "outputs": [
    {
     "name": "stdout",
     "output_type": "stream",
     "text": [
      "Epoch 1/50\n",
      "13/13 [==============================] - 0s 5ms/step - loss: 77.7341 - dense_6_loss: 58.6280 - dense_7_loss: 82.5106 - val_loss: 67.2716 - val_dense_6_loss: 54.8459 - val_dense_7_loss: 70.3780\n",
      "Epoch 2/50\n",
      "13/13 [==============================] - 0s 1ms/step - loss: 68.4072 - dense_6_loss: 54.6059 - dense_7_loss: 71.8575 - val_loss: 75.4833 - val_dense_6_loss: 57.1236 - val_dense_7_loss: 80.0732\n",
      "Epoch 3/50\n",
      "13/13 [==============================] - 0s 1ms/step - loss: 63.0607 - dense_6_loss: 52.5333 - dense_7_loss: 65.6925 - val_loss: 94.6332 - val_dense_6_loss: 67.1780 - val_dense_7_loss: 101.4970\n",
      "Epoch 4/50\n",
      "13/13 [==============================] - 0s 1ms/step - loss: 71.3870 - dense_6_loss: 57.4656 - dense_7_loss: 74.8673 - val_loss: 82.6623 - val_dense_6_loss: 58.0380 - val_dense_7_loss: 88.8183\n",
      "Epoch 5/50\n",
      "13/13 [==============================] - 0s 2ms/step - loss: 58.4497 - dense_6_loss: 50.2641 - dense_7_loss: 60.4962 - val_loss: 67.9470 - val_dense_6_loss: 54.1696 - val_dense_7_loss: 71.3913\n",
      "Epoch 6/50\n",
      "13/13 [==============================] - 0s 1ms/step - loss: 65.9098 - dense_6_loss: 54.0199 - dense_7_loss: 68.8822 - val_loss: 69.9151 - val_dense_6_loss: 53.9260 - val_dense_7_loss: 73.9124\n",
      "Epoch 7/50\n",
      "13/13 [==============================] - 0s 1ms/step - loss: 66.2132 - dense_6_loss: 53.4689 - dense_7_loss: 69.3993 - val_loss: 90.4422 - val_dense_6_loss: 61.6130 - val_dense_7_loss: 97.6496\n",
      "Epoch 8/50\n",
      "13/13 [==============================] - 0s 1ms/step - loss: 61.4741 - dense_6_loss: 51.7710 - dense_7_loss: 63.8998 - val_loss: 63.6522 - val_dense_6_loss: 54.5934 - val_dense_7_loss: 65.9168\n",
      "Epoch 9/50\n",
      "13/13 [==============================] - 0s 1ms/step - loss: 63.6940 - dense_6_loss: 52.2214 - dense_7_loss: 66.5622 - val_loss: 76.9183 - val_dense_6_loss: 62.4029 - val_dense_7_loss: 80.5471\n",
      "Epoch 10/50\n",
      "13/13 [==============================] - 0s 1ms/step - loss: 65.7464 - dense_6_loss: 52.9996 - dense_7_loss: 68.9331 - val_loss: 75.2170 - val_dense_6_loss: 58.3115 - val_dense_7_loss: 79.4434\n",
      "Epoch 11/50\n",
      "13/13 [==============================] - 0s 1ms/step - loss: 58.6940 - dense_6_loss: 49.1539 - dense_7_loss: 61.0789 - val_loss: 69.6751 - val_dense_6_loss: 52.6057 - val_dense_7_loss: 73.9425\n",
      "Epoch 12/50\n",
      "13/13 [==============================] - 0s 1ms/step - loss: 67.1027 - dense_6_loss: 53.6205 - dense_7_loss: 70.4733 - val_loss: 62.6639 - val_dense_6_loss: 52.2980 - val_dense_7_loss: 65.2554\n",
      "Epoch 13/50\n",
      "13/13 [==============================] - 0s 1ms/step - loss: 68.1972 - dense_6_loss: 53.7266 - dense_7_loss: 71.8148 - val_loss: 81.8779 - val_dense_6_loss: 56.2357 - val_dense_7_loss: 88.2884\n",
      "Epoch 14/50\n",
      "13/13 [==============================] - 0s 1ms/step - loss: 61.1215 - dense_6_loss: 50.3707 - dense_7_loss: 63.8092 - val_loss: 104.6405 - val_dense_6_loss: 67.2479 - val_dense_7_loss: 113.9887\n",
      "Epoch 15/50\n",
      "13/13 [==============================] - 0s 1ms/step - loss: 61.3129 - dense_6_loss: 50.3195 - dense_7_loss: 64.0612 - val_loss: 63.9561 - val_dense_6_loss: 52.3862 - val_dense_7_loss: 66.8486\n",
      "Epoch 16/50\n",
      "13/13 [==============================] - 0s 1ms/step - loss: 65.5258 - dense_6_loss: 52.0294 - dense_7_loss: 68.9000 - val_loss: 71.5483 - val_dense_6_loss: 58.4051 - val_dense_7_loss: 74.8341\n",
      "Epoch 17/50\n",
      "13/13 [==============================] - 0s 1ms/step - loss: 65.8959 - dense_6_loss: 52.4757 - dense_7_loss: 69.2510 - val_loss: 106.3153 - val_dense_6_loss: 82.4445 - val_dense_7_loss: 112.2830\n",
      "Epoch 18/50\n",
      "13/13 [==============================] - 0s 1ms/step - loss: 63.6943 - dense_6_loss: 50.0833 - dense_7_loss: 67.0970 - val_loss: 62.9261 - val_dense_6_loss: 52.0597 - val_dense_7_loss: 65.6426\n",
      "Epoch 19/50\n",
      "13/13 [==============================] - 0s 1ms/step - loss: 58.9363 - dense_6_loss: 49.2169 - dense_7_loss: 61.3661 - val_loss: 74.3995 - val_dense_6_loss: 55.3148 - val_dense_7_loss: 79.1707\n",
      "Epoch 20/50\n",
      "13/13 [==============================] - 0s 1ms/step - loss: 62.0372 - dense_6_loss: 49.6872 - dense_7_loss: 65.1247 - val_loss: 66.2885 - val_dense_6_loss: 53.3064 - val_dense_7_loss: 69.5340\n",
      "Epoch 21/50\n",
      "13/13 [==============================] - 0s 1ms/step - loss: 62.5844 - dense_6_loss: 50.2924 - dense_7_loss: 65.6575 - val_loss: 110.5525 - val_dense_6_loss: 75.8390 - val_dense_7_loss: 119.2309\n",
      "Epoch 22/50\n",
      "13/13 [==============================] - 0s 1ms/step - loss: 69.0743 - dense_6_loss: 54.9615 - dense_7_loss: 72.6025 - val_loss: 74.1677 - val_dense_6_loss: 52.9741 - val_dense_7_loss: 79.4661\n",
      "Epoch 23/50\n",
      "13/13 [==============================] - 0s 1ms/step - loss: 60.0618 - dense_6_loss: 47.9646 - dense_7_loss: 63.0861 - val_loss: 73.5511 - val_dense_6_loss: 55.9744 - val_dense_7_loss: 77.9453\n",
      "Epoch 24/50\n",
      "13/13 [==============================] - 0s 1ms/step - loss: 56.6955 - dense_6_loss: 46.7212 - dense_7_loss: 59.1891 - val_loss: 61.2949 - val_dense_6_loss: 50.5589 - val_dense_7_loss: 63.9788\n",
      "Epoch 25/50\n",
      "13/13 [==============================] - 0s 1ms/step - loss: 67.4064 - dense_6_loss: 52.0971 - dense_7_loss: 71.2337 - val_loss: 68.2333 - val_dense_6_loss: 54.1218 - val_dense_7_loss: 71.7612\n",
      "Epoch 26/50\n",
      "13/13 [==============================] - 0s 1ms/step - loss: 62.0362 - dense_6_loss: 50.6926 - dense_7_loss: 64.8721 - val_loss: 58.8313 - val_dense_6_loss: 49.8921 - val_dense_7_loss: 61.0661\n",
      "Epoch 27/50\n",
      "13/13 [==============================] - 0s 1ms/step - loss: 56.6547 - dense_6_loss: 46.4085 - dense_7_loss: 59.2162 - val_loss: 59.3937 - val_dense_6_loss: 51.0045 - val_dense_7_loss: 61.4909\n",
      "Epoch 28/50\n",
      "13/13 [==============================] - 0s 1ms/step - loss: 58.8232 - dense_6_loss: 48.0408 - dense_7_loss: 61.5188 - val_loss: 65.0066 - val_dense_6_loss: 51.2963 - val_dense_7_loss: 68.4342\n",
      "Epoch 29/50\n",
      "13/13 [==============================] - 0s 1ms/step - loss: 63.3778 - dense_6_loss: 48.0940 - dense_7_loss: 67.1987 - val_loss: 75.8164 - val_dense_6_loss: 54.1532 - val_dense_7_loss: 81.2322\n",
      "Epoch 30/50\n",
      "13/13 [==============================] - 0s 1ms/step - loss: 60.5708 - dense_6_loss: 48.4253 - dense_7_loss: 63.6071 - val_loss: 58.0562 - val_dense_6_loss: 49.1766 - val_dense_7_loss: 60.2760\n",
      "Epoch 31/50\n",
      "13/13 [==============================] - 0s 1ms/step - loss: 60.6182 - dense_6_loss: 48.7412 - dense_7_loss: 63.5874 - val_loss: 57.9822 - val_dense_6_loss: 49.0347 - val_dense_7_loss: 60.2190\n",
      "Epoch 32/50\n",
      "13/13 [==============================] - 0s 1ms/step - loss: 54.5029 - dense_6_loss: 44.4045 - dense_7_loss: 57.0275 - val_loss: 67.9454 - val_dense_6_loss: 54.4848 - val_dense_7_loss: 71.3106\n",
      "Epoch 33/50\n",
      "13/13 [==============================] - 0s 1ms/step - loss: 66.5591 - dense_6_loss: 50.5138 - dense_7_loss: 70.5705 - val_loss: 82.3228 - val_dense_6_loss: 61.2027 - val_dense_7_loss: 87.6029\n",
      "Epoch 34/50\n",
      "13/13 [==============================] - 0s 1ms/step - loss: 58.9838 - dense_6_loss: 47.4190 - dense_7_loss: 61.8750 - val_loss: 57.6431 - val_dense_6_loss: 48.2733 - val_dense_7_loss: 59.9855\n",
      "Epoch 35/50\n",
      "13/13 [==============================] - 0s 1ms/step - loss: 52.0932 - dense_6_loss: 43.8996 - dense_7_loss: 54.1416 - val_loss: 59.3168 - val_dense_6_loss: 49.4526 - val_dense_7_loss: 61.7829\n",
      "Epoch 36/50\n",
      "13/13 [==============================] - 0s 1ms/step - loss: 57.6855 - dense_6_loss: 45.5476 - dense_7_loss: 60.7200 - val_loss: 56.7216 - val_dense_6_loss: 49.5297 - val_dense_7_loss: 58.5195\n",
      "Epoch 37/50\n",
      "13/13 [==============================] - 0s 1ms/step - loss: 61.9484 - dense_6_loss: 47.0439 - dense_7_loss: 65.6746 - val_loss: 61.4701 - val_dense_6_loss: 48.2810 - val_dense_7_loss: 64.7673\n",
      "Epoch 38/50\n",
      "13/13 [==============================] - 0s 1ms/step - loss: 62.0339 - dense_6_loss: 47.2833 - dense_7_loss: 65.7215 - val_loss: 55.9923 - val_dense_6_loss: 46.9929 - val_dense_7_loss: 58.2422\n",
      "Epoch 39/50\n",
      "13/13 [==============================] - 0s 1ms/step - loss: 55.4313 - dense_6_loss: 45.6219 - dense_7_loss: 57.8837 - val_loss: 64.0546 - val_dense_6_loss: 49.8066 - val_dense_7_loss: 67.6167\n",
      "Epoch 40/50\n",
      "13/13 [==============================] - 0s 1ms/step - loss: 59.1382 - dense_6_loss: 46.3249 - dense_7_loss: 62.3415 - val_loss: 58.6987 - val_dense_6_loss: 58.2069 - val_dense_7_loss: 58.8216\n",
      "Epoch 41/50\n",
      "13/13 [==============================] - 0s 1ms/step - loss: 54.6212 - dense_6_loss: 44.8808 - dense_7_loss: 57.0563 - val_loss: 72.1881 - val_dense_6_loss: 47.8077 - val_dense_7_loss: 78.2831\n",
      "Epoch 42/50\n",
      "13/13 [==============================] - 0s 1ms/step - loss: 64.5595 - dense_6_loss: 48.0996 - dense_7_loss: 68.6745 - val_loss: 56.8744 - val_dense_6_loss: 47.8135 - val_dense_7_loss: 59.1396\n",
      "Epoch 43/50\n",
      "13/13 [==============================] - 0s 1ms/step - loss: 55.6064 - dense_6_loss: 44.4625 - dense_7_loss: 58.3924 - val_loss: 55.1654 - val_dense_6_loss: 47.9510 - val_dense_7_loss: 56.9690\n",
      "Epoch 44/50\n",
      "13/13 [==============================] - 0s 1ms/step - loss: 56.8238 - dense_6_loss: 45.5369 - dense_7_loss: 59.6455 - val_loss: 112.2508 - val_dense_6_loss: 72.2922 - val_dense_7_loss: 122.2405\n",
      "Epoch 45/50\n",
      "13/13 [==============================] - 0s 1ms/step - loss: 57.3153 - dense_6_loss: 45.3776 - dense_7_loss: 60.2997 - val_loss: 62.6569 - val_dense_6_loss: 47.1270 - val_dense_7_loss: 66.5393\n",
      "Epoch 46/50\n",
      "13/13 [==============================] - 0s 1ms/step - loss: 58.3201 - dense_6_loss: 45.3819 - dense_7_loss: 61.5546 - val_loss: 55.8078 - val_dense_6_loss: 49.4789 - val_dense_7_loss: 57.3900\n",
      "Epoch 47/50\n",
      "13/13 [==============================] - 0s 1ms/step - loss: 53.5539 - dense_6_loss: 44.5435 - dense_7_loss: 55.8065 - val_loss: 54.7280 - val_dense_6_loss: 45.8716 - val_dense_7_loss: 56.9421\n",
      "Epoch 48/50\n",
      "13/13 [==============================] - 0s 1ms/step - loss: 67.0249 - dense_6_loss: 51.6056 - dense_7_loss: 70.8797 - val_loss: 64.5045 - val_dense_6_loss: 49.7732 - val_dense_7_loss: 68.1874\n",
      "Epoch 49/50\n",
      "13/13 [==============================] - 0s 1ms/step - loss: 55.2977 - dense_6_loss: 43.6068 - dense_7_loss: 58.2204 - val_loss: 85.4861 - val_dense_6_loss: 58.7521 - val_dense_7_loss: 92.1696\n",
      "Epoch 50/50\n",
      "13/13 [==============================] - 0s 1ms/step - loss: 59.4142 - dense_6_loss: 46.0494 - dense_7_loss: 62.7554 - val_loss: 75.1291 - val_dense_6_loss: 55.3550 - val_dense_7_loss: 80.0726\n"
     ]
    }
   ],
   "execution_count": 15
  },
  {
   "metadata": {
    "ExecuteTime": {
     "end_time": "2024-10-07T11:29:30.816041Z",
     "start_time": "2024-10-07T11:29:30.780296Z"
    }
   },
   "cell_type": "code",
   "source": [
    "score = model.evaluate([x_test1, x_test2], [y_test, y_test])\n",
    "print(score) # 전체 손실, 첫 번째 출력 (out1) 레이어의 손실, 두 번째 출력 (out2) 레이어의 손실"
   ],
   "id": "2c9876de15a95c38",
   "outputs": [
    {
     "name": "stdout",
     "output_type": "stream",
     "text": [
      "4/4 [==============================] - 0s 769us/step - loss: 75.1291 - dense_6_loss: 55.3550 - dense_7_loss: 80.0726\n",
      "[75.1290512084961, 55.355010986328125, 80.07255554199219]\n"
     ]
    }
   ],
   "execution_count": 16
  },
  {
   "metadata": {
    "ExecuteTime": {
     "end_time": "2024-10-07T11:31:23.247361Z",
     "start_time": "2024-10-07T11:31:23.242419Z"
    }
   },
   "cell_type": "code",
   "source": [
    "hidden2 = model.layers[1]\n",
    "weights, biases = hidden2.get_weights()\n",
    "print(\"Weights: \", weights)\n",
    "print()\n",
    "print(\"Biases: \", biases)"
   ],
   "id": "fc609b953977e8d0",
   "outputs": [
    {
     "name": "stdout",
     "output_type": "stream",
     "text": [
      "Weights:  [[ 5.04839242e-01 -3.26568127e-01  1.87842622e-01  1.18478358e-01\n",
      "   5.07228553e-01 -6.47590637e-01 -3.95762652e-01 -4.58127968e-02\n",
      "  -2.12944806e-01  1.54377520e-01  9.95028764e-02 -2.46885836e-01\n",
      "   4.88567352e-01 -2.91448057e-01 -5.00487685e-01  2.77286351e-01]\n",
      " [ 1.44280987e-02 -3.31769735e-01  2.92751342e-01  6.14150167e-02\n",
      "  -4.83286753e-03 -3.73171121e-01 -1.64412558e-01 -5.26220985e-02\n",
      "  -3.89446288e-01  2.91135907e-01 -1.54916853e-01 -7.54111558e-02\n",
      "   1.20887011e-01 -3.11118960e-02  1.23469345e-01 -2.85803556e-01]\n",
      " [ 1.51477635e-01 -2.41372555e-01  3.74079794e-02 -1.45832032e-01\n",
      "   4.39738661e-01  1.80271596e-01  2.14500189e-01 -1.53826788e-01\n",
      "  -3.52999866e-02  1.76465169e-01  2.02736616e-01 -1.19933844e-01\n",
      "   3.55620384e-01 -1.51040301e-01 -2.54537970e-01  2.88227201e-02]\n",
      " [-3.60766500e-01  7.22320199e-01  4.78783250e-01  1.68241560e-02\n",
      "  -4.78053391e-01  9.59070861e-01  8.32827091e-02 -4.30176109e-01\n",
      "   2.37504244e-01  1.17952096e+00 -1.22286427e+00 -1.01747179e+00\n",
      "  -1.17702293e+00 -1.10824180e+00  6.56537890e-01 -2.89811194e-01]\n",
      " [-1.68893039e-01 -1.55001357e-01  1.80833116e-01 -3.26407552e-02\n",
      "   2.34676957e-01  7.59079754e-02 -4.54241484e-01 -2.51907200e-01\n",
      "   4.34284806e-02 -1.67803854e-01  2.86178946e-01 -4.14220057e-02\n",
      "   1.58599570e-01 -2.87095100e-01 -1.94680110e-01 -3.58421028e-01]\n",
      " [-7.01373041e-01  7.24304199e-01  8.31715882e-01  2.39677668e-01\n",
      "  -5.54538608e-01  9.06162739e-01 -4.28556800e-02 -6.95210755e-01\n",
      "   1.42918587e-01  5.27086198e-01 -8.75115693e-01 -8.96087170e-01\n",
      "  -4.10143346e-01 -5.61008573e-01  7.64465272e-01 -3.66659701e-01]\n",
      " [-1.86647788e-01 -1.18192464e-01  3.52659412e-02  3.37195396e-02\n",
      "  -1.16034538e-01  3.80824804e-01 -4.72441316e-02 -2.04565063e-01\n",
      "   1.79934323e-01  3.88342857e-01 -1.17769372e-03  2.47112587e-01\n",
      "   1.09362407e-02  4.13325608e-01  1.63994282e-01 -1.53565407e-02]\n",
      " [-4.44626123e-01  3.80221009e-01  2.41316892e-02 -3.02348733e-01\n",
      "  -4.26460713e-01 -4.20395494e-01 -1.70617133e-01 -2.16814980e-01\n",
      "  -2.55162895e-01  1.53789148e-02 -3.12500149e-01 -1.25228822e-01\n",
      "   3.98137122e-02  2.55844623e-01  2.84043044e-01 -2.10293949e-01]\n",
      " [ 3.14219713e-01 -1.31828561e-01 -6.98859915e-02  4.26828563e-01\n",
      "  -2.38162000e-03  8.06662962e-02  4.30625081e-02 -1.52426645e-01\n",
      "   4.09632921e-02  4.10662144e-01  3.83623503e-02  6.65551797e-02\n",
      "  -1.57890961e-01  7.74283707e-02 -2.44410113e-01 -2.34410286e-01]\n",
      " [ 3.00343663e-01  3.49088222e-01  1.31191522e-01 -4.66380447e-01\n",
      "   2.36124918e-01  4.35161859e-01 -1.80059522e-01  3.32982630e-01\n",
      "  -1.24724150e-01  2.38704875e-01  2.92604983e-01  1.35321349e-01\n",
      "   4.49712515e-01  7.37318546e-02 -6.62718294e-03 -3.40126038e-01]]\n",
      "\n",
      "Biases:  [-0.2948245   0.28157216  0.26634368  0.         -0.26404682  0.27737623\n",
      "  0.         -0.26652783  0.          0.27907518 -0.28748497 -0.27872884\n",
      " -0.2376355  -0.27901506  0.3234723   0.        ]\n"
     ]
    }
   ],
   "execution_count": 18
  },
  {
   "metadata": {},
   "cell_type": "code",
   "outputs": [],
   "execution_count": null,
   "source": "",
   "id": "f1d1241101a070ea"
  }
 ],
 "metadata": {
  "kernelspec": {
   "display_name": "Python 3",
   "language": "python",
   "name": "python3"
  },
  "language_info": {
   "codemirror_mode": {
    "name": "ipython",
    "version": 2
   },
   "file_extension": ".py",
   "mimetype": "text/x-python",
   "name": "python",
   "nbconvert_exporter": "python",
   "pygments_lexer": "ipython2",
   "version": "2.7.6"
  }
 },
 "nbformat": 4,
 "nbformat_minor": 5
}
