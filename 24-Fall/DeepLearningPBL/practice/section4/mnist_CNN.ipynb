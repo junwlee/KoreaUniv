{
 "cells": [
  {
   "cell_type": "code",
   "id": "initial_id",
   "metadata": {
    "collapsed": true,
    "ExecuteTime": {
     "end_time": "2024-09-30T05:45:43.174694Z",
     "start_time": "2024-09-30T05:45:42.199705Z"
    }
   },
   "source": [
    "from keras.datasets import mnist\n",
    "from keras.models import Sequential\n",
    "from keras.layers import Dense, Dropout, Activation, Conv2D, MaxPooling2D, Flatten\n",
    "from keras.utils import to_categorical"
   ],
   "outputs": [],
   "execution_count": 1
  },
  {
   "metadata": {
    "ExecuteTime": {
     "end_time": "2024-09-30T05:48:05.949289Z",
     "start_time": "2024-09-30T05:48:05.825055Z"
    }
   },
   "cell_type": "code",
   "source": [
    "import numpy as np\n",
    "\n",
    "(x_train, y_train), (x_test, y_test) = mnist.load_data()\n",
    "\n",
    "num_labels = len(np.unique(y_train))\n",
    "y_train = to_categorical(y_train)\n",
    "y_test = to_categorical(y_test)\n",
    "\n",
    "print(x_train.shape)"
   ],
   "id": "1b7541250da607cb",
   "outputs": [
    {
     "name": "stdout",
     "output_type": "stream",
     "text": [
      "(60000, 28, 28)\n"
     ]
    }
   ],
   "execution_count": 2
  },
  {
   "metadata": {
    "ExecuteTime": {
     "end_time": "2024-09-30T05:49:44.107461Z",
     "start_time": "2024-09-30T05:49:44.059007Z"
    }
   },
   "cell_type": "code",
   "source": [
    "shape1 = x_train.shape[1]\n",
    "shape2 = x_train.shape[2]\n",
    "\n",
    "x_train = x_train.reshape(-1, shape1, shape2, 1).astype('float32')\n",
    "x_test = x_test.reshape(-1, shape1, shape2, 1).astype('float32')\n",
    "\n",
    "x_train = x_train / 255.\n",
    "x_test = x_test / 255."
   ],
   "id": "139c9a11edeb0a21",
   "outputs": [],
   "execution_count": 3
  },
  {
   "metadata": {
    "ExecuteTime": {
     "end_time": "2024-09-30T05:55:18.391431Z",
     "start_time": "2024-09-30T05:55:18.359106Z"
    }
   },
   "cell_type": "code",
   "source": [
    "batch_size = 64\n",
    "kernel_size = 3\n",
    "pool_size = 2\n",
    "filters = 64\n",
    "dropout_rate = 0.3\n",
    "\n",
    "model = Sequential()\n",
    "model.add(\n",
    "    Conv2D(filters=filters, kernel_size=kernel_size, activation='relu', input_shape=input_shape)\n",
    ")\n",
    "model.add(MaxPooling2D(pool_size=pool_size))\n",
    "model.add(\n",
    "    Conv2D(filters=filters, kernel_size=kernel_size, activation='relu')\n",
    ")\n",
    "model.add(MaxPooling2D(pool_size=pool_size))\n",
    "model.add(\n",
    "    Conv2D(filters=filters, kernel_size=kernel_size, activation='relu')\n",
    ")\n",
    "model.add(Flatten())\n",
    "model.add(Dropout(dropout_rate))\n",
    "model.add(Dense(units=num_labels, activation='softmax'))\n",
    "model.summary()"
   ],
   "id": "2e02f21e5e6d944d",
   "outputs": [
    {
     "name": "stdout",
     "output_type": "stream",
     "text": [
      "Model: \"sequential_1\"\n",
      "_________________________________________________________________\n",
      " Layer (type)                Output Shape              Param #   \n",
      "=================================================================\n",
      " conv2d_2 (Conv2D)           (None, 26, 26, 64)        640       \n",
      "                                                                 \n",
      " max_pooling2d_2 (MaxPooling  (None, 13, 13, 64)       0         \n",
      " 2D)                                                             \n",
      "                                                                 \n",
      " conv2d_3 (Conv2D)           (None, 11, 11, 64)        36928     \n",
      "                                                                 \n",
      " max_pooling2d_3 (MaxPooling  (None, 5, 5, 64)         0         \n",
      " 2D)                                                             \n",
      "                                                                 \n",
      " conv2d_4 (Conv2D)           (None, 3, 3, 64)          36928     \n",
      "                                                                 \n",
      " flatten_1 (Flatten)         (None, 576)               0         \n",
      "                                                                 \n",
      " dropout_1 (Dropout)         (None, 576)               0         \n",
      "                                                                 \n",
      " dense_1 (Dense)             (None, 10)                5770      \n",
      "                                                                 \n",
      "=================================================================\n",
      "Total params: 80,266\n",
      "Trainable params: 80,266\n",
      "Non-trainable params: 0\n",
      "_________________________________________________________________\n"
     ]
    }
   ],
   "execution_count": 5
  },
  {
   "metadata": {
    "ExecuteTime": {
     "end_time": "2024-09-30T06:01:44.599100Z",
     "start_time": "2024-09-30T05:56:55.845127Z"
    }
   },
   "cell_type": "code",
   "source": [
    "model.compile(loss='categorical_crossentropy', optimizer='adam', metrics=['accuracy'])\n",
    "model.fit(x_train, y_train, batch_size=batch_size, epochs=30)\n",
    "results = model.evaluate(x_test, y_test)\n",
    "print(results)"
   ],
   "id": "5a1d17681e8e4efe",
   "outputs": [
    {
     "name": "stdout",
     "output_type": "stream",
     "text": [
      "Epoch 1/30\n",
      "  1/938 [..............................] - ETA: 2:51 - loss: 2.3016 - accuracy: 0.0938"
     ]
    },
    {
     "name": "stderr",
     "output_type": "stream",
     "text": [
      "2024-09-30 14:56:55.868124: W tensorflow/tsl/platform/profile_utils/cpu_utils.cc:128] Failed to get CPU frequency: 0 Hz\n"
     ]
    },
    {
     "name": "stdout",
     "output_type": "stream",
     "text": [
      "938/938 [==============================] - 7s 7ms/step - loss: 0.2105 - accuracy: 0.9347\n",
      "Epoch 2/30\n",
      "938/938 [==============================] - 7s 8ms/step - loss: 0.0648 - accuracy: 0.9799\n",
      "Epoch 3/30\n",
      "938/938 [==============================] - 8s 8ms/step - loss: 0.0462 - accuracy: 0.9859\n",
      "Epoch 4/30\n",
      "938/938 [==============================] - 8s 9ms/step - loss: 0.0380 - accuracy: 0.9883\n",
      "Epoch 5/30\n",
      "938/938 [==============================] - 9s 9ms/step - loss: 0.0320 - accuracy: 0.9904\n",
      "Epoch 6/30\n",
      "938/938 [==============================] - 9s 10ms/step - loss: 0.0282 - accuracy: 0.9912\n",
      "Epoch 7/30\n",
      "938/938 [==============================] - 9s 10ms/step - loss: 0.0241 - accuracy: 0.9922\n",
      "Epoch 8/30\n",
      "938/938 [==============================] - 9s 10ms/step - loss: 0.0201 - accuracy: 0.9933\n",
      "Epoch 9/30\n",
      "938/938 [==============================] - 10s 10ms/step - loss: 0.0190 - accuracy: 0.9936\n",
      "Epoch 10/30\n",
      "938/938 [==============================] - 10s 11ms/step - loss: 0.0159 - accuracy: 0.9948\n",
      "Epoch 11/30\n",
      "938/938 [==============================] - 10s 11ms/step - loss: 0.0142 - accuracy: 0.9953\n",
      "Epoch 12/30\n",
      "938/938 [==============================] - 10s 11ms/step - loss: 0.0148 - accuracy: 0.9950\n",
      "Epoch 13/30\n",
      "938/938 [==============================] - 10s 11ms/step - loss: 0.0116 - accuracy: 0.9963\n",
      "Epoch 14/30\n",
      "938/938 [==============================] - 10s 11ms/step - loss: 0.0122 - accuracy: 0.9959\n",
      "Epoch 15/30\n",
      "938/938 [==============================] - 10s 11ms/step - loss: 0.0100 - accuracy: 0.9965\n",
      "Epoch 16/30\n",
      "938/938 [==============================] - 11s 11ms/step - loss: 0.0106 - accuracy: 0.9963\n",
      "Epoch 17/30\n",
      "938/938 [==============================] - 10s 11ms/step - loss: 0.0096 - accuracy: 0.9968\n",
      "Epoch 18/30\n",
      "938/938 [==============================] - 11s 11ms/step - loss: 0.0090 - accuracy: 0.9969\n",
      "Epoch 19/30\n",
      "938/938 [==============================] - 10s 11ms/step - loss: 0.0083 - accuracy: 0.9970\n",
      "Epoch 20/30\n",
      "938/938 [==============================] - 10s 10ms/step - loss: 0.0084 - accuracy: 0.9970\n",
      "Epoch 21/30\n",
      "938/938 [==============================] - 10s 10ms/step - loss: 0.0072 - accuracy: 0.9976\n",
      "Epoch 22/30\n",
      "938/938 [==============================] - 10s 10ms/step - loss: 0.0082 - accuracy: 0.9973\n",
      "Epoch 23/30\n",
      "938/938 [==============================] - 10s 10ms/step - loss: 0.0063 - accuracy: 0.9977\n",
      "Epoch 24/30\n",
      "938/938 [==============================] - 10s 10ms/step - loss: 0.0066 - accuracy: 0.9976\n",
      "Epoch 25/30\n",
      "938/938 [==============================] - 10s 11ms/step - loss: 0.0064 - accuracy: 0.9978\n",
      "Epoch 26/30\n",
      "938/938 [==============================] - 10s 11ms/step - loss: 0.0056 - accuracy: 0.9981\n",
      "Epoch 27/30\n",
      "938/938 [==============================] - 10s 11ms/step - loss: 0.0048 - accuracy: 0.9984\n",
      "Epoch 28/30\n",
      "938/938 [==============================] - 10s 11ms/step - loss: 0.0075 - accuracy: 0.9975\n",
      "Epoch 29/30\n",
      "938/938 [==============================] - 10s 10ms/step - loss: 0.0050 - accuracy: 0.9982\n",
      "Epoch 30/30\n",
      "938/938 [==============================] - 10s 10ms/step - loss: 0.0057 - accuracy: 0.9980\n",
      "313/313 [==============================] - 1s 4ms/step - loss: 0.0371 - accuracy: 0.9927\n",
      "[0.037050481885671616, 0.9926999807357788]\n"
     ]
    }
   ],
   "execution_count": 6
  },
  {
   "metadata": {},
   "cell_type": "markdown",
   "source": "## Functional API",
   "id": "5b108857ac52e997"
  },
  {
   "metadata": {
    "ExecuteTime": {
     "end_time": "2024-09-30T06:15:48.403231Z",
     "start_time": "2024-09-30T06:15:48.364480Z"
    }
   },
   "cell_type": "code",
   "source": [
    "from keras.layers import Input, Dense, Dropout\n",
    "from keras.models import Model\n",
    "\n",
    "input_shape = (shape1, shape2, 1)\n",
    "x = Input(shape=input_shape)\n",
    "h1 = Conv2D(\n",
    "    filters=filters, kernel_size=kernel_size, activation='relu'\n",
    ")(x)\n",
    "h1 = MaxPooling2D()(h1)\n",
    "h2 = Conv2D(\n",
    "    filters=filters, kernel_size=kernel_size, activation='relu'\n",
    ")(h1)\n",
    "h2 = MaxPooling2D()(h2)\n",
    "h3 = Conv2D(\n",
    "    filters=filters, kernel_size=kernel_size, activation='relu'\n",
    ")(h2)\n",
    "h4 = Flatten()(h3)\n",
    "h4 = Dropout(dropout_rate)(h4)\n",
    "out = Dense(units=num_labels, activation='softmax')(h4)\n",
    "model = Model(inputs=x, outputs=out)\n",
    "model.summary()"
   ],
   "id": "a2a9ab87591a0ecd",
   "outputs": [
    {
     "name": "stdout",
     "output_type": "stream",
     "text": [
      "Model: \"model\"\n",
      "_________________________________________________________________\n",
      " Layer (type)                Output Shape              Param #   \n",
      "=================================================================\n",
      " input_1 (InputLayer)        [(None, 28, 28, 1)]       0         \n",
      "                                                                 \n",
      " conv2d_5 (Conv2D)           (None, 26, 26, 64)        640       \n",
      "                                                                 \n",
      " max_pooling2d_4 (MaxPooling  (None, 13, 13, 64)       0         \n",
      " 2D)                                                             \n",
      "                                                                 \n",
      " conv2d_6 (Conv2D)           (None, 11, 11, 64)        36928     \n",
      "                                                                 \n",
      " max_pooling2d_5 (MaxPooling  (None, 5, 5, 64)         0         \n",
      " 2D)                                                             \n",
      "                                                                 \n",
      " conv2d_7 (Conv2D)           (None, 3, 3, 64)          36928     \n",
      "                                                                 \n",
      " flatten_2 (Flatten)         (None, 576)               0         \n",
      "                                                                 \n",
      " dropout_2 (Dropout)         (None, 576)               0         \n",
      "                                                                 \n",
      " dense_2 (Dense)             (None, 10)                5770      \n",
      "                                                                 \n",
      "=================================================================\n",
      "Total params: 80,266\n",
      "Trainable params: 80,266\n",
      "Non-trainable params: 0\n",
      "_________________________________________________________________\n"
     ]
    }
   ],
   "execution_count": 7
  }
 ],
 "metadata": {
  "kernelspec": {
   "display_name": "Python 3",
   "language": "python",
   "name": "python3"
  },
  "language_info": {
   "codemirror_mode": {
    "name": "ipython",
    "version": 2
   },
   "file_extension": ".py",
   "mimetype": "text/x-python",
   "name": "python",
   "nbconvert_exporter": "python",
   "pygments_lexer": "ipython2",
   "version": "2.7.6"
  }
 },
 "nbformat": 4,
 "nbformat_minor": 5
}
