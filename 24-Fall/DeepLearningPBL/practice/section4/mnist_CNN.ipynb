{
 "cells": [
  {
   "cell_type": "code",
   "id": "initial_id",
   "metadata": {
    "collapsed": true,
    "ExecuteTime": {
     "end_time": "2024-09-30T10:07:41.184283Z",
     "start_time": "2024-09-30T10:07:32.168835Z"
    }
   },
   "source": [
    "from keras.datasets import mnist\n",
    "from keras.models import Sequential\n",
    "from keras.layers import Dense, Dropout, Activation, Conv2D, MaxPooling2D, Flatten\n",
    "from keras.utils import to_categorical"
   ],
   "outputs": [],
   "execution_count": 1
  },
  {
   "metadata": {
    "ExecuteTime": {
     "end_time": "2024-09-30T10:07:41.293773Z",
     "start_time": "2024-09-30T10:07:41.185145Z"
    }
   },
   "cell_type": "code",
   "source": [
    "import numpy as np\n",
    "\n",
    "(x_train, y_train), (x_test, y_test) = mnist.load_data()\n",
    "\n",
    "num_labels = len(np.unique(y_train))\n",
    "y_train = to_categorical(y_train)\n",
    "y_test = to_categorical(y_test)\n",
    "\n",
    "print(x_train.shape)"
   ],
   "id": "1b7541250da607cb",
   "outputs": [
    {
     "name": "stdout",
     "output_type": "stream",
     "text": [
      "(60000, 28, 28)\n"
     ]
    }
   ],
   "execution_count": 2
  },
  {
   "metadata": {
    "ExecuteTime": {
     "end_time": "2024-09-30T10:07:41.323140Z",
     "start_time": "2024-09-30T10:07:41.294280Z"
    }
   },
   "cell_type": "code",
   "source": [
    "shape1 = x_train.shape[1]\n",
    "shape2 = x_train.shape[2]\n",
    "\n",
    "x_train = x_train.reshape(-1, shape1, shape2, 1).astype('float32')\n",
    "x_test = x_test.reshape(-1, shape1, shape2, 1).astype('float32')\n",
    "\n",
    "x_train = x_train / 255.\n",
    "x_test = x_test / 255."
   ],
   "id": "139c9a11edeb0a21",
   "outputs": [],
   "execution_count": 3
  },
  {
   "metadata": {
    "ExecuteTime": {
     "end_time": "2024-09-30T10:08:22.595679Z",
     "start_time": "2024-09-30T10:08:22.554613Z"
    }
   },
   "cell_type": "code",
   "source": [
    "batch_size = 64\n",
    "kernel_size = 3\n",
    "pool_size = 2\n",
    "filters = 64\n",
    "dropout_rate = 0.3\n",
    "input_shape = (shape1, shape2, 1)\n",
    "\n",
    "model = Sequential()\n",
    "model.add(\n",
    "    Conv2D(filters=filters, kernel_size=kernel_size, activation='relu', input_shape=input_shape)\n",
    ")\n",
    "model.add(MaxPooling2D(pool_size=pool_size))\n",
    "model.add(\n",
    "    Conv2D(filters=filters, kernel_size=kernel_size, activation='relu')\n",
    ")\n",
    "model.add(MaxPooling2D(pool_size=pool_size))\n",
    "model.add(\n",
    "    Conv2D(filters=filters, kernel_size=kernel_size, activation='relu')\n",
    ")\n",
    "model.add(Flatten())\n",
    "model.add(Dropout(dropout_rate))\n",
    "model.add(Dense(units=num_labels, activation='softmax'))\n",
    "model.summary()"
   ],
   "id": "2e02f21e5e6d944d",
   "outputs": [
    {
     "name": "stdout",
     "output_type": "stream",
     "text": [
      "Model: \"sequential_1\"\n",
      "_________________________________________________________________\n",
      " Layer (type)                Output Shape              Param #   \n",
      "=================================================================\n",
      " conv2d (Conv2D)             (None, 26, 26, 64)        640       \n",
      "                                                                 \n",
      " max_pooling2d (MaxPooling2D  (None, 13, 13, 64)       0         \n",
      " )                                                               \n",
      "                                                                 \n",
      " conv2d_1 (Conv2D)           (None, 11, 11, 64)        36928     \n",
      "                                                                 \n",
      " max_pooling2d_1 (MaxPooling  (None, 5, 5, 64)         0         \n",
      " 2D)                                                             \n",
      "                                                                 \n",
      " conv2d_2 (Conv2D)           (None, 3, 3, 64)          36928     \n",
      "                                                                 \n",
      " flatten (Flatten)           (None, 576)               0         \n",
      "                                                                 \n",
      " dropout (Dropout)           (None, 576)               0         \n",
      "                                                                 \n",
      " dense (Dense)               (None, 10)                5770      \n",
      "                                                                 \n",
      "=================================================================\n",
      "Total params: 80,266\n",
      "Trainable params: 80,266\n",
      "Non-trainable params: 0\n",
      "_________________________________________________________________\n"
     ]
    }
   ],
   "execution_count": 5
  },
  {
   "metadata": {
    "ExecuteTime": {
     "end_time": "2024-09-30T10:13:02.569697Z",
     "start_time": "2024-09-30T10:08:26.820889Z"
    }
   },
   "cell_type": "code",
   "source": [
    "model.compile(loss='categorical_crossentropy', optimizer='adam', metrics=['accuracy'])\n",
    "model.fit(x_train, y_train, batch_size=batch_size, epochs=30)\n",
    "results = model.evaluate(x_test, y_test)\n",
    "print(results)"
   ],
   "id": "5a1d17681e8e4efe",
   "outputs": [
    {
     "name": "stdout",
     "output_type": "stream",
     "text": [
      "Epoch 1/30\n",
      "  1/938 [..............................] - ETA: 2:17 - loss: 2.2965 - accuracy: 0.1094"
     ]
    },
    {
     "name": "stderr",
     "output_type": "stream",
     "text": [
      "2024-09-30 19:08:26.851138: W tensorflow/tsl/platform/profile_utils/cpu_utils.cc:128] Failed to get CPU frequency: 0 Hz\n"
     ]
    },
    {
     "name": "stdout",
     "output_type": "stream",
     "text": [
      "938/938 [==============================] - 7s 7ms/step - loss: 0.2082 - accuracy: 0.9365\n",
      "Epoch 2/30\n",
      "938/938 [==============================] - 7s 7ms/step - loss: 0.0618 - accuracy: 0.9805\n",
      "Epoch 3/30\n",
      "938/938 [==============================] - 8s 8ms/step - loss: 0.0447 - accuracy: 0.9857\n",
      "Epoch 4/30\n",
      "938/938 [==============================] - 8s 9ms/step - loss: 0.0380 - accuracy: 0.9878\n",
      "Epoch 5/30\n",
      "938/938 [==============================] - 8s 9ms/step - loss: 0.0307 - accuracy: 0.9904\n",
      "Epoch 6/30\n",
      "938/938 [==============================] - 8s 9ms/step - loss: 0.0263 - accuracy: 0.9915\n",
      "Epoch 7/30\n",
      "938/938 [==============================] - 9s 9ms/step - loss: 0.0227 - accuracy: 0.9923\n",
      "Epoch 8/30\n",
      "938/938 [==============================] - 9s 9ms/step - loss: 0.0205 - accuracy: 0.9935\n",
      "Epoch 9/30\n",
      "938/938 [==============================] - 9s 10ms/step - loss: 0.0172 - accuracy: 0.9944\n",
      "Epoch 10/30\n",
      "938/938 [==============================] - 9s 10ms/step - loss: 0.0162 - accuracy: 0.9945\n",
      "Epoch 11/30\n",
      "938/938 [==============================] - 9s 10ms/step - loss: 0.0139 - accuracy: 0.9955\n",
      "Epoch 12/30\n",
      "938/938 [==============================] - 10s 10ms/step - loss: 0.0140 - accuracy: 0.9951\n",
      "Epoch 13/30\n",
      "938/938 [==============================] - 10s 10ms/step - loss: 0.0126 - accuracy: 0.9955\n",
      "Epoch 14/30\n",
      "938/938 [==============================] - 10s 10ms/step - loss: 0.0107 - accuracy: 0.9962\n",
      "Epoch 15/30\n",
      "938/938 [==============================] - 10s 10ms/step - loss: 0.0091 - accuracy: 0.9967\n",
      "Epoch 16/30\n",
      "938/938 [==============================] - 10s 10ms/step - loss: 0.0093 - accuracy: 0.9967\n",
      "Epoch 17/30\n",
      "938/938 [==============================] - 10s 10ms/step - loss: 0.0098 - accuracy: 0.9966\n",
      "Epoch 18/30\n",
      "938/938 [==============================] - 10s 10ms/step - loss: 0.0085 - accuracy: 0.9970\n",
      "Epoch 19/30\n",
      "938/938 [==============================] - 10s 10ms/step - loss: 0.0077 - accuracy: 0.9974\n",
      "Epoch 20/30\n",
      "938/938 [==============================] - 10s 10ms/step - loss: 0.0076 - accuracy: 0.9973\n",
      "Epoch 21/30\n",
      "938/938 [==============================] - 10s 10ms/step - loss: 0.0082 - accuracy: 0.9971\n",
      "Epoch 22/30\n",
      "938/938 [==============================] - 10s 10ms/step - loss: 0.0076 - accuracy: 0.9973\n",
      "Epoch 23/30\n",
      "938/938 [==============================] - 10s 10ms/step - loss: 0.0063 - accuracy: 0.9980\n",
      "Epoch 24/30\n",
      "938/938 [==============================] - 9s 10ms/step - loss: 0.0063 - accuracy: 0.9978\n",
      "Epoch 25/30\n",
      "938/938 [==============================] - 10s 10ms/step - loss: 0.0062 - accuracy: 0.9977\n",
      "Epoch 26/30\n",
      "938/938 [==============================] - 10s 10ms/step - loss: 0.0062 - accuracy: 0.9980\n",
      "Epoch 27/30\n",
      "938/938 [==============================] - 10s 10ms/step - loss: 0.0058 - accuracy: 0.9981\n",
      "Epoch 28/30\n",
      "938/938 [==============================] - 10s 10ms/step - loss: 0.0057 - accuracy: 0.9981\n",
      "Epoch 29/30\n",
      "938/938 [==============================] - 10s 10ms/step - loss: 0.0056 - accuracy: 0.9980\n",
      "Epoch 30/30\n",
      "938/938 [==============================] - 10s 10ms/step - loss: 0.0046 - accuracy: 0.9985\n",
      "313/313 [==============================] - 1s 4ms/step - loss: 0.0257 - accuracy: 0.9949\n",
      "[0.02569979801774025, 0.9948999881744385]\n"
     ]
    }
   ],
   "execution_count": 6
  },
  {
   "metadata": {},
   "cell_type": "markdown",
   "source": "## Functional API",
   "id": "5b108857ac52e997"
  },
  {
   "metadata": {
    "ExecuteTime": {
     "end_time": "2024-09-30T10:13:08.381858Z",
     "start_time": "2024-09-30T10:13:08.353339Z"
    }
   },
   "cell_type": "code",
   "source": [
    "from keras.layers import Input, Dense, Dropout\n",
    "from keras.models import Model\n",
    "\n",
    "# input_shape = (shape1, shape2, 1)\n",
    "x = Input(shape=input_shape)\n",
    "h1 = Conv2D(\n",
    "    filters=filters, kernel_size=kernel_size, activation='relu'\n",
    ")(x)\n",
    "h1 = MaxPooling2D()(h1)\n",
    "h2 = Conv2D(\n",
    "    filters=filters, kernel_size=kernel_size, activation='relu'\n",
    ")(h1)\n",
    "h2 = MaxPooling2D()(h2)\n",
    "h3 = Conv2D(\n",
    "    filters=filters, kernel_size=kernel_size, activation='relu'\n",
    ")(h2)\n",
    "h4 = Flatten()(h3)\n",
    "h4 = Dropout(dropout_rate)(h4)\n",
    "out = Dense(units=num_labels, activation='softmax')(h4)\n",
    "model = Model(inputs=x, outputs=out)\n",
    "model.summary()"
   ],
   "id": "a2a9ab87591a0ecd",
   "outputs": [
    {
     "name": "stdout",
     "output_type": "stream",
     "text": [
      "Model: \"model\"\n",
      "_________________________________________________________________\n",
      " Layer (type)                Output Shape              Param #   \n",
      "=================================================================\n",
      " input_1 (InputLayer)        [(None, 28, 28, 1)]       0         \n",
      "                                                                 \n",
      " conv2d_3 (Conv2D)           (None, 26, 26, 64)        640       \n",
      "                                                                 \n",
      " max_pooling2d_2 (MaxPooling  (None, 13, 13, 64)       0         \n",
      " 2D)                                                             \n",
      "                                                                 \n",
      " conv2d_4 (Conv2D)           (None, 11, 11, 64)        36928     \n",
      "                                                                 \n",
      " max_pooling2d_3 (MaxPooling  (None, 5, 5, 64)         0         \n",
      " 2D)                                                             \n",
      "                                                                 \n",
      " conv2d_5 (Conv2D)           (None, 3, 3, 64)          36928     \n",
      "                                                                 \n",
      " flatten_1 (Flatten)         (None, 576)               0         \n",
      "                                                                 \n",
      " dropout_1 (Dropout)         (None, 576)               0         \n",
      "                                                                 \n",
      " dense_1 (Dense)             (None, 10)                5770      \n",
      "                                                                 \n",
      "=================================================================\n",
      "Total params: 80,266\n",
      "Trainable params: 80,266\n",
      "Non-trainable params: 0\n",
      "_________________________________________________________________\n"
     ]
    }
   ],
   "execution_count": 7
  },
  {
   "metadata": {
    "ExecuteTime": {
     "end_time": "2024-09-30T10:17:54.457029Z",
     "start_time": "2024-09-30T10:13:10.348205Z"
    }
   },
   "cell_type": "code",
   "source": [
    "model.compile(loss='categorical_crossentropy', optimizer='adam', metrics=['accuracy'])\n",
    "model.fit(x_train, y_train, batch_size=batch_size, epochs=30)"
   ],
   "id": "bbaa8ca0dade6db6",
   "outputs": [
    {
     "name": "stdout",
     "output_type": "stream",
     "text": [
      "Epoch 1/30\n",
      "938/938 [==============================] - 10s 10ms/step - loss: 0.2020 - accuracy: 0.9377\n",
      "Epoch 2/30\n",
      "938/938 [==============================] - 9s 10ms/step - loss: 0.0606 - accuracy: 0.9816\n",
      "Epoch 3/30\n",
      "938/938 [==============================] - 9s 10ms/step - loss: 0.0445 - accuracy: 0.9856\n",
      "Epoch 4/30\n",
      "938/938 [==============================] - 9s 10ms/step - loss: 0.0354 - accuracy: 0.9889\n",
      "Epoch 5/30\n",
      "938/938 [==============================] - 9s 10ms/step - loss: 0.0306 - accuracy: 0.9899\n",
      "Epoch 6/30\n",
      "938/938 [==============================] - 9s 10ms/step - loss: 0.0265 - accuracy: 0.9916\n",
      "Epoch 7/30\n",
      "938/938 [==============================] - 9s 10ms/step - loss: 0.0228 - accuracy: 0.9927\n",
      "Epoch 8/30\n",
      "938/938 [==============================] - 9s 10ms/step - loss: 0.0198 - accuracy: 0.9938\n",
      "Epoch 9/30\n",
      "938/938 [==============================] - 9s 10ms/step - loss: 0.0171 - accuracy: 0.9945\n",
      "Epoch 10/30\n",
      "938/938 [==============================] - 10s 10ms/step - loss: 0.0164 - accuracy: 0.9947\n",
      "Epoch 11/30\n",
      "938/938 [==============================] - 10s 10ms/step - loss: 0.0137 - accuracy: 0.9951\n",
      "Epoch 12/30\n",
      "938/938 [==============================] - 10s 10ms/step - loss: 0.0143 - accuracy: 0.9952\n",
      "Epoch 13/30\n",
      "938/938 [==============================] - 10s 10ms/step - loss: 0.0124 - accuracy: 0.9958\n",
      "Epoch 14/30\n",
      "938/938 [==============================] - 10s 10ms/step - loss: 0.0119 - accuracy: 0.9959\n",
      "Epoch 15/30\n",
      "938/938 [==============================] - 10s 10ms/step - loss: 0.0100 - accuracy: 0.9966\n",
      "Epoch 16/30\n",
      "938/938 [==============================] - 9s 10ms/step - loss: 0.0091 - accuracy: 0.9967\n",
      "Epoch 17/30\n",
      "938/938 [==============================] - 9s 10ms/step - loss: 0.0100 - accuracy: 0.9967\n",
      "Epoch 18/30\n",
      "938/938 [==============================] - 10s 10ms/step - loss: 0.0079 - accuracy: 0.9971\n",
      "Epoch 19/30\n",
      "938/938 [==============================] - 10s 10ms/step - loss: 0.0075 - accuracy: 0.9975\n",
      "Epoch 20/30\n",
      "938/938 [==============================] - 10s 10ms/step - loss: 0.0082 - accuracy: 0.9973\n",
      "Epoch 21/30\n",
      "938/938 [==============================] - 10s 10ms/step - loss: 0.0063 - accuracy: 0.9980\n",
      "Epoch 22/30\n",
      "938/938 [==============================] - 10s 10ms/step - loss: 0.0072 - accuracy: 0.9976\n",
      "Epoch 23/30\n",
      "938/938 [==============================] - 10s 10ms/step - loss: 0.0068 - accuracy: 0.9975\n",
      "Epoch 24/30\n",
      "938/938 [==============================] - 10s 10ms/step - loss: 0.0056 - accuracy: 0.9981\n",
      "Epoch 25/30\n",
      "938/938 [==============================] - 10s 10ms/step - loss: 0.0057 - accuracy: 0.9980\n",
      "Epoch 26/30\n",
      "938/938 [==============================] - 9s 10ms/step - loss: 0.0067 - accuracy: 0.9980\n",
      "Epoch 27/30\n",
      "938/938 [==============================] - 9s 10ms/step - loss: 0.0067 - accuracy: 0.9978\n",
      "Epoch 28/30\n",
      "938/938 [==============================] - 9s 10ms/step - loss: 0.0055 - accuracy: 0.9980\n",
      "Epoch 29/30\n",
      "938/938 [==============================] - 9s 10ms/step - loss: 0.0067 - accuracy: 0.9978\n",
      "Epoch 30/30\n",
      "938/938 [==============================] - 9s 10ms/step - loss: 0.0050 - accuracy: 0.9984\n"
     ]
    },
    {
     "data": {
      "text/plain": [
       "<keras.callbacks.History at 0x382035350>"
      ]
     },
     "execution_count": 8,
     "metadata": {},
     "output_type": "execute_result"
    }
   ],
   "execution_count": 8
  },
  {
   "metadata": {
    "ExecuteTime": {
     "end_time": "2024-09-30T10:18:10.063371Z",
     "start_time": "2024-09-30T10:18:08.922662Z"
    }
   },
   "cell_type": "code",
   "source": [
    "results = model.evaluate(x_test, y_test)\n",
    "print(results)"
   ],
   "id": "378541148ebc6c0",
   "outputs": [
    {
     "name": "stdout",
     "output_type": "stream",
     "text": [
      "313/313 [==============================] - 1s 3ms/step - loss: 0.0340 - accuracy: 0.9924\n",
      "[0.03400250896811485, 0.9923999905586243]\n"
     ]
    }
   ],
   "execution_count": 9
  }
 ],
 "metadata": {
  "kernelspec": {
   "display_name": "Python 3",
   "language": "python",
   "name": "python3"
  },
  "language_info": {
   "codemirror_mode": {
    "name": "ipython",
    "version": 2
   },
   "file_extension": ".py",
   "mimetype": "text/x-python",
   "name": "python",
   "nbconvert_exporter": "python",
   "pygments_lexer": "ipython2",
   "version": "2.7.6"
  }
 },
 "nbformat": 4,
 "nbformat_minor": 5
}
