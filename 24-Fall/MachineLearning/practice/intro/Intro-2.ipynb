{
 "cells": [
  {
   "cell_type": "code",
   "execution_count": 1,
   "metadata": {
    "slideshow": {
     "slide_type": "slide"
    }
   },
   "outputs": [],
   "source": [
    "# Introduction to Python -2\n",
    "# Jai Woo Lee, 2022-09-20 \n"
   ]
  },
  {
   "cell_type": "code",
   "execution_count": 2,
   "metadata": {
    "slideshow": {
     "slide_type": "-"
    }
   },
   "outputs": [
    {
     "name": "stdout",
     "output_type": "stream",
     "text": [
      "We can fight!\n"
     ]
    }
   ],
   "source": [
    "# Decision Making, \n",
    "# the if expression\n",
    "zombies = 10\n",
    "humans = 140\n",
    "\n",
    "if (humans > zombies):\n",
    "    print (\"We can fight!\")"
   ]
  },
  {
   "cell_type": "code",
   "execution_count": 3,
   "metadata": {
    "slideshow": {
     "slide_type": "-"
    }
   },
   "outputs": [
    {
     "name": "stdout",
     "output_type": "stream",
     "text": [
      "How fast can you run?\n"
     ]
    }
   ],
   "source": [
    "# the if-else expression\n",
    "zombies = 100\n",
    "humans = 50\n",
    "\n",
    "if humans > zombies:\n",
    "    print(\"We can fight!\")\n",
    "else:\n",
    "    print (\"How fast can you run?\")"
   ]
  },
  {
   "cell_type": "code",
   "execution_count": 6,
   "metadata": {
    "slideshow": {
     "slide_type": "-"
    }
   },
   "outputs": [
    {
     "name": "stdout",
     "output_type": "stream",
     "text": [
      "...?\n"
     ]
    }
   ],
   "source": [
    "# if-elif-else expression\n",
    "zombies = 140\n",
    "humans = 9\n",
    "nuclear_bomb = 1\n",
    "\n",
    "if zombies < humans:\n",
    "    print (\"We can fight!\")\n",
    "elif nuclear_bomb > 0:\n",
    "    print (\"...?\")\n",
    "else:\n",
    "    print (\"How fast can you run?\")"
   ]
  },
  {
   "cell_type": "code",
   "execution_count": 8,
   "metadata": {
    "slideshow": {
     "slide_type": "-"
    }
   },
   "outputs": [
    {
     "name": "stdout",
     "output_type": "stream",
     "text": [
      "Tick tock, tick tock\n",
      "Tick tock, tick tock\n",
      "Tick tock, tick tock\n",
      "Tick tock, tick tock\n",
      "Tick tock, tick tock\n",
      "Tick tock, tick tock\n",
      "Tick tock, tick tock\n",
      "Tick tock, tick tock\n",
      "Tick tock, tick tock\n",
      "Tick tock, tick tock\n",
      "Stop...\n"
     ]
    }
   ],
   "source": [
    "# While expression for a count loop\n",
    "count = 10\n",
    "\n",
    "while count < 20:\n",
    "    print (\"Tick tock, tick tock\")\n",
    "    count = count + 1\n",
    "\n",
    "print (\"Stop...\")"
   ]
  },
  {
   "cell_type": "code",
   "execution_count": 10,
   "metadata": {
    "slideshow": {
     "slide_type": "-"
    }
   },
   "outputs": [
    {
     "name": "stdout",
     "output_type": "stream",
     "text": [
      "23 is a prime number?: True\n"
     ]
    }
   ],
   "source": [
    "#While expression\n",
    "need_prime = True\n",
    "\n",
    "num = 23\n",
    "start = 2\n",
    "\n",
    "while need_prime and start < num:\n",
    "    if num % start == 0:\n",
    "        need_prime = False\n",
    "    else:\n",
    "        start = start + 1\n",
    "\n",
    "print (\"{0} is a prime number?: {1}\".format(num, need_prime))\n",
    "\n",
    "    "
   ]
  },
  {
   "cell_type": "code",
   "execution_count": 12,
   "metadata": {
    "slideshow": {
     "slide_type": "-"
    }
   },
   "outputs": [
    {
     "name": "stdout",
     "output_type": "stream",
     "text": [
      "[2, 3, 5, 7, 11, 13, 17, 19]\n"
     ]
    }
   ],
   "source": [
    "# Lists\n",
    "primes = [2, 3, 5, 7, 11, 13, 17, 19]\n",
    "print(primes)"
   ]
  },
  {
   "cell_type": "code",
   "execution_count": 13,
   "metadata": {
    "slideshow": {
     "slide_type": "-"
    }
   },
   "outputs": [
    {
     "name": "stdout",
     "output_type": "stream",
     "text": [
      "2\n"
     ]
    }
   ],
   "source": [
    "print(primes[0])"
   ]
  },
  {
   "cell_type": "code",
   "execution_count": 14,
   "metadata": {
    "slideshow": {
     "slide_type": "-"
    }
   },
   "outputs": [
    {
     "name": "stdout",
     "output_type": "stream",
     "text": [
      "19\n"
     ]
    }
   ],
   "source": [
    "print(primes[-1])"
   ]
  },
  {
   "cell_type": "code",
   "execution_count": 15,
   "metadata": {
    "slideshow": {
     "slide_type": "-"
    }
   },
   "outputs": [
    {
     "name": "stdout",
     "output_type": "stream",
     "text": [
      "[2, 3, 5, 7, 11, 13, 17, 'nineteen']\n"
     ]
    }
   ],
   "source": [
    "primes[-1] = \"nineteen\"\n",
    "print(primes)"
   ]
  },
  {
   "cell_type": "code",
   "execution_count": 16,
   "metadata": {
    "slideshow": {
     "slide_type": "-"
    }
   },
   "outputs": [
    {
     "name": "stdout",
     "output_type": "stream",
     "text": [
      "8\n"
     ]
    }
   ],
   "source": [
    "primes = [2, 3, 5, 7, 11, 13, 17, 19]\n",
    "print (len(primes))"
   ]
  },
  {
   "cell_type": "code",
   "execution_count": 18,
   "metadata": {
    "slideshow": {
     "slide_type": "-"
    }
   },
   "outputs": [
    {
     "name": "stdout",
     "output_type": "stream",
     "text": [
      "19\n"
     ]
    }
   ],
   "source": [
    "print (primes[len(primes)-1])"
   ]
  },
  {
   "cell_type": "code",
   "execution_count": 19,
   "metadata": {
    "slideshow": {
     "slide_type": "-"
    }
   },
   "outputs": [
    {
     "name": "stdout",
     "output_type": "stream",
     "text": [
      "[[1, 2, 3], [4, 5, 6]]\n",
      "[1, 2, 3]\n",
      "3\n"
     ]
    }
   ],
   "source": [
    "# The list of lists \n",
    "lol = [[1,2,3],[4,5,6]]\n",
    "print (lol)\n",
    "\n",
    "print (lol[0])\n",
    "\n",
    "print (lol[0][2])"
   ]
  },
  {
   "cell_type": "code",
   "execution_count": 20,
   "metadata": {},
   "outputs": [
    {
     "data": {
      "text/plain": [
       "[0, 1, 4, 9, 16, 25, 36, 49, 64, 81]"
      ]
     },
     "execution_count": 20,
     "metadata": {},
     "output_type": "execute_result"
    }
   ],
   "source": [
    "[x**2 for x in range(10)]"
   ]
  },
  {
   "cell_type": "code",
   "execution_count": 21,
   "metadata": {
    "slideshow": {
     "slide_type": "-"
    }
   },
   "outputs": [
    {
     "name": "stdout",
     "output_type": "stream",
     "text": [
      "2\n",
      "3\n",
      "5\n",
      "7\n",
      "11\n",
      "13\n",
      "17\n",
      "19\n"
     ]
    }
   ],
   "source": [
    "# For loops\n",
    "primes = [2, 3, 5, 7, 11, 13, 17, 19]\n",
    "for p in primes:\n",
    "    print(p)"
   ]
  },
  {
   "cell_type": "code",
   "execution_count": 28,
   "metadata": {
    "slideshow": {
     "slide_type": "-"
    }
   },
   "outputs": [
    {
     "name": "stdout",
     "output_type": "stream",
     "text": [
      "range(0, 10)\n",
      "0 1 2 3 4 5 6 7 8 9\n"
     ]
    }
   ],
   "source": [
    "# Range\n",
    "print(range(10))\n",
    "print(*range(10))"
   ]
  },
  {
   "cell_type": "code",
   "execution_count": 29,
   "metadata": {
    "slideshow": {
     "slide_type": "-"
    }
   },
   "outputs": [
    {
     "name": "stdout",
     "output_type": "stream",
     "text": [
      "range(3, 10)\n",
      "3 4 5 6 7 8 9\n"
     ]
    }
   ],
   "source": [
    "print(range(3,10))\n",
    "print(*range(3,10))"
   ]
  },
  {
   "cell_type": "code",
   "execution_count": 33,
   "metadata": {
    "slideshow": {
     "slide_type": "-"
    }
   },
   "outputs": [
    {
     "name": "stdout",
     "output_type": "stream",
     "text": [
      "10 8 6 4 2\n"
     ]
    }
   ],
   "source": [
    "print(*range(10,0,-2))"
   ]
  },
  {
   "cell_type": "code",
   "execution_count": 34,
   "metadata": {
    "slideshow": {
     "slide_type": "subslide"
    }
   },
   "outputs": [
    {
     "name": "stdout",
     "output_type": "stream",
     "text": [
      "2\n",
      "3\n",
      "5\n",
      "7\n",
      "11\n",
      "13\n",
      "17\n",
      "19\n"
     ]
    }
   ],
   "source": [
    "primes = [2, 3, 5, 7, 11, 13, 17, 19]\n",
    "for i in range(8):\n",
    "    print(primes[i])"
   ]
  },
  {
   "cell_type": "code",
   "execution_count": 35,
   "metadata": {
    "slideshow": {
     "slide_type": "-"
    }
   },
   "outputs": [
    {
     "data": {
      "text/plain": [
       "[2, 3, 5]"
      ]
     },
     "execution_count": 35,
     "metadata": {},
     "output_type": "execute_result"
    }
   ],
   "source": [
    "#Slicing\n",
    "primes = [2, 3, 5, 7, 11, 13, 17, 19]\n",
    "primes[0:3]"
   ]
  },
  {
   "cell_type": "code",
   "execution_count": 36,
   "metadata": {
    "slideshow": {
     "slide_type": "-"
    }
   },
   "outputs": [
    {
     "data": {
      "text/plain": [
       "[7, 11, 13, 17, 19]"
      ]
     },
     "execution_count": 36,
     "metadata": {},
     "output_type": "execute_result"
    }
   ],
   "source": [
    "primes[3:]"
   ]
  },
  {
   "cell_type": "code",
   "execution_count": 37,
   "metadata": {
    "slideshow": {
     "slide_type": "-"
    }
   },
   "outputs": [
    {
     "data": {
      "text/plain": [
       "[2, 3, 5]"
      ]
     },
     "execution_count": 37,
     "metadata": {},
     "output_type": "execute_result"
    }
   ],
   "source": [
    "primes[:3]"
   ]
  },
  {
   "cell_type": "code",
   "execution_count": 38,
   "metadata": {
    "slideshow": {
     "slide_type": "-"
    }
   },
   "outputs": [
    {
     "data": {
      "text/plain": [
       "[19, 17, 13, 11, 7, 5, 3, 2]"
      ]
     },
     "execution_count": 38,
     "metadata": {},
     "output_type": "execute_result"
    }
   ],
   "source": [
    "primes[7::-1]"
   ]
  },
  {
   "cell_type": "code",
   "execution_count": 40,
   "metadata": {
    "slideshow": {
     "slide_type": "slide"
    }
   },
   "outputs": [
    {
     "name": "stdout",
     "output_type": "stream",
     "text": [
      "Q\n",
      "D\n",
      "D\n",
      "Q\n",
      "K\n",
      "E\n"
     ]
    }
   ],
   "source": [
    "# Strings\n",
    "protein = 'QDDQKE'\n",
    "for aa in protein:\n",
    "    print(aa)"
   ]
  },
  {
   "cell_type": "code",
   "execution_count": 41,
   "metadata": {
    "slideshow": {
     "slide_type": "slide"
    }
   },
   "outputs": [
    {
     "name": "stdout",
     "output_type": "stream",
     "text": [
      "DDQKEL\n"
     ]
    }
   ],
   "source": [
    "protein = 'QDDQKELDT'\n",
    "print(protein[1:7])"
   ]
  },
  {
   "cell_type": "code",
   "execution_count": 42,
   "metadata": {
    "slideshow": {
     "slide_type": "-"
    }
   },
   "outputs": [
    {
     "name": "stdout",
     "output_type": "stream",
     "text": [
      "TDLEKQDDQ\n"
     ]
    }
   ],
   "source": [
    "print(protein[::-1])"
   ]
  },
  {
   "cell_type": "markdown",
   "metadata": {
    "slideshow": {
     "slide_type": "slide"
    }
   },
   "source": [
    "# String functions"
   ]
  },
  {
   "cell_type": "code",
   "execution_count": 52,
   "metadata": {
    "slideshow": {
     "slide_type": "-"
    }
   },
   "outputs": [
    {
     "name": "stdout",
     "output_type": "stream",
     "text": [
      "1\n"
     ]
    }
   ],
   "source": [
    "# String functions\n",
    "protein = 'ELDTYLKHARVEYGYF'\n",
    "print(protein.count('K'))"
   ]
  },
  {
   "cell_type": "code",
   "execution_count": 53,
   "metadata": {
    "slideshow": {
     "slide_type": "-"
    }
   },
   "outputs": [
    {
     "name": "stdout",
     "output_type": "stream",
     "text": [
      "7\n"
     ]
    }
   ],
   "source": [
    "print(protein.find('HARVEY'))"
   ]
  },
  {
   "cell_type": "code",
   "execution_count": 54,
   "metadata": {
    "slideshow": {
     "slide_type": "-"
    }
   },
   "outputs": [
    {
     "name": "stdout",
     "output_type": "stream",
     "text": [
      "HARVEY\n"
     ]
    }
   ],
   "source": [
    "loc = protein.find('HARVEY')\n",
    "print(protein[loc:(loc+len('HARVEY'))])"
   ]
  },
  {
   "cell_type": "code",
   "execution_count": 55,
   "metadata": {
    "slideshow": {
     "slide_type": "slide"
    }
   },
   "outputs": [
    {
     "name": "stdout",
     "output_type": "stream",
     "text": [
      "ELDTYLKAMELIAGYF\n"
     ]
    }
   ],
   "source": [
    "protein = protein.replace('HARVEY', 'AMELIA')\n",
    "print(protein)"
   ]
  },
  {
   "cell_type": "code",
   "execution_count": 56,
   "metadata": {
    "slideshow": {
     "slide_type": "-"
    }
   },
   "outputs": [
    {
     "name": "stdout",
     "output_type": "stream",
     "text": [
      "['ELDT', 'LKAMELIAG', 'F']\n"
     ]
    }
   ],
   "source": [
    "print(protein.split('Y'))"
   ]
  },
  {
   "cell_type": "code",
   "execution_count": 57,
   "metadata": {},
   "outputs": [
    {
     "name": "stdout",
     "output_type": "stream",
     "text": [
      "Gene symbol: NR3C1, Gene name: nuclear receptor subfamily 3, group C, member 1 (glucocorticoid receptor)\n",
      "Gene symbol: CFTR, Gene name: cystic fibrosis transmembrane conductance regulator (ATP-binding cassette sub-family C, member 7)\n"
     ]
    }
   ],
   "source": [
    "#Dictionaries\n",
    "genes = {\"NR3C1\" : \"nuclear receptor subfamily 3, group C, member 1 (glucocorticoid receptor)\", \n",
    "         \"CFTR\" : \"cystic fibrosis transmembrane conductance regulator (ATP-binding cassette sub-family C, member 7)\"}\n",
    "\n",
    "for gene in genes.keys():\n",
    "    print(str.format(\"Gene symbol: {}, Gene name: {}\", gene, genes[gene]))\n"
   ]
  },
  {
   "cell_type": "code",
   "execution_count": 62,
   "metadata": {
    "slideshow": {
     "slide_type": "slide"
    }
   },
   "outputs": [
    {
     "name": "stdout",
     "output_type": "stream",
     "text": [
      "['A', 'CFTR', 'G6PC', 'NR3C1', 'Z']\n"
     ]
    }
   ],
   "source": [
    "genes[\"G6PC\"] = \"glucose-6-phosphatase, catalytic subunit\"\n",
    "genes[\"A\"] = \"AAA\"\n",
    "genes[\"Z\"] = \"ZZZ\"\n",
    "\n",
    "print (sorted(genes.keys()))\n"
   ]
  },
  {
   "cell_type": "code",
   "execution_count": 65,
   "metadata": {},
   "outputs": [
    {
     "name": "stdout",
     "output_type": "stream",
     "text": [
      "<zip object at 0x0000018BCA488B80>\n",
      "('NR3C1', 'CFTR', 'G6PC', 'A', 'Z')\n"
     ]
    }
   ],
   "source": [
    "# Zip \n",
    "symbols = genes.keys()\n",
    "names = genes.values()\n",
    "\n",
    "symbols_names = zip(symbols, names)\n",
    "\n",
    "print (symbols_names)\n",
    "print\n",
    "print (list(zip(*(symbols_names)))[0])"
   ]
  },
  {
   "cell_type": "code",
   "execution_count": 66,
   "metadata": {
    "slideshow": {
     "slide_type": "slide"
    }
   },
   "outputs": [],
   "source": [
    "psg5_promoter = (\"ATTATAGTAGAGTCCCCTTTAAATCCACATTGTGTGGATGGCTCTCATGATTTCCTAAGAGATACGTTGT\"\n",
    "\"AAAACGTGACAGTAATGCTGATTCTAGCAGAATAAAACATGTACCACATTTGCTAATACTGTTCTCTTAA\"\n",
    "\"AATAATTTTAAAAGAATGGGGTGGGCCCTCCCATGTGTCCAGGCCAGGTCTCTGAACAGAATCCTCCATC\"\n",
    "\"TGCAGTAACAATGCCTAAGAAGATGACATGGACTTGGTCCTGATATGCAGCCATTCCTGTGTACCCTTCC\"\n",
    "\"CCTGCTGCAGGGCCGTACCAGCATAGGGCCCAAATCTTCAGCTGCAGAGCTGAGACAGAACATGGGATAC\"\n",
    "\"CCAGCATCACTTACCTTCTTCCAGTCCACTGCAGTGGCTACTGGCATGGCCCATTTACCCCTGAGGACAC\"\n",
    "\"CCATCTGCTAACCCACAGTTTCTAAGAGTCAGACTTTCCTGGCTTTTCTGAGCCCCAGCTGCTTTCACTC\"\n",
    "\"TGCTGAACCCTTCTTCTCCCCACAGGTGTCATTGCCTTAGCAGACACCTCTTTCAGCTGCAGCTAACAGG\"\n",
    "\"TAAGCCAAGACCCAGACCCCAGAGGATAAACAAGGATTTCAAAACCTACTGTGTCCAATGGAGGTGCCCA\"\n",
    "\"CTTGTGGGCGGCAAGCCACCCAGGTGCTGAGGCAAGAGACTCAGGGCATGAGCTGTTCCAGTATCATAAA\"\n",
    "\"ATATAAAAGAATAGTTATACCAGATACAGATCTTAGATATGATTATATGTGAATATCATTAATCATTAGT\"\n",
    "\"TGGTAGGAATTACTTTTTATTCCAACATTAGAGTAATCATCACTCTGTAATCATAACCTAGGAAAAGCCA\"\n",
    "\"GGCCATACAGAGATAGGAGCTGAGGAGACACAGTGAGAAGTGACCAGAAGACAAGAGTGCGAGCCTTCTG\"\n",
    "\"TTATGCCCAGACAGGGGCACTAGAGGGCTCCTTGGTCTAGAGGTAACGCCAGAATCTGGGAAGATGCCTG\"\n",
    "\"TTGCCAAGCAGACCTTGGTCT\")"
   ]
  },
  {
   "cell_type": "code",
   "execution_count": 67,
   "metadata": {
    "slideshow": {
     "slide_type": "slide"
    }
   },
   "outputs": [
    {
     "name": "stdout",
     "output_type": "stream",
     "text": [
      "{'A': 0, 'T': 0, 'C': 0, 'G': 0}\n",
      "{'A': 284, 'T': 251, 'C': 246, 'G': 220}\n"
     ]
    }
   ],
   "source": [
    "nucleotides = {\"A\":0, \"T\":0, \"C\":0, \"G\":0}\n",
    "\n",
    "print(nucleotides)\n",
    "\n",
    "for nuc in psg5_promoter:\n",
    "    nucleotides[nuc] += 1\n",
    "\n",
    "print(nucleotides)"
   ]
  }
 ],
 "metadata": {
  "celltoolbar": "Slideshow",
  "kernelspec": {
   "display_name": "Python 3 (ipykernel)",
   "language": "python",
   "name": "python3"
  },
  "language_info": {
   "codemirror_mode": {
    "name": "ipython",
    "version": 3
   },
   "file_extension": ".py",
   "mimetype": "text/x-python",
   "name": "python",
   "nbconvert_exporter": "python",
   "pygments_lexer": "ipython3",
   "version": "3.9.12"
  }
 },
 "nbformat": 4,
 "nbformat_minor": 1
}
