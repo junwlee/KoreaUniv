{
 "cells": [
  {
   "metadata": {},
   "cell_type": "markdown",
   "source": "# Load Data",
   "id": "2194397b389e9ba"
  },
  {
   "cell_type": "code",
   "id": "initial_id",
   "metadata": {
    "collapsed": true,
    "ExecuteTime": {
     "end_time": "2024-10-15T21:47:21.667442Z",
     "start_time": "2024-10-15T21:47:21.662042Z"
    }
   },
   "source": [
    "from pyexpat import features\n",
    "\n",
    "import pandas as pd\n",
    "\n",
    "input_file = \"data/Titanic-Dataset.csv\"\n",
    "df_titanic = pd.read_csv(input_file)\n",
    "\n",
    "df_titanic.shape"
   ],
   "outputs": [
    {
     "data": {
      "text/plain": [
       "(891, 12)"
      ]
     },
     "execution_count": 33,
     "metadata": {},
     "output_type": "execute_result"
    }
   ],
   "execution_count": 33
  },
  {
   "metadata": {
    "ExecuteTime": {
     "end_time": "2024-10-15T21:47:21.702568Z",
     "start_time": "2024-10-15T21:47:21.700525Z"
    }
   },
   "cell_type": "code",
   "source": "print(df_titanic.columns.values)",
   "id": "8c9751688f94b799",
   "outputs": [
    {
     "name": "stdout",
     "output_type": "stream",
     "text": [
      "['PassengerId' 'Survived' 'Pclass' 'Name' 'Sex' 'Age' 'SibSp' 'Parch'\n",
      " 'Ticket' 'Fare' 'Cabin' 'Embarked']\n"
     ]
    }
   ],
   "execution_count": 34
  },
  {
   "metadata": {},
   "cell_type": "markdown",
   "source": "# Checking for Missing Values",
   "id": "9a58aa976c6176a4"
  },
  {
   "metadata": {
    "ExecuteTime": {
     "end_time": "2024-10-15T21:47:21.722607Z",
     "start_time": "2024-10-15T21:47:21.718060Z"
    }
   },
   "cell_type": "code",
   "source": [
    "pd.set_option('display.max_columns', None)\n",
    "df_titanic.head()"
   ],
   "id": "c9e65654e962c795",
   "outputs": [
    {
     "data": {
      "text/plain": [
       "   PassengerId  Survived  Pclass  \\\n",
       "0            1         0       3   \n",
       "1            2         1       1   \n",
       "2            3         1       3   \n",
       "3            4         1       1   \n",
       "4            5         0       3   \n",
       "\n",
       "                                                  Name     Sex   Age  SibSp  \\\n",
       "0                              Braund, Mr. Owen Harris    male  22.0      1   \n",
       "1  Cumings, Mrs. John Bradley (Florence Briggs Thayer)  female  38.0      1   \n",
       "2                               Heikkinen, Miss. Laina  female  26.0      0   \n",
       "3         Futrelle, Mrs. Jacques Heath (Lily May Peel)  female  35.0      1   \n",
       "4                             Allen, Mr. William Henry    male  35.0      0   \n",
       "\n",
       "   Parch            Ticket     Fare Cabin Embarked  \n",
       "0      0         A/5 21171   7.2500   NaN        S  \n",
       "1      0          PC 17599  71.2833   C85        C  \n",
       "2      0  STON/O2. 3101282   7.9250   NaN        S  \n",
       "3      0            113803  53.1000  C123        S  \n",
       "4      0            373450   8.0500   NaN        S  "
      ],
      "text/html": [
       "<div>\n",
       "<style scoped>\n",
       "    .dataframe tbody tr th:only-of-type {\n",
       "        vertical-align: middle;\n",
       "    }\n",
       "\n",
       "    .dataframe tbody tr th {\n",
       "        vertical-align: top;\n",
       "    }\n",
       "\n",
       "    .dataframe thead th {\n",
       "        text-align: right;\n",
       "    }\n",
       "</style>\n",
       "<table border=\"1\" class=\"dataframe\">\n",
       "  <thead>\n",
       "    <tr style=\"text-align: right;\">\n",
       "      <th></th>\n",
       "      <th>PassengerId</th>\n",
       "      <th>Survived</th>\n",
       "      <th>Pclass</th>\n",
       "      <th>Name</th>\n",
       "      <th>Sex</th>\n",
       "      <th>Age</th>\n",
       "      <th>SibSp</th>\n",
       "      <th>Parch</th>\n",
       "      <th>Ticket</th>\n",
       "      <th>Fare</th>\n",
       "      <th>Cabin</th>\n",
       "      <th>Embarked</th>\n",
       "    </tr>\n",
       "  </thead>\n",
       "  <tbody>\n",
       "    <tr>\n",
       "      <th>0</th>\n",
       "      <td>1</td>\n",
       "      <td>0</td>\n",
       "      <td>3</td>\n",
       "      <td>Braund, Mr. Owen Harris</td>\n",
       "      <td>male</td>\n",
       "      <td>22.0</td>\n",
       "      <td>1</td>\n",
       "      <td>0</td>\n",
       "      <td>A/5 21171</td>\n",
       "      <td>7.2500</td>\n",
       "      <td>NaN</td>\n",
       "      <td>S</td>\n",
       "    </tr>\n",
       "    <tr>\n",
       "      <th>1</th>\n",
       "      <td>2</td>\n",
       "      <td>1</td>\n",
       "      <td>1</td>\n",
       "      <td>Cumings, Mrs. John Bradley (Florence Briggs Thayer)</td>\n",
       "      <td>female</td>\n",
       "      <td>38.0</td>\n",
       "      <td>1</td>\n",
       "      <td>0</td>\n",
       "      <td>PC 17599</td>\n",
       "      <td>71.2833</td>\n",
       "      <td>C85</td>\n",
       "      <td>C</td>\n",
       "    </tr>\n",
       "    <tr>\n",
       "      <th>2</th>\n",
       "      <td>3</td>\n",
       "      <td>1</td>\n",
       "      <td>3</td>\n",
       "      <td>Heikkinen, Miss. Laina</td>\n",
       "      <td>female</td>\n",
       "      <td>26.0</td>\n",
       "      <td>0</td>\n",
       "      <td>0</td>\n",
       "      <td>STON/O2. 3101282</td>\n",
       "      <td>7.9250</td>\n",
       "      <td>NaN</td>\n",
       "      <td>S</td>\n",
       "    </tr>\n",
       "    <tr>\n",
       "      <th>3</th>\n",
       "      <td>4</td>\n",
       "      <td>1</td>\n",
       "      <td>1</td>\n",
       "      <td>Futrelle, Mrs. Jacques Heath (Lily May Peel)</td>\n",
       "      <td>female</td>\n",
       "      <td>35.0</td>\n",
       "      <td>1</td>\n",
       "      <td>0</td>\n",
       "      <td>113803</td>\n",
       "      <td>53.1000</td>\n",
       "      <td>C123</td>\n",
       "      <td>S</td>\n",
       "    </tr>\n",
       "    <tr>\n",
       "      <th>4</th>\n",
       "      <td>5</td>\n",
       "      <td>0</td>\n",
       "      <td>3</td>\n",
       "      <td>Allen, Mr. William Henry</td>\n",
       "      <td>male</td>\n",
       "      <td>35.0</td>\n",
       "      <td>0</td>\n",
       "      <td>0</td>\n",
       "      <td>373450</td>\n",
       "      <td>8.0500</td>\n",
       "      <td>NaN</td>\n",
       "      <td>S</td>\n",
       "    </tr>\n",
       "  </tbody>\n",
       "</table>\n",
       "</div>"
      ]
     },
     "execution_count": 35,
     "metadata": {},
     "output_type": "execute_result"
    }
   ],
   "execution_count": 35
  },
  {
   "metadata": {
    "ExecuteTime": {
     "end_time": "2024-10-15T21:47:21.751230Z",
     "start_time": "2024-10-15T21:47:21.742980Z"
    }
   },
   "cell_type": "code",
   "source": [
    "print(df_titanic.describe())\n",
    "print(df_titanic.info())"
   ],
   "id": "6c382afe5fdd34c",
   "outputs": [
    {
     "name": "stdout",
     "output_type": "stream",
     "text": [
      "       PassengerId    Survived      Pclass         Age       SibSp  \\\n",
      "count   891.000000  891.000000  891.000000  714.000000  891.000000   \n",
      "mean    446.000000    0.383838    2.308642   29.699118    0.523008   \n",
      "std     257.353842    0.486592    0.836071   14.526497    1.102743   \n",
      "min       1.000000    0.000000    1.000000    0.420000    0.000000   \n",
      "25%     223.500000    0.000000    2.000000   20.125000    0.000000   \n",
      "50%     446.000000    0.000000    3.000000   28.000000    0.000000   \n",
      "75%     668.500000    1.000000    3.000000   38.000000    1.000000   \n",
      "max     891.000000    1.000000    3.000000   80.000000    8.000000   \n",
      "\n",
      "            Parch        Fare  \n",
      "count  891.000000  891.000000  \n",
      "mean     0.381594   32.204208  \n",
      "std      0.806057   49.693429  \n",
      "min      0.000000    0.000000  \n",
      "25%      0.000000    7.910400  \n",
      "50%      0.000000   14.454200  \n",
      "75%      0.000000   31.000000  \n",
      "max      6.000000  512.329200  \n",
      "<class 'pandas.core.frame.DataFrame'>\n",
      "RangeIndex: 891 entries, 0 to 890\n",
      "Data columns (total 12 columns):\n",
      " #   Column       Non-Null Count  Dtype  \n",
      "---  ------       --------------  -----  \n",
      " 0   PassengerId  891 non-null    int64  \n",
      " 1   Survived     891 non-null    int64  \n",
      " 2   Pclass       891 non-null    int64  \n",
      " 3   Name         891 non-null    object \n",
      " 4   Sex          891 non-null    object \n",
      " 5   Age          714 non-null    float64\n",
      " 6   SibSp        891 non-null    int64  \n",
      " 7   Parch        891 non-null    int64  \n",
      " 8   Ticket       891 non-null    object \n",
      " 9   Fare         891 non-null    float64\n",
      " 10  Cabin        204 non-null    object \n",
      " 11  Embarked     889 non-null    object \n",
      "dtypes: float64(2), int64(5), object(5)\n",
      "memory usage: 83.7+ KB\n",
      "None\n"
     ]
    }
   ],
   "execution_count": 36
  },
  {
   "metadata": {
    "ExecuteTime": {
     "end_time": "2024-10-15T21:47:21.807434Z",
     "start_time": "2024-10-15T21:47:21.804643Z"
    }
   },
   "cell_type": "code",
   "source": "df_titanic.isnull().sum()",
   "id": "4bce3aafb3bf0957",
   "outputs": [
    {
     "data": {
      "text/plain": [
       "PassengerId      0\n",
       "Survived         0\n",
       "Pclass           0\n",
       "Name             0\n",
       "Sex              0\n",
       "Age            177\n",
       "SibSp            0\n",
       "Parch            0\n",
       "Ticket           0\n",
       "Fare             0\n",
       "Cabin          687\n",
       "Embarked         2\n",
       "dtype: int64"
      ]
     },
     "execution_count": 37,
     "metadata": {},
     "output_type": "execute_result"
    }
   ],
   "execution_count": 37
  },
  {
   "metadata": {},
   "cell_type": "markdown",
   "source": "# Index Setup",
   "id": "d700e30852bbddc2"
  },
  {
   "metadata": {
    "ExecuteTime": {
     "end_time": "2024-10-15T21:47:21.843559Z",
     "start_time": "2024-10-15T21:47:21.841748Z"
    }
   },
   "cell_type": "code",
   "source": "print(df_titanic.index.name)",
   "id": "41aadf098bbf4e0f",
   "outputs": [
    {
     "name": "stdout",
     "output_type": "stream",
     "text": [
      "None\n"
     ]
    }
   ],
   "execution_count": 38
  },
  {
   "metadata": {
    "ExecuteTime": {
     "end_time": "2024-10-15T21:47:21.900569Z",
     "start_time": "2024-10-15T21:47:21.895880Z"
    }
   },
   "cell_type": "code",
   "source": [
    "# Set the index\n",
    "df_titanic.set_index('PassengerId', inplace=True)\n",
    "\n",
    "pd.set_option('display.max_columns', None)\n",
    "df_titanic.head()"
   ],
   "id": "33fa4bb099fee846",
   "outputs": [
    {
     "data": {
      "text/plain": [
       "             Survived  Pclass  \\\n",
       "PassengerId                     \n",
       "1                   0       3   \n",
       "2                   1       1   \n",
       "3                   1       3   \n",
       "4                   1       1   \n",
       "5                   0       3   \n",
       "\n",
       "                                                            Name     Sex  \\\n",
       "PassengerId                                                                \n",
       "1                                        Braund, Mr. Owen Harris    male   \n",
       "2            Cumings, Mrs. John Bradley (Florence Briggs Thayer)  female   \n",
       "3                                         Heikkinen, Miss. Laina  female   \n",
       "4                   Futrelle, Mrs. Jacques Heath (Lily May Peel)  female   \n",
       "5                                       Allen, Mr. William Henry    male   \n",
       "\n",
       "              Age  SibSp  Parch            Ticket     Fare Cabin Embarked  \n",
       "PassengerId                                                                \n",
       "1            22.0      1      0         A/5 21171   7.2500   NaN        S  \n",
       "2            38.0      1      0          PC 17599  71.2833   C85        C  \n",
       "3            26.0      0      0  STON/O2. 3101282   7.9250   NaN        S  \n",
       "4            35.0      1      0            113803  53.1000  C123        S  \n",
       "5            35.0      0      0            373450   8.0500   NaN        S  "
      ],
      "text/html": [
       "<div>\n",
       "<style scoped>\n",
       "    .dataframe tbody tr th:only-of-type {\n",
       "        vertical-align: middle;\n",
       "    }\n",
       "\n",
       "    .dataframe tbody tr th {\n",
       "        vertical-align: top;\n",
       "    }\n",
       "\n",
       "    .dataframe thead th {\n",
       "        text-align: right;\n",
       "    }\n",
       "</style>\n",
       "<table border=\"1\" class=\"dataframe\">\n",
       "  <thead>\n",
       "    <tr style=\"text-align: right;\">\n",
       "      <th></th>\n",
       "      <th>Survived</th>\n",
       "      <th>Pclass</th>\n",
       "      <th>Name</th>\n",
       "      <th>Sex</th>\n",
       "      <th>Age</th>\n",
       "      <th>SibSp</th>\n",
       "      <th>Parch</th>\n",
       "      <th>Ticket</th>\n",
       "      <th>Fare</th>\n",
       "      <th>Cabin</th>\n",
       "      <th>Embarked</th>\n",
       "    </tr>\n",
       "    <tr>\n",
       "      <th>PassengerId</th>\n",
       "      <th></th>\n",
       "      <th></th>\n",
       "      <th></th>\n",
       "      <th></th>\n",
       "      <th></th>\n",
       "      <th></th>\n",
       "      <th></th>\n",
       "      <th></th>\n",
       "      <th></th>\n",
       "      <th></th>\n",
       "      <th></th>\n",
       "    </tr>\n",
       "  </thead>\n",
       "  <tbody>\n",
       "    <tr>\n",
       "      <th>1</th>\n",
       "      <td>0</td>\n",
       "      <td>3</td>\n",
       "      <td>Braund, Mr. Owen Harris</td>\n",
       "      <td>male</td>\n",
       "      <td>22.0</td>\n",
       "      <td>1</td>\n",
       "      <td>0</td>\n",
       "      <td>A/5 21171</td>\n",
       "      <td>7.2500</td>\n",
       "      <td>NaN</td>\n",
       "      <td>S</td>\n",
       "    </tr>\n",
       "    <tr>\n",
       "      <th>2</th>\n",
       "      <td>1</td>\n",
       "      <td>1</td>\n",
       "      <td>Cumings, Mrs. John Bradley (Florence Briggs Thayer)</td>\n",
       "      <td>female</td>\n",
       "      <td>38.0</td>\n",
       "      <td>1</td>\n",
       "      <td>0</td>\n",
       "      <td>PC 17599</td>\n",
       "      <td>71.2833</td>\n",
       "      <td>C85</td>\n",
       "      <td>C</td>\n",
       "    </tr>\n",
       "    <tr>\n",
       "      <th>3</th>\n",
       "      <td>1</td>\n",
       "      <td>3</td>\n",
       "      <td>Heikkinen, Miss. Laina</td>\n",
       "      <td>female</td>\n",
       "      <td>26.0</td>\n",
       "      <td>0</td>\n",
       "      <td>0</td>\n",
       "      <td>STON/O2. 3101282</td>\n",
       "      <td>7.9250</td>\n",
       "      <td>NaN</td>\n",
       "      <td>S</td>\n",
       "    </tr>\n",
       "    <tr>\n",
       "      <th>4</th>\n",
       "      <td>1</td>\n",
       "      <td>1</td>\n",
       "      <td>Futrelle, Mrs. Jacques Heath (Lily May Peel)</td>\n",
       "      <td>female</td>\n",
       "      <td>35.0</td>\n",
       "      <td>1</td>\n",
       "      <td>0</td>\n",
       "      <td>113803</td>\n",
       "      <td>53.1000</td>\n",
       "      <td>C123</td>\n",
       "      <td>S</td>\n",
       "    </tr>\n",
       "    <tr>\n",
       "      <th>5</th>\n",
       "      <td>0</td>\n",
       "      <td>3</td>\n",
       "      <td>Allen, Mr. William Henry</td>\n",
       "      <td>male</td>\n",
       "      <td>35.0</td>\n",
       "      <td>0</td>\n",
       "      <td>0</td>\n",
       "      <td>373450</td>\n",
       "      <td>8.0500</td>\n",
       "      <td>NaN</td>\n",
       "      <td>S</td>\n",
       "    </tr>\n",
       "  </tbody>\n",
       "</table>\n",
       "</div>"
      ]
     },
     "execution_count": 39,
     "metadata": {},
     "output_type": "execute_result"
    }
   ],
   "execution_count": 39
  },
  {
   "metadata": {
    "ExecuteTime": {
     "end_time": "2024-10-15T21:47:21.962661Z",
     "start_time": "2024-10-15T21:47:21.961003Z"
    }
   },
   "cell_type": "code",
   "source": "print(df_titanic.shape)",
   "id": "8bb99d3b8a13964d",
   "outputs": [
    {
     "name": "stdout",
     "output_type": "stream",
     "text": [
      "(891, 11)\n"
     ]
    }
   ],
   "execution_count": 40
  },
  {
   "metadata": {},
   "cell_type": "markdown",
   "source": "# Target Variable and Features",
   "id": "6d5dd5763d39d5d9"
  },
  {
   "metadata": {
    "ExecuteTime": {
     "end_time": "2024-10-15T21:47:22.015206Z",
     "start_time": "2024-10-15T21:47:22.012846Z"
    }
   },
   "cell_type": "code",
   "source": [
    "df_features = df_titanic.drop(['Survived'], axis=1)\n",
    "df_target = df_titanic.loc[:, ['Survived']]"
   ],
   "id": "fc972bdcc9f19da0",
   "outputs": [],
   "execution_count": 41
  },
  {
   "metadata": {
    "ExecuteTime": {
     "end_time": "2024-10-15T21:47:22.054452Z",
     "start_time": "2024-10-15T21:47:22.051510Z"
    }
   },
   "cell_type": "code",
   "source": "df_target['Survived'].value_counts()",
   "id": "4974467b74f72575",
   "outputs": [
    {
     "data": {
      "text/plain": [
       "Survived\n",
       "0    549\n",
       "1    342\n",
       "Name: count, dtype: int64"
      ]
     },
     "execution_count": 42,
     "metadata": {},
     "output_type": "execute_result"
    }
   ],
   "execution_count": 42
  },
  {
   "metadata": {},
   "cell_type": "markdown",
   "source": "# Distribution of the Target Variable",
   "id": "93281060869329a2"
  },
  {
   "metadata": {
    "ExecuteTime": {
     "end_time": "2024-10-15T21:47:22.133619Z",
     "start_time": "2024-10-15T21:47:22.072619Z"
    }
   },
   "cell_type": "code",
   "source": [
    "%matplotlib inline\n",
    "import matplotlib.pyplot as plt\n",
    "\n",
    "df_target.hist(figsize=(10, 8))"
   ],
   "id": "3839ecdcfcf4db20",
   "outputs": [
    {
     "data": {
      "text/plain": [
       "array([[<Axes: title={'center': 'Survived'}>]], dtype=object)"
      ]
     },
     "execution_count": 43,
     "metadata": {},
     "output_type": "execute_result"
    },
    {
     "data": {
      "text/plain": [
       "<Figure size 1000x800 with 1 Axes>"
      ],
      "image/png": "[encoded data removed]"
     },
     "metadata": {},
     "output_type": "display_data"
    }
   ],
   "execution_count": 43
  },
  {
   "metadata": {},
   "cell_type": "markdown",
   "source": "# ▣ Distribution of the Features",
   "id": "66771e76cf5ed686"
  },
  {
   "metadata": {
    "ExecuteTime": {
     "end_time": "2024-10-15T21:47:22.440273Z",
     "start_time": "2024-10-15T21:47:22.229327Z"
    }
   },
   "cell_type": "code",
   "source": "df_features.hist(figsize=(10, 10))",
   "id": "535951f3846a278c",
   "outputs": [
    {
     "data": {
      "text/plain": [
       "array([[<Axes: title={'center': 'Pclass'}>,\n",
       "        <Axes: title={'center': 'Age'}>],\n",
       "       [<Axes: title={'center': 'SibSp'}>,\n",
       "        <Axes: title={'center': 'Parch'}>],\n",
       "       [<Axes: title={'center': 'Fare'}>, <Axes: >]], dtype=object)"
      ]
     },
     "execution_count": 44,
     "metadata": {},
     "output_type": "execute_result"
    },
    {
     "data": {
      "text/plain": [
       "<Figure size 1000x1000 with 6 Axes>"
      ],
      "image/png": "[encoded data removed]"
     },
     "metadata": {},
     "output_type": "display_data"
    }
   ],
   "execution_count": 44
  },
  {
   "metadata": {
    "ExecuteTime": {
     "end_time": "2024-10-15T21:47:22.515682Z",
     "start_time": "2024-10-15T21:47:22.459402Z"
    }
   },
   "cell_type": "code",
   "source": [
    "df_features.hist(\n",
    "    column='Age',\n",
    "    figsize=(7, 7),\n",
    "    bins=2\n",
    ")"
   ],
   "id": "240202d5f3c5313f",
   "outputs": [
    {
     "data": {
      "text/plain": [
       "array([[<Axes: title={'center': 'Age'}>]], dtype=object)"
      ]
     },
     "execution_count": 45,
     "metadata": {},
     "output_type": "execute_result"
    },
    {
     "data": {
      "text/plain": [
       "<Figure size 700x700 with 1 Axes>"
      ],
      "image/png": "[encoded data removed]"
     },
     "metadata": {},
     "output_type": "display_data"
    }
   ],
   "execution_count": 45
  },
  {
   "metadata": {
    "ExecuteTime": {
     "end_time": "2024-10-15T21:47:22.573526Z",
     "start_time": "2024-10-15T21:47:22.534493Z"
    }
   },
   "cell_type": "code",
   "source": [
    "embarked = df_features['Embarked'].value_counts(dropna=False)\n",
    "ax = embarked.plot(kind='bar')\n",
    "\n",
    "# 막대 위에 값 표기\n",
    "for container in ax.containers: # ax.containers 속성을 사용하여 그래프에 있는 모든 막대 그룹을 참조\n",
    "    ax.bar_label(container)\n",
    "\n",
    "plt.show()"
   ],
   "id": "5995ee5690055048",
   "outputs": [
    {
     "data": {
      "text/plain": [
       "<Figure size 640x480 with 1 Axes>"
      ],
      "image/png": "[encoded data removed]"
     },
     "metadata": {},
     "output_type": "display_data"
    }
   ],
   "execution_count": 46
  },
  {
   "metadata": {
    "ExecuteTime": {
     "end_time": "2024-10-15T21:47:22.642718Z",
     "start_time": "2024-10-15T21:47:22.583481Z"
    }
   },
   "cell_type": "code",
   "source": "df_features.boxplot(figsize=(10, 8))",
   "id": "59fec9d8960eda60",
   "outputs": [
    {
     "data": {
      "text/plain": [
       "<Axes: >"
      ]
     },
     "execution_count": 47,
     "metadata": {},
     "output_type": "execute_result"
    },
    {
     "data": {
      "text/plain": [
       "<Figure size 1000x800 with 1 Axes>"
      ],
      "image/png": "[encoded data removed]"
     },
     "metadata": {},
     "output_type": "display_data"
    }
   ],
   "execution_count": 47
  },
  {
   "metadata": {},
   "cell_type": "markdown",
   "source": "# ▣ Correlation Analysis",
   "id": "e47ba31c5963447c"
  },
  {
   "metadata": {
    "ExecuteTime": {
     "end_time": "2024-10-15T21:47:22.654224Z",
     "start_time": "2024-10-15T21:47:22.650645Z"
    }
   },
   "cell_type": "code",
   "source": [
    "df_titanic_numeric = df_titanic.select_dtypes(include=['float64', 'int64'])\n",
    "corr_matrix = df_titanic_numeric.corr()\n",
    "print(corr_matrix)"
   ],
   "id": "55e3318714838945",
   "outputs": [
    {
     "name": "stdout",
     "output_type": "stream",
     "text": [
      "          Survived    Pclass       Age     SibSp     Parch      Fare\n",
      "Survived  1.000000 -0.338481 -0.077221 -0.035322  0.081629  0.257307\n",
      "Pclass   -0.338481  1.000000 -0.369226  0.083081  0.018443 -0.549500\n",
      "Age      -0.077221 -0.369226  1.000000 -0.308247 -0.189119  0.096067\n",
      "SibSp    -0.035322  0.083081 -0.308247  1.000000  0.414838  0.159651\n",
      "Parch     0.081629  0.018443 -0.189119  0.414838  1.000000  0.216225\n",
      "Fare      0.257307 -0.549500  0.096067  0.159651  0.216225  1.000000\n"
     ]
    }
   ],
   "execution_count": 48
  },
  {
   "metadata": {
    "ExecuteTime": {
     "end_time": "2024-10-15T21:47:22.670927Z",
     "start_time": "2024-10-15T21:47:22.668029Z"
    }
   },
   "cell_type": "code",
   "source": "corr_matrix['Pclass'].sort_values(ascending=False)",
   "id": "5d8f47c7134e6ee9",
   "outputs": [
    {
     "data": {
      "text/plain": [
       "Pclass      1.000000\n",
       "SibSp       0.083081\n",
       "Parch       0.018443\n",
       "Survived   -0.338481\n",
       "Age        -0.369226\n",
       "Fare       -0.549500\n",
       "Name: Pclass, dtype: float64"
      ]
     },
     "execution_count": 49,
     "metadata": {},
     "output_type": "execute_result"
    }
   ],
   "execution_count": 49
  },
  {
   "metadata": {},
   "cell_type": "markdown",
   "source": "# ▣ Handling Missing Values",
   "id": "771d857b94ba5c"
  },
  {
   "metadata": {
    "ExecuteTime": {
     "end_time": "2024-10-15T21:47:22.693375Z",
     "start_time": "2024-10-15T21:47:22.690865Z"
    }
   },
   "cell_type": "code",
   "source": [
    "# fill missing values with the median\n",
    "median_age = df_features['Age'].median()\n",
    "print(median_age)\n",
    "\n",
    "df_features[\"Age\"] = df_features[\"Age\"].fillna(median_age)"
   ],
   "id": "8b20db15959d766f",
   "outputs": [
    {
     "name": "stdout",
     "output_type": "stream",
     "text": [
      "28.0\n"
     ]
    }
   ],
   "execution_count": 50
  },
  {
   "metadata": {
    "ExecuteTime": {
     "end_time": "2024-10-15T21:47:22.717932Z",
     "start_time": "2024-10-15T21:47:22.715605Z"
    }
   },
   "cell_type": "code",
   "source": [
    "# 'Embarked' 칼럼에서 가장 많이 등장한 값 찾기\n",
    "most_frequent_value = df_titanic['Embarked'].mode()[0]\n",
    "print(most_frequent_value)\n",
    "\n",
    "df_features['Embarked'] = df_features['Embarked'].fillna(most_frequent_value)"
   ],
   "id": "2ed6bd71ea001e81",
   "outputs": [
    {
     "name": "stdout",
     "output_type": "stream",
     "text": [
      "S\n"
     ]
    }
   ],
   "execution_count": 51
  },
  {
   "metadata": {
    "ExecuteTime": {
     "end_time": "2024-10-15T21:47:22.769196Z",
     "start_time": "2024-10-15T21:47:22.766349Z"
    }
   },
   "cell_type": "code",
   "source": [
    "df_features['CabinIsKnown'] = ~df_features['Cabin'].isnull()\n",
    "df_features.drop(['Cabin'], axis=1, inplace=True)\n",
    "\n",
    "print(df_features.columns.values)"
   ],
   "id": "f8df87ad963d99c1",
   "outputs": [
    {
     "name": "stdout",
     "output_type": "stream",
     "text": [
      "['Pclass' 'Name' 'Sex' 'Age' 'SibSp' 'Parch' 'Ticket' 'Fare' 'Embarked'\n",
      " 'CabinIsKnown']\n"
     ]
    }
   ],
   "execution_count": 52
  },
  {
   "metadata": {
    "ExecuteTime": {
     "end_time": "2024-10-15T21:47:22.782555Z",
     "start_time": "2024-10-15T21:47:22.780243Z"
    }
   },
   "cell_type": "code",
   "source": "print(df_features.isnull().sum())",
   "id": "1f23a8a46e75390",
   "outputs": [
    {
     "name": "stdout",
     "output_type": "stream",
     "text": [
      "Pclass          0\n",
      "Name            0\n",
      "Sex             0\n",
      "Age             0\n",
      "SibSp           0\n",
      "Parch           0\n",
      "Ticket          0\n",
      "Fare            0\n",
      "Embarked        0\n",
      "CabinIsKnown    0\n",
      "dtype: int64\n"
     ]
    }
   ],
   "execution_count": 53
  },
  {
   "metadata": {},
   "cell_type": "markdown",
   "source": "# Creating New Featuers",
   "id": "de933a5bcdec9a15"
  },
  {
   "metadata": {
    "ExecuteTime": {
     "end_time": "2024-10-15T21:47:22.820653Z",
     "start_time": "2024-10-15T21:47:22.818570Z"
    }
   },
   "cell_type": "code",
   "source": "df_features['FamilySize'] = df_features.SibSp + df_features.Parch",
   "id": "c5a7022bbd1ada4d",
   "outputs": [],
   "execution_count": 54
  },
  {
   "metadata": {
    "ExecuteTime": {
     "end_time": "2024-10-15T21:47:22.832969Z",
     "start_time": "2024-10-15T21:47:22.829895Z"
    }
   },
   "cell_type": "code",
   "source": [
    "bins_age = [0, 20, 30, 40, 50, 150]\n",
    "labels_age = [\n",
    "    '<20', '20-30', '30-40', '40-50', '>50'\n",
    "]\n",
    "\n",
    "df_features['AgeCategory'] = pd.cut(\n",
    "    df_features['Age'], \n",
    "    bins=bins_age,\n",
    "    labels=labels_age,\n",
    "    include_lowest=True,\n",
    ")"
   ],
   "id": "22cfc458bd1ea698",
   "outputs": [],
   "execution_count": 55
  },
  {
   "metadata": {
    "ExecuteTime": {
     "end_time": "2024-10-15T21:47:22.838519Z",
     "start_time": "2024-10-15T21:47:22.835748Z"
    }
   },
   "cell_type": "code",
   "source": [
    "df_features['FareCategory'] = pd.qcut(\n",
    "    df_features['Fare'],\n",
    "    q=4,\n",
    "    labels=['Q1', 'Q2', 'Q3', 'Q4']\n",
    ")"
   ],
   "id": "437fefa03aa08532",
   "outputs": [],
   "execution_count": 56
  },
  {
   "metadata": {
    "ExecuteTime": {
     "end_time": "2024-10-15T21:47:22.848986Z",
     "start_time": "2024-10-15T21:47:22.843806Z"
    }
   },
   "cell_type": "code",
   "source": "df_features.head(10)",
   "id": "51d84b54539dc4a0",
   "outputs": [
    {
     "data": {
      "text/plain": [
       "             Pclass                                                 Name  \\\n",
       "PassengerId                                                                \n",
       "1                 3                              Braund, Mr. Owen Harris   \n",
       "2                 1  Cumings, Mrs. John Bradley (Florence Briggs Thayer)   \n",
       "3                 3                               Heikkinen, Miss. Laina   \n",
       "4                 1         Futrelle, Mrs. Jacques Heath (Lily May Peel)   \n",
       "5                 3                             Allen, Mr. William Henry   \n",
       "6                 3                                     Moran, Mr. James   \n",
       "7                 1                              McCarthy, Mr. Timothy J   \n",
       "8                 3                       Palsson, Master. Gosta Leonard   \n",
       "9                 3    Johnson, Mrs. Oscar W (Elisabeth Vilhelmina Berg)   \n",
       "10                2                  Nasser, Mrs. Nicholas (Adele Achem)   \n",
       "\n",
       "                Sex   Age  SibSp  Parch            Ticket     Fare Embarked  \\\n",
       "PassengerId                                                                   \n",
       "1              male  22.0      1      0         A/5 21171   7.2500        S   \n",
       "2            female  38.0      1      0          PC 17599  71.2833        C   \n",
       "3            female  26.0      0      0  STON/O2. 3101282   7.9250        S   \n",
       "4            female  35.0      1      0            113803  53.1000        S   \n",
       "5              male  35.0      0      0            373450   8.0500        S   \n",
       "6              male  28.0      0      0            330877   8.4583        Q   \n",
       "7              male  54.0      0      0             17463  51.8625        S   \n",
       "8              male   2.0      3      1            349909  21.0750        S   \n",
       "9            female  27.0      0      2            347742  11.1333        S   \n",
       "10           female  14.0      1      0            237736  30.0708        C   \n",
       "\n",
       "             CabinIsKnown  FamilySize AgeCategory FareCategory  \n",
       "PassengerId                                                     \n",
       "1                   False           1       20-30           Q1  \n",
       "2                    True           1       30-40           Q4  \n",
       "3                   False           0       20-30           Q2  \n",
       "4                    True           1       30-40           Q4  \n",
       "5                   False           0       30-40           Q2  \n",
       "6                   False           0       20-30           Q2  \n",
       "7                    True           0         >50           Q4  \n",
       "8                   False           4         <20           Q3  \n",
       "9                   False           2       20-30           Q2  \n",
       "10                  False           1         <20           Q3  "
      ],
      "text/html": [
       "<div>\n",
       "<style scoped>\n",
       "    .dataframe tbody tr th:only-of-type {\n",
       "        vertical-align: middle;\n",
       "    }\n",
       "\n",
       "    .dataframe tbody tr th {\n",
       "        vertical-align: top;\n",
       "    }\n",
       "\n",
       "    .dataframe thead th {\n",
       "        text-align: right;\n",
       "    }\n",
       "</style>\n",
       "<table border=\"1\" class=\"dataframe\">\n",
       "  <thead>\n",
       "    <tr style=\"text-align: right;\">\n",
       "      <th></th>\n",
       "      <th>Pclass</th>\n",
       "      <th>Name</th>\n",
       "      <th>Sex</th>\n",
       "      <th>Age</th>\n",
       "      <th>SibSp</th>\n",
       "      <th>Parch</th>\n",
       "      <th>Ticket</th>\n",
       "      <th>Fare</th>\n",
       "      <th>Embarked</th>\n",
       "      <th>CabinIsKnown</th>\n",
       "      <th>FamilySize</th>\n",
       "      <th>AgeCategory</th>\n",
       "      <th>FareCategory</th>\n",
       "    </tr>\n",
       "    <tr>\n",
       "      <th>PassengerId</th>\n",
       "      <th></th>\n",
       "      <th></th>\n",
       "      <th></th>\n",
       "      <th></th>\n",
       "      <th></th>\n",
       "      <th></th>\n",
       "      <th></th>\n",
       "      <th></th>\n",
       "      <th></th>\n",
       "      <th></th>\n",
       "      <th></th>\n",
       "      <th></th>\n",
       "      <th></th>\n",
       "    </tr>\n",
       "  </thead>\n",
       "  <tbody>\n",
       "    <tr>\n",
       "      <th>1</th>\n",
       "      <td>3</td>\n",
       "      <td>Braund, Mr. Owen Harris</td>\n",
       "      <td>male</td>\n",
       "      <td>22.0</td>\n",
       "      <td>1</td>\n",
       "      <td>0</td>\n",
       "      <td>A/5 21171</td>\n",
       "      <td>7.2500</td>\n",
       "      <td>S</td>\n",
       "      <td>False</td>\n",
       "      <td>1</td>\n",
       "      <td>20-30</td>\n",
       "      <td>Q1</td>\n",
       "    </tr>\n",
       "    <tr>\n",
       "      <th>2</th>\n",
       "      <td>1</td>\n",
       "      <td>Cumings, Mrs. John Bradley (Florence Briggs Thayer)</td>\n",
       "      <td>female</td>\n",
       "      <td>38.0</td>\n",
       "      <td>1</td>\n",
       "      <td>0</td>\n",
       "      <td>PC 17599</td>\n",
       "      <td>71.2833</td>\n",
       "      <td>C</td>\n",
       "      <td>True</td>\n",
       "      <td>1</td>\n",
       "      <td>30-40</td>\n",
       "      <td>Q4</td>\n",
       "    </tr>\n",
       "    <tr>\n",
       "      <th>3</th>\n",
       "      <td>3</td>\n",
       "      <td>Heikkinen, Miss. Laina</td>\n",
       "      <td>female</td>\n",
       "      <td>26.0</td>\n",
       "      <td>0</td>\n",
       "      <td>0</td>\n",
       "      <td>STON/O2. 3101282</td>\n",
       "      <td>7.9250</td>\n",
       "      <td>S</td>\n",
       "      <td>False</td>\n",
       "      <td>0</td>\n",
       "      <td>20-30</td>\n",
       "      <td>Q2</td>\n",
       "    </tr>\n",
       "    <tr>\n",
       "      <th>4</th>\n",
       "      <td>1</td>\n",
       "      <td>Futrelle, Mrs. Jacques Heath (Lily May Peel)</td>\n",
       "      <td>female</td>\n",
       "      <td>35.0</td>\n",
       "      <td>1</td>\n",
       "      <td>0</td>\n",
       "      <td>113803</td>\n",
       "      <td>53.1000</td>\n",
       "      <td>S</td>\n",
       "      <td>True</td>\n",
       "      <td>1</td>\n",
       "      <td>30-40</td>\n",
       "      <td>Q4</td>\n",
       "    </tr>\n",
       "    <tr>\n",
       "      <th>5</th>\n",
       "      <td>3</td>\n",
       "      <td>Allen, Mr. William Henry</td>\n",
       "      <td>male</td>\n",
       "      <td>35.0</td>\n",
       "      <td>0</td>\n",
       "      <td>0</td>\n",
       "      <td>373450</td>\n",
       "      <td>8.0500</td>\n",
       "      <td>S</td>\n",
       "      <td>False</td>\n",
       "      <td>0</td>\n",
       "      <td>30-40</td>\n",
       "      <td>Q2</td>\n",
       "    </tr>\n",
       "    <tr>\n",
       "      <th>6</th>\n",
       "      <td>3</td>\n",
       "      <td>Moran, Mr. James</td>\n",
       "      <td>male</td>\n",
       "      <td>28.0</td>\n",
       "      <td>0</td>\n",
       "      <td>0</td>\n",
       "      <td>330877</td>\n",
       "      <td>8.4583</td>\n",
       "      <td>Q</td>\n",
       "      <td>False</td>\n",
       "      <td>0</td>\n",
       "      <td>20-30</td>\n",
       "      <td>Q2</td>\n",
       "    </tr>\n",
       "    <tr>\n",
       "      <th>7</th>\n",
       "      <td>1</td>\n",
       "      <td>McCarthy, Mr. Timothy J</td>\n",
       "      <td>male</td>\n",
       "      <td>54.0</td>\n",
       "      <td>0</td>\n",
       "      <td>0</td>\n",
       "      <td>17463</td>\n",
       "      <td>51.8625</td>\n",
       "      <td>S</td>\n",
       "      <td>True</td>\n",
       "      <td>0</td>\n",
       "      <td>&gt;50</td>\n",
       "      <td>Q4</td>\n",
       "    </tr>\n",
       "    <tr>\n",
       "      <th>8</th>\n",
       "      <td>3</td>\n",
       "      <td>Palsson, Master. Gosta Leonard</td>\n",
       "      <td>male</td>\n",
       "      <td>2.0</td>\n",
       "      <td>3</td>\n",
       "      <td>1</td>\n",
       "      <td>349909</td>\n",
       "      <td>21.0750</td>\n",
       "      <td>S</td>\n",
       "      <td>False</td>\n",
       "      <td>4</td>\n",
       "      <td>&lt;20</td>\n",
       "      <td>Q3</td>\n",
       "    </tr>\n",
       "    <tr>\n",
       "      <th>9</th>\n",
       "      <td>3</td>\n",
       "      <td>Johnson, Mrs. Oscar W (Elisabeth Vilhelmina Berg)</td>\n",
       "      <td>female</td>\n",
       "      <td>27.0</td>\n",
       "      <td>0</td>\n",
       "      <td>2</td>\n",
       "      <td>347742</td>\n",
       "      <td>11.1333</td>\n",
       "      <td>S</td>\n",
       "      <td>False</td>\n",
       "      <td>2</td>\n",
       "      <td>20-30</td>\n",
       "      <td>Q2</td>\n",
       "    </tr>\n",
       "    <tr>\n",
       "      <th>10</th>\n",
       "      <td>2</td>\n",
       "      <td>Nasser, Mrs. Nicholas (Adele Achem)</td>\n",
       "      <td>female</td>\n",
       "      <td>14.0</td>\n",
       "      <td>1</td>\n",
       "      <td>0</td>\n",
       "      <td>237736</td>\n",
       "      <td>30.0708</td>\n",
       "      <td>C</td>\n",
       "      <td>False</td>\n",
       "      <td>1</td>\n",
       "      <td>&lt;20</td>\n",
       "      <td>Q3</td>\n",
       "    </tr>\n",
       "  </tbody>\n",
       "</table>\n",
       "</div>"
      ]
     },
     "execution_count": 57,
     "metadata": {},
     "output_type": "execute_result"
    }
   ],
   "execution_count": 57
  },
  {
   "metadata": {},
   "cell_type": "markdown",
   "source": "# ▣ Transforming Numeric Features",
   "id": "12d2f57d52cac61e"
  },
  {
   "metadata": {
    "ExecuteTime": {
     "end_time": "2024-10-15T21:47:22.876286Z",
     "start_time": "2024-10-15T21:47:22.872065Z"
    }
   },
   "cell_type": "code",
   "source": [
    "from sklearn import preprocessing\n",
    "\n",
    "min_max_scaler = preprocessing.MinMaxScaler()\n",
    "NormalizedAge = min_max_scaler.fit_transform(df_features[['Age']].values)\n",
    "df_features['NormalizedAge'] = pd.DataFrame(NormalizedAge)\n",
    "\n",
    "std_scaler = preprocessing.StandardScaler()\n",
    "StandardizedAge = std_scaler.fit_transform(df_features[['Age']].values)\n",
    "df_features['StandardizedAge'] = pd.DataFrame(StandardizedAge)"
   ],
   "id": "82098aad42afad74",
   "outputs": [],
   "execution_count": 58
  },
  {
   "metadata": {
    "ExecuteTime": {
     "end_time": "2024-10-15T21:47:23.037523Z",
     "start_time": "2024-10-15T21:47:22.897625Z"
    }
   },
   "cell_type": "code",
   "source": "df_features[['Age', 'NormalizedAge', 'StandardizedAge']].hist(figsize=(10, 10), bins=5)",
   "id": "dd7021501493a84b",
   "outputs": [
    {
     "data": {
      "text/plain": [
       "array([[<Axes: title={'center': 'Age'}>,\n",
       "        <Axes: title={'center': 'NormalizedAge'}>],\n",
       "       [<Axes: title={'center': 'StandardizedAge'}>, <Axes: >]],\n",
       "      dtype=object)"
      ]
     },
     "execution_count": 59,
     "metadata": {},
     "output_type": "execute_result"
    },
    {
     "data": {
      "text/plain": [
       "<Figure size 1000x1000 with 4 Axes>"
      ],
      "image/png": "[encoded data removed]"
     },
     "metadata": {},
     "output_type": "display_data"
    }
   ],
   "execution_count": 59
  },
  {
   "metadata": {},
   "cell_type": "markdown",
   "source": "# ▣ One-Hot Encoding Categorical Features",
   "id": "15210cb520a75691"
  },
  {
   "metadata": {
    "ExecuteTime": {
     "end_time": "2024-10-15T21:47:23.059281Z",
     "start_time": "2024-10-15T21:47:23.056899Z"
    }
   },
   "cell_type": "code",
   "source": [
    "df_features_numeric = df_features.drop(\n",
    "    ['Name', 'Ticket', 'Sex', 'CabinIsKnown'], axis=1\n",
    ")"
   ],
   "id": "e15b77f316264b29",
   "outputs": [],
   "execution_count": 60
  },
  {
   "metadata": {
    "ExecuteTime": {
     "end_time": "2024-10-15T21:47:23.075253Z",
     "start_time": "2024-10-15T21:47:23.069804Z"
    }
   },
   "cell_type": "code",
   "source": [
    "df_temporary = pd.concat(\n",
    "    [df_features_numeric, df_titanic['Survived']], axis=1\n",
    ")\n",
    "df_temporary.head()"
   ],
   "id": "53f78c75bcc79c96",
   "outputs": [
    {
     "data": {
      "text/plain": [
       "             Pclass   Age  SibSp  Parch     Fare Embarked  FamilySize  \\\n",
       "PassengerId                                                             \n",
       "1                 3  22.0      1      0   7.2500        S           1   \n",
       "2                 1  38.0      1      0  71.2833        C           1   \n",
       "3                 3  26.0      0      0   7.9250        S           0   \n",
       "4                 1  35.0      1      0  53.1000        S           1   \n",
       "5                 3  35.0      0      0   8.0500        S           0   \n",
       "\n",
       "            AgeCategory FareCategory  NormalizedAge  StandardizedAge  Survived  \n",
       "PassengerId                                                                     \n",
       "1                 20-30           Q1       0.472229         0.663861         0  \n",
       "2                 30-40           Q4       0.321438        -0.258337         1  \n",
       "3                 20-30           Q2       0.434531         0.433312         1  \n",
       "4                 30-40           Q4       0.434531         0.433312         1  \n",
       "5                 30-40           Q2       0.346569        -0.104637         0  "
      ],
      "text/html": [
       "<div>\n",
       "<style scoped>\n",
       "    .dataframe tbody tr th:only-of-type {\n",
       "        vertical-align: middle;\n",
       "    }\n",
       "\n",
       "    .dataframe tbody tr th {\n",
       "        vertical-align: top;\n",
       "    }\n",
       "\n",
       "    .dataframe thead th {\n",
       "        text-align: right;\n",
       "    }\n",
       "</style>\n",
       "<table border=\"1\" class=\"dataframe\">\n",
       "  <thead>\n",
       "    <tr style=\"text-align: right;\">\n",
       "      <th></th>\n",
       "      <th>Pclass</th>\n",
       "      <th>Age</th>\n",
       "      <th>SibSp</th>\n",
       "      <th>Parch</th>\n",
       "      <th>Fare</th>\n",
       "      <th>Embarked</th>\n",
       "      <th>FamilySize</th>\n",
       "      <th>AgeCategory</th>\n",
       "      <th>FareCategory</th>\n",
       "      <th>NormalizedAge</th>\n",
       "      <th>StandardizedAge</th>\n",
       "      <th>Survived</th>\n",
       "    </tr>\n",
       "    <tr>\n",
       "      <th>PassengerId</th>\n",
       "      <th></th>\n",
       "      <th></th>\n",
       "      <th></th>\n",
       "      <th></th>\n",
       "      <th></th>\n",
       "      <th></th>\n",
       "      <th></th>\n",
       "      <th></th>\n",
       "      <th></th>\n",
       "      <th></th>\n",
       "      <th></th>\n",
       "      <th></th>\n",
       "    </tr>\n",
       "  </thead>\n",
       "  <tbody>\n",
       "    <tr>\n",
       "      <th>1</th>\n",
       "      <td>3</td>\n",
       "      <td>22.0</td>\n",
       "      <td>1</td>\n",
       "      <td>0</td>\n",
       "      <td>7.2500</td>\n",
       "      <td>S</td>\n",
       "      <td>1</td>\n",
       "      <td>20-30</td>\n",
       "      <td>Q1</td>\n",
       "      <td>0.472229</td>\n",
       "      <td>0.663861</td>\n",
       "      <td>0</td>\n",
       "    </tr>\n",
       "    <tr>\n",
       "      <th>2</th>\n",
       "      <td>1</td>\n",
       "      <td>38.0</td>\n",
       "      <td>1</td>\n",
       "      <td>0</td>\n",
       "      <td>71.2833</td>\n",
       "      <td>C</td>\n",
       "      <td>1</td>\n",
       "      <td>30-40</td>\n",
       "      <td>Q4</td>\n",
       "      <td>0.321438</td>\n",
       "      <td>-0.258337</td>\n",
       "      <td>1</td>\n",
       "    </tr>\n",
       "    <tr>\n",
       "      <th>3</th>\n",
       "      <td>3</td>\n",
       "      <td>26.0</td>\n",
       "      <td>0</td>\n",
       "      <td>0</td>\n",
       "      <td>7.9250</td>\n",
       "      <td>S</td>\n",
       "      <td>0</td>\n",
       "      <td>20-30</td>\n",
       "      <td>Q2</td>\n",
       "      <td>0.434531</td>\n",
       "      <td>0.433312</td>\n",
       "      <td>1</td>\n",
       "    </tr>\n",
       "    <tr>\n",
       "      <th>4</th>\n",
       "      <td>1</td>\n",
       "      <td>35.0</td>\n",
       "      <td>1</td>\n",
       "      <td>0</td>\n",
       "      <td>53.1000</td>\n",
       "      <td>S</td>\n",
       "      <td>1</td>\n",
       "      <td>30-40</td>\n",
       "      <td>Q4</td>\n",
       "      <td>0.434531</td>\n",
       "      <td>0.433312</td>\n",
       "      <td>1</td>\n",
       "    </tr>\n",
       "    <tr>\n",
       "      <th>5</th>\n",
       "      <td>3</td>\n",
       "      <td>35.0</td>\n",
       "      <td>0</td>\n",
       "      <td>0</td>\n",
       "      <td>8.0500</td>\n",
       "      <td>S</td>\n",
       "      <td>0</td>\n",
       "      <td>30-40</td>\n",
       "      <td>Q2</td>\n",
       "      <td>0.346569</td>\n",
       "      <td>-0.104637</td>\n",
       "      <td>0</td>\n",
       "    </tr>\n",
       "  </tbody>\n",
       "</table>\n",
       "</div>"
      ]
     },
     "execution_count": 61,
     "metadata": {},
     "output_type": "execute_result"
    }
   ],
   "execution_count": 61
  },
  {
   "metadata": {
    "ExecuteTime": {
     "end_time": "2024-10-15T21:47:23.106510Z",
     "start_time": "2024-10-15T21:47:23.103010Z"
    }
   },
   "cell_type": "code",
   "source": [
    "df_titanic_numeric = df_titanic.drop(columns=['Name', 'Sex', 'Ticket', 'Cabin', 'Embarked'])\n",
    "correlation_matrix = df_titanic_numeric.corr()\n",
    "correlation_matrix['Survived'].sort_values(ascending=False)"
   ],
   "id": "8287fde8d31bfa01",
   "outputs": [
    {
     "data": {
      "text/plain": [
       "Survived    1.000000\n",
       "Fare        0.257307\n",
       "Parch       0.081629\n",
       "SibSp      -0.035322\n",
       "Age        -0.077221\n",
       "Pclass     -0.338481\n",
       "Name: Survived, dtype: float64"
      ]
     },
     "execution_count": 62,
     "metadata": {},
     "output_type": "execute_result"
    }
   ],
   "execution_count": 62
  },
  {
   "metadata": {
    "ExecuteTime": {
     "end_time": "2024-10-15T21:47:23.156628Z",
     "start_time": "2024-10-15T21:47:23.155168Z"
    }
   },
   "cell_type": "code",
   "source": "",
   "id": "3c01cd2c3742a29",
   "outputs": [],
   "execution_count": null
  }
 ],
 "metadata": {
  "kernelspec": {
   "display_name": "Python 3",
   "language": "python",
   "name": "python3"
  },
  "language_info": {
   "codemirror_mode": {
    "name": "ipython",
    "version": 2
   },
   "file_extension": ".py",
   "mimetype": "text/x-python",
   "name": "python",
   "nbconvert_exporter": "python",
   "pygments_lexer": "ipython2",
   "version": "2.7.6"
  }
 },
 "nbformat": 4,
 "nbformat_minor": 5
}
