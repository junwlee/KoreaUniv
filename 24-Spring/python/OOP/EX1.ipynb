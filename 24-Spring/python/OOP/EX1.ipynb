{
 "cells": [
  {
   "cell_type": "code",
   "id": "initial_id",
   "metadata": {
    "collapsed": true,
    "ExecuteTime": {
     "end_time": "2024-06-06T00:57:13.679715Z",
     "start_time": "2024-06-06T00:57:13.677242Z"
    }
   },
   "source": [
    "class Character:\n",
    "    def __init__(self, job:str, hp:int) -> None:\n",
    "        self.job = job\n",
    "        self.hp = hp\n",
    "    def attack(self, enemy, deal:int):\n",
    "        enemy.hp -= deal\n",
    "        print(f'{enemy.job}에게 {deal}만큼 피해를 입혔습니다.')\n",
    "        print(f'{self.job} : {self.hp}, {enemy.job}: {enemy.hp}')\n",
    "    def defense(self):\n",
    "        print(f'{self.job}은(는) 5 피해를 입었습니다.')\n",
    "        self.hp -= 5\n",
    "        print(f\"{self.job}: {self.hp}\")"
   ],
   "outputs": [],
   "execution_count": 3
  },
  {
   "metadata": {
    "ExecuteTime": {
     "end_time": "2024-06-06T00:57:14.799281Z",
     "start_time": "2024-06-06T00:57:14.797027Z"
    }
   },
   "cell_type": "code",
   "source": [
    "player1 = Character(\"Warrior\", 100)\n",
    "player2 = Character(\"Paladin\", 100)\n",
    "\n",
    "player1.attack(player2, 10)\n",
    "player1.defense()"
   ],
   "id": "2c7a585ba984b1a0",
   "outputs": [
    {
     "name": "stdout",
     "output_type": "stream",
     "text": [
      "Paladin에게 10만큼 피해를 입혔습니다.\n",
      "Warrior : 100, Paladin: 90\n",
      "Warrior은(는) 5 피해를 입었습니다.\n",
      "Warrior: 95\n"
     ]
    }
   ],
   "execution_count": 4
  }
 ],
 "metadata": {
  "kernelspec": {
   "display_name": "Python 3",
   "language": "python",
   "name": "python3"
  },
  "language_info": {
   "codemirror_mode": {
    "name": "ipython",
    "version": 2
   },
   "file_extension": ".py",
   "mimetype": "text/x-python",
   "name": "python",
   "nbconvert_exporter": "python",
   "pygments_lexer": "ipython2",
   "version": "2.7.6"
  }
 },
 "nbformat": 4,
 "nbformat_minor": 5
}
