{
 "cells": [
  {
   "cell_type": "code",
   "id": "initial_id",
   "metadata": {
    "collapsed": true,
    "ExecuteTime": {
     "end_time": "2024-06-06T01:31:18.484709Z",
     "start_time": "2024-06-06T01:31:18.481437Z"
    }
   },
   "source": [
    "class Node:\n",
    "    def __init__(self):\n",
    "        self.count = 0\n",
    "        self.id = 0\n",
    "        \n",
    "    def getId(self):\n",
    "        return self.id\n",
    "    \n",
    "    def setId(self, id):\n",
    "        self.id = id\n",
    "        self.count = self.id + 1\n",
    "        \n",
    "    def print_even(self):\n",
    "        if self.id % 2 == 0:\n",
    "            print(f'id: {self.id}, count: {self.count}')"
   ],
   "outputs": [],
   "execution_count": 8
  },
  {
   "metadata": {
    "ExecuteTime": {
     "end_time": "2024-06-06T01:34:10.656104Z",
     "start_time": "2024-06-06T01:34:10.652150Z"
    }
   },
   "cell_type": "code",
   "source": [
    "id_set = [3, 6, 10, 5, 2]\n",
    "node = Node()\n",
    "node_set = []\n",
    "\n",
    "for i in id_set:\n",
    "    node.setId(i)\n",
    "    node_set.append(node)\n",
    "    node.print_even()\n",
    "    \n",
    "print(len(node_set))\n",
    "\n",
    "n1 = node_set[0]\n",
    "n1.getId()"
   ],
   "id": "4a5cc77bf72d8d51",
   "outputs": [
    {
     "name": "stdout",
     "output_type": "stream",
     "text": [
      "id: 6, count: 7\n",
      "id: 10, count: 11\n",
      "id: 2, count: 3\n",
      "5\n"
     ]
    },
    {
     "data": {
      "text/plain": [
       "2"
      ]
     },
     "execution_count": 10,
     "metadata": {},
     "output_type": "execute_result"
    }
   ],
   "execution_count": 10
  }
 ],
 "metadata": {
  "kernelspec": {
   "display_name": "Python 3",
   "language": "python",
   "name": "python3"
  },
  "language_info": {
   "codemirror_mode": {
    "name": "ipython",
    "version": 2
   },
   "file_extension": ".py",
   "mimetype": "text/x-python",
   "name": "python",
   "nbconvert_exporter": "python",
   "pygments_lexer": "ipython2",
   "version": "2.7.6"
  }
 },
 "nbformat": 4,
 "nbformat_minor": 5
}
