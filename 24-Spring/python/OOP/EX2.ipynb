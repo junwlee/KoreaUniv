{
 "cells": [
  {
   "cell_type": "code",
   "id": "initial_id",
   "metadata": {
    "collapsed": true,
    "ExecuteTime": {
     "end_time": "2024-06-06T01:13:54.277417Z",
     "start_time": "2024-06-06T01:13:54.272932Z"
    }
   },
   "source": [
    "class Seller():\n",
    "    def __init__(self):\n",
    "        self.num_apples = 10\n",
    "        self.money = 0\n",
    "        self.unit = 1000\n",
    "    def sell(self, payment):\n",
    "        toss = payment / self.unit\n",
    "        self.num_apples -= toss\n",
    "        self.money += payment\n",
    "        return toss\n",
    "    def show(self):\n",
    "        print('Seller의 사과 수: {}'.format(int(self.num_apples)))\n",
    "        print('Seller의 money: {}'.format(self.money))\n",
    "\n",
    "class Buyer:\n",
    "    def __init__(self, seed:int):\n",
    "        self.num_apples = 0\n",
    "        self.money = seed\n",
    "    def buy(self, seller, payment):\n",
    "        self.num_apples += seller.sell(payment)\n",
    "        self.money -= payment\n",
    "    def show(self):\n",
    "        print('Buyer의 사과 수: {}'.format(int(self.num_apples)))\n",
    "        print('Buyer의 돈: {}'.format(self.money))"
   ],
   "outputs": [],
   "execution_count": 12
  },
  {
   "metadata": {
    "ExecuteTime": {
     "end_time": "2024-06-06T01:13:54.787942Z",
     "start_time": "2024-06-06T01:13:54.785563Z"
    }
   },
   "cell_type": "code",
   "source": [
    "seller = Seller()\n",
    "buyer = Buyer(5000)\n",
    "\n",
    "buyer.buy(seller, 3000)\n",
    "buyer.show()\n",
    "\n",
    "seller.show()"
   ],
   "id": "7e595d946f27610b",
   "outputs": [
    {
     "name": "stdout",
     "output_type": "stream",
     "text": [
      "Buyer의 사과 수: 3\n",
      "Buyer의 돈: 2000\n",
      "Seller의 사과 수: 7\n",
      "Seller의 money: 3000\n"
     ]
    }
   ],
   "execution_count": 13
  },
  {
   "metadata": {},
   "cell_type": "code",
   "outputs": [],
   "execution_count": null,
   "source": "",
   "id": "71bfc2510899c154"
  }
 ],
 "metadata": {
  "kernelspec": {
   "display_name": "Python 3",
   "language": "python",
   "name": "python3"
  },
  "language_info": {
   "codemirror_mode": {
    "name": "ipython",
    "version": 2
   },
   "file_extension": ".py",
   "mimetype": "text/x-python",
   "name": "python",
   "nbconvert_exporter": "python",
   "pygments_lexer": "ipython2",
   "version": "2.7.6"
  }
 },
 "nbformat": 4,
 "nbformat_minor": 5
}
