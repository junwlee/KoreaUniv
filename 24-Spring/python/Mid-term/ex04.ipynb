{
 "cells": [
  {
   "cell_type": "code",
   "execution_count": null,
   "id": "initial_id",
   "metadata": {
    "collapsed": true
   },
   "outputs": [],
   "source": [
    "# Write a program that receives an integer greater than 1 and determines whether it is a composite number, and if it is a composite number, finds the divisors and outputs all of them."
   ]
  },
  {
   "cell_type": "code",
   "outputs": [
    {
     "name": "stdout",
     "output_type": "stream",
     "text": [
      "11 is a prime number.\n"
     ]
    }
   ],
   "source": [
    "# prime number check\n",
    "\n",
    "n = int(input('Enter an integer greater than 1: '))\n",
    "if n > 1:\n",
    "    for i in range(2, int(n**0.5) + 1):\n",
    "        if n % i == 0:\n",
    "            print(f'{n} is not a prime number.')\n",
    "            break\n",
    "    else:\n",
    "        # If no factor was found, number is prime\n",
    "        print(f'{n} is a prime number.')\n",
    "else:\n",
    "    print('Enter a number greater than 1.')"
   ],
   "metadata": {
    "collapsed": false,
    "ExecuteTime": {
     "end_time": "2024-04-25T04:17:00.307131Z",
     "start_time": "2024-04-25T04:16:58.853815Z"
    }
   },
   "id": "568f2ba81f60fd3c",
   "execution_count": 4
  },
  {
   "cell_type": "code",
   "outputs": [],
   "source": [],
   "metadata": {
    "collapsed": false
   },
   "id": "2c57f42fd964b4dd"
  }
 ],
 "metadata": {
  "kernelspec": {
   "display_name": "Python 3",
   "language": "python",
   "name": "python3"
  },
  "language_info": {
   "codemirror_mode": {
    "name": "ipython",
    "version": 2
   },
   "file_extension": ".py",
   "mimetype": "text/x-python",
   "name": "python",
   "nbconvert_exporter": "python",
   "pygments_lexer": "ipython2",
   "version": "2.7.6"
  }
 },
 "nbformat": 4,
 "nbformat_minor": 5
}
