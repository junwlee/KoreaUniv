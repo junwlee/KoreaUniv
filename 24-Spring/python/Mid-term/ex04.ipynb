{
 "cells": [
  {
   "cell_type": "code",
   "execution_count": null,
   "id": "initial_id",
   "metadata": {
    "collapsed": true
   },
   "outputs": [],
   "source": [
    "# Write a program that receives an integer greater than 1 and determines whether it is a composite number, and if it is a composite number, finds the divisors and outputs all of them."
   ]
  },
  {
   "cell_type": "code",
   "outputs": [
    {
     "name": "stdout",
     "output_type": "stream",
     "text": [
      "11 is a prime number.\n"
     ]
    }
   ],
   "source": [
    "# prime number check\n",
    "\n",
    "n = int(input('Enter an integer greater than 1: '))\n",
    "if n > 1:\n",
    "    for i in range(2, int(n**0.5) + 1):\n",
    "        if n % i == 0:\n",
    "            print(f'{n} is not a prime number.')\n",
    "            break\n",
    "    else:\n",
    "        # If no factor was found, number is prime\n",
    "        print(f'{n} is a prime number.')\n",
    "else:\n",
    "    print('Enter a number greater than 1.')"
   ],
   "metadata": {
    "collapsed": false,
    "ExecuteTime": {
     "end_time": "2024-04-25T04:17:00.307131Z",
     "start_time": "2024-04-25T04:16:58.853815Z"
    }
   },
   "id": "568f2ba81f60fd3c",
   "execution_count": 4
  },
  {
   "cell_type": "code",
   "outputs": [
    {
     "name": "stdout",
     "output_type": "stream",
     "text": [
      "The number 11 is prime number.\n"
     ]
    }
   ],
   "source": [
    "# functional programming\n",
    "\n",
    "def is_composite(n):\n",
    "    \"\"\" Check if the number is composite.\n",
    "    \n",
    "    A composite number has more divisors than 1 and itself.\n",
    "    Returns True if composite, False otherwise.\n",
    "    \"\"\"\n",
    "    if n <= 3:  # Numbers 1, 2, 3 are not composite\n",
    "        return False\n",
    "    elif n % 2 == 0 or n % 3 == 0:\n",
    "        return True  # Quick check for divisibility by 2 or 3\n",
    "    i = 5\n",
    "    while i * i <= n:\n",
    "        if n % i == 0 or n % (i + 2) == 0:\n",
    "            return True\n",
    "        i += 6\n",
    "    return False\n",
    "\n",
    "def find_divisors(n):\n",
    "    \"\"\" Retrieve all divisors of the number n, assuming n is composite.\n",
    "    \n",
    "    Returns a list of integers that are the divisors of n.\n",
    "    \"\"\"\n",
    "    divisors = []\n",
    "    for i in range(1, int(n ** 0.5) + 1):\n",
    "        if n % i == 0:\n",
    "            divisors.append(i)\n",
    "            if i != n // i:  # Include the complement if not a perfect square\n",
    "                divisors.append(n // i)\n",
    "    divisors.sort()\n",
    "    return divisors\n",
    "\n",
    "def composite_info(n):\n",
    "    \"\"\" Determines if a number is composite and finds divisors if it is.\n",
    "    \n",
    "    Returns a message with the result and the divisors if applicable.\n",
    "    \"\"\"\n",
    "    if is_composite(n):\n",
    "        divisors = find_divisors(n)\n",
    "        return f\"The number {n} is composite. Its divisors are: {divisors}\"\n",
    "    else:\n",
    "        return f\"The number {n} is prime number.\"\n",
    "\n",
    "num = int(input('Enter an integer greater than 1: '))\n",
    "\n",
    "print(composite_info(num))"
   ],
   "metadata": {
    "collapsed": false,
    "ExecuteTime": {
     "end_time": "2024-04-25T04:44:18.360090Z",
     "start_time": "2024-04-25T04:44:16.665634Z"
    }
   },
   "id": "4c2473d96d83fed2",
   "execution_count": 13
  },
  {
   "cell_type": "markdown",
   "source": [
    "## The increment 'i += 6':\n",
    "- Increases i by 6 to ensure that the numbers checked are only those that could potentially be prime, by skipping multiples of 2 and 3.\n",
    "- By adding 6, which is the least common multiple(공배수) of 2 and 3, it guarantees that both i and i + 2 are not divisible by 2 or 3, streamlining the process by focusing only on numbers that are not immediately eliminable as non-prime.\n",
    "- 2와 3을 제외한 다른 모든 소수와 그 이외의 가능한 모든 소수의 배수들도 체크"
   ],
   "metadata": {
    "collapsed": false
   },
   "id": "122182fd786470bc"
  }
 ],
 "metadata": {
  "kernelspec": {
   "display_name": "Python 3",
   "language": "python",
   "name": "python3"
  },
  "language_info": {
   "codemirror_mode": {
    "name": "ipython",
    "version": 2
   },
   "file_extension": ".py",
   "mimetype": "text/x-python",
   "name": "python",
   "nbconvert_exporter": "python",
   "pygments_lexer": "ipython2",
   "version": "2.7.6"
  }
 },
 "nbformat": 4,
 "nbformat_minor": 5
}
