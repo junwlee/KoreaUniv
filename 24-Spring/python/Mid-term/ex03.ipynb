{
 "cells": [
  {
   "cell_type": "markdown",
   "source": [
    "# 임의의 리스트 X에 있는 값 중 가장 작은 값과 그것의 인덱스를 출력(반복문으로 풀기)"
   ],
   "metadata": {
    "collapsed": false
   },
   "id": "54078909f0c68723"
  },
  {
   "cell_type": "code",
   "execution_count": 3,
   "id": "initial_id",
   "metadata": {
    "collapsed": true,
    "ExecuteTime": {
     "end_time": "2024-04-25T03:43:14.828062Z",
     "start_time": "2024-04-25T03:43:14.825048Z"
    }
   },
   "outputs": [
    {
     "name": "stdout",
     "output_type": "stream",
     "text": [
      "최댓값: 3 인덱스: 4 6\n"
     ]
    }
   ],
   "source": [
    "def find_min_value_and_index(lst):\n",
    "    min_value = lst[0]\n",
    "    min_index = 0\n",
    "    \n",
    "    for index in range(len(lst)):\n",
    "        if lst[index] < min_value:\n",
    "            min_value = lst[index]\n",
    "            min_index = index\n",
    "    \n",
    "    return min_value, min_index\n",
    "\n",
    "X = [65, 23, 76, 44, 3, 100, 58]\n",
    "# 결과 출력\n",
    "min_value, min_index = find_min_value_and_index(X)\n",
    "print(\"최댓값:\", min_value, \"인덱스:\", min_index)"
   ]
  },
  {
   "cell_type": "code",
   "outputs": [
    {
     "name": "stdout",
     "output_type": "stream",
     "text": [
      "최솟값: 3 인덱스: 4\n"
     ]
    }
   ],
   "source": [
    "# ver2\n",
    "\n",
    "def find_min_value_and_index(lst):\n",
    "    min_value = lst[0]\n",
    "    min_index = 0\n",
    "            \n",
    "    j = 0\n",
    "    while j < len(lst) - 1:\n",
    "        if lst[j] < min_value:\n",
    "            min_value = lst[j]\n",
    "            min_index = j\n",
    "        j += 1\n",
    "    \n",
    "    return min_value, min_index\n",
    "\n",
    "X = [65, 23, 76, 44, 3, 100, 58]\n",
    "# 결과 출력\n",
    "min_value, min_index = find_min_value_and_index(X)\n",
    "print(\"최솟값:\", min_value, \"인덱스:\", min_index)"
   ],
   "metadata": {
    "collapsed": false,
    "ExecuteTime": {
     "end_time": "2024-04-25T03:46:38.776593Z",
     "start_time": "2024-04-25T03:46:38.773758Z"
    }
   },
   "id": "c2655b632c7b9202",
   "execution_count": 5
  }
 ],
 "metadata": {
  "kernelspec": {
   "display_name": "Python 3",
   "language": "python",
   "name": "python3"
  },
  "language_info": {
   "codemirror_mode": {
    "name": "ipython",
    "version": 2
   },
   "file_extension": ".py",
   "mimetype": "text/x-python",
   "name": "python",
   "nbconvert_exporter": "python",
   "pygments_lexer": "ipython2",
   "version": "2.7.6"
  }
 },
 "nbformat": 4,
 "nbformat_minor": 5
}
