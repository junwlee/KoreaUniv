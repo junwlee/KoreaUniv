{
 "cells": [
  {
   "cell_type": "markdown",
   "source": [
    "# 임의의 리스트 X에 있는 값 중 가장 큰 값과 그것의 인덱스를 출력(반복문으로 풀기)"
   ],
   "metadata": {
    "collapsed": false
   },
   "id": "7deaf8a1ac71071b"
  },
  {
   "cell_type": "code",
   "outputs": [],
   "source": [
    "# ver1\n",
    "\n",
    "x = list((5, 2, 7, 12, 67, 3))\n",
    "lst = []\n",
    "for i,v in enumerate(x):\n",
    "    lst.append((i,v))\n",
    "sorted_lst = sorted(lst, key=lambda x:x[1], reverse=True)\n",
    "print(f'Max value: {sorted_lst[0][1]}, index: {sorted_lst[0][0]}')"
   ],
   "metadata": {
    "collapsed": false
   },
   "id": "493ca1cc8d3abae"
  },
  {
   "cell_type": "code",
   "outputs": [
    {
     "name": "stdout",
     "output_type": "stream",
     "text": [
      "최댓값: 100 인덱스: 5\n"
     ]
    }
   ],
   "source": [
    "# ver2\n",
    "\n",
    "def find_max_value_and_index(lst):\n",
    "    max_value = lst[0]\n",
    "    max_index = 0\n",
    "    \n",
    "    for index in range(len(lst)):\n",
    "        if lst[index] > max_value:\n",
    "            max_value = lst[index]\n",
    "            max_index = index\n",
    "    \n",
    "    return max_value, max_index\n",
    "\n",
    "X = [3, 65, 23, 76, 44, 100, 58]\n",
    "# 결과 출력\n",
    "max_value, max_index = find_max_value_and_index(X)\n",
    "print(\"최댓값:\", max_value, \"인덱스:\", max_index)"
   ],
   "metadata": {
    "collapsed": false,
    "ExecuteTime": {
     "end_time": "2024-04-25T03:35:40.347805Z",
     "start_time": "2024-04-25T03:35:40.344912Z"
    }
   },
   "id": "8d2e33d660c5fafd",
   "execution_count": 27
  },
  {
   "cell_type": "code",
   "outputs": [],
   "source": [],
   "metadata": {
    "collapsed": false
   },
   "id": "cbdb85d1347d0ae"
  }
 ],
 "metadata": {
  "kernelspec": {
   "display_name": "Python 3",
   "language": "python",
   "name": "python3"
  },
  "language_info": {
   "codemirror_mode": {
    "name": "ipython",
    "version": 2
   },
   "file_extension": ".py",
   "mimetype": "text/x-python",
   "name": "python",
   "nbconvert_exporter": "python",
   "pygments_lexer": "ipython2",
   "version": "2.7.6"
  }
 },
 "nbformat": 4,
 "nbformat_minor": 5
}
