{
 "cells": [
  {
   "metadata": {
    "ExecuteTime": {
     "end_time": "2024-05-19T05:56:16.969332Z",
     "start_time": "2024-05-19T05:56:16.959696Z"
    }
   },
   "cell_type": "code",
   "source": [
    "import pandas as pd\n",
    "\n",
    "df_22_23 = pd.read_csv('csv/2022-2023.csv', encoding='cp949')\n",
    "\n",
    "# Drop unnecessary column\n",
    "df_22_23 = df_22_23.drop(['Rk'], axis=1)\n",
    "\n",
    "# df_22_23.head()\n",
    "# df_22_23.info()"
   ],
   "id": "ca721bbcdf4966cc",
   "execution_count": 16,
   "outputs": []
  },
  {
   "metadata": {
    "ExecuteTime": {
     "end_time": "2024-05-19T05:56:20.843124Z",
     "start_time": "2024-05-19T05:56:20.840552Z"
    }
   },
   "cell_type": "code",
   "source": [
    "# Gls' 열에서 최대값을 찾습니다:\n",
    "max_gls = df_22_23['Gls'].max()\n",
    "\n",
    "players_with_max_gls = df_22_23[df_22_23['Gls'] == max_gls]['Player']\n",
    "print(players_with_max_gls)"
   ],
   "id": "5cc52926b6083114",
   "execution_count": 17,
   "outputs": []
  },
  {
   "metadata": {
    "ExecuteTime": {
     "end_time": "2024-05-18T00:47:15.996440Z",
     "start_time": "2024-05-18T00:47:15.990878Z"
    }
   },
   "cell_type": "code",
   "source": [
    "import numpy as np\n",
    "\n",
    "# 값 대체를 위한 사전 정의\n",
    "replace_values = {\n",
    "    'DF,FW': 'FW,DF',\n",
    "    'DF,MF': 'MF,DF',\n",
    "    'MF,FW': 'FW,MF'\n",
    "}\n",
    "\n",
    "df_22_23['Pos'] = df_22_23['Pos'].replace(replace_values)\n",
    "# print(np.unique(df_22_23.Pos))"
   ],
   "id": "c8331ea8fd6c042d",
   "execution_count": 2,
   "outputs": []
  },
  {
   "metadata": {},
   "cell_type": "markdown",
   "source": "# 결측치 채우기",
   "id": "59169921503f5f30"
  },
  {
   "metadata": {
    "ExecuteTime": {
     "end_time": "2024-05-18T00:47:24.228830Z",
     "start_time": "2024-05-18T00:47:24.222928Z"
    }
   },
   "cell_type": "code",
   "source": [
    "numeric_df = df_22_23.select_dtypes(include=[np.number])\n",
    "\n",
    "# NaN 값을 포함하는 각 열의 평균값으로 NaN을 채우고 소수점 아래 세 자리로 반올림\n",
    "df_22_23[numeric_df.columns] = numeric_df.apply(lambda x: x.fillna(x.mean()), axis=0).round(3)\n",
    "\n",
    "# # 열 별로 NaN 값이 있는지 확인\n",
    "# column_nan = df_22_23.isna().any()\n",
    "# print(column_nan)\n",
    "# \n",
    "# # 행 별로 NaN 값이 있는지 확인\n",
    "# row_nan = df_22_23.isna().any(axis=1)\n",
    "# print(row_nan)"
   ],
   "id": "bcf2d14ec817dc00",
   "execution_count": 3,
   "outputs": []
  },
  {
   "metadata": {},
   "cell_type": "markdown",
   "source": "# Baseline model",
   "id": "dbad164de96e16e1"
  },
  {
   "metadata": {
    "ExecuteTime": {
     "end_time": "2024-05-18T00:47:34.627072Z",
     "start_time": "2024-05-18T00:47:34.211207Z"
    }
   },
   "cell_type": "code",
   "source": [
    "# Decision Tree\n",
    "from sklearn.tree import DecisionTreeRegressor\n",
    "from sklearn.model_selection import train_test_split\n",
    "import category_encoders as ce # object 타입 수치형 데이터로 인코딩\n",
    "\n",
    "X = df_22_23.drop(columns=['Gls', 'Player'], axis=1) # Player이름을 모델에서 추출하기 위해 학습 시에는 제거\n",
    "y = df_22_23['Gls']\n",
    "\n",
    "# 타겟 인코더: 각 변수들(colums)이 골 수와 어떤 상관관계를 가지고 있는지를 모델이 학습할 수 있게 함.\n",
    "target_encoder = ce.TargetEncoder(cols=['Nation', 'Pos', 'Squad', 'Comp', 'Matches'])\n",
    "\n",
    "# 인코딩 수행\n",
    "df_22_23_encoded = target_encoder.fit_transform(X, y)\n",
    "\n",
    "# 데이터프레임 재구성\n",
    "df_22_23_encoded['Gls'] = df_22_23['Gls']\n",
    "\n",
    "X_encoded_train = df_22_23_encoded.drop(columns=['Gls'], axis=1)\n",
    "y_encoded_train = df_22_23_encoded['Gls']\n",
    "\n",
    "X_train, X_val, y_train, y_val = train_test_split(\n",
    "    X_encoded_train, y_encoded_train,\n",
    "    test_size=0.2,\n",
    "    random_state=42\n",
    ")\n",
    "\n",
    "model = DecisionTreeRegressor(random_state=42, max_features=0.9)\n",
    "model.fit(X_train, y_train)\n",
    "\n",
    "coef = model.score(X_val, y_val) # Return the coefficient of determination of the prediction.\n",
    "print(f'Decision Tree R^2: {coef:.2f} (or {coef * 100:.2f}%)')"
   ],
   "id": "f46cfe4388be32b5",
   "execution_count": 4,
   "outputs": []
  },
  {
   "metadata": {},
   "cell_type": "markdown",
   "source": "# 예측결과 확인",
   "id": "34998340c6f66786"
  },
  {
   "metadata": {},
   "cell_type": "code",
   "source": [
    "# 테스트 데이터셋에 대한 예측\n",
    "predictions = model.predict(X_encoded_train)\n",
    "\n",
    "# 예측값 중 최대값 찾기\n",
    "max_prediction_index = predictions.argmax()\n",
    "max_prediction_player = df_22_23.iloc[max_prediction_index]['Player']\n",
    "\n",
    "print(\"예측된 득점왕 선수는:\", max_prediction_player)\n",
    "\n",
    "# 예측 결과 DataFrame 생성\n",
    "predicted_data = pd.DataFrame({\n",
    "    'Player': X_encoded_train.index.map(df_22_23['Player']),  # 인덱스를 사용하여 선수 이름 매핑\n",
    "    'Predicted_Gls': predictions\n",
    "})\n",
    "\n",
    "# 실제 득점왕\n",
    "actual_top_scorer = df_22_23.loc[df_22_23['Gls'].idxmax(), 'Player']\n",
    "\n",
    "# 예측 득점왕\n",
    "predicted_top_scorer = predicted_data.loc[predicted_data['Predicted_Gls'].idxmax(), 'Player']\n",
    "\n",
    "# 득점왕 비교\n",
    "if actual_top_scorer == predicted_top_scorer:\n",
    "    print(f\"모델이 정확하게 득점왕을 예측했습니다: {actual_top_scorer}\")\n",
    "else:\n",
    "    print(f\"모델의 예측 득점왕: {predicted_top_scorer}, 실제 득점왕: {actual_top_scorer}\")\n",
    "\n",
    "# idx = df_22_23.index[df_22_23['Player'] == 'Erling Haaland']\n",
    "# df_22_23.loc[idx, 'Gls']"
   ],
   "id": "e4996a1e9f833d69",
   "execution_count": null,
   "outputs": []
  },
  {
   "metadata": {},
   "cell_type": "markdown",
   "source": [
    "# Improve accuracy\n",
    "    - RandomForestRegressor: 정확한 예측을 만들기 위한 각 특성의 상대적인 중요도를 알려준다."
   ],
   "id": "45350ec1d3fdeabe"
  },
  {
   "metadata": {
    "ExecuteTime": {
     "end_time": "2024-05-18T00:48:24.739378Z",
     "start_time": "2024-05-18T00:48:05.977918Z"
    }
   },
   "cell_type": "code",
   "source": [
    "from sklearn.ensemble import RandomForestRegressor\n",
    "from sklearn.model_selection import GridSearchCV\n",
    "from sklearn.metrics import mean_absolute_error\n",
    "\n",
    "random_forest = RandomForestRegressor(n_jobs=-1)\n",
    "# \n",
    "rf_params = {\n",
    "    'random_state': [42],\n",
    "    'n_estimators': [100, 120, 140],\n",
    "    'max_depth': [None, 3, 5, 7, 10],\n",
    "    'max_features': [0.5, 0.7, 0.9, 1.0]\n",
    "}\n",
    "\n",
    "gs = GridSearchCV(\n",
    "    estimator=random_forest,\n",
    "    param_grid=rf_params,\n",
    "    scoring='neg_mean_absolute_error', # 사이킷런의 교차검증은 클수록 좋은 효용함수를 기대\n",
    "    cv=5\n",
    ")\n",
    "\n",
    "gs.fit(X_train, y_train)\n",
    "print(f'Best parameters: {gs.best_params_}')\n",
    "\n",
    "# 분할 전 데이터셋에 대한 예측\n",
    "preds = gs.best_estimator_.predict(X_encoded_train) # 오차가 섞였다고 생각할 수 있다\n",
    "score = mean_absolute_error(y_encoded_train, preds)\n",
    "\n",
    "print(f'Random Forest evaluation by MAE: {score:.2f}')\n",
    "\n",
    "# 예측값 중 최대값 찾기\n",
    "max_prediction_index = preds.argmax()\n",
    "max_prediction_player = df_22_23.iloc[max_prediction_index]['Player']\n",
    "\n",
    "print(\"예측된 득점왕 선수는:\", max_prediction_player)"
   ],
   "id": "a1d0f7ffb1c221b2",
   "execution_count": 5,
   "outputs": []
  },
  {
   "metadata": {},
   "cell_type": "markdown",
   "source": [
    "# Apply StratifiedKFold & Nested CV\n",
    "    - StratifiedKFold는 각 폴드의 클래스 분포가 원래 데이터의 클래스 분포와 유사하게 유지되도록 데이터를 나눈다.\n",
    "    - StratifiedKFold의 split 메서드는 입력된 데이터와 목표 변수의 분포를 기반으로 폴드를 생성\n",
    "        - 각 폴드의 훈련 및 검증 인덱스를 생성"
   ],
   "id": "868814ac514b22df"
  },
  {
   "metadata": {
    "ExecuteTime": {
     "end_time": "2024-05-18T02:23:04.012189Z",
     "start_time": "2024-05-18T02:22:51.913353Z"
    }
   },
   "cell_type": "code",
   "source": [
    "from sklearn.model_selection import StratifiedKFold\n",
    "\n",
    "# StratifiedKFold가 클래스 분포를 유지하며 폴드를 나누는 데 사용\n",
    "# 득점 데이터를 분포를 고려하여 범주화하여 StratifiedKFold 적용\n",
    "y_binned = pd.qcut(y_encoded_train, q=5, labels=False, duplicates='drop')\n",
    "\n",
    "inner_cv = StratifiedKFold(\n",
    "    n_splits=3,\n",
    "    random_state=42,\n",
    "    shuffle=True)\n",
    "# outer_cv = StratifiedKFold(\n",
    "#     n_splits=5,\n",
    "#     random_state=42,\n",
    "#     shuffle=True\n",
    "# )\n",
    "# # \n",
    "# # Nested Cross Validation\n",
    "# outer_scores = []\n",
    "# for train_index, valid_index in outer_cv.split(X_encoded_train, y_binned): # train_index, valid_index: ndarray\n",
    "#     X_train, X_valid = X_encoded_train.iloc[train_index], X_encoded_train.iloc[valid_index]\n",
    "#     y_train, y_valid = y_encoded_train.iloc[train_index], y_encoded_train.iloc[valid_index]\n",
    "#     y_binned_train = y_binned.iloc[train_index]\n",
    "# \n",
    "#     # inner loop: Tune hyperparameters\n",
    "#     gs = GridSearchCV(\n",
    "#         estimator=random_forest,\n",
    "#         param_grid=rf_params,\n",
    "#         scoring='neg_mean_absolute_error',\n",
    "#         cv=inner_cv.split(X_train, y_binned_train) # 튜플 반환: 각 폴드마다 어떤 데이터를 훈련에 사용하고, 어떤 데이터를 검증에 사용할지를 명확하게 정해준다\n",
    "#     )\n",
    "#     gs.fit(X_train, y_train)\n",
    "# \n",
    "#     predictions = gs.best_estimator_.predict(X_valid)\n",
    "#     outer_score = mean_absolute_error(y_valid, predictions)\n",
    "#     outer_scores.append(outer_score)\n",
    "# \n",
    "# average_score = np.mean(outer_scores)  # 평균 점수 계산\n",
    "# print(f'Average MAE across all folds: {average_score:0.3f}')\n",
    "\n",
    "# 전체 데이터를 사용하여 최종 모델 훈련\n",
    "final_gs = GridSearchCV(\n",
    "    estimator=random_forest,\n",
    "    param_grid=rf_params,\n",
    "    scoring='neg_mean_absolute_error',\n",
    "    cv=inner_cv.split(X_encoded_train, y_binned)\n",
    ")\n",
    "\n",
    "final_gs.fit(X_encoded_train, y_encoded_train)\n",
    "\n",
    "# print(f\"X_encoded_train의 형태: {X_encoded_train.shape}\") # (2889, 24)\n",
    "# print(f\"y_encoded_train의 형태: {y_encoded_train.shape}\") # (2889,)\n",
    "# print(f\"y_binned의 형태: {y_binned.shape}\") # (2889,)\n",
    "\n",
    "# 전체 데이터로 예측 수행\n",
    "preds = final_gs.best_estimator_.predict(X_encoded_train)\n",
    "MAE = mean_absolute_error(y_encoded_train, preds)\n",
    "print(f'Random Forest evaluation MAE: {MAE:.2f}')\n",
    "\n",
    "# 예측된 득점왕 선수 찾기\n",
    "max_prediction_index = preds.argmax()\n",
    "max_prediction_player = df_22_23.iloc[max_prediction_index]['Player']\n",
    "\n",
    "print(\"예측된 득점왕 선수는:\", max_prediction_player)"
   ],
   "id": "a2928a29e252d968",
   "execution_count": 15,
   "outputs": []
  },
  {
   "metadata": {},
   "cell_type": "markdown",
   "source": "# Test Data",
   "id": "48ea8bde5e75abe2"
  },
  {
   "metadata": {},
   "cell_type": "code",
   "source": [
    "import pandas as pd\n",
    "\n",
    "df_23_24 = pd.read_csv('csv/2023-2024.csv', encoding='cp949')\n",
    "\n",
    "# Drop unnecessary column\n",
    "df_23_24 = df_23_24.drop(['Rk'], axis=1)\n",
    "\n",
    "# 'Age' 열에서 '-' 앞의 정보만 추출하여 새로운 열로 저장\n",
    "df_23_24['Age'] = df_23_24['Age'].str.split('-').str[0]\n",
    "\n",
    "# # 'Age'열 데이터 타입 변경\n",
    "# df_23_24['Age'] = df_23_24['Age'].astype('Int64')\n",
    "\n",
    "# 숫자로 변환할 수 없는 값이 있는 경우 NaN으로 변경(object -> NaN)\n",
    "df_23_24['Age'] = pd.to_numeric(df_23_24['Age'], errors='coerce')\n",
    "\n",
    "# df_23_24['Age'] = df_23_24['Age'].astype(int)\n",
    "# IntCastingNaNError: Cannot convert non-finite values (NA or inf) to integer\n",
    "\n",
    "# df_23_24.head()"
   ],
   "id": "a0bc8f9028ad5c4b",
   "execution_count": null,
   "outputs": []
  },
  {
   "metadata": {},
   "cell_type": "code",
   "source": [
    "replace_values = {\n",
    "    'DF,FW': 'FW,DF',\n",
    "    'DF,MF': 'MF,DF',\n",
    "    'MF,FW': 'FW,MF'\n",
    "}\n",
    "\n",
    "df_23_24['Pos'] = df_23_24['Pos'].replace(replace_values)"
   ],
   "id": "670e31ea4b5c1aba",
   "execution_count": null,
   "outputs": []
  },
  {
   "metadata": {},
   "cell_type": "code",
   "source": [
    "numeric_df = df_23_24.select_dtypes(include=[np.number])\n",
    "\n",
    "df_23_24[numeric_df.columns] = numeric_df.apply(lambda x: x.fillna(x.mean()), axis=0).round(2)\n",
    "\n",
    "# 'Age' 열의 타입을 'int64'로 변경\n",
    "df_23_24['Age'] = df_23_24['Age'].astype(int)\n",
    "\n",
    "# # 열 별로 NaN 값이 있는지 확인\n",
    "# column_nan = df_23_24.isna().any()\n",
    "# print(column_nan)"
   ],
   "id": "b95a300ec3e26313",
   "execution_count": null,
   "outputs": []
  },
  {
   "metadata": {},
   "cell_type": "markdown",
   "source": "# 독립변수, 종속변수 생성",
   "id": "83f66906008d7221"
  },
  {
   "metadata": {},
   "cell_type": "code",
   "source": [
    "X_test = df_23_24.drop(columns=['Gls', 'Player'], axis=1)\n",
    "y_test = df_23_24['Gls']\n",
    "\n",
    "target_encoder = ce.TargetEncoder(cols=['Nation', 'Pos', 'Squad', 'Comp', 'Matches'])\n",
    "\n",
    "# 인코딩 수행\n",
    "df_23_24_encoded = target_encoder.fit_transform(X_test, y_test)\n",
    "\n",
    "# 데이터프레임 재구성\n",
    "df_23_24_encoded['Gls'] = df_23_24['Gls']\n",
    "\n",
    "X_encoded_test = df_23_24_encoded.drop(columns=['Gls'], axis=1)\n",
    "y_encoded_test = df_23_24_encoded['Gls']"
   ],
   "id": "c745aabb2932fa35",
   "execution_count": null,
   "outputs": []
  },
  {
   "metadata": {},
   "cell_type": "markdown",
   "source": "# Test Data로 예측하기",
   "id": "9762ef695c138dd8"
  },
  {
   "metadata": {},
   "cell_type": "code",
   "source": [
    "# print(f\"X_encoded_test의 형태: {X_encoded_test.shape}\") # shape: (2793, 24)\n",
    "# print(f\"y_encoded_test의 형태: {y_encoded_test.shape}\") # shape: (2793,)\n",
    "\n",
    "final_gs.best_estimator_.fit(X_encoded_test, y_encoded_test)\n",
    "\n",
    "preds_test = final_gs.best_estimator_.predict(X_encoded_test)\n",
    "score = mean_absolute_error(y_encoded_test, preds_test)\n",
    "\n",
    "print(f'Random Forest evaluation by MAE: {score:.2f}')\n",
    "\n",
    "# 예측값 중 최대값 찾기\n",
    "max_prediction_index = preds_test.argmax()\n",
    "max_prediction_player = df_23_24.iloc[max_prediction_index]['Player']\n",
    "\n",
    "print(\"예측된 득점왕 선수는:\", max_prediction_player)"
   ],
   "id": "37d75a5bac7328fb",
   "execution_count": null,
   "outputs": []
  }
 ],
 "metadata": {
  "kernelspec": {
   "display_name": "Python 3",
   "language": "python",
   "name": "python3"
  },
  "language_info": {
   "codemirror_mode": {
    "name": "ipython",
    "version": 2
   },
   "file_extension": ".py",
   "mimetype": "text/x-python",
   "name": "python",
   "nbconvert_exporter": "python",
   "pygments_lexer": "ipython2",
   "version": "2.7.6"
  }
 },
 "nbformat": 4,
 "nbformat_minor": 5
}
