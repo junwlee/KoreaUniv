{
 "cells": [
  {
   "cell_type": "markdown",
   "source": [
    "# Data load"
   ],
   "metadata": {
    "collapsed": false
   },
   "id": "5b8901483913942e"
  },
  {
   "cell_type": "code",
   "id": "initial_id",
   "metadata": {
    "collapsed": true,
    "ExecuteTime": {
     "end_time": "2024-06-16T02:36:07.103199Z",
     "start_time": "2024-06-16T02:36:07.099656Z"
    }
   },
   "source": [
    "import seaborn as sns\n",
    "\n",
    "iris = sns.load_dataset(\"iris\")\n",
    "X = iris.drop(\"species\", axis=1)\n",
    "y = iris[\"species\"]"
   ],
   "outputs": [],
   "execution_count": 1
  },
  {
   "cell_type": "code",
   "source": [
    "from sklearn.preprocessing import LabelEncoder\n",
    "le = LabelEncoder()\n",
    "y = le.fit_transform(iris['species'].values)"
   ],
   "metadata": {
    "collapsed": false,
    "ExecuteTime": {
     "end_time": "2024-06-16T02:36:12.309522Z",
     "start_time": "2024-06-16T02:36:12.177229Z"
    }
   },
   "id": "bb4c55d4474ec54e",
   "outputs": [],
   "execution_count": 2
  },
  {
   "cell_type": "code",
   "source": [
    "from sklearn.model_selection import train_test_split\n",
    "X_train, X_test, y_train, y_test = train_test_split(\n",
    "    X,y,test_size=0.3, random_state=43, stratify=y\n",
    ")"
   ],
   "metadata": {
    "collapsed": false,
    "ExecuteTime": {
     "end_time": "2024-06-16T02:36:13.577226Z",
     "start_time": "2024-06-16T02:36:13.483868Z"
    }
   },
   "id": "e021c3ea9c7be3d1",
   "outputs": [],
   "execution_count": 3
  },
  {
   "cell_type": "code",
   "source": [
    "from sklearn.preprocessing import StandardScaler\n",
    "sc = StandardScaler()\n",
    "sc.fit(X_train)\n",
    "X_train_std = sc.transform(X_train)\n",
    "X_test_std = sc.transform(X_test)"
   ],
   "metadata": {
    "collapsed": false,
    "ExecuteTime": {
     "end_time": "2024-06-16T02:36:14.998709Z",
     "start_time": "2024-06-16T02:36:14.993781Z"
    }
   },
   "id": "26b9f12505b9e04",
   "outputs": [],
   "execution_count": 4
  },
  {
   "cell_type": "code",
   "source": [
    "from sklearn.svm import SVC\n",
    "\n",
    "svm = SVC(kernel=\"linear\", C=1.0, random_state=3)\n",
    "svm.fit(X_train_std, y_train)\n",
    "y_train_pred = svm.predict(X_train_std)\n",
    "y_test_pred = svm.predict(X_test_std)"
   ],
   "metadata": {
    "collapsed": false,
    "ExecuteTime": {
     "end_time": "2024-06-16T02:36:16.528704Z",
     "start_time": "2024-06-16T02:36:16.450445Z"
    }
   },
   "id": "7eca1c272b9fa08a",
   "outputs": [],
   "execution_count": 5
  },
  {
   "cell_type": "code",
   "source": [
    "print(svm.support_) # 각 범주의 support의 인덱스\n",
    "print(len(svm.support_))\n",
    "print(svm.n_support_) # 각 범주의 support의 개수"
   ],
   "metadata": {
    "collapsed": false,
    "ExecuteTime": {
     "end_time": "2024-06-16T02:37:30.233351Z",
     "start_time": "2024-06-16T02:37:30.230623Z"
    }
   },
   "id": "240f37941fef2c61",
   "outputs": [
    {
     "name": "stdout",
     "output_type": "stream",
     "text": [
      "[ 57  80  82   3  15  16  47  61  63  67  85  95  96 100 101  44  45  49\n",
      "  55  68  69  76  77  78  84 102]\n",
      "26\n",
      "[ 3 12 11]\n"
     ]
    }
   ],
   "execution_count": 6
  },
  {
   "cell_type": "code",
   "source": [
    "from sklearn import metrics\n",
    "\n",
    "print(\"Train set Accuracy: \", metrics.accuracy_score(y_train, y_train_pred)\n",
    ")\n",
    "print(\"Test set Accuracy: \", metrics.accuracy_score(y_test, y_test_pred)\n",
    ")"
   ],
   "metadata": {
    "collapsed": false,
    "ExecuteTime": {
     "end_time": "2024-06-16T02:37:47.240128Z",
     "start_time": "2024-06-16T02:37:47.236443Z"
    }
   },
   "id": "ad9c058ee27077ec",
   "outputs": [
    {
     "name": "stdout",
     "output_type": "stream",
     "text": [
      "Train set Accuracy:  0.9714285714285714\n",
      "Test set Accuracy:  0.9777777777777777\n"
     ]
    }
   ],
   "execution_count": 8
  },
  {
   "cell_type": "code",
   "source": [
    "metrics.confusion_matrix(y_test, y_test_pred)"
   ],
   "metadata": {
    "collapsed": false,
    "ExecuteTime": {
     "end_time": "2024-06-16T02:37:48.412461Z",
     "start_time": "2024-06-16T02:37:48.406126Z"
    }
   },
   "id": "7872d96a0fe8e776",
   "outputs": [
    {
     "data": {
      "text/plain": [
       "array([[15,  0,  0],\n",
       "       [ 0, 15,  0],\n",
       "       [ 0,  1, 14]])"
      ]
     },
     "execution_count": 9,
     "metadata": {},
     "output_type": "execute_result"
    }
   ],
   "execution_count": 9
  },
  {
   "cell_type": "code",
   "source": [
    "print(metrics.classification_report(y_test, y_test_pred))"
   ],
   "metadata": {
    "collapsed": false,
    "ExecuteTime": {
     "end_time": "2024-06-16T02:37:50.090825Z",
     "start_time": "2024-06-16T02:37:50.083965Z"
    }
   },
   "id": "a21948bdf628a69f",
   "outputs": [
    {
     "name": "stdout",
     "output_type": "stream",
     "text": [
      "              precision    recall  f1-score   support\n",
      "\n",
      "           0       1.00      1.00      1.00        15\n",
      "           1       0.94      1.00      0.97        15\n",
      "           2       1.00      0.93      0.97        15\n",
      "\n",
      "    accuracy                           0.98        45\n",
      "   macro avg       0.98      0.98      0.98        45\n",
      "weighted avg       0.98      0.98      0.98        45\n",
      "\n"
     ]
    }
   ],
   "execution_count": 10
  },
  {
   "cell_type": "markdown",
   "source": [
    "## kernel svm"
   ],
   "metadata": {
    "collapsed": false
   },
   "id": "41a4f874dc554979"
  },
  {
   "cell_type": "code",
   "outputs": [],
   "source": [
    "ksvm = SVC(kernel=\"rbf\", C=1.0, gamma=0.2, random_state=43)\n",
    "ksvm.fit(X_train_std, y_train)\n",
    "y_train_pred = ksvm.predict(X_train_std)\n",
    "y_test_pred = ksvm.predict(X_test_std)"
   ],
   "metadata": {
    "collapsed": false,
    "ExecuteTime": {
     "end_time": "2024-04-29T13:05:41.728315Z",
     "start_time": "2024-04-29T13:05:41.724046Z"
    }
   },
   "id": "ab6211dd2a0a04b5",
   "execution_count": 18
  },
  {
   "cell_type": "code",
   "outputs": [
    {
     "name": "stdout",
     "output_type": "stream",
     "text": [
      "[ 22  46  57  80  82  90  91   2   3  13  15  16  18  20  26  47  51  61\n",
      "  63  67  85  95  96 100 101  11  25  33  44  45  49  53  55  56  62  66\n",
      "  68  69  76  77  78  84  99 102 104]\n",
      "[ 7 18 20]\n"
     ]
    }
   ],
   "source": [
    "print(ksvm.support_)\n",
    "print(ksvm.n_support_)"
   ],
   "metadata": {
    "collapsed": false,
    "ExecuteTime": {
     "end_time": "2024-04-29T13:06:04.384840Z",
     "start_time": "2024-04-29T13:06:04.381981Z"
    }
   },
   "id": "8631dab3f74547d0",
   "execution_count": 19
  },
  {
   "cell_type": "code",
   "outputs": [
    {
     "data": {
      "text/plain": "array([[15,  0,  0],\n       [ 0, 15,  0],\n       [ 0,  1, 14]])"
     },
     "execution_count": 21,
     "metadata": {},
     "output_type": "execute_result"
    }
   ],
   "source": [
    "metrics.confusion_matrix(y_test, y_test_pred)"
   ],
   "metadata": {
    "collapsed": false,
    "ExecuteTime": {
     "end_time": "2024-04-29T13:06:56.468568Z",
     "start_time": "2024-04-29T13:06:56.464705Z"
    }
   },
   "id": "b75cb4b7996da75f",
   "execution_count": 21
  },
  {
   "cell_type": "code",
   "outputs": [
    {
     "name": "stdout",
     "output_type": "stream",
     "text": [
      "              precision    recall  f1-score   support\n",
      "\n",
      "           0       1.00      1.00      1.00        15\n",
      "           1       0.94      1.00      0.97        15\n",
      "           2       1.00      0.93      0.97        15\n",
      "\n",
      "    accuracy                           0.98        45\n",
      "   macro avg       0.98      0.98      0.98        45\n",
      "weighted avg       0.98      0.98      0.98        45\n"
     ]
    }
   ],
   "source": [
    "print(metrics.classification_report(y_test, y_test_pred))"
   ],
   "metadata": {
    "collapsed": false,
    "ExecuteTime": {
     "end_time": "2024-04-29T13:06:39.106166Z",
     "start_time": "2024-04-29T13:06:39.099364Z"
    }
   },
   "id": "87566a8ddb39f2b5",
   "execution_count": 20
  }
 ],
 "metadata": {
  "kernelspec": {
   "display_name": "Python 3",
   "language": "python",
   "name": "python3"
  },
  "language_info": {
   "codemirror_mode": {
    "name": "ipython",
    "version": 2
   },
   "file_extension": ".py",
   "mimetype": "text/x-python",
   "name": "python",
   "nbconvert_exporter": "python",
   "pygments_lexer": "ipython2",
   "version": "2.7.6"
  }
 },
 "nbformat": 4,
 "nbformat_minor": 5
}
