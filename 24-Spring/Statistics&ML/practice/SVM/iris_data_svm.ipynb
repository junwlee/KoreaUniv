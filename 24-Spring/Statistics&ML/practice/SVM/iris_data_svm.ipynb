{
 "cells": [
  {
   "cell_type": "markdown",
   "source": [
    "# Data load"
   ],
   "metadata": {
    "collapsed": false
   },
   "id": "5b8901483913942e"
  },
  {
   "cell_type": "code",
   "execution_count": 5,
   "id": "initial_id",
   "metadata": {
    "collapsed": true,
    "ExecuteTime": {
     "end_time": "2024-04-29T12:48:28.015201Z",
     "start_time": "2024-04-29T12:48:28.010392Z"
    }
   },
   "outputs": [],
   "source": [
    "import seaborn as sns\n",
    "\n",
    "iris = sns.load_dataset(\"iris\")\n",
    "X = iris.drop(\"species\", axis=1)\n",
    "y = iris[\"species\"]"
   ]
  },
  {
   "cell_type": "code",
   "outputs": [],
   "source": [
    "from sklearn.preprocessing import LabelEncoder\n",
    "le = LabelEncoder()\n",
    "y = le.fit_transform(iris['species'].values)"
   ],
   "metadata": {
    "collapsed": false,
    "ExecuteTime": {
     "end_time": "2024-04-29T12:50:11.916234Z",
     "start_time": "2024-04-29T12:50:11.489449Z"
    }
   },
   "id": "bb4c55d4474ec54e",
   "execution_count": 7
  },
  {
   "cell_type": "code",
   "outputs": [],
   "source": [
    "from sklearn.model_selection import train_test_split\n",
    "X_train, X_test, y_train, y_test = train_test_split(\n",
    "    X,y,test_size=0.3, random_state=43, stratify=y\n",
    ")"
   ],
   "metadata": {
    "collapsed": false,
    "ExecuteTime": {
     "end_time": "2024-04-29T12:51:32.948311Z",
     "start_time": "2024-04-29T12:51:32.694292Z"
    }
   },
   "id": "e021c3ea9c7be3d1",
   "execution_count": 8
  },
  {
   "cell_type": "code",
   "outputs": [],
   "source": [
    "from sklearn.preprocessing import StandardScaler\n",
    "sc = StandardScaler()\n",
    "sc.fit(X_train)\n",
    "X_train_std = sc.transform(X_train)\n",
    "X_test_std = sc.transform(X_test)"
   ],
   "metadata": {
    "collapsed": false,
    "ExecuteTime": {
     "end_time": "2024-04-29T12:52:26.025008Z",
     "start_time": "2024-04-29T12:52:26.020738Z"
    }
   },
   "id": "26b9f12505b9e04",
   "execution_count": 9
  },
  {
   "cell_type": "code",
   "outputs": [],
   "source": [
    "from sklearn.svm import SVC\n",
    "\n",
    "svm = SVC(kernel=\"linear\", C=1.0, random_state=3)\n",
    "svm.fit(X_train_std, y_train)\n",
    "y_train_pred = svm.predict(X_train_std)\n",
    "y_test_pred = svm.predict(X_test_std)"
   ],
   "metadata": {
    "collapsed": false,
    "ExecuteTime": {
     "end_time": "2024-04-29T12:54:16.167696Z",
     "start_time": "2024-04-29T12:54:15.940372Z"
    }
   },
   "id": "7eca1c272b9fa08a",
   "execution_count": 10
  },
  {
   "cell_type": "code",
   "outputs": [
    {
     "name": "stdout",
     "output_type": "stream",
     "text": [
      "[ 57  80  82   3  15  16  47  61  63  67  85  95  96 100 101  44  45  49\n",
      "  55  68  69  76  77  78  84 102]\n",
      "[ 3 12 11]\n"
     ]
    }
   ],
   "source": [
    "print(svm.support_) # 각 범주의 support의 인덱스\n",
    "print(svm.n_support_) # 각 범주의 support의 개수"
   ],
   "metadata": {
    "collapsed": false,
    "ExecuteTime": {
     "end_time": "2024-04-29T12:56:05.057869Z",
     "start_time": "2024-04-29T12:56:05.055669Z"
    }
   },
   "id": "240f37941fef2c61",
   "execution_count": 11
  },
  {
   "cell_type": "code",
   "outputs": [
    {
     "name": "stdout",
     "output_type": "stream",
     "text": [
      "Train set Accuracy:  0.9714285714285714\n",
      "Test set Accuracy:  0.9777777777777777\n"
     ]
    }
   ],
   "source": [
    "from sklearn import metrics\n",
    "\n",
    "print(\"Train set Accuracy: \", metrics.accuracy_score(y_train, y_train_pred)\n",
    ")\n",
    "print(\"Test set Accuracy: \", metrics.accuracy_score(y_test, y_test_pred)\n",
    ")"
   ],
   "metadata": {
    "collapsed": false,
    "ExecuteTime": {
     "end_time": "2024-04-29T13:01:30.986249Z",
     "start_time": "2024-04-29T13:01:30.982546Z"
    }
   },
   "id": "ad9c058ee27077ec",
   "execution_count": 14
  },
  {
   "cell_type": "code",
   "outputs": [
    {
     "data": {
      "text/plain": "array([[15,  0,  0],\n       [ 0, 15,  0],\n       [ 0,  1, 14]])"
     },
     "execution_count": 15,
     "metadata": {},
     "output_type": "execute_result"
    }
   ],
   "source": [
    "metrics.confusion_matrix(y_test, y_test_pred)"
   ],
   "metadata": {
    "collapsed": false,
    "ExecuteTime": {
     "end_time": "2024-04-29T13:01:50.250635Z",
     "start_time": "2024-04-29T13:01:50.247330Z"
    }
   },
   "id": "7872d96a0fe8e776",
   "execution_count": 15
  },
  {
   "cell_type": "code",
   "outputs": [
    {
     "name": "stdout",
     "output_type": "stream",
     "text": [
      "              precision    recall  f1-score   support\n",
      "\n",
      "           0       1.00      1.00      1.00        15\n",
      "           1       0.94      1.00      0.97        15\n",
      "           2       1.00      0.93      0.97        15\n",
      "\n",
      "    accuracy                           0.98        45\n",
      "   macro avg       0.98      0.98      0.98        45\n",
      "weighted avg       0.98      0.98      0.98        45\n"
     ]
    }
   ],
   "source": [
    "print(metrics.classification_report(y_test, y_test_pred))"
   ],
   "metadata": {
    "collapsed": false,
    "ExecuteTime": {
     "end_time": "2024-04-29T13:02:28.471443Z",
     "start_time": "2024-04-29T13:02:28.463722Z"
    }
   },
   "id": "a21948bdf628a69f",
   "execution_count": 17
  },
  {
   "cell_type": "markdown",
   "source": [
    "## kernel svm"
   ],
   "metadata": {
    "collapsed": false
   },
   "id": "41a4f874dc554979"
  },
  {
   "cell_type": "code",
   "outputs": [],
   "source": [
    "ksvm = SVC(kernel=\"rbf\", C=1.0, gamma=0.2, random_state=43)\n",
    "ksvm.fit(X_train_std, y_train)\n",
    "y_train_pred = ksvm.predict(X_train_std)\n",
    "y_test_pred = ksvm.predict(X_test_std)"
   ],
   "metadata": {
    "collapsed": false,
    "ExecuteTime": {
     "end_time": "2024-04-29T13:05:41.728315Z",
     "start_time": "2024-04-29T13:05:41.724046Z"
    }
   },
   "id": "ab6211dd2a0a04b5",
   "execution_count": 18
  },
  {
   "cell_type": "code",
   "outputs": [
    {
     "name": "stdout",
     "output_type": "stream",
     "text": [
      "[ 22  46  57  80  82  90  91   2   3  13  15  16  18  20  26  47  51  61\n",
      "  63  67  85  95  96 100 101  11  25  33  44  45  49  53  55  56  62  66\n",
      "  68  69  76  77  78  84  99 102 104]\n",
      "[ 7 18 20]\n"
     ]
    }
   ],
   "source": [
    "print(ksvm.support_)\n",
    "print(ksvm.n_support_)"
   ],
   "metadata": {
    "collapsed": false,
    "ExecuteTime": {
     "end_time": "2024-04-29T13:06:04.384840Z",
     "start_time": "2024-04-29T13:06:04.381981Z"
    }
   },
   "id": "8631dab3f74547d0",
   "execution_count": 19
  },
  {
   "cell_type": "code",
   "outputs": [
    {
     "data": {
      "text/plain": "array([[15,  0,  0],\n       [ 0, 15,  0],\n       [ 0,  1, 14]])"
     },
     "execution_count": 21,
     "metadata": {},
     "output_type": "execute_result"
    }
   ],
   "source": [
    "metrics.confusion_matrix(y_test, y_test_pred)"
   ],
   "metadata": {
    "collapsed": false,
    "ExecuteTime": {
     "end_time": "2024-04-29T13:06:56.468568Z",
     "start_time": "2024-04-29T13:06:56.464705Z"
    }
   },
   "id": "b75cb4b7996da75f",
   "execution_count": 21
  },
  {
   "cell_type": "code",
   "outputs": [
    {
     "name": "stdout",
     "output_type": "stream",
     "text": [
      "              precision    recall  f1-score   support\n",
      "\n",
      "           0       1.00      1.00      1.00        15\n",
      "           1       0.94      1.00      0.97        15\n",
      "           2       1.00      0.93      0.97        15\n",
      "\n",
      "    accuracy                           0.98        45\n",
      "   macro avg       0.98      0.98      0.98        45\n",
      "weighted avg       0.98      0.98      0.98        45\n"
     ]
    }
   ],
   "source": [
    "print(metrics.classification_report(y_test, y_test_pred))"
   ],
   "metadata": {
    "collapsed": false,
    "ExecuteTime": {
     "end_time": "2024-04-29T13:06:39.106166Z",
     "start_time": "2024-04-29T13:06:39.099364Z"
    }
   },
   "id": "87566a8ddb39f2b5",
   "execution_count": 20
  },
  {
   "cell_type": "code",
   "outputs": [],
   "source": [],
   "metadata": {
    "collapsed": false
   },
   "id": "454ca6246dd85616"
  }
 ],
 "metadata": {
  "kernelspec": {
   "display_name": "Python 3",
   "language": "python",
   "name": "python3"
  },
  "language_info": {
   "codemirror_mode": {
    "name": "ipython",
    "version": 2
   },
   "file_extension": ".py",
   "mimetype": "text/x-python",
   "name": "python",
   "nbconvert_exporter": "python",
   "pygments_lexer": "ipython2",
   "version": "2.7.6"
  }
 },
 "nbformat": 4,
 "nbformat_minor": 5
}
