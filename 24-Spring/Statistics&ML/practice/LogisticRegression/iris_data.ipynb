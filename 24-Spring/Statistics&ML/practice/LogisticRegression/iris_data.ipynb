{
 "cells": [
  {
   "cell_type": "code",
   "execution_count": 58,
   "id": "initial_id",
   "metadata": {
    "collapsed": true,
    "ExecuteTime": {
     "end_time": "2024-04-11T07:18:14.731050Z",
     "start_time": "2024-04-11T07:18:14.729258Z"
    }
   },
   "outputs": [],
   "source": [
    "import seaborn as sns\n",
    "import numpy as np"
   ]
  },
  {
   "cell_type": "code",
   "outputs": [
    {
     "name": "stdout",
     "output_type": "stream",
     "text": [
      "['setosa' 'versicolor' 'virginica']\n"
     ]
    }
   ],
   "source": [
    "# 데이터 불러오기\n",
    "iris = sns.load_dataset('iris')\n",
    "X = iris.drop('species', axis=1)\n",
    "y = iris['species']\n",
    "print(np.unique(y))"
   ],
   "metadata": {
    "collapsed": false,
    "ExecuteTime": {
     "end_time": "2024-04-11T07:18:14.737043Z",
     "start_time": "2024-04-11T07:18:14.733592Z"
    }
   },
   "id": "97cf60ee52002747",
   "execution_count": 59
  },
  {
   "cell_type": "markdown",
   "source": [
    "## axis=1을 사용하는 것은 열을 대상으로 작업하고 싶을 때\n",
    "## axis=0은 행을 대상으로 작업하고 싶을 때 사용"
   ],
   "metadata": {
    "collapsed": false
   },
   "id": "b275f0f7a22d2d7a"
  },
  {
   "cell_type": "code",
   "outputs": [
    {
     "name": "stdout",
     "output_type": "stream",
     "text": [
      "[0 1 2]\n"
     ]
    }
   ],
   "source": [
    "# 데이터 전처리\n",
    "from sklearn.preprocessing import LabelEncoder\n",
    "le = LabelEncoder()\n",
    "y = le.fit_transform(y.values)\n",
    "print(np.unique(y))"
   ],
   "metadata": {
    "collapsed": false,
    "ExecuteTime": {
     "end_time": "2024-04-11T07:18:14.740033Z",
     "start_time": "2024-04-11T07:18:14.738013Z"
    }
   },
   "id": "6683953867ccf642",
   "execution_count": 60
  },
  {
   "cell_type": "code",
   "outputs": [],
   "source": [
    "from sklearn.model_selection import train_test_split\n",
    "\n",
    "X_train, X_test, y_train, y_test = train_test_split(X, y, test_size=0.3, random_state=1,stratify=y)"
   ],
   "metadata": {
    "collapsed": false,
    "ExecuteTime": {
     "end_time": "2024-04-11T07:18:14.743072Z",
     "start_time": "2024-04-11T07:18:14.740621Z"
    }
   },
   "id": "cfe393d601b7eb4e",
   "execution_count": 61
  },
  {
   "cell_type": "code",
   "outputs": [
    {
     "name": "stdout",
     "output_type": "stream",
     "text": [
      "[[6.03658915e-10 5.77393372e-04 9.99422606e-01]\n",
      " [9.98993210e-01 1.00678999e-03 1.80975600e-20]\n",
      " [9.99808999e-01 1.91001022e-04 3.07456426e-21]\n",
      " [3.19391069e-05 4.41167321e-01 5.58800740e-01]\n",
      " [2.07899507e-05 9.99319018e-01 6.60192314e-04]]\n"
     ]
    }
   ],
   "source": [
    "from sklearn.linear_model import LogisticRegression\n",
    "classifier = LogisticRegression(C=1e2, random_state=1, max_iter=200)\n",
    "# default: L2 regularization\n",
    "classifier.fit(X_train, y_train)\n",
    "y_train_pred = classifier.predict(X_train)\n",
    "y_test_pred = classifier.predict(X_test)\n",
    "y_test_pred_proba = classifier.predict_proba(X_test)\n",
    "print(y_test_pred_proba[:5])"
   ],
   "metadata": {
    "collapsed": false,
    "ExecuteTime": {
     "end_time": "2024-04-11T07:18:14.756502Z",
     "start_time": "2024-04-11T07:18:14.744121Z"
    }
   },
   "id": "9ab64cc65b03652e",
   "execution_count": 62
  },
  {
   "cell_type": "code",
   "outputs": [
    {
     "name": "stdout",
     "output_type": "stream",
     "text": [
      "0.9809523809523809\n",
      "1.0\n",
      "[[15  0  0]\n",
      " [ 0 15  0]\n",
      " [ 0  0 15]]\n"
     ]
    }
   ],
   "source": [
    "from sklearn.metrics import accuracy_score, confusion_matrix\n",
    "\n",
    "print(accuracy_score(y_train, y_train_pred))\n",
    "print(accuracy_score(y_test, y_test_pred))\n",
    "print(confusion_matrix(y_test, y_test_pred))"
   ],
   "metadata": {
    "collapsed": false,
    "ExecuteTime": {
     "end_time": "2024-04-11T07:18:14.760034Z",
     "start_time": "2024-04-11T07:18:14.757177Z"
    }
   },
   "id": "7b6ab7d8fe7b8c95",
   "execution_count": 63
  },
  {
   "cell_type": "code",
   "outputs": [
    {
     "name": "stdout",
     "output_type": "stream",
     "text": [
      "1.0\n"
     ]
    }
   ],
   "source": [
    "# 학습된 모형을 저장한 후 불러와서 사용하기\n",
    "\n",
    "import joblib\n",
    "\n",
    "joblib.dump(classifier, '/Users/junwlee/Documents/KoreaUniv/24-Spring/Statistics&ML/practice/LogisticRegression/save.pkl')\n",
    "classifier_from_joblib = joblib.load('/Users/junwlee/Documents/KoreaUniv/24-Spring/Statistics&ML/practice/LogisticRegression/save.pkl')\n",
    "\n",
    "classifier_pred = classifier_from_joblib.predict(X_test)\n",
    "print(accuracy_score(y_test, classifier_pred))"
   ],
   "metadata": {
    "collapsed": false,
    "ExecuteTime": {
     "end_time": "2024-04-11T07:18:14.764527Z",
     "start_time": "2024-04-11T07:18:14.760722Z"
    }
   },
   "id": "5b48e3fa71aa10ec",
   "execution_count": 64
  }
 ],
 "metadata": {
  "kernelspec": {
   "display_name": "Python 3",
   "language": "python",
   "name": "python3"
  },
  "language_info": {
   "codemirror_mode": {
    "name": "ipython",
    "version": 2
   },
   "file_extension": ".py",
   "mimetype": "text/x-python",
   "name": "python",
   "nbconvert_exporter": "python",
   "pygments_lexer": "ipython2",
   "version": "2.7.6"
  }
 },
 "nbformat": 4,
 "nbformat_minor": 5
}
