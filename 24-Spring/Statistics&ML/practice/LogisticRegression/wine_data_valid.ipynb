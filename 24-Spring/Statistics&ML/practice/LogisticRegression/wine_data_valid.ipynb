{
 "cells": [
  {
   "cell_type": "code",
   "execution_count": 2,
   "id": "initial_id",
   "metadata": {
    "collapsed": true,
    "ExecuteTime": {
     "end_time": "2024-04-11T08:35:46.047208Z",
     "start_time": "2024-04-11T08:35:46.026730Z"
    }
   },
   "outputs": [
    {
     "name": "stdout",
     "output_type": "stream",
     "text": [
      "L1 C=10.0 - Training set accuracy: 1.0, Validation set accuracy: 0.9722222222222222\n",
      "L1 C=1.0 - Training set accuracy: 1.0, Validation set accuracy: 1.0\n",
      "L1 C=0.1 - Training set accuracy: 0.9716981132075472, Validation set accuracy: 1.0\n",
      "L2 C=10.0 - Training set accuracy: 1.0, Validation set accuracy: 0.9444444444444444\n",
      "L2 C=1.0 - Training set accuracy: 1.0, Validation set accuracy: 0.9722222222222222\n",
      "L2 C=0.1 - Training set accuracy: 1.0, Validation set accuracy: 1.0\n",
      "Final model test set accuracy: 0.9722222222222222\n"
     ]
    }
   ],
   "source": [
    "import pandas as pd\n",
    "from sklearn.datasets import load_wine\n",
    "from sklearn.model_selection import train_test_split\n",
    "from sklearn.linear_model import LogisticRegression\n",
    "from sklearn.preprocessing import StandardScaler\n",
    "from sklearn.pipeline import make_pipeline\n",
    "\n",
    "# 와인 데이터셋 로드\n",
    "data_wine = load_wine()\n",
    "df_wine = pd.DataFrame(data_wine.data, columns=data_wine.feature_names)\n",
    "df_wine['class'] = data_wine.target\n",
    "\n",
    "# 특성(X)과 타겟(y) 분리\n",
    "X, y = df_wine.iloc[:, :-1].values, df_wine.iloc[:, -1].values\n",
    "\n",
    "# 데이터셋을 트레이닝, 검증, 테스트 세트로 분할\n",
    "X_train, X_temp, y_train, y_temp = train_test_split(X, y, test_size=0.4, random_state=10, stratify=y)\n",
    "X_valid, X_test, y_valid, y_test = train_test_split(X_temp, y_temp, test_size=0.5, random_state=10, stratify=y_temp)\n",
    "\n",
    "# 모델 파이프라인 설정\n",
    "lr1_10 = make_pipeline(StandardScaler(), LogisticRegression(penalty='l1', C=10.0, solver='liblinear', max_iter=1000))\n",
    "lr1_1 = make_pipeline(StandardScaler(), LogisticRegression(penalty='l1', C=1.0, solver='liblinear', max_iter=1000))\n",
    "lr1_0_1 = make_pipeline(StandardScaler(), LogisticRegression(penalty='l1', C=0.1, solver='liblinear', max_iter=1000))\n",
    "\n",
    "lr2_10 = make_pipeline(StandardScaler(), LogisticRegression(penalty='l2', C=10.0))\n",
    "lr2_1 = make_pipeline(StandardScaler(), LogisticRegression(penalty='l2', C=1.0))\n",
    "lr2_0_1 = make_pipeline(StandardScaler(), LogisticRegression(penalty='l2', C=0.1))\n",
    "\n",
    "# 모델 훈련 및 검증 세트를 사용한 성능 평가\n",
    "models = [lr1_10, lr1_1, lr1_0_1, lr2_10, lr2_1, lr2_0_1]\n",
    "model_names = ['L1 C=10.0', 'L1 C=1.0', 'L1 C=0.1', 'L2 C=10.0', 'L2 C=1.0', 'L2 C=0.1']\n",
    "\n",
    "for model, name in zip(models, model_names):\n",
    "    model.fit(X_train, y_train)\n",
    "    train_accuracy = model.score(X_train, y_train)\n",
    "    valid_accuracy = model.score(X_valid, y_valid)\n",
    "    print(f'{name} - Training set accuracy: {train_accuracy}, Validation set accuracy: {valid_accuracy}')\n",
    "\n",
    "# 최종 모델 선택 및 테스트 세트에서의 성능 평가\n",
    "final_model = lr1_1  # 검증 세트에서 가장 좋은 성능을 보인 모델을 선택\n",
    "final_model.fit(X_train, y_train)\n",
    "test_accuracy = final_model.score(X_test, y_test)\n",
    "print(f'Final model test set accuracy: {test_accuracy}')"
   ]
  },
  {
   "cell_type": "markdown",
   "source": [
    "## 결과분석\n",
    "1. 와인 데이터셋이 상대적으로 작고, 특성이 잘 정의되어 있어 모델이 쉽게 학습할 수 있는 구조일 가능성이 높다. "
   ],
   "metadata": {
    "collapsed": false
   },
   "id": "fad14950c263327f"
  }
 ],
 "metadata": {
  "kernelspec": {
   "display_name": "Python 3",
   "language": "python",
   "name": "python3"
  },
  "language_info": {
   "codemirror_mode": {
    "name": "ipython",
    "version": 2
   },
   "file_extension": ".py",
   "mimetype": "text/x-python",
   "name": "python",
   "nbconvert_exporter": "python",
   "pygments_lexer": "ipython2",
   "version": "2.7.6"
  }
 },
 "nbformat": 4,
 "nbformat_minor": 5
}
