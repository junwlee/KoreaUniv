{
 "cells": [
  {
   "cell_type": "code",
   "id": "initial_id",
   "metadata": {
    "collapsed": true,
    "ExecuteTime": {
     "end_time": "2024-05-10T06:15:57.907821Z",
     "start_time": "2024-05-10T06:15:57.283409Z"
    }
   },
   "source": [
    "import pandas as pd\n",
    "from sklearn.model_selection import train_test_split\n",
    "from sklearn.preprocessing import StandardScaler\n",
    "\n",
    "wine_data = pd.read_csv(\n",
    "    'http://archive.ics.uci.edu/ml/machine-learning-databases/wine/wine.data',\n",
    "    header=None\n",
    ")\n",
    "\n",
    "X,y = wine_data.iloc[:, 1:].values, wine_data.iloc[:, 0].values\n",
    "X_train, X_test, y_train, y_test = train_test_split(\n",
    "    X, y,\n",
    "    test_size=0.3,\n",
    "    random_state=1,\n",
    "    stratify=y\n",
    ")\n",
    "\n",
    "std = StandardScaler()\n",
    "X_train_std = std.fit_transform(X_train)\n",
    "X_test_std = std.transform(X_test)\n",
    "\n",
    "wine_data.columns"
   ],
   "outputs": [
    {
     "data": {
      "text/plain": [
       "Index([0, 1, 2, 3, 4, 5, 6, 7, 8, 9, 10, 11, 12, 13], dtype='int64')"
      ]
     },
     "execution_count": 42,
     "metadata": {},
     "output_type": "execute_result"
    }
   ],
   "execution_count": 42
  },
  {
   "metadata": {
    "ExecuteTime": {
     "end_time": "2024-05-10T06:15:57.912013Z",
     "start_time": "2024-05-10T06:15:57.909476Z"
    }
   },
   "cell_type": "code",
   "source": "print(X_train_std.shape)",
   "id": "9660c744b4ede43",
   "outputs": [
    {
     "name": "stdout",
     "output_type": "stream",
     "text": [
      "(124, 13)\n"
     ]
    }
   ],
   "execution_count": 43
  },
  {
   "metadata": {},
   "cell_type": "markdown",
   "source": "# eigen value, eigen vector",
   "id": "fa253d636830453b"
  },
  {
   "metadata": {
    "ExecuteTime": {
     "end_time": "2024-05-10T06:15:57.916166Z",
     "start_time": "2024-05-10T06:15:57.912920Z"
    }
   },
   "cell_type": "code",
   "source": [
    "import numpy as np\n",
    "\n",
    "scov = np.cov(X_train_std.T)\n",
    "eigen_vals, eigen_vecs = np.linalg.eig(scov)\n",
    "\n",
    "print(\"Eigenvalues \\n%s\" %eigen_vals)"
   ],
   "id": "76cf6dd073120bac",
   "outputs": [
    {
     "name": "stdout",
     "output_type": "stream",
     "text": [
      "Eigenvalues \n",
      "[4.7095539  2.63606471 1.55728758 0.93422662 0.85129454 0.5709688\n",
      " 0.46462025 0.37764772 0.10409155 0.14951983 0.21165109 0.2630501\n",
      " 0.27571434]\n"
     ]
    }
   ],
   "execution_count": 44
  },
  {
   "metadata": {
    "ExecuteTime": {
     "end_time": "2024-05-10T06:15:57.982752Z",
     "start_time": "2024-05-10T06:15:57.917799Z"
    }
   },
   "cell_type": "code",
   "source": [
    "# Explained variance ratio\n",
    "import matplotlib.pyplot as plt\n",
    "\n",
    "tot = sum(eigen_vals)\n",
    "var_exp = [(i / tot) for i in sorted(eigen_vals, reverse=True)]\n",
    "cum_var_exp = np.cumsum(var_exp)\n",
    "\n",
    "plt.bar(range(1, 14), var_exp, alpha=0.5, align='center', label='individual explained variance')\n",
    "plt.step(range(1, 14), cum_var_exp, where='mid', label='cumulative explained variance')\n",
    "plt.ylabel('Explained variance ratio')\n",
    "plt.xlabel('Principal components index')\n",
    "plt.legend(loc='best')\n",
    "plt.show()"
   ],
   "id": "7527fba57c7a42f1",
   "outputs": [
    {
     "data": {
      "text/plain": [
       "<Figure size 640x480 with 1 Axes>"
      ],
      "image/png": "[encoded data removed]"
     },
     "metadata": {},
     "output_type": "display_data"
    }
   ],
   "execution_count": 45
  },
  {
   "metadata": {},
   "cell_type": "markdown",
   "source": "## PCA를 통해 차원 축소 후 로지스틱 회귀",
   "id": "35ae1d064ae52edd"
  },
  {
   "metadata": {
    "ExecuteTime": {
     "end_time": "2024-05-10T06:15:57.988116Z",
     "start_time": "2024-05-10T06:15:57.983273Z"
    }
   },
   "cell_type": "code",
   "source": [
    "from sklearn.linear_model import LogisticRegression\n",
    "from sklearn.decomposition import PCA\n",
    "\n",
    "lr = LogisticRegression(penalty='l2', C=0.1)\n",
    "pca = PCA(n_components=4)\n",
    "\n",
    "X_train_pca = pca.fit_transform(X_train_std)\n",
    "X_test_pca = pca.transform(X_test_std)\n",
    "\n",
    "lr.fit(X_train_pca, y_train)\n",
    "y_train_pred = lr.predict(X_train_pca)\n",
    "y_test_pred = lr.predict(X_test_pca)\n",
    "\n",
    "print(pca.components_)\n",
    "print(pca.explained_variance_ratio_)"
   ],
   "id": "ee517dc11e96ddd",
   "outputs": [
    {
     "name": "stdout",
     "output_type": "stream",
     "text": [
      "[[ 0.14119433 -0.24946815  0.05104853 -0.19890851  0.1444494   0.40472564\n",
      "   0.42654202 -0.29573373  0.32620144 -0.07420694  0.29277478  0.37482201\n",
      "   0.2889145 ]\n",
      " [-0.46732089 -0.26876924 -0.27660192  0.01955098 -0.32120489 -0.04839313\n",
      "   0.00936768 -0.00146817 -0.04087554 -0.53982087  0.27536907  0.19149315\n",
      "  -0.34828709]\n",
      " [-0.18497972  0.11558438  0.62580603  0.63022498  0.06808315  0.14454263\n",
      "   0.16109721  0.20830498  0.10392829 -0.07463025  0.04770525  0.16694498\n",
      "  -0.14905602]\n",
      " [-0.06135175  0.50736306 -0.23358668  0.06619111 -0.21808618  0.10100723\n",
      "   0.07511595 -0.33032862  0.45117801 -0.01323281 -0.46488038  0.19553794\n",
      "  -0.22195876]]\n",
      "[0.35935182 0.20113893 0.11882529 0.07128404]\n"
     ]
    }
   ],
   "execution_count": 46
  },
  {
   "metadata": {
    "ExecuteTime": {
     "end_time": "2024-05-10T06:15:57.995415Z",
     "start_time": "2024-05-10T06:15:57.988588Z"
    }
   },
   "cell_type": "code",
   "source": [
    "from sklearn.metrics import classification_report\n",
    "\n",
    "print(\"==\" * 10, \"Train report\", \"==\" * 10, \"\\n\", classification_report(y_train, y_train_pred))\n",
    "print(\"==\" * 10, \"Test report\", \"==\" * 10, \"\\n\", classification_report(y_test, y_test_pred))"
   ],
   "id": "487bcff8621d23e6",
   "outputs": [
    {
     "name": "stdout",
     "output_type": "stream",
     "text": [
      "==================== Train report ==================== \n",
      "               precision    recall  f1-score   support\n",
      "\n",
      "           1       0.95      1.00      0.98        41\n",
      "           2       1.00      0.94      0.97        50\n",
      "           3       0.97      1.00      0.99        33\n",
      "\n",
      "    accuracy                           0.98       124\n",
      "   macro avg       0.97      0.98      0.98       124\n",
      "weighted avg       0.98      0.98      0.98       124\n",
      "\n",
      "==================== Test report ==================== \n",
      "               precision    recall  f1-score   support\n",
      "\n",
      "           1       0.90      1.00      0.95        18\n",
      "           2       1.00      0.90      0.95        21\n",
      "           3       1.00      1.00      1.00        15\n",
      "\n",
      "    accuracy                           0.96        54\n",
      "   macro avg       0.97      0.97      0.97        54\n",
      "weighted avg       0.97      0.96      0.96        54\n",
      "\n"
     ]
    }
   ],
   "execution_count": 47
  },
  {
   "metadata": {},
   "cell_type": "markdown",
   "source": "# LDA로 차원 축소 후 로지스틱 회귀",
   "id": "7d4bfa34eb473283"
  },
  {
   "metadata": {
    "ExecuteTime": {
     "end_time": "2024-05-10T06:18:34.551667Z",
     "start_time": "2024-05-10T06:18:34.538304Z"
    }
   },
   "cell_type": "code",
   "source": [
    "from sklearn.discriminant_analysis import LinearDiscriminantAnalysis as LDA\n",
    "\n",
    "lda = LDA(n_components=2) # LDA가 차원을 2로 줄여준다\n",
    "\n",
    "X_train_lda = lda.fit_transform(X_train_std, y_train)\n",
    "X_test_lda = lda.transform(X_test_std)\n",
    "\n",
    "lr = LogisticRegression(penalty='l2', C=0.1)\n",
    "lr.fit(X_train_lda, y_train)\n",
    "y_train_pred = lr.predict(X_train_lda)\n",
    "y_test_pred = lr.predict(X_test_lda)\n",
    "\n",
    "print(\"==\" * 10, \"Train report\", \"==\" * 10, \"\\n\", classification_report(y_train, y_train_pred))\n",
    "print(\"==\" * 10, \"Test report\", \"==\" * 10, \"\\n\", classification_report(y_test, y_test_pred))"
   ],
   "id": "f4ddc1d2a3ddbf3e",
   "outputs": [
    {
     "name": "stdout",
     "output_type": "stream",
     "text": [
      "==================== Train report ==================== \n",
      "               precision    recall  f1-score   support\n",
      "\n",
      "           1       1.00      1.00      1.00        41\n",
      "           2       1.00      1.00      1.00        50\n",
      "           3       1.00      1.00      1.00        33\n",
      "\n",
      "    accuracy                           1.00       124\n",
      "   macro avg       1.00      1.00      1.00       124\n",
      "weighted avg       1.00      1.00      1.00       124\n",
      "\n",
      "==================== Test report ==================== \n",
      "               precision    recall  f1-score   support\n",
      "\n",
      "           1       0.95      1.00      0.97        18\n",
      "           2       1.00      0.90      0.95        21\n",
      "           3       0.94      1.00      0.97        15\n",
      "\n",
      "    accuracy                           0.96        54\n",
      "   macro avg       0.96      0.97      0.96        54\n",
      "weighted avg       0.97      0.96      0.96        54\n",
      "\n"
     ]
    }
   ],
   "execution_count": 49
  },
  {
   "metadata": {
    "ExecuteTime": {
     "end_time": "2024-05-10T06:20:33.216285Z",
     "start_time": "2024-05-10T06:20:33.213017Z"
    }
   },
   "cell_type": "code",
   "source": "lda.explained_variance_ratio_",
   "id": "693c885d2ea1965a",
   "outputs": [
    {
     "data": {
      "text/plain": [
       "array([0.68259828, 0.31740172])"
      ]
     },
     "execution_count": 50,
     "metadata": {},
     "output_type": "execute_result"
    }
   ],
   "execution_count": 50
  }
 ],
 "metadata": {
  "kernelspec": {
   "display_name": "Python 3",
   "language": "python",
   "name": "python3"
  },
  "language_info": {
   "codemirror_mode": {
    "name": "ipython",
    "version": 2
   },
   "file_extension": ".py",
   "mimetype": "text/x-python",
   "name": "python",
   "nbconvert_exporter": "python",
   "pygments_lexer": "ipython2",
   "version": "2.7.6"
  }
 },
 "nbformat": 4,
 "nbformat_minor": 5
}
