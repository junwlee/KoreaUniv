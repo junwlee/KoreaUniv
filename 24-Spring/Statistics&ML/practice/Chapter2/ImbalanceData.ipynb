{
 "cells": [
  {
   "cell_type": "code",
   "execution_count": 29,
   "id": "initial_id",
   "metadata": {
    "collapsed": true,
    "ExecuteTime": {
     "end_time": "2024-04-07T01:45:56.014403Z",
     "start_time": "2024-04-07T01:45:56.012558Z"
    }
   },
   "outputs": [],
   "source": [
    "from collections import Counter\n",
    "from sklearn.datasets import make_classification\n",
    "from imblearn.over_sampling import SMOTE, ADASYN"
   ]
  },
  {
   "cell_type": "code",
   "outputs": [
    {
     "name": "stdout",
     "output_type": "stream",
     "text": [
      "Original data shape: Counter({2: 1796, 1: 140, 0: 64})\n"
     ]
    }
   ],
   "source": [
    "X, y = make_classification(n_classes=3, weights=[0.03, 0.07, 0.9], n_features=10, n_clusters_per_class=2, n_informative=3, n_samples=2000, random_state=10)\n",
    "print(f'Original data shape: {Counter(y)}')"
   ],
   "metadata": {
    "collapsed": false,
    "ExecuteTime": {
     "end_time": "2024-04-07T01:45:56.029139Z",
     "start_time": "2024-04-07T01:45:56.025980Z"
    }
   },
   "id": "c2f5c3aa0cb92464",
   "execution_count": 30
  },
  {
   "cell_type": "markdown",
   "source": [
    "# make_classification\n",
    "- scikit-learn 라이브러리에서 제공하는 함수로, 분류 모델 학습을 위한 가상의 데이터를 생성하는 데 사용\n",
    "\n",
    "## n_classes: \n",
    "- 생성할 클래스의 개수를 지정\n",
    "\n",
    "## weights: \n",
    "- 각 클래스에 속하는 샘플의 비율을 지정\n",
    "- 위 예제에서는 [0.03, 0.07, 0.9]로 설정되어 있어, 첫 번째 클래스는 전체 데이터의 3%, 두 번째 클래스는 7%, 세 번째 클래스는 90%의 비율로 샘플이 생성\n",
    "\n",
    "## n_features: \n",
    "- 생성할 특성(Feature)의 수를 지정\n",
    "- 위 예제에서는 10으로 설정되어 있어, 각 샘플은 10개의 특성을 가지게 됨.\n",
    "\n",
    "## n_clusters_per_class:\n",
    "- 각 클래스 내에서 서로 비슷한 데이터끼리 얼마나 많은 그룹을 이루어야 하는지를 결정하는 것\n",
    "- 1:\n",
    "    - 각 클래스는 공간적으로 하나의 그룹을 형성\n",
    "    - 각 클래스의 데이터가 단일 클러스터로 모여 있음을 나타낸다.\n",
    "- 1보다 큰 경우\n",
    "    - 각 클래스 내부에 여러 개의 클러스터가 생성\n",
    "    - 이는 같은 레이블을 가진 데이터 포인트들이 여러 서로 다른 그룹을 형성할 수 있음을 의미\n",
    "    - 각각의 그룹은 공간적으로 분리되어 있을 수 있다.\n",
    "\n",
    "## n_samples: \n",
    "- 생성할 샘플의 총 개수를 지정\n",
    "\n",
    "## random_state: \n",
    "- 데이터 생성 시 사용되는 난수 시드 값을 지정\n",
    "- 이 값을 지정함으로써 결과를 재현할 수 있다.\n",
    "\n",
    "---\n",
    "\n",
    "# Coubter\n",
    "- 컨테이너에 동일한 값의 자료가 몇 개인지를 파악하는 데 사용\n",
    "- 리스트, 튜플 등의 이터러블한 객체에 포함된 요소의 개수를 세어, 요소와 그 요소의 개수를 딕셔너리 형태로 반환\n",
    "- Counter(y)의 결과는 생성된 데이터 세트의 클래스별 샘플 분포를 나타내며, 이를 통해 각 클래스가 데이터 세트에서 차지하는 비율을 확인할 수 있다."
   ],
   "metadata": {
    "collapsed": false
   },
   "id": "f1ebb6e3c96b2d58"
  },
  {
   "cell_type": "code",
   "outputs": [
    {
     "name": "stdout",
     "output_type": "stream",
     "text": [
      "X: [[-0.51580758  0.15256514  0.19278189 ...  0.50877241 -0.34522647\n",
      "   1.423667  ]\n",
      " [-1.5482071  -0.68817046  1.09443894 ...  0.24956233 -1.587214\n",
      "   0.86775055]\n",
      " [-1.93662622 -2.86165403  2.80846998 ... -1.6660675  -0.40622295\n",
      "  -0.28346911]\n",
      " ...\n",
      " [-1.74754951  2.88207434 -0.46722554 ... -0.60987331 -0.05450079\n",
      "  -1.13015615]\n",
      " [-0.51302964  0.01705309  0.42950344 ... -0.58542597  0.92029394\n",
      "  -0.12764409]\n",
      " [-0.31070964  1.61987332 -0.31604515 ...  0.62993607 -1.08860256\n",
      "   0.04336445]] (2000, 10)\n",
      "y: [2 2 2 ... 2 2 2] (2000,)\n"
     ]
    }
   ],
   "source": [
    "import numpy as np\n",
    "\n",
    "X = np.array(X)\n",
    "y = np.array(y)\n",
    "\n",
    "print(f'X: {X}', X.shape)\n",
    "print(f'y: {y}', y.shape)"
   ],
   "metadata": {
    "collapsed": false,
    "ExecuteTime": {
     "end_time": "2024-04-07T01:45:56.032215Z",
     "start_time": "2024-04-07T01:45:56.029995Z"
    }
   },
   "id": "dd2470dc066f7f95",
   "execution_count": 31
  },
  {
   "cell_type": "code",
   "outputs": [
    {
     "name": "stdout",
     "output_type": "stream",
     "text": [
      "Resampled dataset shape: Counter({2: 1796, 1: 1796, 0: 1796})\n"
     ]
    }
   ],
   "source": [
    "sm = SMOTE(random_state=42, k_neighbors=20)\n",
    "X_res, y_res = sm.fit_resample(X, y)\n",
    "print(f'Resampled dataset shape: {Counter(y_res)}')"
   ],
   "metadata": {
    "collapsed": false,
    "ExecuteTime": {
     "end_time": "2024-04-07T01:45:56.037460Z",
     "start_time": "2024-04-07T01:45:56.032912Z"
    }
   },
   "id": "73876c5fba58bcce",
   "execution_count": 32
  },
  {
   "cell_type": "code",
   "outputs": [
    {
     "name": "stdout",
     "output_type": "stream",
     "text": [
      "Resampled dataset shape from ADASYN : Counter({2: 1796, 1: 1789, 0: 1775})\n"
     ]
    }
   ],
   "source": [
    "ada = ADASYN(random_state=0)\n",
    "X_syn, y_syn = ada.fit_resample(X, y)\n",
    "print(f'Resampled dataset shape from ADASYN : {Counter(y_syn)}')"
   ],
   "metadata": {
    "collapsed": false,
    "ExecuteTime": {
     "end_time": "2024-04-07T01:45:56.046522Z",
     "start_time": "2024-04-07T01:45:56.038485Z"
    }
   },
   "id": "6433d63a4fd8eea5",
   "execution_count": 33
  }
 ],
 "metadata": {
  "kernelspec": {
   "display_name": "Python 3",
   "language": "python",
   "name": "python3"
  },
  "language_info": {
   "codemirror_mode": {
    "name": "ipython",
    "version": 2
   },
   "file_extension": ".py",
   "mimetype": "text/x-python",
   "name": "python",
   "nbconvert_exporter": "python",
   "pygments_lexer": "ipython2",
   "version": "2.7.6"
  }
 },
 "nbformat": 4,
 "nbformat_minor": 5
}
