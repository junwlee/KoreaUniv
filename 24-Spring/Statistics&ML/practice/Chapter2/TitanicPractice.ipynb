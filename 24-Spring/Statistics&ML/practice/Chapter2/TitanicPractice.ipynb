{
 "cells": [
  {
   "cell_type": "code",
   "execution_count": 45,
   "id": "initial_id",
   "metadata": {
    "collapsed": true,
    "ExecuteTime": {
     "end_time": "2024-04-07T06:16:54.152485Z",
     "start_time": "2024-04-07T06:16:54.146361Z"
    }
   },
   "outputs": [
    {
     "name": "stdout",
     "output_type": "stream",
     "text": [
      "   survived  pclass     sex   age  sibsp  parch     fare embarked  class  \\\n",
      "0         0       3    male  22.0      1      0   7.2500        S  Third   \n",
      "1         1       1  female  38.0      1      0  71.2833        C  First   \n",
      "2         1       3  female  26.0      0      0   7.9250        S  Third   \n",
      "3         1       1  female  35.0      1      0  53.1000        S  First   \n",
      "4         0       3    male  35.0      0      0   8.0500        S  Third   \n",
      "\n",
      "     who  adult_male deck  embark_town alive  alone  \n",
      "0    man        True  NaN  Southampton    no  False  \n",
      "1  woman       False    C    Cherbourg   yes  False  \n",
      "2  woman       False  NaN  Southampton   yes   True  \n",
      "3  woman       False    C  Southampton   yes  False  \n",
      "4    man        True  NaN  Southampton    no   True  \n"
     ]
    }
   ],
   "source": [
    "import seaborn as sns\n",
    "import pandas as pd\n",
    "\n",
    "titanic = sns.load_dataset(\"titanic\")\n",
    "df = pd.DataFrame(data=titanic)\n",
    "# # 데이터프레임 내의 모든 bool 타입의 원소를 찾아 숫자형으로 변환\n",
    "# df = df.map(lambda x: int(x) if type(x) == bool else x)\n",
    "print(df.head())"
   ]
  },
  {
   "cell_type": "markdown",
   "source": [
    "# 칼럼 설명\n",
    "\n",
    "1. survived\n",
    "- 생존 여부\n",
    "- 0이면 사망, 1이면 생존\n",
    "\n",
    "2. pclass\n",
    "- 객실 등급\n",
    "- 1이면 1등급, 2이면 2등급, 3이면 3등급\n",
    "\n",
    "3. sex\n",
    "- 성별\n",
    "- male이면 남자, female이면 여자\n",
    "\n",
    "4. age\n",
    "- 나이\n",
    "\n",
    "5. sibsp\n",
    "- 함께 탑승한 형제 및 배우자 수\n",
    "\n",
    "6. parch\n",
    "- 함께 탑승한 자녀 및 부모 수\n",
    "\n",
    "7. fare\n",
    "- 요금\n",
    "\n",
    "8. embarked\n",
    "- 탑승지 이름 앞글자\n",
    "- C는 Cherbourg, Q는 Queenstown, S는 Southampton\n",
    "\n",
    "9. class\n",
    "- 객실 등급\n",
    "- First면 1등급, Second면 2등급, Third면 3등급\n",
    "\n",
    "10. who\n",
    "- 남자, 여자, 아이\n",
    "- man, woman, child\n",
    "\n",
    "11. adult_male\n",
    "- 성인 남자인지 여부\n",
    "- True면 성인 남자, False면 그외\n",
    "\n",
    "12. deck\n",
    "- 선실 번호 첫 알파벳\n",
    "- A, B, C, D, E, F, G\n",
    "\n",
    "13. embark_town\n",
    "- 탑승지 이름\n",
    "- Cherbourg, Queenstown, Southampton\n",
    "\n",
    "14. alive\n",
    "- 생존여부\n",
    "- no면 사망, yes면 생존\n",
    "\n",
    "15. alone\n",
    "- 혼자 탑승했는지 여부\n",
    "- True면 혼자 탑승, False면 가족과 함께 탑승"
   ],
   "metadata": {
    "collapsed": false
   },
   "id": "6a9b295e7f8132a0"
  },
  {
   "cell_type": "code",
   "outputs": [],
   "source": [
    "# 데이터 타입 확인\n",
    "print(df.dtypes)\n",
    "\n",
    "# 범주형 데이터만 선택하기\n",
    "cat_df = df.select_dtypes(include=['object', 'category'])\n",
    "\n",
    "# 수치형 데이터만 선택하기\n",
    "num_df = df.select_dtypes(include=['int64', 'float64'])"
   ],
   "metadata": {
    "collapsed": false,
    "ExecuteTime": {
     "end_time": "2024-04-07T06:16:54.155557Z",
     "start_time": "2024-04-07T06:16:54.153350Z"
    }
   },
   "id": "541e4793bb4474b7",
   "execution_count": 46
  },
  {
   "cell_type": "code",
   "outputs": [],
   "source": [
    "from sklearn.preprocessing import LabelEncoder, OneHotEncoder\n",
    "\n",
    "def dummy(data, col):\n",
    "    lab = LabelEncoder()  # 범주형 자료를 수치화\n",
    "    aa = lab.fit_transform(data[col]).reshape(-1, 1)\n",
    "    one = OneHotEncoder(sparse_output=False)  # 가변수화\n",
    "    column_names = [col + '_' + str(i) for i in lab.classes_]\n",
    "    return pd.DataFrame(one.fit_transform(aa), columns=column_names)"
   ],
   "metadata": {
    "collapsed": false,
    "ExecuteTime": {
     "end_time": "2024-04-07T06:16:54.158305Z",
     "start_time": "2024-04-07T06:16:54.156246Z"
    }
   },
   "id": "fe6385f1b4612fe",
   "execution_count": 47
  },
  {
   "cell_type": "code",
   "outputs": [
    {
     "data": {
      "text/plain": "   survived  pclass   age  sibsp  parch     fare  sex_female  sex_male  \\\n0         0       3  22.0      1      0   7.2500         0.0       1.0   \n1         1       1  38.0      1      0  71.2833         1.0       0.0   \n2         1       3  26.0      0      0   7.9250         1.0       0.0   \n3         1       1  35.0      1      0  53.1000         1.0       0.0   \n4         0       3  35.0      0      0   8.0500         0.0       1.0   \n\n   embarked_C  embarked_Q  ...  deck_E  deck_F  deck_G  deck_nan  \\\n0         0.0         0.0  ...     0.0     0.0     0.0       1.0   \n1         1.0         0.0  ...     0.0     0.0     0.0       0.0   \n2         0.0         0.0  ...     0.0     0.0     0.0       1.0   \n3         0.0         0.0  ...     0.0     0.0     0.0       0.0   \n4         0.0         0.0  ...     0.0     0.0     0.0       1.0   \n\n   embark_town_Cherbourg  embark_town_Queenstown  embark_town_Southampton  \\\n0                    0.0                     0.0                      1.0   \n1                    1.0                     0.0                      0.0   \n2                    0.0                     0.0                      1.0   \n3                    0.0                     0.0                      1.0   \n4                    0.0                     0.0                      1.0   \n\n   embark_town_nan  alive_no  alive_yes  \n0              0.0       1.0        0.0  \n1              0.0       0.0        1.0  \n2              0.0       0.0        1.0  \n3              0.0       0.0        1.0  \n4              0.0       1.0        0.0  \n\n[5 rows x 32 columns]",
      "text/html": "<div>\n<style scoped>\n    .dataframe tbody tr th:only-of-type {\n        vertical-align: middle;\n    }\n\n    .dataframe tbody tr th {\n        vertical-align: top;\n    }\n\n    .dataframe thead th {\n        text-align: right;\n    }\n</style>\n<table border=\"1\" class=\"dataframe\">\n  <thead>\n    <tr style=\"text-align: right;\">\n      <th></th>\n      <th>survived</th>\n      <th>pclass</th>\n      <th>age</th>\n      <th>sibsp</th>\n      <th>parch</th>\n      <th>fare</th>\n      <th>sex_female</th>\n      <th>sex_male</th>\n      <th>embarked_C</th>\n      <th>embarked_Q</th>\n      <th>...</th>\n      <th>deck_E</th>\n      <th>deck_F</th>\n      <th>deck_G</th>\n      <th>deck_nan</th>\n      <th>embark_town_Cherbourg</th>\n      <th>embark_town_Queenstown</th>\n      <th>embark_town_Southampton</th>\n      <th>embark_town_nan</th>\n      <th>alive_no</th>\n      <th>alive_yes</th>\n    </tr>\n  </thead>\n  <tbody>\n    <tr>\n      <th>0</th>\n      <td>0</td>\n      <td>3</td>\n      <td>22.0</td>\n      <td>1</td>\n      <td>0</td>\n      <td>7.2500</td>\n      <td>0.0</td>\n      <td>1.0</td>\n      <td>0.0</td>\n      <td>0.0</td>\n      <td>...</td>\n      <td>0.0</td>\n      <td>0.0</td>\n      <td>0.0</td>\n      <td>1.0</td>\n      <td>0.0</td>\n      <td>0.0</td>\n      <td>1.0</td>\n      <td>0.0</td>\n      <td>1.0</td>\n      <td>0.0</td>\n    </tr>\n    <tr>\n      <th>1</th>\n      <td>1</td>\n      <td>1</td>\n      <td>38.0</td>\n      <td>1</td>\n      <td>0</td>\n      <td>71.2833</td>\n      <td>1.0</td>\n      <td>0.0</td>\n      <td>1.0</td>\n      <td>0.0</td>\n      <td>...</td>\n      <td>0.0</td>\n      <td>0.0</td>\n      <td>0.0</td>\n      <td>0.0</td>\n      <td>1.0</td>\n      <td>0.0</td>\n      <td>0.0</td>\n      <td>0.0</td>\n      <td>0.0</td>\n      <td>1.0</td>\n    </tr>\n    <tr>\n      <th>2</th>\n      <td>1</td>\n      <td>3</td>\n      <td>26.0</td>\n      <td>0</td>\n      <td>0</td>\n      <td>7.9250</td>\n      <td>1.0</td>\n      <td>0.0</td>\n      <td>0.0</td>\n      <td>0.0</td>\n      <td>...</td>\n      <td>0.0</td>\n      <td>0.0</td>\n      <td>0.0</td>\n      <td>1.0</td>\n      <td>0.0</td>\n      <td>0.0</td>\n      <td>1.0</td>\n      <td>0.0</td>\n      <td>0.0</td>\n      <td>1.0</td>\n    </tr>\n    <tr>\n      <th>3</th>\n      <td>1</td>\n      <td>1</td>\n      <td>35.0</td>\n      <td>1</td>\n      <td>0</td>\n      <td>53.1000</td>\n      <td>1.0</td>\n      <td>0.0</td>\n      <td>0.0</td>\n      <td>0.0</td>\n      <td>...</td>\n      <td>0.0</td>\n      <td>0.0</td>\n      <td>0.0</td>\n      <td>0.0</td>\n      <td>0.0</td>\n      <td>0.0</td>\n      <td>1.0</td>\n      <td>0.0</td>\n      <td>0.0</td>\n      <td>1.0</td>\n    </tr>\n    <tr>\n      <th>4</th>\n      <td>0</td>\n      <td>3</td>\n      <td>35.0</td>\n      <td>0</td>\n      <td>0</td>\n      <td>8.0500</td>\n      <td>0.0</td>\n      <td>1.0</td>\n      <td>0.0</td>\n      <td>0.0</td>\n      <td>...</td>\n      <td>0.0</td>\n      <td>0.0</td>\n      <td>0.0</td>\n      <td>1.0</td>\n      <td>0.0</td>\n      <td>0.0</td>\n      <td>1.0</td>\n      <td>0.0</td>\n      <td>1.0</td>\n      <td>0.0</td>\n    </tr>\n  </tbody>\n</table>\n<p>5 rows × 32 columns</p>\n</div>"
     },
     "execution_count": 60,
     "metadata": {},
     "output_type": "execute_result"
    }
   ],
   "source": [
    "# 모든 범주형 데이터에 대해 더미 변수 생성 후 합치기\n",
    "temp_dfs = [num_df]  # 수치형 데이터 프레임을 먼저 추가\n",
    "for column in cat_df:\n",
    "    temp_dfs.append(dummy(df, column))  # 각 범주형 변수에 대해 생성된 더미 변수 데이터프레임을 추가\n",
    "\n",
    "new_df = pd.concat(temp_dfs, axis=1)  # 모든 데이터프레임을 합침\n",
    "new_df.head()"
   ],
   "metadata": {
    "collapsed": false,
    "ExecuteTime": {
     "end_time": "2024-04-07T06:25:37.980995Z",
     "start_time": "2024-04-07T06:25:37.963484Z"
    }
   },
   "id": "82fa9f030a55556c",
   "execution_count": 60
  },
  {
   "cell_type": "code",
   "outputs": [],
   "source": [
    "from sklearn.model_selection import train_test_split\n",
    "\n",
    "target = ['alive_no', 'alive_yes']  # 타겟 열 이름을 리스트로 지정 # df['alive_no', 'alive_yes'] X\n",
    "features = new_df.drop(columns = target).columns\n",
    "\n",
    "train, test = train_test_split(new_df, test_size = 0.3, random_state = 2)\n",
    "\n",
    "X_train = train[features]\n",
    "y_train = train[target]\n",
    "X_test = test[features]\n",
    "y_test = test[target]"
   ],
   "metadata": {
    "collapsed": false,
    "ExecuteTime": {
     "end_time": "2024-04-07T06:35:46.764338Z",
     "start_time": "2024-04-07T06:35:46.757883Z"
    }
   },
   "id": "3825188eb21b51d6",
   "execution_count": 63
  },
  {
   "cell_type": "code",
   "outputs": [
    {
     "data": {
      "text/plain": "Index(['survived', 'pclass', 'fare', 'sex_female', 'sex_male', 'class_First',\n       'class_Third', 'who_man', 'who_woman', 'deck_B'],\n      dtype='object')"
     },
     "execution_count": 64,
     "metadata": {},
     "output_type": "execute_result"
    }
   ],
   "source": [
    "from sklearn.impute import SimpleImputer\n",
    "from sklearn.feature_selection import SelectKBest, chi2\n",
    "\n",
    "# Null값의 처리를 위해 SimpleImputer 처리를 먼저 한다.\n",
    "sim = SimpleImputer()\n",
    "X_train_sim = sim.fit_transform(X_train, y_train)\n",
    "X_test_sim = sim.transform(X_test)\n",
    "\n",
    "# 특성 선택을 위한 SelectKBest를 진행 - K는 특성 수\n",
    "selector = SelectKBest(score_func = chi2, k = 10)\n",
    "X_train_selected = selector.fit_transform(X_train_sim, y_train)\n",
    "X_test_selected = selector.transform(X_test_sim)\n",
    "\n",
    "# 선택된 column의 이름을 확인하는 작업\n",
    "all_names = X_train.columns\n",
    "selected_mask = selector.get_support()\n",
    "selected_name = all_names[selected_mask]\n",
    "selected_name"
   ],
   "metadata": {
    "collapsed": false,
    "ExecuteTime": {
     "end_time": "2024-04-07T06:41:08.542373Z",
     "start_time": "2024-04-07T06:41:08.494277Z"
    }
   },
   "id": "ee7e5caf3483b8d9",
   "execution_count": 64
  },
  {
   "cell_type": "code",
   "outputs": [],
   "source": [],
   "metadata": {
    "collapsed": false
   },
   "id": "4c8d2d795e2fe552"
  }
 ],
 "metadata": {
  "kernelspec": {
   "display_name": "Python 3",
   "language": "python",
   "name": "python3"
  },
  "language_info": {
   "codemirror_mode": {
    "name": "ipython",
    "version": 2
   },
   "file_extension": ".py",
   "mimetype": "text/x-python",
   "name": "python",
   "nbconvert_exporter": "python",
   "pygments_lexer": "ipython2",
   "version": "2.7.6"
  }
 },
 "nbformat": 4,
 "nbformat_minor": 5
}
