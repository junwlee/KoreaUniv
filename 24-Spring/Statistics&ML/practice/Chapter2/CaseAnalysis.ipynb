{
 "cells": [
  {
   "cell_type": "code",
   "execution_count": null,
   "id": "initial_id",
   "metadata": {
    "collapsed": true
   },
   "outputs": [],
   "source": [
    "import pandas as pd\n",
    "df1 = pd.read_csv('/Users/junwlee/Documents/KoreaUniv/24-Spring/Statistics&ML/practice/Chapter2/rosman-store-sales/train.csv', engine='python')\n",
    "print(df1.head(10))"
   ]
  },
  {
   "cell_type": "code",
   "outputs": [],
   "source": [
    "df2 = pd.read_csv('/Users/junwlee/Documents/KoreaUniv/24-Spring/Statistics&ML/practice/Chapter2/rosman-store-sales/store.csv', engine='python')\n",
    "print(df2.head(10))"
   ],
   "metadata": {
    "collapsed": false
   },
   "id": "110e5ffa9066a4",
   "execution_count": null
  },
  {
   "cell_type": "code",
   "outputs": [],
   "source": [
    "df = pd.merge(df1, df2, on='Store')\n",
    "print(df, df.shape)\n",
    "print(df.dtypes)"
   ],
   "metadata": {
    "collapsed": false
   },
   "id": "acbaa54e2b3fdd63",
   "execution_count": null
  },
  {
   "cell_type": "code",
   "outputs": [],
   "source": [
    "print(len(df['Store'].unique()))\n",
    "print(len(df['Date'].unique()))\n",
    "print(df['DayOfWeek'].value_counts())"
   ],
   "metadata": {
    "collapsed": false
   },
   "id": "16324db334788bc3",
   "execution_count": null
  },
  {
   "cell_type": "code",
   "outputs": [],
   "source": [
    "import numpy as np\n",
    "\n",
    "df['Date'] = pd.to_datetime(df['Date'], format='%Y-%m-%d')\n",
    "df['Month'] = df['Date'].dt.month\n",
    "df['Quarter'] = df['Date'].dt.quarter\n",
    "df['Year'] = df['Date'].dt.year\n",
    "df['Day'] = df['Date'].dt.day\n",
    "df['Week'] = df['Date'].dt.isocalendar().week\n",
    "df['Season'] = np.where( df['Month'].isin([3,4,5]),'Spring',\n",
    "                         np.where( df['Month'].isin([6,7,8]), 'Summer',\n",
    "                            np.where( df['Month'].isin([9,10,11]), 'Fall',\n",
    "                                np.where( df['Month'].isin([12,1,2]), 'Winter','None'))))\n",
    "print(df[['Date','Year', 'Month', 'Day','Week','Quarter', 'Season']])"
   ],
   "metadata": {
    "collapsed": false
   },
   "id": "7484bb25efede873",
   "execution_count": null
  },
  {
   "cell_type": "code",
   "outputs": [],
   "source": [
    "print(df)"
   ],
   "metadata": {
    "collapsed": false
   },
   "id": "268c47f889c6b95f",
   "execution_count": null
  },
  {
   "cell_type": "code",
   "outputs": [],
   "source": [
    "df.hist(figsize=(20,10))"
   ],
   "metadata": {
    "collapsed": false
   },
   "id": "dc17bec95d9876f9",
   "execution_count": null
  },
  {
   "cell_type": "code",
   "outputs": [],
   "source": [
    "print(df.isnull().sum() / df.shape[0] * 100)"
   ],
   "metadata": {
    "collapsed": false
   },
   "id": "7c4fe69ad8136e2e",
   "execution_count": null
  },
  {
   "cell_type": "code",
   "outputs": [],
   "source": [
    "df['CompetitionDistance'] = df['CompetitionDistance'].fillna(df['CompetitionDistance'].mode()[0])\n",
    "print(df['CompetitionDistance'].isnull().sum())"
   ],
   "metadata": {
    "collapsed": false
   },
   "id": "2f70a556171ee721",
   "execution_count": null
  },
  {
   "cell_type": "markdown",
   "source": [
    "# 범주형 자료의 변환"
   ],
   "metadata": {
    "collapsed": false
   },
   "id": "1e939dd7ffb4b67"
  },
  {
   "cell_type": "code",
   "outputs": [],
   "source": [
    "from sklearn.preprocessing import LabelEncoder, OneHotEncoder\n",
    "\n",
    "# 결측치가 많은 자료를 제외한 변수\n",
    "n_columns = ['Customers', 'Open', 'Promo', 'Promo2', 'StateHoliday', 'SchoolHoliday', 'CompetitionDistance']\n",
    "\n",
    "categ_columns = ['DayOfWeek', 'Quarter', 'Month', 'Year', 'StoreType', 'Assortment', 'Season']"
   ],
   "metadata": {
    "collapsed": false
   },
   "id": "4099020ecb61b914",
   "execution_count": null
  },
  {
   "cell_type": "code",
   "outputs": [],
   "source": [
    "def dummy(data, col):\n",
    "    lab=LabelEncoder() # 범주형 자료를 수치화\n",
    "    aa=lab.fit_transform(data[col]).reshape(-1,1)\n",
    "    one=OneHotEncoder(sparse_output=False) # 가변수화\n",
    "    column_names = [col + '_' + str(i) for i in lab.classes_]\n",
    "    return pd.DataFrame(one.fit_transform(aa), columns=column_names)\n",
    "\n",
    "# classes_ : Holds the label for each class."
   ],
   "metadata": {
    "collapsed": false
   },
   "id": "8522ac84734bf8dc",
   "execution_count": null
  },
  {
   "cell_type": "markdown",
   "source": [
    "# LabelEncoder\n",
    "- 예를 들어, Season 변수가 Spring, Summer, Fall, Winter의 4가지 값을 가진다면, 이들은 각각 0, 1, 2, 3과 같은 정수로 변환\n",
    "\n",
    "# reshape :\n",
    "- LabelEncoder 같은 일부 변환기는 범주형 데이터를 변환할 때 1차원 배열(예: (샘플 수,))을 반환\n",
    "- oneHotEncoder와 같은 다른 변환기를 적용하기 전에 입력 데이터가 2차원 형태가 되어야 하는데, 여기서 1차원 배열을 2차원 배열로 만들기 위해 reshape(-1, 1) 과정이 필요\n",
    "\n",
    "# OneHotEncoder\n",
    "- 예를 들어, Season이 Spring, Summer, Fall, Winter의 값을 가진다면, 이는 Season_Spring, Season_Summer, Season_Fall, Season_Winter라는 4개의 열로 변환\n",
    "\n",
    "# dummy( ):\n",
    "- 입력된 데이터프레임(data)의 지정된 열(col)에 대해 수치화와 가변수화를 수행하고, 그 결과를 새로운 데이터프레임으로 반환\n",
    "- 이렇게 변환된 데이터프레임은 모델 학습에 적합한 형태로 데이터를 변환하여, 머신러닝 모델이 범주형 데이터를 효율적으로 처리"
   ],
   "metadata": {
    "collapsed": false
   },
   "id": "d2cbd07ad948884f"
  },
  {
   "cell_type": "code",
   "outputs": [],
   "source": [
    "fdata = df[n_columns]\n",
    "print(fdata.head())"
   ],
   "metadata": {
    "collapsed": false
   },
   "id": "3c3ef4f1237464f4",
   "execution_count": null
  },
  {
   "cell_type": "code",
   "outputs": [],
   "source": [
    "for column in categ_columns:\n",
    "    # 지정된 모든 범주형 열(categ_columns)에 대해 변환 작업을 수행\n",
    "    temp_df = dummy(df, column)\n",
    "    \n",
    "    # 이를 기존의 수치형 데이터(fdata)와 합쳐 최종적으로 모델 학습에 사용될 데이터셋을 준비\n",
    "    fdata = pd.concat([fdata, temp_df], axis=1)\n",
    "fdata.head()"
   ],
   "metadata": {
    "collapsed": false
   },
   "id": "f9e3075bb3ff7f14",
   "execution_count": null
  },
  {
   "cell_type": "code",
   "outputs": [],
   "source": [
    "fdata.shape"
   ],
   "metadata": {
    "collapsed": false
   },
   "id": "f39fbf8170048753",
   "execution_count": null
  },
  {
   "cell_type": "code",
   "outputs": [],
   "source": [
    "fdata.dtypes.unique()"
   ],
   "metadata": {
    "collapsed": false
   },
   "id": "8387f7e26d43dbc2",
   "execution_count": null
  },
  {
   "cell_type": "code",
   "outputs": [],
   "source": [
    "fdata['StateHoliday'].unique()"
   ],
   "metadata": {
    "collapsed": false
   },
   "id": "6c31e1c300941eb4",
   "execution_count": null
  },
  {
   "cell_type": "code",
   "outputs": [],
   "source": [
    "fdata['StateHoliday'] = np.where(fdata['StateHoliday'] == 'o', 0, 1)\n",
    "\n",
    "# np.where\n",
    "# np.where 함수는 세 개의 주요 파라미터를 받는다: 조건문, 참일 때의 값, 거짓일 때의 값\n",
    "# 조건문은 fdata['StateHoliday'] == 'o'로, 'StateHoliday' 열의 값이 'o'와 같은지를 검사\n",
    "# 조건이 참이면 0을, 거짓이면 1을 해당 위치에 할당"
   ],
   "metadata": {
    "collapsed": false
   },
   "id": "3b397ea9abd9b0b4",
   "execution_count": null
  },
  {
   "cell_type": "code",
   "outputs": [],
   "source": [],
   "metadata": {
    "collapsed": false
   },
   "id": "6d93be09f5be0cff",
   "execution_count": null
  }
 ],
 "metadata": {
  "kernelspec": {
   "display_name": "Python 3",
   "language": "python",
   "name": "python3"
  },
  "language_info": {
   "codemirror_mode": {
    "name": "ipython",
    "version": 2
   },
   "file_extension": ".py",
   "mimetype": "text/x-python",
   "name": "python",
   "nbconvert_exporter": "python",
   "pygments_lexer": "ipython2",
   "version": "2.7.6"
  }
 },
 "nbformat": 4,
 "nbformat_minor": 5
}
