{
 "cells": [
  {
   "cell_type": "code",
   "execution_count": 166,
   "id": "initial_id",
   "metadata": {
    "collapsed": true,
    "ExecuteTime": {
     "end_time": "2024-04-07T12:07:45.223777Z",
     "start_time": "2024-04-07T12:07:44.799244Z"
    }
   },
   "outputs": [
    {
     "name": "stdout",
     "output_type": "stream",
     "text": [
      "         Suburb            Address  Rooms Type      Price Method  \\\n",
      "0    Abbotsford      49 Lithgow St      3    h  1490000.0      S   \n",
      "1    Abbotsford      59A Turner St      3    h  1220000.0      S   \n",
      "2    Abbotsford      119B Yarra St      3    h  1420000.0      S   \n",
      "3    Aberfeldie         68 Vida St      3    h  1515000.0      S   \n",
      "4  Airport West   92 Clydesdale Rd      2    h   670000.0      S   \n",
      "5  Airport West       4/32 Earl St      2    t   530000.0      S   \n",
      "6  Airport West     3/74 Hawker St      2    u   540000.0      S   \n",
      "7  Airport West  1/26 Highridge Cr      3    h   715000.0     SP   \n",
      "8     Albanvale      1 Jackson Cct      6    h        NaN     PI   \n",
      "9   Albert Park        18 Mills St      3    h  1925000.0      S   \n",
      "\n",
      "         SellerG       Date  Postcode             Regionname  Propertycount  \\\n",
      "0         Jellis  1/04/2017      3067  Northern Metropolitan           4019   \n",
      "1       Marshall  1/04/2017      3067  Northern Metropolitan           4019   \n",
      "2         Nelson  1/04/2017      3067  Northern Metropolitan           4019   \n",
      "3          Barry  1/04/2017      3040   Western Metropolitan           1543   \n",
      "4         Nelson  1/04/2017      3042   Western Metropolitan           3464   \n",
      "5         Jellis  1/04/2017      3042   Western Metropolitan           3464   \n",
      "6          Barry  1/04/2017      3042   Western Metropolitan           3464   \n",
      "7         Nelson  1/04/2017      3042   Western Metropolitan           3464   \n",
      "8  hockingstuart  1/04/2017      3021   Western Metropolitan           1899   \n",
      "9         Cayzer  1/04/2017      3206  Southern Metropolitan           3280   \n",
      "\n",
      "   Distance                 CouncilArea  \n",
      "0       3.0          Yarra City Council  \n",
      "1       3.0          Yarra City Council  \n",
      "2       3.0          Yarra City Council  \n",
      "3       7.5  Moonee Valley City Council  \n",
      "4      10.4  Moonee Valley City Council  \n",
      "5      10.4  Moonee Valley City Council  \n",
      "6      10.4  Moonee Valley City Council  \n",
      "7      10.4  Moonee Valley City Council  \n",
      "8      14.0       Brimbank City Council  \n",
      "9       3.0   Port Phillip City Council  \n",
      "Suburb            0.000000\n",
      "Address           0.000000\n",
      "Rooms             0.000000\n",
      "Type              0.000000\n",
      "Price            23.150278\n",
      "Method            0.000000\n",
      "SellerG           0.000000\n",
      "Date              0.000000\n",
      "Postcode          0.000000\n",
      "Regionname        0.000000\n",
      "Propertycount     0.000000\n",
      "Distance          0.000000\n",
      "CouncilArea       0.000000\n",
      "dtype: float64\n"
     ]
    }
   ],
   "source": [
    "import pandas as pd\n",
    "df = pd.read_csv('/Users/junwlee/Documents/KoreaUniv/24-Spring/Statistics&ML/practice/Chapter2/HousingMarket/MELBOURNE_HOUSE_PRICES_LESS.csv', engine='python')\n",
    "print(df.head(10))\n",
    "print(df.isnull().sum() / df.shape[0] * 100)"
   ]
  },
  {
   "cell_type": "code",
   "outputs": [
    {
     "name": "stdout",
     "output_type": "stream",
     "text": [
      "Suburb           0.0\n",
      "Address          0.0\n",
      "Rooms            0.0\n",
      "Type             0.0\n",
      "Price            0.0\n",
      "Method           0.0\n",
      "SellerG          0.0\n",
      "Date             0.0\n",
      "Postcode         0.0\n",
      "Regionname       0.0\n",
      "Propertycount    0.0\n",
      "Distance         0.0\n",
      "CouncilArea      0.0\n",
      "dtype: float64\n"
     ]
    },
    {
     "data": {
      "text/plain": "   Rooms Type      Price Method  Postcode             Regionname  \\\n0      3    h  1490000.0      S      3067  Northern Metropolitan   \n1      3    h  1220000.0      S      3067  Northern Metropolitan   \n2      3    h  1420000.0      S      3067  Northern Metropolitan   \n3      3    h  1515000.0      S      3040   Western Metropolitan   \n4      2    h   670000.0      S      3042   Western Metropolitan   \n\n   Propertycount  Distance                 CouncilArea  \n0           4019       3.0          Yarra City Council  \n1           4019       3.0          Yarra City Council  \n2           4019       3.0          Yarra City Council  \n3           1543       7.5  Moonee Valley City Council  \n4           3464      10.4  Moonee Valley City Council  ",
      "text/html": "<div>\n<style scoped>\n    .dataframe tbody tr th:only-of-type {\n        vertical-align: middle;\n    }\n\n    .dataframe tbody tr th {\n        vertical-align: top;\n    }\n\n    .dataframe thead th {\n        text-align: right;\n    }\n</style>\n<table border=\"1\" class=\"dataframe\">\n  <thead>\n    <tr style=\"text-align: right;\">\n      <th></th>\n      <th>Rooms</th>\n      <th>Type</th>\n      <th>Price</th>\n      <th>Method</th>\n      <th>Postcode</th>\n      <th>Regionname</th>\n      <th>Propertycount</th>\n      <th>Distance</th>\n      <th>CouncilArea</th>\n    </tr>\n  </thead>\n  <tbody>\n    <tr>\n      <th>0</th>\n      <td>3</td>\n      <td>h</td>\n      <td>1490000.0</td>\n      <td>S</td>\n      <td>3067</td>\n      <td>Northern Metropolitan</td>\n      <td>4019</td>\n      <td>3.0</td>\n      <td>Yarra City Council</td>\n    </tr>\n    <tr>\n      <th>1</th>\n      <td>3</td>\n      <td>h</td>\n      <td>1220000.0</td>\n      <td>S</td>\n      <td>3067</td>\n      <td>Northern Metropolitan</td>\n      <td>4019</td>\n      <td>3.0</td>\n      <td>Yarra City Council</td>\n    </tr>\n    <tr>\n      <th>2</th>\n      <td>3</td>\n      <td>h</td>\n      <td>1420000.0</td>\n      <td>S</td>\n      <td>3067</td>\n      <td>Northern Metropolitan</td>\n      <td>4019</td>\n      <td>3.0</td>\n      <td>Yarra City Council</td>\n    </tr>\n    <tr>\n      <th>3</th>\n      <td>3</td>\n      <td>h</td>\n      <td>1515000.0</td>\n      <td>S</td>\n      <td>3040</td>\n      <td>Western Metropolitan</td>\n      <td>1543</td>\n      <td>7.5</td>\n      <td>Moonee Valley City Council</td>\n    </tr>\n    <tr>\n      <th>4</th>\n      <td>2</td>\n      <td>h</td>\n      <td>670000.0</td>\n      <td>S</td>\n      <td>3042</td>\n      <td>Western Metropolitan</td>\n      <td>3464</td>\n      <td>10.4</td>\n      <td>Moonee Valley City Council</td>\n    </tr>\n  </tbody>\n</table>\n</div>"
     },
     "execution_count": 167,
     "metadata": {},
     "output_type": "execute_result"
    }
   ],
   "source": [
    "# 전체 데이터에서 'Price' 열의 NaN 값을 제거\n",
    "df_selected = df.dropna(subset=['Price'])\n",
    "print(df_selected.isnull().sum() / df_selected.shape[0] * 100)\n",
    "\n",
    "# 원하는 열만 선택\n",
    "selected_columns = ['Rooms', 'Type', 'Price', 'Method', 'Postcode', 'Regionname', 'Propertycount', 'Distance', 'CouncilArea']\n",
    "df_selected = df_selected[selected_columns]\n",
    "\n",
    "# 선택된 데이터 확인\n",
    "df_selected.head()"
   ],
   "metadata": {
    "collapsed": false,
    "ExecuteTime": {
     "end_time": "2024-04-07T12:07:45.244038Z",
     "start_time": "2024-04-07T12:07:45.224894Z"
    }
   },
   "id": "2de55c8cc656ab3f",
   "execution_count": 167
  },
  {
   "cell_type": "code",
   "outputs": [],
   "source": [
    "# 범주형 데이터만 선택하기\n",
    "cat_df = df_selected.select_dtypes(include=['object', 'category'])\n",
    "\n",
    "# 수치형 데이터만 선택하기\n",
    "num_df = df_selected.select_dtypes(include=['int64', 'float64'])"
   ],
   "metadata": {
    "collapsed": false,
    "ExecuteTime": {
     "end_time": "2024-04-07T12:07:45.247629Z",
     "start_time": "2024-04-07T12:07:45.244692Z"
    }
   },
   "id": "842017a9dd42abdf",
   "execution_count": 168
  },
  {
   "cell_type": "code",
   "outputs": [],
   "source": [
    "from sklearn.preprocessing import LabelEncoder, OneHotEncoder\n",
    "\n",
    "def dummy(data, col):\n",
    "    lab = LabelEncoder()\n",
    "    aa = lab.fit_transform(data[col]).reshape(-1, 1)\n",
    "    one = OneHotEncoder(sparse_output=False)\n",
    "    column_names = [col + '_' + str(i) for i in lab.classes_]\n",
    "    df_dummy = pd.DataFrame(one.fit_transform(aa), columns=column_names)\n",
    "    df_dummy.index = data.index  # 원본 데이터의 인덱스를 더미 데이터프레임에 적용\n",
    "    return df_dummy"
   ],
   "metadata": {
    "collapsed": false,
    "ExecuteTime": {
     "end_time": "2024-04-07T12:07:45.251119Z",
     "start_time": "2024-04-07T12:07:45.248958Z"
    }
   },
   "id": "5cd96978cccc4e63",
   "execution_count": 169
  },
  {
   "cell_type": "code",
   "outputs": [
    {
     "data": {
      "text/plain": "   Rooms      Price  Postcode  Propertycount  Distance  Type_h  Type_t  \\\n0      3  1490000.0      3067           4019       3.0     1.0     0.0   \n1      3  1220000.0      3067           4019       3.0     1.0     0.0   \n2      3  1420000.0      3067           4019       3.0     1.0     0.0   \n3      3  1515000.0      3040           1543       7.5     1.0     0.0   \n4      2   670000.0      3042           3464      10.4     1.0     0.0   \n\n   Type_u  Method_PI  Method_S  ...  CouncilArea_Moreland City Council  \\\n0     0.0        0.0       1.0  ...                                0.0   \n1     0.0        0.0       1.0  ...                                0.0   \n2     0.0        0.0       1.0  ...                                0.0   \n3     0.0        0.0       1.0  ...                                0.0   \n4     0.0        0.0       1.0  ...                                0.0   \n\n   CouncilArea_Murrindindi Shire Council  CouncilArea_Nillumbik Shire Council  \\\n0                                    0.0                                  0.0   \n1                                    0.0                                  0.0   \n2                                    0.0                                  0.0   \n3                                    0.0                                  0.0   \n4                                    0.0                                  0.0   \n\n   CouncilArea_Port Phillip City Council  \\\n0                                    0.0   \n1                                    0.0   \n2                                    0.0   \n3                                    0.0   \n4                                    0.0   \n\n   CouncilArea_Stonnington City Council  CouncilArea_Whitehorse City Council  \\\n0                                   0.0                                  0.0   \n1                                   0.0                                  0.0   \n2                                   0.0                                  0.0   \n3                                   0.0                                  0.0   \n4                                   0.0                                  0.0   \n\n   CouncilArea_Whittlesea City Council  CouncilArea_Wyndham City Council  \\\n0                                  0.0                               0.0   \n1                                  0.0                               0.0   \n2                                  0.0                               0.0   \n3                                  0.0                               0.0   \n4                                  0.0                               0.0   \n\n   CouncilArea_Yarra City Council  CouncilArea_Yarra Ranges Shire Council  \n0                             1.0                                     0.0  \n1                             1.0                                     0.0  \n2                             1.0                                     0.0  \n3                             0.0                                     0.0  \n4                             0.0                                     0.0  \n\n[5 rows x 55 columns]",
      "text/html": "<div>\n<style scoped>\n    .dataframe tbody tr th:only-of-type {\n        vertical-align: middle;\n    }\n\n    .dataframe tbody tr th {\n        vertical-align: top;\n    }\n\n    .dataframe thead th {\n        text-align: right;\n    }\n</style>\n<table border=\"1\" class=\"dataframe\">\n  <thead>\n    <tr style=\"text-align: right;\">\n      <th></th>\n      <th>Rooms</th>\n      <th>Price</th>\n      <th>Postcode</th>\n      <th>Propertycount</th>\n      <th>Distance</th>\n      <th>Type_h</th>\n      <th>Type_t</th>\n      <th>Type_u</th>\n      <th>Method_PI</th>\n      <th>Method_S</th>\n      <th>...</th>\n      <th>CouncilArea_Moreland City Council</th>\n      <th>CouncilArea_Murrindindi Shire Council</th>\n      <th>CouncilArea_Nillumbik Shire Council</th>\n      <th>CouncilArea_Port Phillip City Council</th>\n      <th>CouncilArea_Stonnington City Council</th>\n      <th>CouncilArea_Whitehorse City Council</th>\n      <th>CouncilArea_Whittlesea City Council</th>\n      <th>CouncilArea_Wyndham City Council</th>\n      <th>CouncilArea_Yarra City Council</th>\n      <th>CouncilArea_Yarra Ranges Shire Council</th>\n    </tr>\n  </thead>\n  <tbody>\n    <tr>\n      <th>0</th>\n      <td>3</td>\n      <td>1490000.0</td>\n      <td>3067</td>\n      <td>4019</td>\n      <td>3.0</td>\n      <td>1.0</td>\n      <td>0.0</td>\n      <td>0.0</td>\n      <td>0.0</td>\n      <td>1.0</td>\n      <td>...</td>\n      <td>0.0</td>\n      <td>0.0</td>\n      <td>0.0</td>\n      <td>0.0</td>\n      <td>0.0</td>\n      <td>0.0</td>\n      <td>0.0</td>\n      <td>0.0</td>\n      <td>1.0</td>\n      <td>0.0</td>\n    </tr>\n    <tr>\n      <th>1</th>\n      <td>3</td>\n      <td>1220000.0</td>\n      <td>3067</td>\n      <td>4019</td>\n      <td>3.0</td>\n      <td>1.0</td>\n      <td>0.0</td>\n      <td>0.0</td>\n      <td>0.0</td>\n      <td>1.0</td>\n      <td>...</td>\n      <td>0.0</td>\n      <td>0.0</td>\n      <td>0.0</td>\n      <td>0.0</td>\n      <td>0.0</td>\n      <td>0.0</td>\n      <td>0.0</td>\n      <td>0.0</td>\n      <td>1.0</td>\n      <td>0.0</td>\n    </tr>\n    <tr>\n      <th>2</th>\n      <td>3</td>\n      <td>1420000.0</td>\n      <td>3067</td>\n      <td>4019</td>\n      <td>3.0</td>\n      <td>1.0</td>\n      <td>0.0</td>\n      <td>0.0</td>\n      <td>0.0</td>\n      <td>1.0</td>\n      <td>...</td>\n      <td>0.0</td>\n      <td>0.0</td>\n      <td>0.0</td>\n      <td>0.0</td>\n      <td>0.0</td>\n      <td>0.0</td>\n      <td>0.0</td>\n      <td>0.0</td>\n      <td>1.0</td>\n      <td>0.0</td>\n    </tr>\n    <tr>\n      <th>3</th>\n      <td>3</td>\n      <td>1515000.0</td>\n      <td>3040</td>\n      <td>1543</td>\n      <td>7.5</td>\n      <td>1.0</td>\n      <td>0.0</td>\n      <td>0.0</td>\n      <td>0.0</td>\n      <td>1.0</td>\n      <td>...</td>\n      <td>0.0</td>\n      <td>0.0</td>\n      <td>0.0</td>\n      <td>0.0</td>\n      <td>0.0</td>\n      <td>0.0</td>\n      <td>0.0</td>\n      <td>0.0</td>\n      <td>0.0</td>\n      <td>0.0</td>\n    </tr>\n    <tr>\n      <th>4</th>\n      <td>2</td>\n      <td>670000.0</td>\n      <td>3042</td>\n      <td>3464</td>\n      <td>10.4</td>\n      <td>1.0</td>\n      <td>0.0</td>\n      <td>0.0</td>\n      <td>0.0</td>\n      <td>1.0</td>\n      <td>...</td>\n      <td>0.0</td>\n      <td>0.0</td>\n      <td>0.0</td>\n      <td>0.0</td>\n      <td>0.0</td>\n      <td>0.0</td>\n      <td>0.0</td>\n      <td>0.0</td>\n      <td>0.0</td>\n      <td>0.0</td>\n    </tr>\n  </tbody>\n</table>\n<p>5 rows × 55 columns</p>\n</div>"
     },
     "execution_count": 170,
     "metadata": {},
     "output_type": "execute_result"
    }
   ],
   "source": [
    "# 모든 범주형 데이터에 대해 더미 변수 생성 후 합치기\n",
    "temp_dfs = [num_df]  # 수치형 데이터 프레임을 먼저 추가\n",
    "for column in cat_df:\n",
    "    temp_dfs.append(dummy(df_selected, column))  # 각 범주형 변수에 대해 생성된 더미 변수 데이터프레임을 추가\n",
    "\n",
    "new_df = pd.concat(temp_dfs, axis=1)  # 모든 데이터프레임을 합침\n",
    "new_df.head()"
   ],
   "metadata": {
    "collapsed": false,
    "ExecuteTime": {
     "end_time": "2024-04-07T12:07:45.290717Z",
     "start_time": "2024-04-07T12:07:45.251614Z"
    }
   },
   "id": "38e7773cdbc16513",
   "execution_count": 170
  },
  {
   "cell_type": "markdown",
   "source": [
    "## 데이터프레임을 새로 합칠 때 null 값이 발생하는 이유\n",
    "\n",
    "1. 인덱스 불일치: \n",
    "    - pd.concat() 함수를 사용하여 여러 데이터프레임을 합칠 때, 각 데이터프레임의 인덱스가 일치하지 않으면 null 값이 발생할 수 있다. \n",
    "    - 예를 들어, 두 데이터프레임 중 하나가 특정 행을 가지고 있지 않거나 인덱스 순서가 다른 경우, 해당 위치에서 데이터가 없는 것으로 간주되어 null 값으로 채워진다. \n",
    "    - 여기서 temp_dfs 리스트에 추가된 데이터프레임들(num_df와 dummy() 함수를 통해 생성된 더미 변수 데이터프레임들)이 원본 데이터프레임과 동일한 인덱스를 가지고 있지 않다면, 이는 null 값 발생의 주요 원인일 수 있다.\n",
    "\n",
    "2. 데이터프레임 병합 시 인덱스 재설정 누락: \n",
    "    - dummy() 함수에서 반환된 더미 변수 데이터프레임은 원본 데이터프레임의 인덱스와 일치하지 않을 수 있다\n",
    "    - 이 함수 내에서 OneHotEncoder를 사용할 때 반환되는 배열은 기본적으로 0부터 시작하는 새로운 인덱스를 가지게 된다. 이 배열을 데이터프레임으로 변환할 때, 원본 데이터의 인덱스를 적용하지 않으면, pd.concat()을 사용하여 이를 기존 데이터프레임과 합칠 때 인덱스 불일치로 인해 null 값이 많이 발생할 수 있다."
   ],
   "metadata": {
    "collapsed": false
   },
   "id": "ce3a378ba606b979"
  },
  {
   "cell_type": "code",
   "outputs": [
    {
     "name": "stdout",
     "output_type": "stream",
     "text": [
      "(48433, 55)\n",
      "(33903, 54) (33903,) (14530, 54) (14530, 1)\n"
     ]
    }
   ],
   "source": [
    "from sklearn.model_selection import train_test_split\n",
    "\n",
    "target = ['Price']\n",
    "features = new_df.drop(columns = target).columns\n",
    "\n",
    "train, test = train_test_split(new_df, test_size = 0.3, random_state = 2)\n",
    "print(new_df.shape)\n",
    "\n",
    "X_train = train[features]\n",
    "y_train = train[target].squeeze()  # 차원 조정\n",
    "X_test = test[features]\n",
    "y_test = test[target]\n",
    "\n",
    "print(X_train.shape, y_train.shape, X_test.shape, y_test.shape)"
   ],
   "metadata": {
    "collapsed": false,
    "ExecuteTime": {
     "end_time": "2024-04-07T12:07:45.303358Z",
     "start_time": "2024-04-07T12:07:45.291432Z"
    }
   },
   "id": "9edc6be2a92f1421",
   "execution_count": 171
  },
  {
   "cell_type": "markdown",
   "source": [
    "# DataConversionWarning\n",
    "- 모델에 학습 데이터를 전달할 때 타겟 변수 y가 열 벡터(2차원 배열) 형태로 되어 있으나, 모델이 예상하는 형태는 1차원 배열이라는 것을 알림."
   ],
   "metadata": {
    "collapsed": false
   },
   "id": "c2a7af7e0dc6e85d"
  },
  {
   "cell_type": "code",
   "outputs": [
    {
     "name": "stdout",
     "output_type": "stream",
     "text": [
      "(33903,) (14530, 1)\n",
      "(33903, 20) (14530, 20)\n"
     ]
    }
   ],
   "source": [
    "from sklearn.impute import SimpleImputer\n",
    "from sklearn.feature_selection import f_regression, SelectKBest\n",
    "\n",
    "# Null값의 처리를 위해 SimpleImputer 처리를 먼저 한다.\n",
    "sim = SimpleImputer()\n",
    "X_train_sim = sim.fit_transform(X_train, y_train)\n",
    "X_test_sim = sim.transform(X_test)\n",
    "\n",
    "selector = SelectKBest(score_func=f_regression, k=20)\n",
    "X_train_selected = selector.fit_transform(X_train_sim, y_train)\n",
    "X_test_selected = selector.transform(X_test_sim)\n",
    "\n",
    "print(y_train.shape, y_test.shape)\n",
    "print(X_train_selected.shape, X_test_selected.shape)"
   ],
   "metadata": {
    "collapsed": false,
    "ExecuteTime": {
     "end_time": "2024-04-07T12:07:45.331212Z",
     "start_time": "2024-04-07T12:07:45.304018Z"
    }
   },
   "id": "d3ea933fa0cb343",
   "execution_count": 172
  }
 ],
 "metadata": {
  "kernelspec": {
   "display_name": "Python 3",
   "language": "python",
   "name": "python3"
  },
  "language_info": {
   "codemirror_mode": {
    "name": "ipython",
    "version": 2
   },
   "file_extension": ".py",
   "mimetype": "text/x-python",
   "name": "python",
   "nbconvert_exporter": "python",
   "pygments_lexer": "ipython2",
   "version": "2.7.6"
  }
 },
 "nbformat": 4,
 "nbformat_minor": 5
}
