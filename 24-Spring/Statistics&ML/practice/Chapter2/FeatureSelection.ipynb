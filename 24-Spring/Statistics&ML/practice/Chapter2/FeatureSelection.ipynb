{
 "cells": [
  {
   "cell_type": "code",
   "execution_count": 31,
   "id": "initial_id",
   "metadata": {
    "collapsed": true,
    "ExecuteTime": {
     "end_time": "2024-04-07T02:30:54.361010Z",
     "start_time": "2024-04-07T02:30:54.359150Z"
    }
   },
   "outputs": [],
   "source": [
    "from sklearn.datasets import load_digits\n",
    "from sklearn.feature_selection import SelectKBest, chi2, f_classif, mutual_info_classif"
   ]
  },
  {
   "cell_type": "markdown",
   "source": [
    "# chi2\n",
    "- chi2 카이제곱 검정을 사용하여 특성의 중요도를 평가\n",
    "- 카이제곱 검정은 범주형 목표 변수(여기서는 숫자 레이블)와 범주형/연속형 특성 간의 독립성을 평가\n",
    "- 이 경우, 픽셀 값이 높을수록 특정 숫자일 가능성이 더 높다고 볼 수 있으므로 카이제곱 검정이 적절"
   ],
   "metadata": {
    "collapsed": false
   },
   "id": "44190832f6127b85"
  },
  {
   "cell_type": "code",
   "outputs": [
    {
     "data": {
      "text/plain": "(1797, 64)"
     },
     "execution_count": 32,
     "metadata": {},
     "output_type": "execute_result"
    }
   ],
   "source": [
    "X, y = load_digits(return_X_y=True)\n",
    "X.shape"
   ],
   "metadata": {
    "collapsed": false,
    "ExecuteTime": {
     "end_time": "2024-04-07T02:30:54.369941Z",
     "start_time": "2024-04-07T02:30:54.362050Z"
    }
   },
   "id": "7aa9bbbd6a4fce16",
   "execution_count": 32
  },
  {
   "cell_type": "code",
   "outputs": [
    {
     "name": "stdout",
     "output_type": "stream",
     "text": [
      "[[ 0.  0.  5. 13.  9.  1.  0.  0.  0.  0. 13. 15. 10. 15.  5.  0.  0.  3.\n",
      "  15.  2.  0. 11.  8.  0.  0.  4. 12.  0.  0.  8.  8.  0.  0.  5.  8.  0.\n",
      "   0.  9.  8.  0.  0.  4. 11.  0.  1. 12.  7.  0.  0.  2. 14.  5. 10. 12.\n",
      "   0.  0.  0.  0.  6. 13. 10.  0.  0.  0.]\n",
      " [ 0.  0.  0. 12. 13.  5.  0.  0.  0.  0.  0. 11. 16.  9.  0.  0.  0.  0.\n",
      "   3. 15. 16.  6.  0.  0.  0.  7. 15. 16. 16.  2.  0.  0.  0.  0.  1. 16.\n",
      "  16.  3.  0.  0.  0.  0.  1. 16. 16.  6.  0.  0.  0.  0.  1. 16. 16.  6.\n",
      "   0.  0.  0.  0.  0. 11. 16. 10.  0.  0.]]\n",
      "[0 1 2 3 4 5 6 7 8 9]\n"
     ]
    }
   ],
   "source": [
    "import numpy as np\n",
    "\n",
    "print(X[:2])\n",
    "print(np.unique(y))"
   ],
   "metadata": {
    "collapsed": false,
    "ExecuteTime": {
     "end_time": "2024-04-07T02:30:54.372645Z",
     "start_time": "2024-04-07T02:30:54.370606Z"
    }
   },
   "id": "1d7038b99f2e788e",
   "execution_count": 33
  },
  {
   "cell_type": "code",
   "outputs": [
    {
     "data": {
      "text/plain": "(1797, 20)"
     },
     "execution_count": 34,
     "metadata": {},
     "output_type": "execute_result"
    }
   ],
   "source": [
    "sb = SelectKBest(score_func=chi2, k=20)\n",
    "X_new = sb.fit_transform(X,y)\n",
    "X_new.shape"
   ],
   "metadata": {
    "collapsed": false,
    "ExecuteTime": {
     "end_time": "2024-04-07T02:30:54.377611Z",
     "start_time": "2024-04-07T02:30:54.373765Z"
    }
   },
   "id": "9d1e3c820bbd18d7",
   "execution_count": 34
  },
  {
   "cell_type": "code",
   "outputs": [
    {
     "name": "stdout",
     "output_type": "stream",
     "text": [
      "[False False False False False  True  True False False False False False\n",
      " False  True False False False False False  True  True  True False False\n",
      " False False  True False  True False  True False False  True  True False\n",
      " False False False False False  True  True  True  True False  True False\n",
      " False False False False False False  True False False False  True False\n",
      " False  True  True False]\n"
     ]
    }
   ],
   "source": [
    "print(sb.get_support())\n",
    "\n",
    "# 64개의 특성 중 20개가 True로 표시되어 있으며, 이는 선택된 20개의 가장 유익한 특성을 나타낸다."
   ],
   "metadata": {
    "collapsed": false,
    "ExecuteTime": {
     "end_time": "2024-04-07T02:30:54.379776Z",
     "start_time": "2024-04-07T02:30:54.378227Z"
    }
   },
   "id": "d41328fda6a2d9e6",
   "execution_count": 35
  },
  {
   "cell_type": "code",
   "outputs": [
    {
     "name": "stdout",
     "output_type": "stream",
     "text": [
      "[          nan  811.90700411 3501.28249552  698.9252572   438.52969882\n",
      " 3879.81925999 3969.45823205 1193.5608181    24.79521396 2953.83108764\n",
      " 2583.65198939  388.24205944  824.69094853 3676.48924765 1983.5796061\n",
      "  597.24198237    8.95886124 1924.21690377 2409.27140681 3556.31594594\n",
      " 4871.94194551 4782.19921618 2155.17378998  376.76583333    7.90090158\n",
      " 2471.82418401 4515.48149826 2986.64314847 3724.09567634 3208.64686641\n",
      " 5138.07412439   35.71270718           nan 5688.25079535 5262.46646904\n",
      " 3165.0605867  3231.63943369 2532.99695611 3288.81403655           nan\n",
      "  142.85082873 3863.85787901 6416.0867248  5448.25154235 4079.73153383\n",
      " 2134.02540236 4486.34097862  313.53898127   70.39927392  449.72327313\n",
      " 2801.97224468 1527.54519627 1653.15892311 3073.99803898 5251.21748723\n",
      "  683.88227339    9.15254237  851.06791492 3800.2473108   730.92975659\n",
      " 1859.53966338 4379.2250408  5059.00551511 2281.32864013]\n"
     ]
    }
   ],
   "source": [
    "print(sb.scores_)\n",
    "\n",
    "# 카이제곱 검정의 결과로, 특성이 목표 변수와 얼마나 잘 관련되어 있는지를 나타낸다.\n",
    "# 점수가 높을수록 해당 특성은 목표 변수와 더 강한 관계를 가진다."
   ],
   "metadata": {
    "collapsed": false,
    "ExecuteTime": {
     "end_time": "2024-04-07T02:30:54.382013Z",
     "start_time": "2024-04-07T02:30:54.380263Z"
    }
   },
   "id": "2dc6f7ec7ec231b9",
   "execution_count": 36
  },
  {
   "cell_type": "code",
   "outputs": [
    {
     "name": "stdout",
     "output_type": "stream",
     "text": [
      "[            nan 5.81310493e-169 0.00000000e+000 1.17740541e-144\n",
      " 8.11314242e-089 0.00000000e+000 0.00000000e+000 2.97727113e-251\n",
      " 3.20626273e-003 0.00000000e+000 0.00000000e+000 4.41344943e-078\n",
      " 1.02825052e-171 0.00000000e+000 0.00000000e+000 8.18335060e-123\n",
      " 4.41080315e-001 0.00000000e+000 0.00000000e+000 0.00000000e+000\n",
      " 0.00000000e+000 0.00000000e+000 0.00000000e+000 1.23435651e-075\n",
      " 5.44163062e-001 0.00000000e+000 0.00000000e+000 0.00000000e+000\n",
      " 0.00000000e+000 0.00000000e+000 0.00000000e+000 4.45801029e-005\n",
      "             nan 0.00000000e+000 0.00000000e+000 0.00000000e+000\n",
      " 0.00000000e+000 0.00000000e+000 0.00000000e+000             nan\n",
      " 2.65875300e-026 0.00000000e+000 0.00000000e+000 0.00000000e+000\n",
      " 0.00000000e+000 0.00000000e+000 0.00000000e+000 3.49452723e-062\n",
      " 1.27145348e-011 3.28604761e-091 0.00000000e+000 0.00000000e+000\n",
      " 0.00000000e+000 0.00000000e+000 0.00000000e+000 2.01600539e-141\n",
      " 4.23314114e-001 2.14859356e-177 0.00000000e+000 1.54562173e-151\n",
      " 0.00000000e+000 0.00000000e+000 0.00000000e+000 0.00000000e+000]\n"
     ]
    }
   ],
   "source": [
    "print(sb.pvalues_)\n",
    "\n",
    "# p-value는 귀무 가설(특성과 목표 변수 간에 관계가 없음)을 기각할 수 있는 확률\n",
    "# 일반적으로 p-value가 0.05 이하인 경우 귀무 가설을 기각하고, 해당 특성이 목표 변수와 관련이 있다고 간주\n",
    "# 여기서 대부분의 선택된 특성은 매우 낮은 p-value를 가지며, 이는 그들이 숫자를 예측하는 데 매우 유용하다는 것을 의미"
   ],
   "metadata": {
    "collapsed": false,
    "ExecuteTime": {
     "end_time": "2024-04-07T02:30:54.384409Z",
     "start_time": "2024-04-07T02:30:54.382603Z"
    }
   },
   "id": "2745c4f88ea07dc1",
   "execution_count": 37
  }
 ],
 "metadata": {
  "kernelspec": {
   "display_name": "Python 3",
   "language": "python",
   "name": "python3"
  },
  "language_info": {
   "codemirror_mode": {
    "name": "ipython",
    "version": 2
   },
   "file_extension": ".py",
   "mimetype": "text/x-python",
   "name": "python",
   "nbconvert_exporter": "python",
   "pygments_lexer": "ipython2",
   "version": "2.7.6"
  }
 },
 "nbformat": 4,
 "nbformat_minor": 5
}
