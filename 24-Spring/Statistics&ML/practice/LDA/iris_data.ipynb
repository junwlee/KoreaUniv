{
 "cells": [
  {
   "cell_type": "code",
   "execution_count": 44,
   "id": "initial_id",
   "metadata": {
    "collapsed": true,
    "ExecuteTime": {
     "end_time": "2024-04-12T03:49:26.030331Z",
     "start_time": "2024-04-12T03:49:26.025292Z"
    }
   },
   "outputs": [],
   "source": [
    "import seaborn as sns\n",
    "iris = sns.load_dataset(\"iris\")\n",
    "X = iris.drop(\"species\", axis=1)\n",
    "y = iris[\"species\"]"
   ]
  },
  {
   "cell_type": "code",
   "outputs": [],
   "source": [
    "from sklearn.preprocessing import LabelEncoder\n",
    "le = LabelEncoder()\n",
    "y = le.fit_transform(y.values)"
   ],
   "metadata": {
    "collapsed": false,
    "ExecuteTime": {
     "end_time": "2024-04-12T03:49:26.040515Z",
     "start_time": "2024-04-12T03:49:26.038474Z"
    }
   },
   "id": "a3630b60496f53e1",
   "execution_count": 45
  },
  {
   "cell_type": "code",
   "outputs": [],
   "source": [
    "from sklearn.model_selection import train_test_split\n",
    "from sklearn.preprocessing import StandardScaler\n",
    "\n",
    "X_train, X_test, y_train, y_test = train_test_split(X, y, test_size=0.3, random_state=1, stratify=y)\n",
    "\n",
    "sc = StandardScaler()\n",
    "X_train_std = sc.fit_transform(X_train)\n",
    "X_test_std = sc.transform(X_test)"
   ],
   "metadata": {
    "collapsed": false,
    "ExecuteTime": {
     "end_time": "2024-04-12T03:49:26.046081Z",
     "start_time": "2024-04-12T03:49:26.041495Z"
    }
   },
   "id": "daaf1ee00def40d6",
   "execution_count": 46
  },
  {
   "cell_type": "markdown",
   "source": [
    "## fit_transform\n",
    "- fit() 과 transform() 함께 수행하는 메소드\n",
    "- 테스트 데이터에 fit_transform()을 적용해서는 안된다.\n",
    "- 이를 수행하면 scaler 객체가 기존에 학습 데이터에 fit 했던 기준을 모두 무시하고 다시 테스트 데이터를 기반으로 기준을 적용하기 때문"
   ],
   "metadata": {
    "collapsed": false
   },
   "id": "59f76df217b6bd6d"
  },
  {
   "cell_type": "code",
   "outputs": [],
   "source": [
    "# iris data에 대한 LDA 적합\n",
    "from sklearn.discriminant_analysis import LinearDiscriminantAnalysis\n",
    "lda = LinearDiscriminantAnalysis(store_covariance=True)\n",
    "lda.fit(X_train_std, y_train)\n",
    "y_train_pred = lda.predict(X_train_std)\n",
    "y_test_pred = lda.predict(X_test_std)"
   ],
   "metadata": {
    "collapsed": false,
    "ExecuteTime": {
     "end_time": "2024-04-12T03:49:26.050024Z",
     "start_time": "2024-04-12T03:49:26.046705Z"
    }
   },
   "id": "3fbc4c413fee868b",
   "execution_count": 47
  },
  {
   "cell_type": "code",
   "outputs": [
    {
     "name": "stdout",
     "output_type": "stream",
     "text": [
      "0.9809523809523809\n",
      "1.0\n",
      "[[15  0  0]\n",
      " [ 0 15  0]\n",
      " [ 0  0 15]]\n"
     ]
    }
   ],
   "source": [
    "from sklearn.metrics import accuracy_score, confusion_matrix\n",
    "\n",
    "print(accuracy_score(y_train, y_train_pred))\n",
    "print(accuracy_score(y_test, y_test_pred))\n",
    "print(confusion_matrix(y_test, y_test_pred))"
   ],
   "metadata": {
    "collapsed": false,
    "ExecuteTime": {
     "end_time": "2024-04-12T03:49:26.054385Z",
     "start_time": "2024-04-12T03:49:26.051237Z"
    }
   },
   "id": "c4bf3552682abf1a",
   "execution_count": 48
  },
  {
   "cell_type": "code",
   "outputs": [
    {
     "name": "stdout",
     "output_type": "stream",
     "text": [
      "means\n",
      "[[-1.00472855  0.84898398 -1.30082725 -1.25109721]\n",
      " [ 0.01720426 -0.67386718  0.27036385  0.1648152 ]\n",
      " [ 0.98752429 -0.1751168   1.0304634   1.08628201]]\n",
      "xbar\n",
      "[ 5.92349793e-16 -2.28056152e-16 -9.30822715e-17 -2.01002550e-17]\n",
      "covariance\n",
      "[[0.33834011 0.23780165 0.10444926 0.05261614]\n",
      " [0.23780165 0.59815444 0.07233365 0.09008138]\n",
      " [0.10444926 0.07233365 0.05763234 0.03301815]\n",
      " [0.05261614 0.09008138 0.03301815 0.07586104]]\n",
      "intercept\n",
      "[-27.75948332  -3.00559413 -16.39539191]\n",
      "codf\n",
      "[[  4.68593828   4.94077322 -29.598802   -12.25506085]\n",
      " [ -1.80135024  -1.69409546   9.1529667    1.38778412]\n",
      " [ -2.88458804  -3.24667776  20.44583531  10.86727672]]\n"
     ]
    }
   ],
   "source": [
    "print(\"means\")\n",
    "print(lda.means_)\n",
    "print(\"xbar\")\n",
    "print(lda.xbar_)\n",
    "print(\"covariance\")\n",
    "print(lda.covariance_)\n",
    "print(\"intercept\")\n",
    "print(lda.intercept_)\n",
    "print(\"codf\")\n",
    "print(lda.coef_)"
   ],
   "metadata": {
    "collapsed": false,
    "ExecuteTime": {
     "end_time": "2024-04-12T03:49:26.057071Z",
     "start_time": "2024-04-12T03:49:26.054839Z"
    }
   },
   "id": "9dd963f29fd4a750",
   "execution_count": 49
  },
  {
   "cell_type": "markdown",
   "source": [
    "### xbar\n",
    "- lda.xbar_ 속성은 훈련 데이터의 클래스별 평균을 저장하는 배열\n",
    "- 각 클래스에 대한 특성의 평균값들을 나타냅니다."
   ],
   "metadata": {
    "collapsed": false
   },
   "id": "80c4ec601e314eb5"
  },
  {
   "cell_type": "code",
   "outputs": [
    {
     "name": "stdout",
     "output_type": "stream",
     "text": [
      "0.9809523809523809\n",
      "0.9777777777777777\n"
     ]
    }
   ],
   "source": [
    "from sklearn.discriminant_analysis import QuadraticDiscriminantAnalysis\n",
    "lda = QuadraticDiscriminantAnalysis(store_covariance=True)\n",
    "lda.fit(X_train_std, y_train)\n",
    "y_train_pred = lda.predict(X_train_std)\n",
    "y_test_pred = lda.predict(X_test_std)\n",
    "\n",
    "print(accuracy_score(y_train, y_train_pred))\n",
    "print(accuracy_score(y_test, y_test_pred))"
   ],
   "metadata": {
    "collapsed": false,
    "ExecuteTime": {
     "end_time": "2024-04-12T03:49:26.060611Z",
     "start_time": "2024-04-12T03:49:26.057522Z"
    }
   },
   "id": "806e2514e21635a3",
   "execution_count": 50
  }
 ],
 "metadata": {
  "kernelspec": {
   "display_name": "Python 3",
   "language": "python",
   "name": "python3"
  },
  "language_info": {
   "codemirror_mode": {
    "name": "ipython",
    "version": 2
   },
   "file_extension": ".py",
   "mimetype": "text/x-python",
   "name": "python",
   "nbconvert_exporter": "python",
   "pygments_lexer": "ipython2",
   "version": "2.7.6"
  }
 },
 "nbformat": 4,
 "nbformat_minor": 5
}
