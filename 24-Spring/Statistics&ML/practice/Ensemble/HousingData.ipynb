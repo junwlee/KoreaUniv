{
 "cells": [
  {
   "cell_type": "code",
   "id": "initial_id",
   "metadata": {
    "collapsed": true,
    "ExecuteTime": {
     "end_time": "2024-05-24T10:02:37.114015Z",
     "start_time": "2024-05-24T10:02:36.327780Z"
    }
   },
   "source": [
    "import pandas as pd\n",
    "house = pd.read_csv(\n",
    "    'https://raw.githubusercontent.com/rasbt/python-machine-learning-book-2nd-edition/master/code/ch10/housing.data.txt',\n",
    "    header=None, sep='\\s+'\n",
    ")\n",
    "house.columns = ['CRIM', 'ZN', 'INDUS', 'CHAS', 'NOX', 'RM', 'AGE', 'DIS', 'RAD', 'TAX', 'PTRATIO', 'B', 'LSTAT', 'MEDV']\n",
    "\n",
    "house.describe() # descriptive statistics"
   ],
   "outputs": [
    {
     "data": {
      "text/plain": [
       "             CRIM          ZN       INDUS        CHAS         NOX          RM  \\\n",
       "count  506.000000  506.000000  506.000000  506.000000  506.000000  506.000000   \n",
       "mean     3.613524   11.363636   11.136779    0.069170    0.554695    6.284634   \n",
       "std      8.601545   23.322453    6.860353    0.253994    0.115878    0.702617   \n",
       "min      0.006320    0.000000    0.460000    0.000000    0.385000    3.561000   \n",
       "25%      0.082045    0.000000    5.190000    0.000000    0.449000    5.885500   \n",
       "50%      0.256510    0.000000    9.690000    0.000000    0.538000    6.208500   \n",
       "75%      3.677083   12.500000   18.100000    0.000000    0.624000    6.623500   \n",
       "max     88.976200  100.000000   27.740000    1.000000    0.871000    8.780000   \n",
       "\n",
       "              AGE         DIS         RAD         TAX     PTRATIO           B  \\\n",
       "count  506.000000  506.000000  506.000000  506.000000  506.000000  506.000000   \n",
       "mean    68.574901    3.795043    9.549407  408.237154   18.455534  356.674032   \n",
       "std     28.148861    2.105710    8.707259  168.537116    2.164946   91.294864   \n",
       "min      2.900000    1.129600    1.000000  187.000000   12.600000    0.320000   \n",
       "25%     45.025000    2.100175    4.000000  279.000000   17.400000  375.377500   \n",
       "50%     77.500000    3.207450    5.000000  330.000000   19.050000  391.440000   \n",
       "75%     94.075000    5.188425   24.000000  666.000000   20.200000  396.225000   \n",
       "max    100.000000   12.126500   24.000000  711.000000   22.000000  396.900000   \n",
       "\n",
       "            LSTAT        MEDV  \n",
       "count  506.000000  506.000000  \n",
       "mean    12.653063   22.532806  \n",
       "std      7.141062    9.197104  \n",
       "min      1.730000    5.000000  \n",
       "25%      6.950000   17.025000  \n",
       "50%     11.360000   21.200000  \n",
       "75%     16.955000   25.000000  \n",
       "max     37.970000   50.000000  "
      ],
      "text/html": [
       "<div>\n",
       "<style scoped>\n",
       "    .dataframe tbody tr th:only-of-type {\n",
       "        vertical-align: middle;\n",
       "    }\n",
       "\n",
       "    .dataframe tbody tr th {\n",
       "        vertical-align: top;\n",
       "    }\n",
       "\n",
       "    .dataframe thead th {\n",
       "        text-align: right;\n",
       "    }\n",
       "</style>\n",
       "<table border=\"1\" class=\"dataframe\">\n",
       "  <thead>\n",
       "    <tr style=\"text-align: right;\">\n",
       "      <th></th>\n",
       "      <th>CRIM</th>\n",
       "      <th>ZN</th>\n",
       "      <th>INDUS</th>\n",
       "      <th>CHAS</th>\n",
       "      <th>NOX</th>\n",
       "      <th>RM</th>\n",
       "      <th>AGE</th>\n",
       "      <th>DIS</th>\n",
       "      <th>RAD</th>\n",
       "      <th>TAX</th>\n",
       "      <th>PTRATIO</th>\n",
       "      <th>B</th>\n",
       "      <th>LSTAT</th>\n",
       "      <th>MEDV</th>\n",
       "    </tr>\n",
       "  </thead>\n",
       "  <tbody>\n",
       "    <tr>\n",
       "      <th>count</th>\n",
       "      <td>506.000000</td>\n",
       "      <td>506.000000</td>\n",
       "      <td>506.000000</td>\n",
       "      <td>506.000000</td>\n",
       "      <td>506.000000</td>\n",
       "      <td>506.000000</td>\n",
       "      <td>506.000000</td>\n",
       "      <td>506.000000</td>\n",
       "      <td>506.000000</td>\n",
       "      <td>506.000000</td>\n",
       "      <td>506.000000</td>\n",
       "      <td>506.000000</td>\n",
       "      <td>506.000000</td>\n",
       "      <td>506.000000</td>\n",
       "    </tr>\n",
       "    <tr>\n",
       "      <th>mean</th>\n",
       "      <td>3.613524</td>\n",
       "      <td>11.363636</td>\n",
       "      <td>11.136779</td>\n",
       "      <td>0.069170</td>\n",
       "      <td>0.554695</td>\n",
       "      <td>6.284634</td>\n",
       "      <td>68.574901</td>\n",
       "      <td>3.795043</td>\n",
       "      <td>9.549407</td>\n",
       "      <td>408.237154</td>\n",
       "      <td>18.455534</td>\n",
       "      <td>356.674032</td>\n",
       "      <td>12.653063</td>\n",
       "      <td>22.532806</td>\n",
       "    </tr>\n",
       "    <tr>\n",
       "      <th>std</th>\n",
       "      <td>8.601545</td>\n",
       "      <td>23.322453</td>\n",
       "      <td>6.860353</td>\n",
       "      <td>0.253994</td>\n",
       "      <td>0.115878</td>\n",
       "      <td>0.702617</td>\n",
       "      <td>28.148861</td>\n",
       "      <td>2.105710</td>\n",
       "      <td>8.707259</td>\n",
       "      <td>168.537116</td>\n",
       "      <td>2.164946</td>\n",
       "      <td>91.294864</td>\n",
       "      <td>7.141062</td>\n",
       "      <td>9.197104</td>\n",
       "    </tr>\n",
       "    <tr>\n",
       "      <th>min</th>\n",
       "      <td>0.006320</td>\n",
       "      <td>0.000000</td>\n",
       "      <td>0.460000</td>\n",
       "      <td>0.000000</td>\n",
       "      <td>0.385000</td>\n",
       "      <td>3.561000</td>\n",
       "      <td>2.900000</td>\n",
       "      <td>1.129600</td>\n",
       "      <td>1.000000</td>\n",
       "      <td>187.000000</td>\n",
       "      <td>12.600000</td>\n",
       "      <td>0.320000</td>\n",
       "      <td>1.730000</td>\n",
       "      <td>5.000000</td>\n",
       "    </tr>\n",
       "    <tr>\n",
       "      <th>25%</th>\n",
       "      <td>0.082045</td>\n",
       "      <td>0.000000</td>\n",
       "      <td>5.190000</td>\n",
       "      <td>0.000000</td>\n",
       "      <td>0.449000</td>\n",
       "      <td>5.885500</td>\n",
       "      <td>45.025000</td>\n",
       "      <td>2.100175</td>\n",
       "      <td>4.000000</td>\n",
       "      <td>279.000000</td>\n",
       "      <td>17.400000</td>\n",
       "      <td>375.377500</td>\n",
       "      <td>6.950000</td>\n",
       "      <td>17.025000</td>\n",
       "    </tr>\n",
       "    <tr>\n",
       "      <th>50%</th>\n",
       "      <td>0.256510</td>\n",
       "      <td>0.000000</td>\n",
       "      <td>9.690000</td>\n",
       "      <td>0.000000</td>\n",
       "      <td>0.538000</td>\n",
       "      <td>6.208500</td>\n",
       "      <td>77.500000</td>\n",
       "      <td>3.207450</td>\n",
       "      <td>5.000000</td>\n",
       "      <td>330.000000</td>\n",
       "      <td>19.050000</td>\n",
       "      <td>391.440000</td>\n",
       "      <td>11.360000</td>\n",
       "      <td>21.200000</td>\n",
       "    </tr>\n",
       "    <tr>\n",
       "      <th>75%</th>\n",
       "      <td>3.677083</td>\n",
       "      <td>12.500000</td>\n",
       "      <td>18.100000</td>\n",
       "      <td>0.000000</td>\n",
       "      <td>0.624000</td>\n",
       "      <td>6.623500</td>\n",
       "      <td>94.075000</td>\n",
       "      <td>5.188425</td>\n",
       "      <td>24.000000</td>\n",
       "      <td>666.000000</td>\n",
       "      <td>20.200000</td>\n",
       "      <td>396.225000</td>\n",
       "      <td>16.955000</td>\n",
       "      <td>25.000000</td>\n",
       "    </tr>\n",
       "    <tr>\n",
       "      <th>max</th>\n",
       "      <td>88.976200</td>\n",
       "      <td>100.000000</td>\n",
       "      <td>27.740000</td>\n",
       "      <td>1.000000</td>\n",
       "      <td>0.871000</td>\n",
       "      <td>8.780000</td>\n",
       "      <td>100.000000</td>\n",
       "      <td>12.126500</td>\n",
       "      <td>24.000000</td>\n",
       "      <td>711.000000</td>\n",
       "      <td>22.000000</td>\n",
       "      <td>396.900000</td>\n",
       "      <td>37.970000</td>\n",
       "      <td>50.000000</td>\n",
       "    </tr>\n",
       "  </tbody>\n",
       "</table>\n",
       "</div>"
      ]
     },
     "execution_count": 1,
     "metadata": {},
     "output_type": "execute_result"
    }
   ],
   "execution_count": 1
  },
  {
   "metadata": {
    "ExecuteTime": {
     "end_time": "2024-05-24T10:20:48.691087Z",
     "start_time": "2024-05-24T10:20:48.580734Z"
    }
   },
   "cell_type": "code",
   "source": [
    "import numpy as np\n",
    "from sklearn.model_selection import train_test_split\n",
    "from sklearn.metrics import mean_squared_error, root_mean_squared_error\n",
    "from sklearn.ensemble import GradientBoostingRegressor\n",
    "\n",
    "X = house.iloc[:, :-1].values\n",
    "y = house['MEDV'].values\n",
    "\n",
    "X_train, X_test, y_train, y_test = train_test_split(\n",
    "    X, y, \n",
    "    test_size=0.5, \n",
    "    random_state=1\n",
    ")\n",
    "\n",
    "gbrg = GradientBoostingRegressor(\n",
    "    n_estimators=120,\n",
    "    max_depth=3,\n",
    ")\n",
    "gbrg.fit(X_train, y_train)\n",
    "\n",
    "errors = [mean_squared_error(y_test, y_pred) for y_pred in gbrg.staged_predict(X_test)]\n",
    "best_n_estimators = np.argmin(errors)\n",
    "gbrg_best = GradientBoostingRegressor(\n",
    "    n_estimators=best_n_estimators,\n",
    "    max_depth=3\n",
    ")\n",
    "gbrg_best.fit(X_train, y_train)\n",
    "y_train_pred = gbrg_best.predict(X_train)\n",
    "y_test_pred = gbrg_best.predict(X_test)\n",
    "\n",
    "print('RMSE Train: %0.3f, test : %0.3f' % (root_mean_squared_error(y_train, y_train_pred), root_mean_squared_error(y_test, y_test_pred)))\n",
    "print(gbrg_best.feature_importances_)"
   ],
   "id": "fd82992fa1d92d0c",
   "outputs": [
    {
     "name": "stdout",
     "output_type": "stream",
     "text": [
      "RMSE Train: 0.898, test : 3.286\n",
      "[5.54698306e-02 4.34460608e-05 5.07396132e-03 6.21104369e-04\n",
      " 1.53826434e-02 2.65950552e-01 1.04241290e-02 7.13196850e-02\n",
      " 2.20082707e-03 1.86861439e-02 2.49043614e-02 1.62116193e-02\n",
      " 5.13711697e-01]\n"
     ]
    }
   ],
   "execution_count": 10
  },
  {
   "metadata": {},
   "cell_type": "markdown",
   "source": "# 부분의존도",
   "id": "e9a178bc581876e7"
  },
  {
   "metadata": {
    "ExecuteTime": {
     "end_time": "2024-05-24T10:39:30.461478Z",
     "start_time": "2024-05-24T10:39:30.167684Z"
    }
   },
   "cell_type": "code",
   "source": [
    "import matplotlib.pyplot as plt\n",
    "from sklearn.inspection import PartialDependenceDisplay\n",
    "\n",
    "_, ax = plt.subplots(nrows=1, ncols=3, figsize=(18, 5))\n",
    "\n",
    "# Plot partial dependence for feature 5\n",
    "PartialDependenceDisplay.from_estimator(gbrg_best, X_train, features=[5], ax=ax[0])\n",
    "ax[0].set_title('Partial Dependence Plot for Feature 5')\n",
    "\n",
    "# Plot partial dependence for feature 12\n",
    "PartialDependenceDisplay.from_estimator(gbrg_best, X_train, features=[12], ax=ax[1])\n",
    "ax[1].set_title('Partial Dependence Plot for Feature 12')\n",
    "\n",
    "# Plot partial dependence for interaction between features 5 and 12\n",
    "PartialDependenceDisplay.from_estimator(gbrg_best, X_train, features=[(5, 12)], ax=ax[2])\n",
    "ax[2].set_title('Partial Dependence Plot for Interaction between Feature 5 and 12')\n",
    "\n",
    "plt.tight_layout()\n",
    "plt.show()"
   ],
   "id": "aec6eded92d6c9e5",
   "outputs": [
    {
     "data": {
      "text/plain": [
       "<Figure size 1800x500 with 6 Axes>"
      ],
      "image/png": "[encoded data removed]"
     },
     "metadata": {},
     "output_type": "display_data"
    }
   ],
   "execution_count": 20
  },
  {
   "metadata": {},
   "cell_type": "markdown",
   "source": "# Decision Tree Regressor",
   "id": "51da956d52bb4a84"
  },
  {
   "metadata": {
    "ExecuteTime": {
     "end_time": "2024-05-24T11:11:43.973760Z",
     "start_time": "2024-05-24T11:11:43.899263Z"
    }
   },
   "cell_type": "code",
   "source": [
    "from sklearn.tree import DecisionTreeRegressor\n",
    "\n",
    "X = house[[house.columns[np.argmax(gbrg_best.feature_importances_)]]].values\n",
    "\n",
    "tree = DecisionTreeRegressor(max_depth=4)\n",
    "tree.fit(X, y)\n",
    "sort_idx = X.flatten().argsort() # argsort : 배열의 요소들을 오름차순으로 정렬했을 때의 인덱스를 반환\n",
    "def lin_regplot(X, y, model):\n",
    "    plt.scatter(X,y, c='steelblue', edgecolors='white', s=70)\n",
    "    plt.plot(X, model.predict(X), color='red', lw=2)\n",
    "\n",
    "lin_regplot(X[sort_idx], y[sort_idx], tree)\n",
    "plt.xlabel('% lower status of the population [LSTAT]')\n",
    "plt.ylabel('Price in $1000s [MEDV]')\n",
    "plt.show()"
   ],
   "id": "5de8a30a668db73e",
   "outputs": [
    {
     "data": {
      "text/plain": [
       "<Figure size 640x480 with 1 Axes>"
      ],
      "image/png": "[encoded data removed]"
     },
     "metadata": {},
     "output_type": "display_data"
    }
   ],
   "execution_count": 36
  },
  {
   "metadata": {},
   "cell_type": "markdown",
   "source": "# Random Forest",
   "id": "c96831c859171e95"
  },
  {
   "metadata": {
    "ExecuteTime": {
     "end_time": "2024-05-24T11:20:28.111005Z",
     "start_time": "2024-05-24T11:20:27.733270Z"
    }
   },
   "cell_type": "code",
   "source": [
    "from sklearn.ensemble import RandomForestRegressor\n",
    "from sklearn.metrics import root_mean_squared_error, r2_score\n",
    "\n",
    "X = house.iloc[:, :-1].values\n",
    "y = house['MEDV'].values\n",
    "\n",
    "X_train, X_test, y_train, y_test = train_test_split(\n",
    "    X, y,\n",
    "    test_size=0.3, \n",
    "    random_state=1\n",
    ")\n",
    "\n",
    "forest = RandomForestRegressor(\n",
    "    n_estimators=500,\n",
    "    criterion='squared_error',\n",
    "    max_depth=5,\n",
    "    random_state=1\n",
    ")\n",
    "forest.fit(X_train, y_train)\n",
    "y_train_pred = forest.predict(X_train)\n",
    "y_test_pred = forest.predict(X_test)"
   ],
   "id": "368900e252edacd7",
   "outputs": [],
   "execution_count": 42
  },
  {
   "metadata": {
    "ExecuteTime": {
     "end_time": "2024-05-24T11:27:11.827414Z",
     "start_time": "2024-05-24T11:27:11.823019Z"
    }
   },
   "cell_type": "code",
   "source": [
    "from sklearn.metrics import root_mean_squared_error, r2_score\n",
    "\n",
    "print('RMSE Train: %0.3f, test : %0.3f' % (root_mean_squared_error(y_train, y_train_pred), root_mean_squared_error(y_test, y_test_pred)))\n",
    "print('R^2 Train: %0.3f, test : %0.3f' % (r2_score(y_train, y_train_pred), r2_score(y_test, y_test_pred)))"
   ],
   "id": "b795672f2f23d788",
   "outputs": [
    {
     "name": "stdout",
     "output_type": "stream",
     "text": [
      "RMSE Train: 2.211, test : 3.108\n",
      "R^2 Train: 0.940, test : 0.895\n"
     ]
    }
   ],
   "execution_count": 47
  },
  {
   "metadata": {},
   "cell_type": "markdown",
   "source": "# residual plot",
   "id": "cacb6054e4c337b4"
  },
  {
   "metadata": {
    "ExecuteTime": {
     "end_time": "2024-05-24T11:36:11.019989Z",
     "start_time": "2024-05-24T11:36:11.012945Z"
    }
   },
   "cell_type": "code",
   "source": [
    "import plotly.graph_objects as go\n",
    "\n",
    "fig = go.Figure()\n",
    "fig.add_trace(go.Scatter(\n",
    "    x=y_train_pred, y=y_train_pred - y_train,\n",
    "    mode='markers', \n",
    "    name='Training Data'\n",
    "))\n",
    "fig.add_trace(go.Scatter(\n",
    "    x=y_test_pred, y=y_test_pred - y_test,\n",
    "    mode='markers', \n",
    "    name='Test Data'\n",
    "))\n",
    "fig.update_layout(\n",
    "    width=600, \n",
    "    height=400,\n",
    "    title_text='Residual Plots versus predicted values',\n",
    "    title_x=0.5,\n",
    ")\n",
    "fig.update_xaxes(title_text='predicted values')\n",
    "fig.update_yaxes(title_text='residuals')\n",
    "fig.show()"
   ],
   "id": "56e7e00fdd3f38a0",
   "outputs": [
    {
     "data": {
      "application/vnd.plotly.v1+json": {
       "data": [
        {
         "mode": "markers",
         "name": "Training Data",
         "x": [
          21.0825240533399,
          19.414158024677402,
          13.263549378816013,
          29.394327061744193,
          23.679062145993466,
          24.94146565371819,
          21.0166780190656,
          25.66317936850361,
          43.985404072199714,
          30.15877224719138,
          26.843181483185823,
          16.32207643258056,
          19.59485329348398,
          21.164327421277548,
          24.537995309787952,
          10.99883696031361,
          16.240445928401293,
          23.649652736883013,
          21.009168372354484,
          19.93262036116115,
          16.060134891491725,
          29.996799114418625,
          19.70370450753799,
          23.165869079410044,
          28.691809841720993,
          20.10757979084877,
          47.6078647345362,
          21.380845474783946,
          18.950488196637735,
          23.17236622343156,
          16.469646944442015,
          30.76164864267012,
          12.993799985884037,
          19.855109725882894,
          20.862719451445287,
          34.591543297649565,
          21.276329034196003,
          21.046615395058776,
          20.368956062483782,
          15.305954169921318,
          20.897176337960207,
          20.292975822497628,
          20.61529785343425,
          19.316357924615005,
          37.301369437346175,
          21.274465706536596,
          45.51930616800567,
          45.46671954692162,
          16.404377387298812,
          15.878185444180332,
          22.925343663664297,
          16.46058264722385,
          20.152440938070455,
          27.296306539719104,
          29.298476742454035,
          21.64920459530499,
          19.82871513852824,
          18.690527990511384,
          21.362891465848314,
          19.256215657537386,
          30.397031127709155,
          20.23468291075995,
          20.231832602928563,
          24.52107636735703,
          16.597278283936795,
          14.377366069521457,
          23.476725980164126,
          21.746961511118176,
          20.979250534020483,
          19.079482779925165,
          19.204218659216217,
          20.280106154725903,
          22.33483709605613,
          31.906146450859506,
          27.321958517208234,
          11.228586375345957,
          18.686947707952026,
          32.22381517529172,
          15.14591489066223,
          16.009143247033787,
          29.176003700131897,
          20.959197836510963,
          11.962036653641304,
          23.741638610022626,
          20.430519246513608,
          43.48131215141627,
          47.672541795130385,
          21.019960647129366,
          19.753451147729052,
          9.627612428936423,
          20.38515677930727,
          47.924893688631606,
          20.304967611289772,
          31.653259827606867,
          21.609781184757693,
          20.00910788446718,
          28.83832152309531,
          11.8337871506618,
          16.347641740105637,
          14.26296523588062,
          32.66108307561976,
          19.392885267676967,
          10.222388420992509,
          28.31047487048282,
          15.652487858043143,
          20.242014504778968,
          26.834843673934127,
          30.48736346342149,
          20.362631793303112,
          26.9922453566752,
          8.751999560731884,
          18.36869511760819,
          29.879259767581697,
          22.62048927665574,
          44.32670357372231,
          26.010621791389728,
          16.067938948120187,
          21.515793150636007,
          30.28723115119768,
          16.095143825824326,
          26.72487251383718,
          17.216794068820885,
          26.58710355175956,
          25.353451619299,
          23.83352215313645,
          21.576429015310854,
          20.627683487255265,
          18.473607071718384,
          8.063565050417186,
          18.64082705281735,
          20.189441030753738,
          20.780915317697605,
          21.344354437181195,
          12.780197867454918,
          22.432941930194126,
          16.946771607871657,
          15.24889274655914,
          31.730390793061986,
          9.36080697668724,
          10.541059233716876,
          25.813793372241555,
          20.301506745055,
          23.540228598549444,
          12.069185671204616,
          33.15197142951104,
          20.955926843569774,
          27.50852420597973,
          9.085753067808206,
          17.16328086755185,
          8.644252346781789,
          20.529999128527827,
          15.640173447794258,
          21.138681517710662,
          26.009682485094636,
          8.250245957801505,
          20.10820436468711,
          27.003044189772506,
          19.799580845466913,
          20.92526575189042,
          32.252329446065765,
          23.952177452063506,
          21.44038433959565,
          15.794594151418076,
          25.713689509973186,
          19.861708949906287,
          22.83378003231589,
          20.988518591599117,
          32.611235230877185,
          18.76065966845433,
          16.91131440677388,
          21.911741527838306,
          21.155381713753698,
          15.839712924309403,
          31.877716404533448,
          20.854402699830377,
          20.5240614514606,
          15.731861755773316,
          14.016434891589792,
          14.395349196575625,
          31.79915043306577,
          25.497746955018847,
          24.227600291358392,
          16.365753456275062,
          9.73646917332226,
          12.52618621931931,
          12.198947971371409,
          25.971624815313426,
          40.13018559682373,
          20.960311212168985,
          24.724157981771928,
          19.61398485769067,
          12.304134360694382,
          19.255526091184958,
          9.3489319186353,
          19.770973019065394,
          21.20344822365301,
          20.601859916633586,
          29.259139428954757,
          31.610802098109993,
          23.17215237593702,
          20.43582938783095,
          34.63592722769554,
          8.08631047474531,
          21.21060930943367,
          20.130107431595516,
          26.92111024044505,
          19.836156118291843,
          30.852313929387794,
          21.454403848593515,
          45.34367873244178,
          20.258299270633692,
          21.341181504473038,
          30.8231265220454,
          14.433843119751575,
          14.578617014529605,
          44.38854455310764,
          19.3171224524325,
          20.693550714314743,
          19.940982935159145,
          17.602715413695634,
          20.916534437721676,
          21.699960488664768,
          19.403371711848305,
          24.367049457908838,
          32.07197522374027,
          24.779190411024604,
          9.368881088838737,
          20.35871474726889,
          20.83871781374395,
          17.52268552956756,
          15.22203708016307,
          11.245874341297112,
          21.281901393504512,
          22.55723401256836,
          32.63368103790164,
          20.99012254705321,
          29.470560788583853,
          19.5317521803722,
          14.556771495744046,
          10.0924309655206,
          33.118378821269246,
          25.006914630955393,
          44.007394458238466,
          41.7957626050557,
          20.25279972190212,
          30.772484233262144,
          23.75495053116984,
          46.837026576457376,
          23.666812280846628,
          29.356005288954748,
          19.576370933159414,
          16.02750934452716,
          23.67685860487238,
          32.00779932429746,
          23.678572210494078,
          27.179040787301464,
          24.55086001039844,
          12.65106243411049,
          21.82611543111039,
          25.788049750056746,
          14.328627457857884,
          13.981730622169312,
          27.234914250937027,
          23.13372525961586,
          16.56386994260848,
          49.13960905315017,
          23.141706579659743,
          18.47177844717997,
          16.88763241669258,
          15.830841762198345,
          11.255026909918985,
          32.310448480219605,
          16.138635183343897,
          47.996996326154914,
          21.869194002068518,
          20.05018926291081,
          20.12013685762669,
          17.166687029098608,
          45.688928910792555,
          17.453494427485296,
          41.797881879670044,
          19.277179323743823,
          16.161375460210774,
          33.11740108395275,
          30.771677972499972,
          21.06650336963098,
          20.352796280391043,
          44.779867377315966,
          18.847185892166586,
          20.824877526474257,
          27.153699296628822,
          18.354829051271434,
          20.689097317544654,
          23.355221993547225,
          45.81689909629713,
          33.223760636074154,
          20.472464903378714,
          20.003754817641788,
          7.998664849811417,
          8.811104583290643,
          20.208543102239503,
          14.71297129692023,
          20.884851936166253,
          17.527201460965998,
          18.875564200750894,
          18.1974505462142,
          21.00553920771375,
          33.20686992172129,
          18.195103028130525,
          18.719729616824324,
          9.077385379897507,
          22.83118455526717,
          22.576532961083142,
          16.55956777624827,
          19.927640429618133,
          20.773268103791146,
          20.307493035571618,
          20.232919519154535,
          14.200165644877911,
          20.98761167342619,
          21.703140682921582,
          20.788794326807146,
          20.197361003005888,
          22.65108252909208,
          20.200861292059265,
          20.7966789640704,
          7.700050338022719,
          16.1117335704289,
          15.627267272281774,
          31.357362015379582,
          15.118672213499426,
          17.578132373954162,
          12.384524116726672,
          20.075964495615363,
          22.772935561464386,
          31.564168087534174,
          28.75397173098181,
          32.94641750644788,
          15.485764376742607,
          32.42246029404621,
          20.89111752314518,
          16.134475589285056,
          15.716112729294885,
          14.282745891051192,
          15.096705306769952,
          21.38395018797754,
          17.84983266909583,
          47.68987943540243,
          16.209101678283524,
          21.261628005532398,
          22.950357762529766,
          14.664806341169314,
          21.080066342869628,
          21.397880458634457
         ],
         "y": [
          0.6825240533399004,
          3.414158024677402,
          -0.03645062118398812,
          -1.4056729382558082,
          -3.8209378540065337,
          0.5414656537181912,
          -3.3833219809343973,
          0.563179368503608,
          0.18540407219971655,
          8.25877224719138,
          0.643181483185824,
          2.1220764325805597,
          -1.2051467065160217,
          1.0643274212775466,
          1.4379953097879508,
          -2.101163039686389,
          0.040445928401293685,
          -1.1503472631169878,
          0.8091683723544847,
          -2.567379638838851,
          1.2601348914917239,
          1.2967991144186257,
          -0.3962954924620128,
          -0.23413092058995488,
          -3.3081901582790074,
          1.0075797908487694,
          -2.3921352654638,
          0.4808454747839477,
          -2.749511803362264,
          1.1723662234315597,
          -0.730353055557984,
          0.46164864267012007,
          0.693799985884036,
          -1.5448902741171047,
          0.3627194514452867,
          -0.6084567023504377,
          1.6763290341960015,
          -0.953384604941224,
          -1.3310439375162169,
          1.205954169921318,
          -0.20282366203979407,
          5.2929758224976275,
          8.71529785343425,
          -0.683642075384995,
          -3.9986305626538226,
          2.5744657065365963,
          -4.48069383199433,
          -4.533280453078383,
          -1.9956226127011867,
          -2.0218145558196667,
          -5.174656336335705,
          0.3605826472238469,
          2.952440938070456,
          -1.303693460280897,
          5.698476742454034,
          1.2492045953049917,
          0.2287151385282371,
          -0.10947200948861635,
          -1.2371085341516874,
          1.5562156575373862,
          -0.10296887229084462,
          2.034682910759951,
          -0.36816739707143853,
          0.12107636735703053,
          -0.7027217160632055,
          1.0773660695214566,
          0.6767259801641252,
          1.246961511118176,
          -0.22074946597951595,
          0.27948277992516424,
          0.30421865921621816,
          2.080106154725904,
          -0.765162903943871,
          -0.793853549140497,
          3.321958517208234,
          1.0285863753459576,
          -0.8130522920479741,
          -0.8761848247082824,
          1.7459148906622293,
          0.8091432470337878,
          4.376003700131896,
          -3.3408021634890375,
          2.462036653641304,
          -0.4583613899773731,
          1.930519246513608,
          -0.5186878485837312,
          -2.3274582048696146,
          -3.680039352870633,
          -1.7465488522709478,
          1.227612428936423,
          -1.414843220692731,
          -2.075106311368394,
          -3.4950323887102286,
          -0.7467401723931317,
          -2.790218815242305,
          2.409107884467179,
          -0.9616784769046909,
          2.233787150661801,
          -0.35235825989436265,
          0.46296523588061866,
          0.6610830756197572,
          3.292885267676965,
          1.9223884209925082,
          1.7104748704828197,
          1.3524878580431423,
          5.242014504778968,
          -1.5651563260658712,
          -1.7126365365785112,
          3.262631793303111,
          -2.4077546433248003,
          -1.6480004392681167,
          1.5686951176081898,
          -1.620740232418303,
          -4.879510723344261,
          -2.3732964262776903,
          -1.4893782086102725,
          -1.1320610518798127,
          -1.8842068493639914,
          -1.312768848802321,
          2.2951438258243257,
          4.72487251383718,
          0.21679406882088514,
          1.7871035517595608,
          1.0534516192990004,
          -1.3664778468635497,
          0.3764290153108547,
          0.027683487255263373,
          -0.22639292828161572,
          2.463565050417186,
          -0.6591729471826504,
          0.38944103075373704,
          -1.5190846823023954,
          1.0443544371811946,
          0.7801978674549179,
          -1.4670580698058728,
          0.44677160787165704,
          2.04889274655914,
          -1.469609206938017,
          -1.1391930233127603,
          3.041059233716876,
          -1.6862066277584447,
          1.901506745055002,
          0.3402285985494444,
          -1.7308143287953843,
          -2.2480285704889553,
          -2.044073156430226,
          2.508524205979729,
          1.8857530678082055,
          2.7632808675518508,
          -0.15574765321821182,
          -2.1700008714721726,
          2.540173447794258,
          2.2386815177106634,
          1.0096824850946362,
          -0.24975404219849473,
          4.00820436468711,
          -1.9969558102274938,
          -3.3004191545330883,
          1.6252657518904208,
          -0.8476705539342362,
          -0.6478225479364959,
          -1.5596156604043507,
          0.594594151418077,
          -1.3863104900268155,
          0.2617089499062857,
          -1.6662199676841105,
          0.6885185915991165,
          -2.288764769122814,
          1.660659668454329,
          1.3113144067738798,
          -4.488258472161693,
          -1.4446182862463033,
          0.23971292430940316,
          2.877716404533448,
          -0.3455973001696222,
          -1.8759385485393985,
          2.2318617557733162,
          2.316434891589793,
          -2.704650803424377,
          0.09915043306576976,
          -3.202253044981152,
          -0.47239970864160696,
          -2.634246543724938,
          2.536469173322259,
          -1.2738137806806904,
          -0.6010520286285921,
          -10.228375184686577,
          1.4301855968237263,
          2.4603112121689854,
          -4.375842018228074,
          -0.7860151423093278,
          1.0041343606943816,
          1.8555260911849594,
          0.6489319186353004,
          0.8709730190653957,
          -1.9965517763469904,
          -1.5981400833664132,
          0.15913942895475586,
          -2.989197901890009,
          -1.8278476240629793,
          -2.7641706121690497,
          -3.264072772304459,
          1.0863104747453107,
          3.010609309433672,
          0.8301074315955148,
          0.22111024044505,
          0.6361561182918436,
          0.7523139293877925,
          0.8544038485935133,
          -4.656321267558219,
          1.5582992706336931,
          0.7411815044730368,
          -0.27687347795460227,
          0.4338431197515753,
          -3.2213829854703953,
          2.0885445531076456,
          4.017122452432499,
          2.1935507143147426,
          -1.4590170648408538,
          2.602715413695634,
          0.2165344377216769,
          0.29996048866476954,
          -2.2966282881516946,
          2.3670494579088377,
          0.4719752237402659,
          2.7791904110246044,
          -0.831118911161262,
          -2.2412852527311102,
          0.8387178137439513,
          -0.2773144704324402,
          1.6220370801630697,
          -0.5541256587028887,
          1.8819013935045135,
          1.1572340125683631,
          -0.26631896209836015,
          0.1901225470532104,
          -1.5294392114161468,
          2.0317521803722016,
          -0.8432285042559542,
          -0.7075690344794001,
          -1.5816211787307566,
          0.006914630955392909,
          -4.792605541761532,
          -1.0042373949442975,
          0.7527997219021216,
          0.6724842332621428,
          1.5549505311698404,
          -3.162973423542624,
          0.5668122808466265,
          -3.143994711045252,
          -0.023629066840587853,
          1.1275093445271605,
          -2.7231413951276195,
          -4.9922006757025414,
          -0.4214277895059233,
          2.6790407873014637,
          0.8508600103984421,
          5.651062434110489,
          -0.37388456888960775,
          2.488049750056746,
          -1.2713725421421156,
          0.5817306221693119,
          -3.465085749062972,
          0.8337252596158606,
          -0.836130057391518,
          -0.860390946849833,
          0.24170657965974485,
          -1.2282215528200275,
          1.2876324166925794,
          -1.9691582378016559,
          0.3550269099189851,
          -2.789551519780396,
          0.43863518334389795,
          -2.003003673845086,
          -0.9308059979314827,
          0.15018926291081058,
          0.02013685762668871,
          -2.233312970901391,
          -0.3110710892074451,
          -5.746505572514703,
          4.197881879670042,
          -3.8228206762561783,
          2.2613754602107736,
          -0.18259891604724743,
          -2.2283220275000275,
          1.1665033696309806,
          0.05279628039104267,
          -5.220132622684034,
          -0.552814107833413,
          1.324877526474257,
          4.353699296628822,
          1.7548290512714324,
          0.689097317544654,
          -1.3447780064527741,
          0.4168990962971293,
          -0.17623936392584483,
          -0.9275350966212841,
          0.6037548176417893,
          2.9986648498114166,
          1.4111045832906424,
          0.10854310223950137,
          2.012971296920231,
          0.5848519361662525,
          3.427201460965998,
          0.5755642007508932,
          -1.7025494537857995,
          -2.2944607922862517,
          -3.2931300782787076,
          -1.804896971869475,
          0.9197296168243234,
          0.2773853798975061,
          1.2311845552671699,
          0.9765329610831408,
          1.3595677762482694,
          0.1276404296181326,
          -0.2267318962088538,
          -6.792506964428384,
          3.4329195191545345,
          -0.19983435512208914,
          -1.5123883265738094,
          3.1031406829215804,
          0.6887943268071446,
          0.5973610030058865,
          -2.348917470907921,
          2.800861292059267,
          1.0966789640703993,
          2.700050338022719,
          -0.18826642957110096,
          2.527267272281774,
          1.7573620153795808,
          2.0186722134994266,
          -1.5218676260458395,
          0.2845241167266721,
          -1.6240355043846364,
          0.8729355614643879,
          -1.6358319124658287,
          -1.1460282690181884,
          -2.453582493552119,
          0.3857643767426069,
          0.9224602940462105,
          -0.8088824768548193,
          -0.26552441071494215,
          1.416112729294884,
          2.4827458910511915,
          0.9967053067699521,
          0.28395018797753835,
          -0.5501673309041699,
          -0.8101205645975682,
          2.4091016782835233,
          0.36162800553239904,
          0.15035776252976518,
          2.1648063411693137,
          -2.919933657130372,
          0.3978804586344573
         ],
         "type": "scatter"
        },
        {
         "mode": "markers",
         "name": "Test Data",
         "x": [
          28.885559875727612,
          27.483879837795673,
          19.31479412127963,
          21.393135250024525,
          20.085098295202034,
          20.420215565296655,
          28.269919233737973,
          19.829323827967855,
          19.336509058836867,
          23.192976546482303,
          26.58069841121013,
          31.554415193509605,
          20.589575590569034,
          20.985048993566163,
          20.508901097988943,
          25.22882035190054,
          11.582422621329089,
          41.196588845286456,
          23.593828591159408,
          14.355848281268512,
          20.722177120278943,
          16.394443464398336,
          24.805150275004515,
          23.870332548903793,
          26.299069969595788,
          9.52296097962952,
          15.065148511726566,
          20.71430126989399,
          37.854286841215504,
          13.098068896262753,
          27.204602840509967,
          19.692059501259138,
          46.89933900181259,
          15.410740859804585,
          22.726644350619242,
          20.402426368953957,
          15.494322126503565,
          31.86365893161551,
          12.38023786633464,
          19.080547216458804,
          23.75349357070861,
          23.555438032391347,
          25.74458125694011,
          15.669193151407477,
          15.756848097931694,
          11.912448893761919,
          48.100921495707595,
          13.13203803135298,
          21.298372172659345,
          19.934909238001147,
          23.505932928710937,
          21.28070725916289,
          24.712326632588184,
          20.733563822816436,
          12.753418688650738,
          23.841429929584045,
          12.07800835046446,
          23.39753348115923,
          19.57436835878018,
          42.17824927642684,
          15.124499562028152,
          26.95001442067111,
          14.315224472501711,
          16.30217641600993,
          17.767753536759976,
          32.477788340098364,
          42.143432288267306,
          25.024039230441822,
          21.046866365484767,
          20.522367230408793,
          23.79786276413806,
          8.152829190962668,
          19.05598780488756,
          22.324510311553585,
          20.073634715879106,
          20.587139129744052,
          44.60505916396615,
          23.433630424163304,
          26.454128621078564,
          32.99013820056985,
          17.415779062912407,
          20.84315094287782,
          31.854269024564424,
          11.340782669624646,
          24.703550989991555,
          25.875137324092076,
          14.95029739190659,
          25.023501733221178,
          20.392816764530167,
          16.831447980549704,
          29.52442318070127,
          42.809797350641375,
          16.279901644466268,
          20.696066057576758,
          16.538581253613792,
          20.52279782258173,
          23.85677136162017,
          23.014812404541335,
          43.20154998800991,
          20.53878953888312,
          17.40530692513253,
          14.554815910380887,
          23.951507100628668,
          23.44095736493686,
          9.176925794733258,
          20.749673552042438,
          16.882267189601137,
          27.688746906791298,
          22.443189101404663,
          26.393729270578106,
          46.6041012432327,
          22.91461191815053,
          13.757127596343807,
          31.663864626692497,
          33.67765167219586,
          33.90560100540157,
          21.037315554157377,
          19.894206390221242,
          33.315898069469426,
          38.76953952387551,
          21.166455679463876,
          14.137905192193458,
          30.52273256949679,
          19.610120829541533,
          24.98247145554067,
          20.449420121891947,
          21.823097152554972,
          21.00861762167863,
          20.231661253688944,
          27.974140109082136,
          20.762649927974923,
          21.443393611141303,
          23.95318844927291,
          10.542881241714626,
          26.172400751214173,
          31.139148214926017,
          14.637124568209368,
          15.553275930333603,
          35.54302469466752,
          15.688930948403792,
          22.72859516660872,
          15.680463000885487,
          18.25739039046303,
          24.553116252727676,
          32.35725569117226,
          21.613709285965882,
          23.718446621807345,
          15.789833772020922,
          27.105022600457172,
          18.703975393910643,
          30.378866810384075,
          16.222431361433564
         ],
         "y": [
          0.6855598757276127,
          3.583879837795674,
          2.7147941212796276,
          -0.6068647499754753,
          -0.7149017047979669,
          -2.5797844347033454,
          0.3699192337379742,
          5.329323827967855,
          -2.1634909411631327,
          0.5929765464823014,
          2.8806984112101297,
          0.35441519350960604,
          1.289575590569033,
          1.585048993566165,
          1.1089010979889444,
          -2.671179648099457,
          -2.3175773786709115,
          -8.803411154713544,
          -0.5061714088405935,
          -0.24415171873148722,
          4.522177120278943,
          0.794443464398336,
          1.0051502750045138,
          -1.129667451096207,
          2.799069969595788,
          1.2229609796295193,
          1.5651485117265658,
          3.2143012698939906,
          -5.245713158784497,
          1.5980688962627525,
          3.1046028405099655,
          1.1920595012591377,
          -3.100660998187408,
          2.8107408598045858,
          2.9266443506192417,
          -4.097573631046043,
          0.594322126503565,
          -4.336341068384492,
          0.4802378663346403,
          -0.019452783541197505,
          1.1534935707086085,
          2.8554380323913477,
          -4.355418743059893,
          2.369193151407476,
          1.1568480979316949,
          3.5124488937619187,
          -1.8990785042924045,
          0.432038031352981,
          -3.701627827340655,
          1.3349092380011456,
          -6.294067071289064,
          -0.9192927408371077,
          -3.9876733674118157,
          -3.066436177183565,
          4.6534186886507385,
          1.6414299295840458,
          5.77800835046446,
          1.2975334811592276,
          2.0743683587801804,
          -6.121750723573157,
          -1.5755004379718471,
          0.35001442067110844,
          5.815224472501711,
          1.8021764160099316,
          -5.932246463240023,
          -4.722211659901639,
          0.44343228826730297,
          8.524039230441822,
          -0.6531336345152319,
          -2.177632769591206,
          0.7978627641380598,
          -2.3471708090373316,
          -2.8440121951124375,
          1.3245103115535848,
          -0.32636528412089305,
          -1.2128608702559482,
          -5.394940836033847,
          1.4336304241633044,
          3.154128621078563,
          -4.309861799430145,
          -0.5842209370875935,
          1.6431509428778206,
          -3.045730975435575,
          -2.059217330375354,
          1.8035509899915567,
          3.3751373240920763,
          1.9502973919065898,
          0.4235017332211761,
          2.0928167645301663,
          -1.268552019450297,
          5.624423180701271,
          -7.190202649358625,
          2.679901644466268,
          -2.203933942423241,
          5.638581253613792,
          1.622797822581731,
          1.45677136162017,
          0.11481240454133612,
          -1.5984500119900886,
          -1.1612104611168803,
          7.205306925132529,
          -0.8451840896191136,
          -1.3484928993713332,
          0.14095736493685962,
          1.9769257947332575,
          -0.45032644795756127,
          5.182267189601138,
          0.6887469067912981,
          -7.156810898595339,
          -0.10627072942189386,
          3.104101243232698,
          -0.6853880818494709,
          2.757127596343807,
          -1.7361353733075013,
          -2.322348327804143,
          -2.494398994598427,
          2.0373155541573773,
          -0.3057936097787568,
          -1.5841019305305721,
          -11.230460476124492,
          1.8664556794638756,
          -0.7620948078065428,
          3.9227325694967874,
          -0.289879170458466,
          0.1824714555406679,
          -0.7505798781080522,
          -2.0769028474450266,
          0.4086176216786299,
          -2.868338746311057,
          -0.025859890917864448,
          0.7626499279749233,
          -1.6566063888586982,
          -1.0468115507270888,
          0.8428812417146272,
          2.2724007512141746,
          -4.960851785073984,
          1.2371245682093672,
          2.853275930333604,
          -4.256975305332475,
          5.288930948403792,
          2.1285951666087186,
          -2.119536999114514,
          -1.24260960953697,
          0.853116252727677,
          3.857255691172263,
          -2.6862907140341186,
          -0.0815533781926554,
          -3.31016622797908,
          -1.2949773995428266,
          -1.7960246060893574,
          -3.4211331896159223,
          1.7224313614335642
         ],
         "type": "scatter"
        }
       ],
       "layout": {
        "template": {
         "data": {
          "histogram2dcontour": [
           {
            "type": "histogram2dcontour",
            "colorbar": {
             "outlinewidth": 0,
             "ticks": ""
            },
            "colorscale": [
             [
              0.0,
              "#0d0887"
             ],
             [
              0.1111111111111111,
              "#46039f"
             ],
             [
              0.2222222222222222,
              "#7201a8"
             ],
             [
              0.3333333333333333,
              "#9c179e"
             ],
             [
              0.4444444444444444,
              "#bd3786"
             ],
             [
              0.5555555555555556,
              "#d8576b"
             ],
             [
              0.6666666666666666,
              "#ed7953"
             ],
             [
              0.7777777777777778,
              "#fb9f3a"
             ],
             [
              0.8888888888888888,
              "#fdca26"
             ],
             [
              1.0,
              "#f0f921"
             ]
            ]
           }
          ],
          "choropleth": [
           {
            "type": "choropleth",
            "colorbar": {
             "outlinewidth": 0,
             "ticks": ""
            }
           }
          ],
          "histogram2d": [
           {
            "type": "histogram2d",
            "colorbar": {
             "outlinewidth": 0,
             "ticks": ""
            },
            "colorscale": [
             [
              0.0,
              "#0d0887"
             ],
             [
              0.1111111111111111,
              "#46039f"
             ],
             [
              0.2222222222222222,
              "#7201a8"
             ],
             [
              0.3333333333333333,
              "#9c179e"
             ],
             [
              0.4444444444444444,
              "#bd3786"
             ],
             [
              0.5555555555555556,
              "#d8576b"
             ],
             [
              0.6666666666666666,
              "#ed7953"
             ],
             [
              0.7777777777777778,
              "#fb9f3a"
             ],
             [
              0.8888888888888888,
              "#fdca26"
             ],
             [
              1.0,
              "#f0f921"
             ]
            ]
           }
          ],
          "heatmap": [
           {
            "type": "heatmap",
            "colorbar": {
             "outlinewidth": 0,
             "ticks": ""
            },
            "colorscale": [
             [
              0.0,
              "#0d0887"
             ],
             [
              0.1111111111111111,
              "#46039f"
             ],
             [
              0.2222222222222222,
              "#7201a8"
             ],
             [
              0.3333333333333333,
              "#9c179e"
             ],
             [
              0.4444444444444444,
              "#bd3786"
             ],
             [
              0.5555555555555556,
              "#d8576b"
             ],
             [
              0.6666666666666666,
              "#ed7953"
             ],
             [
              0.7777777777777778,
              "#fb9f3a"
             ],
             [
              0.8888888888888888,
              "#fdca26"
             ],
             [
              1.0,
              "#f0f921"
             ]
            ]
           }
          ],
          "heatmapgl": [
           {
            "type": "heatmapgl",
            "colorbar": {
             "outlinewidth": 0,
             "ticks": ""
            },
            "colorscale": [
             [
              0.0,
              "#0d0887"
             ],
             [
              0.1111111111111111,
              "#46039f"
             ],
             [
              0.2222222222222222,
              "#7201a8"
             ],
             [
              0.3333333333333333,
              "#9c179e"
             ],
             [
              0.4444444444444444,
              "#bd3786"
             ],
             [
              0.5555555555555556,
              "#d8576b"
             ],
             [
              0.6666666666666666,
              "#ed7953"
             ],
             [
              0.7777777777777778,
              "#fb9f3a"
             ],
             [
              0.8888888888888888,
              "#fdca26"
             ],
             [
              1.0,
              "#f0f921"
             ]
            ]
           }
          ],
          "contourcarpet": [
           {
            "type": "contourcarpet",
            "colorbar": {
             "outlinewidth": 0,
             "ticks": ""
            }
           }
          ],
          "contour": [
           {
            "type": "contour",
            "colorbar": {
             "outlinewidth": 0,
             "ticks": ""
            },
            "colorscale": [
             [
              0.0,
              "#0d0887"
             ],
             [
              0.1111111111111111,
              "#46039f"
             ],
             [
              0.2222222222222222,
              "#7201a8"
             ],
             [
              0.3333333333333333,
              "#9c179e"
             ],
             [
              0.4444444444444444,
              "#bd3786"
             ],
             [
              0.5555555555555556,
              "#d8576b"
             ],
             [
              0.6666666666666666,
              "#ed7953"
             ],
             [
              0.7777777777777778,
              "#fb9f3a"
             ],
             [
              0.8888888888888888,
              "#fdca26"
             ],
             [
              1.0,
              "#f0f921"
             ]
            ]
           }
          ],
          "surface": [
           {
            "type": "surface",
            "colorbar": {
             "outlinewidth": 0,
             "ticks": ""
            },
            "colorscale": [
             [
              0.0,
              "#0d0887"
             ],
             [
              0.1111111111111111,
              "#46039f"
             ],
             [
              0.2222222222222222,
              "#7201a8"
             ],
             [
              0.3333333333333333,
              "#9c179e"
             ],
             [
              0.4444444444444444,
              "#bd3786"
             ],
             [
              0.5555555555555556,
              "#d8576b"
             ],
             [
              0.6666666666666666,
              "#ed7953"
             ],
             [
              0.7777777777777778,
              "#fb9f3a"
             ],
             [
              0.8888888888888888,
              "#fdca26"
             ],
             [
              1.0,
              "#f0f921"
             ]
            ]
           }
          ],
          "mesh3d": [
           {
            "type": "mesh3d",
            "colorbar": {
             "outlinewidth": 0,
             "ticks": ""
            }
           }
          ],
          "scatter": [
           {
            "marker": {
             "line": {
              "color": "#283442"
             }
            },
            "type": "scatter"
           }
          ],
          "parcoords": [
           {
            "type": "parcoords",
            "line": {
             "colorbar": {
              "outlinewidth": 0,
              "ticks": ""
             }
            }
           }
          ],
          "scatterpolargl": [
           {
            "type": "scatterpolargl",
            "marker": {
             "colorbar": {
              "outlinewidth": 0,
              "ticks": ""
             }
            }
           }
          ],
          "bar": [
           {
            "error_x": {
             "color": "#f2f5fa"
            },
            "error_y": {
             "color": "#f2f5fa"
            },
            "marker": {
             "line": {
              "color": "rgb(17,17,17)",
              "width": 0.5
             },
             "pattern": {
              "fillmode": "overlay",
              "size": 10,
              "solidity": 0.2
             }
            },
            "type": "bar"
           }
          ],
          "scattergeo": [
           {
            "type": "scattergeo",
            "marker": {
             "colorbar": {
              "outlinewidth": 0,
              "ticks": ""
             }
            }
           }
          ],
          "scatterpolar": [
           {
            "type": "scatterpolar",
            "marker": {
             "colorbar": {
              "outlinewidth": 0,
              "ticks": ""
             }
            }
           }
          ],
          "histogram": [
           {
            "marker": {
             "pattern": {
              "fillmode": "overlay",
              "size": 10,
              "solidity": 0.2
             }
            },
            "type": "histogram"
           }
          ],
          "scattergl": [
           {
            "marker": {
             "line": {
              "color": "#283442"
             }
            },
            "type": "scattergl"
           }
          ],
          "scatter3d": [
           {
            "type": "scatter3d",
            "line": {
             "colorbar": {
              "outlinewidth": 0,
              "ticks": ""
             }
            },
            "marker": {
             "colorbar": {
              "outlinewidth": 0,
              "ticks": ""
             }
            }
           }
          ],
          "scattermapbox": [
           {
            "type": "scattermapbox",
            "marker": {
             "colorbar": {
              "outlinewidth": 0,
              "ticks": ""
             }
            }
           }
          ],
          "scatterternary": [
           {
            "type": "scatterternary",
            "marker": {
             "colorbar": {
              "outlinewidth": 0,
              "ticks": ""
             }
            }
           }
          ],
          "scattercarpet": [
           {
            "type": "scattercarpet",
            "marker": {
             "colorbar": {
              "outlinewidth": 0,
              "ticks": ""
             }
            }
           }
          ],
          "carpet": [
           {
            "aaxis": {
             "endlinecolor": "#A2B1C6",
             "gridcolor": "#506784",
             "linecolor": "#506784",
             "minorgridcolor": "#506784",
             "startlinecolor": "#A2B1C6"
            },
            "baxis": {
             "endlinecolor": "#A2B1C6",
             "gridcolor": "#506784",
             "linecolor": "#506784",
             "minorgridcolor": "#506784",
             "startlinecolor": "#A2B1C6"
            },
            "type": "carpet"
           }
          ],
          "table": [
           {
            "cells": {
             "fill": {
              "color": "#506784"
             },
             "line": {
              "color": "rgb(17,17,17)"
             }
            },
            "header": {
             "fill": {
              "color": "#2a3f5f"
             },
             "line": {
              "color": "rgb(17,17,17)"
             }
            },
            "type": "table"
           }
          ],
          "barpolar": [
           {
            "marker": {
             "line": {
              "color": "rgb(17,17,17)",
              "width": 0.5
             },
             "pattern": {
              "fillmode": "overlay",
              "size": 10,
              "solidity": 0.2
             }
            },
            "type": "barpolar"
           }
          ],
          "pie": [
           {
            "automargin": true,
            "type": "pie"
           }
          ]
         },
         "layout": {
          "autotypenumbers": "strict",
          "colorway": [
           "#636efa",
           "#EF553B",
           "#00cc96",
           "#ab63fa",
           "#FFA15A",
           "#19d3f3",
           "#FF6692",
           "#B6E880",
           "#FF97FF",
           "#FECB52"
          ],
          "font": {
           "color": "#f2f5fa"
          },
          "hovermode": "closest",
          "hoverlabel": {
           "align": "left"
          },
          "paper_bgcolor": "rgb(17,17,17)",
          "plot_bgcolor": "rgb(17,17,17)",
          "polar": {
           "bgcolor": "rgb(17,17,17)",
           "angularaxis": {
            "gridcolor": "#506784",
            "linecolor": "#506784",
            "ticks": ""
           },
           "radialaxis": {
            "gridcolor": "#506784",
            "linecolor": "#506784",
            "ticks": ""
           }
          },
          "ternary": {
           "bgcolor": "rgb(17,17,17)",
           "aaxis": {
            "gridcolor": "#506784",
            "linecolor": "#506784",
            "ticks": ""
           },
           "baxis": {
            "gridcolor": "#506784",
            "linecolor": "#506784",
            "ticks": ""
           },
           "caxis": {
            "gridcolor": "#506784",
            "linecolor": "#506784",
            "ticks": ""
           }
          },
          "coloraxis": {
           "colorbar": {
            "outlinewidth": 0,
            "ticks": ""
           }
          },
          "colorscale": {
           "sequential": [
            [
             0.0,
             "#0d0887"
            ],
            [
             0.1111111111111111,
             "#46039f"
            ],
            [
             0.2222222222222222,
             "#7201a8"
            ],
            [
             0.3333333333333333,
             "#9c179e"
            ],
            [
             0.4444444444444444,
             "#bd3786"
            ],
            [
             0.5555555555555556,
             "#d8576b"
            ],
            [
             0.6666666666666666,
             "#ed7953"
            ],
            [
             0.7777777777777778,
             "#fb9f3a"
            ],
            [
             0.8888888888888888,
             "#fdca26"
            ],
            [
             1.0,
             "#f0f921"
            ]
           ],
           "sequentialminus": [
            [
             0.0,
             "#0d0887"
            ],
            [
             0.1111111111111111,
             "#46039f"
            ],
            [
             0.2222222222222222,
             "#7201a8"
            ],
            [
             0.3333333333333333,
             "#9c179e"
            ],
            [
             0.4444444444444444,
             "#bd3786"
            ],
            [
             0.5555555555555556,
             "#d8576b"
            ],
            [
             0.6666666666666666,
             "#ed7953"
            ],
            [
             0.7777777777777778,
             "#fb9f3a"
            ],
            [
             0.8888888888888888,
             "#fdca26"
            ],
            [
             1.0,
             "#f0f921"
            ]
           ],
           "diverging": [
            [
             0,
             "#8e0152"
            ],
            [
             0.1,
             "#c51b7d"
            ],
            [
             0.2,
             "#de77ae"
            ],
            [
             0.3,
             "#f1b6da"
            ],
            [
             0.4,
             "#fde0ef"
            ],
            [
             0.5,
             "#f7f7f7"
            ],
            [
             0.6,
             "#e6f5d0"
            ],
            [
             0.7,
             "#b8e186"
            ],
            [
             0.8,
             "#7fbc41"
            ],
            [
             0.9,
             "#4d9221"
            ],
            [
             1,
             "#276419"
            ]
           ]
          },
          "xaxis": {
           "gridcolor": "#283442",
           "linecolor": "#506784",
           "ticks": "",
           "title": {
            "standoff": 15
           },
           "zerolinecolor": "#283442",
           "automargin": true,
           "zerolinewidth": 2
          },
          "yaxis": {
           "gridcolor": "#283442",
           "linecolor": "#506784",
           "ticks": "",
           "title": {
            "standoff": 15
           },
           "zerolinecolor": "#283442",
           "automargin": true,
           "zerolinewidth": 2
          },
          "scene": {
           "xaxis": {
            "backgroundcolor": "rgb(17,17,17)",
            "gridcolor": "#506784",
            "linecolor": "#506784",
            "showbackground": true,
            "ticks": "",
            "zerolinecolor": "#C8D4E3",
            "gridwidth": 2
           },
           "yaxis": {
            "backgroundcolor": "rgb(17,17,17)",
            "gridcolor": "#506784",
            "linecolor": "#506784",
            "showbackground": true,
            "ticks": "",
            "zerolinecolor": "#C8D4E3",
            "gridwidth": 2
           },
           "zaxis": {
            "backgroundcolor": "rgb(17,17,17)",
            "gridcolor": "#506784",
            "linecolor": "#506784",
            "showbackground": true,
            "ticks": "",
            "zerolinecolor": "#C8D4E3",
            "gridwidth": 2
           }
          },
          "shapedefaults": {
           "line": {
            "color": "#f2f5fa"
           }
          },
          "annotationdefaults": {
           "arrowcolor": "#f2f5fa",
           "arrowhead": 0,
           "arrowwidth": 1
          },
          "geo": {
           "bgcolor": "rgb(17,17,17)",
           "landcolor": "rgb(17,17,17)",
           "subunitcolor": "#506784",
           "showland": true,
           "showlakes": true,
           "lakecolor": "rgb(17,17,17)"
          },
          "title": {
           "x": 0.05
          },
          "updatemenudefaults": {
           "bgcolor": "#506784",
           "borderwidth": 0
          },
          "sliderdefaults": {
           "bgcolor": "#C8D4E3",
           "borderwidth": 1,
           "bordercolor": "rgb(17,17,17)",
           "tickwidth": 0
          },
          "mapbox": {
           "style": "dark"
          }
         }
        },
        "title": {
         "text": "Residual Plots versus predicted values",
         "x": 0.5
        },
        "width": 600,
        "height": 400,
        "xaxis": {
         "title": {
          "text": "predicted values"
         }
        },
        "yaxis": {
         "title": {
          "text": "residuals"
         }
        }
       },
       "config": {
        "plotlyServerURL": "https://plot.ly"
       }
      },
      "text/html": [
       "<div>                            <div id=\"6db78653-1ec5-47e1-b4dc-9c1999e0a136\" class=\"plotly-graph-div\" style=\"height:400px; width:600px;\"></div>            <script type=\"text/javascript\">                require([\"plotly\"], function(Plotly) {                    window.PLOTLYENV=window.PLOTLYENV || {};                                    if (document.getElementById(\"6db78653-1ec5-47e1-b4dc-9c1999e0a136\")) {                    Plotly.newPlot(                        \"6db78653-1ec5-47e1-b4dc-9c1999e0a136\",                        [{\"mode\":\"markers\",\"name\":\"Training Data\",\"x\":[21.0825240533399,19.414158024677402,13.263549378816013,29.394327061744193,23.679062145993466,24.94146565371819,21.0166780190656,25.66317936850361,43.985404072199714,30.15877224719138,26.843181483185823,16.32207643258056,19.59485329348398,21.164327421277548,24.537995309787952,10.99883696031361,16.240445928401293,23.649652736883013,21.009168372354484,19.93262036116115,16.060134891491725,29.996799114418625,19.70370450753799,23.165869079410044,28.691809841720993,20.10757979084877,47.6078647345362,21.380845474783946,18.950488196637735,23.17236622343156,16.469646944442015,30.76164864267012,12.993799985884037,19.855109725882894,20.862719451445287,34.591543297649565,21.276329034196003,21.046615395058776,20.368956062483782,15.305954169921318,20.897176337960207,20.292975822497628,20.61529785343425,19.316357924615005,37.301369437346175,21.274465706536596,45.51930616800567,45.46671954692162,16.404377387298812,15.878185444180332,22.925343663664297,16.46058264722385,20.152440938070455,27.296306539719104,29.298476742454035,21.64920459530499,19.82871513852824,18.690527990511384,21.362891465848314,19.256215657537386,30.397031127709155,20.23468291075995,20.231832602928563,24.52107636735703,16.597278283936795,14.377366069521457,23.476725980164126,21.746961511118176,20.979250534020483,19.079482779925165,19.204218659216217,20.280106154725903,22.33483709605613,31.906146450859506,27.321958517208234,11.228586375345957,18.686947707952026,32.22381517529172,15.14591489066223,16.009143247033787,29.176003700131897,20.959197836510963,11.962036653641304,23.741638610022626,20.430519246513608,43.48131215141627,47.672541795130385,21.019960647129366,19.753451147729052,9.627612428936423,20.38515677930727,47.924893688631606,20.304967611289772,31.653259827606867,21.609781184757693,20.00910788446718,28.83832152309531,11.8337871506618,16.347641740105637,14.26296523588062,32.66108307561976,19.392885267676967,10.222388420992509,28.31047487048282,15.652487858043143,20.242014504778968,26.834843673934127,30.48736346342149,20.362631793303112,26.9922453566752,8.751999560731884,18.36869511760819,29.879259767581697,22.62048927665574,44.32670357372231,26.010621791389728,16.067938948120187,21.515793150636007,30.28723115119768,16.095143825824326,26.72487251383718,17.216794068820885,26.58710355175956,25.353451619299,23.83352215313645,21.576429015310854,20.627683487255265,18.473607071718384,8.063565050417186,18.64082705281735,20.189441030753738,20.780915317697605,21.344354437181195,12.780197867454918,22.432941930194126,16.946771607871657,15.24889274655914,31.730390793061986,9.36080697668724,10.541059233716876,25.813793372241555,20.301506745055,23.540228598549444,12.069185671204616,33.15197142951104,20.955926843569774,27.50852420597973,9.085753067808206,17.16328086755185,8.644252346781789,20.529999128527827,15.640173447794258,21.138681517710662,26.009682485094636,8.250245957801505,20.10820436468711,27.003044189772506,19.799580845466913,20.92526575189042,32.252329446065765,23.952177452063506,21.44038433959565,15.794594151418076,25.713689509973186,19.861708949906287,22.83378003231589,20.988518591599117,32.611235230877185,18.76065966845433,16.91131440677388,21.911741527838306,21.155381713753698,15.839712924309403,31.877716404533448,20.854402699830377,20.5240614514606,15.731861755773316,14.016434891589792,14.395349196575625,31.79915043306577,25.497746955018847,24.227600291358392,16.365753456275062,9.73646917332226,12.52618621931931,12.198947971371409,25.971624815313426,40.13018559682373,20.960311212168985,24.724157981771928,19.61398485769067,12.304134360694382,19.255526091184958,9.3489319186353,19.770973019065394,21.20344822365301,20.601859916633586,29.259139428954757,31.610802098109993,23.17215237593702,20.43582938783095,34.63592722769554,8.08631047474531,21.21060930943367,20.130107431595516,26.92111024044505,19.836156118291843,30.852313929387794,21.454403848593515,45.34367873244178,20.258299270633692,21.341181504473038,30.8231265220454,14.433843119751575,14.578617014529605,44.38854455310764,19.3171224524325,20.693550714314743,19.940982935159145,17.602715413695634,20.916534437721676,21.699960488664768,19.403371711848305,24.367049457908838,32.07197522374027,24.779190411024604,9.368881088838737,20.35871474726889,20.83871781374395,17.52268552956756,15.22203708016307,11.245874341297112,21.281901393504512,22.55723401256836,32.63368103790164,20.99012254705321,29.470560788583853,19.5317521803722,14.556771495744046,10.0924309655206,33.118378821269246,25.006914630955393,44.007394458238466,41.7957626050557,20.25279972190212,30.772484233262144,23.75495053116984,46.837026576457376,23.666812280846628,29.356005288954748,19.576370933159414,16.02750934452716,23.67685860487238,32.00779932429746,23.678572210494078,27.179040787301464,24.55086001039844,12.65106243411049,21.82611543111039,25.788049750056746,14.328627457857884,13.981730622169312,27.234914250937027,23.13372525961586,16.56386994260848,49.13960905315017,23.141706579659743,18.47177844717997,16.88763241669258,15.830841762198345,11.255026909918985,32.310448480219605,16.138635183343897,47.996996326154914,21.869194002068518,20.05018926291081,20.12013685762669,17.166687029098608,45.688928910792555,17.453494427485296,41.797881879670044,19.277179323743823,16.161375460210774,33.11740108395275,30.771677972499972,21.06650336963098,20.352796280391043,44.779867377315966,18.847185892166586,20.824877526474257,27.153699296628822,18.354829051271434,20.689097317544654,23.355221993547225,45.81689909629713,33.223760636074154,20.472464903378714,20.003754817641788,7.998664849811417,8.811104583290643,20.208543102239503,14.71297129692023,20.884851936166253,17.527201460965998,18.875564200750894,18.1974505462142,21.00553920771375,33.20686992172129,18.195103028130525,18.719729616824324,9.077385379897507,22.83118455526717,22.576532961083142,16.55956777624827,19.927640429618133,20.773268103791146,20.307493035571618,20.232919519154535,14.200165644877911,20.98761167342619,21.703140682921582,20.788794326807146,20.197361003005888,22.65108252909208,20.200861292059265,20.7966789640704,7.700050338022719,16.1117335704289,15.627267272281774,31.357362015379582,15.118672213499426,17.578132373954162,12.384524116726672,20.075964495615363,22.772935561464386,31.564168087534174,28.75397173098181,32.94641750644788,15.485764376742607,32.42246029404621,20.89111752314518,16.134475589285056,15.716112729294885,14.282745891051192,15.096705306769952,21.38395018797754,17.84983266909583,47.68987943540243,16.209101678283524,21.261628005532398,22.950357762529766,14.664806341169314,21.080066342869628,21.397880458634457],\"y\":[0.6825240533399004,3.414158024677402,-0.03645062118398812,-1.4056729382558082,-3.8209378540065337,0.5414656537181912,-3.3833219809343973,0.563179368503608,0.18540407219971655,8.25877224719138,0.643181483185824,2.1220764325805597,-1.2051467065160217,1.0643274212775466,1.4379953097879508,-2.101163039686389,0.040445928401293685,-1.1503472631169878,0.8091683723544847,-2.567379638838851,1.2601348914917239,1.2967991144186257,-0.3962954924620128,-0.23413092058995488,-3.3081901582790074,1.0075797908487694,-2.3921352654638,0.4808454747839477,-2.749511803362264,1.1723662234315597,-0.730353055557984,0.46164864267012007,0.693799985884036,-1.5448902741171047,0.3627194514452867,-0.6084567023504377,1.6763290341960015,-0.953384604941224,-1.3310439375162169,1.205954169921318,-0.20282366203979407,5.2929758224976275,8.71529785343425,-0.683642075384995,-3.9986305626538226,2.5744657065365963,-4.48069383199433,-4.533280453078383,-1.9956226127011867,-2.0218145558196667,-5.174656336335705,0.3605826472238469,2.952440938070456,-1.303693460280897,5.698476742454034,1.2492045953049917,0.2287151385282371,-0.10947200948861635,-1.2371085341516874,1.5562156575373862,-0.10296887229084462,2.034682910759951,-0.36816739707143853,0.12107636735703053,-0.7027217160632055,1.0773660695214566,0.6767259801641252,1.246961511118176,-0.22074946597951595,0.27948277992516424,0.30421865921621816,2.080106154725904,-0.765162903943871,-0.793853549140497,3.321958517208234,1.0285863753459576,-0.8130522920479741,-0.8761848247082824,1.7459148906622293,0.8091432470337878,4.376003700131896,-3.3408021634890375,2.462036653641304,-0.4583613899773731,1.930519246513608,-0.5186878485837312,-2.3274582048696146,-3.680039352870633,-1.7465488522709478,1.227612428936423,-1.414843220692731,-2.075106311368394,-3.4950323887102286,-0.7467401723931317,-2.790218815242305,2.409107884467179,-0.9616784769046909,2.233787150661801,-0.35235825989436265,0.46296523588061866,0.6610830756197572,3.292885267676965,1.9223884209925082,1.7104748704828197,1.3524878580431423,5.242014504778968,-1.5651563260658712,-1.7126365365785112,3.262631793303111,-2.4077546433248003,-1.6480004392681167,1.5686951176081898,-1.620740232418303,-4.879510723344261,-2.3732964262776903,-1.4893782086102725,-1.1320610518798127,-1.8842068493639914,-1.312768848802321,2.2951438258243257,4.72487251383718,0.21679406882088514,1.7871035517595608,1.0534516192990004,-1.3664778468635497,0.3764290153108547,0.027683487255263373,-0.22639292828161572,2.463565050417186,-0.6591729471826504,0.38944103075373704,-1.5190846823023954,1.0443544371811946,0.7801978674549179,-1.4670580698058728,0.44677160787165704,2.04889274655914,-1.469609206938017,-1.1391930233127603,3.041059233716876,-1.6862066277584447,1.901506745055002,0.3402285985494444,-1.7308143287953843,-2.2480285704889553,-2.044073156430226,2.508524205979729,1.8857530678082055,2.7632808675518508,-0.15574765321821182,-2.1700008714721726,2.540173447794258,2.2386815177106634,1.0096824850946362,-0.24975404219849473,4.00820436468711,-1.9969558102274938,-3.3004191545330883,1.6252657518904208,-0.8476705539342362,-0.6478225479364959,-1.5596156604043507,0.594594151418077,-1.3863104900268155,0.2617089499062857,-1.6662199676841105,0.6885185915991165,-2.288764769122814,1.660659668454329,1.3113144067738798,-4.488258472161693,-1.4446182862463033,0.23971292430940316,2.877716404533448,-0.3455973001696222,-1.8759385485393985,2.2318617557733162,2.316434891589793,-2.704650803424377,0.09915043306576976,-3.202253044981152,-0.47239970864160696,-2.634246543724938,2.536469173322259,-1.2738137806806904,-0.6010520286285921,-10.228375184686577,1.4301855968237263,2.4603112121689854,-4.375842018228074,-0.7860151423093278,1.0041343606943816,1.8555260911849594,0.6489319186353004,0.8709730190653957,-1.9965517763469904,-1.5981400833664132,0.15913942895475586,-2.989197901890009,-1.8278476240629793,-2.7641706121690497,-3.264072772304459,1.0863104747453107,3.010609309433672,0.8301074315955148,0.22111024044505,0.6361561182918436,0.7523139293877925,0.8544038485935133,-4.656321267558219,1.5582992706336931,0.7411815044730368,-0.27687347795460227,0.4338431197515753,-3.2213829854703953,2.0885445531076456,4.017122452432499,2.1935507143147426,-1.4590170648408538,2.602715413695634,0.2165344377216769,0.29996048866476954,-2.2966282881516946,2.3670494579088377,0.4719752237402659,2.7791904110246044,-0.831118911161262,-2.2412852527311102,0.8387178137439513,-0.2773144704324402,1.6220370801630697,-0.5541256587028887,1.8819013935045135,1.1572340125683631,-0.26631896209836015,0.1901225470532104,-1.5294392114161468,2.0317521803722016,-0.8432285042559542,-0.7075690344794001,-1.5816211787307566,0.006914630955392909,-4.792605541761532,-1.0042373949442975,0.7527997219021216,0.6724842332621428,1.5549505311698404,-3.162973423542624,0.5668122808466265,-3.143994711045252,-0.023629066840587853,1.1275093445271605,-2.7231413951276195,-4.9922006757025414,-0.4214277895059233,2.6790407873014637,0.8508600103984421,5.651062434110489,-0.37388456888960775,2.488049750056746,-1.2713725421421156,0.5817306221693119,-3.465085749062972,0.8337252596158606,-0.836130057391518,-0.860390946849833,0.24170657965974485,-1.2282215528200275,1.2876324166925794,-1.9691582378016559,0.3550269099189851,-2.789551519780396,0.43863518334389795,-2.003003673845086,-0.9308059979314827,0.15018926291081058,0.02013685762668871,-2.233312970901391,-0.3110710892074451,-5.746505572514703,4.197881879670042,-3.8228206762561783,2.2613754602107736,-0.18259891604724743,-2.2283220275000275,1.1665033696309806,0.05279628039104267,-5.220132622684034,-0.552814107833413,1.324877526474257,4.353699296628822,1.7548290512714324,0.689097317544654,-1.3447780064527741,0.4168990962971293,-0.17623936392584483,-0.9275350966212841,0.6037548176417893,2.9986648498114166,1.4111045832906424,0.10854310223950137,2.012971296920231,0.5848519361662525,3.427201460965998,0.5755642007508932,-1.7025494537857995,-2.2944607922862517,-3.2931300782787076,-1.804896971869475,0.9197296168243234,0.2773853798975061,1.2311845552671699,0.9765329610831408,1.3595677762482694,0.1276404296181326,-0.2267318962088538,-6.792506964428384,3.4329195191545345,-0.19983435512208914,-1.5123883265738094,3.1031406829215804,0.6887943268071446,0.5973610030058865,-2.348917470907921,2.800861292059267,1.0966789640703993,2.700050338022719,-0.18826642957110096,2.527267272281774,1.7573620153795808,2.0186722134994266,-1.5218676260458395,0.2845241167266721,-1.6240355043846364,0.8729355614643879,-1.6358319124658287,-1.1460282690181884,-2.453582493552119,0.3857643767426069,0.9224602940462105,-0.8088824768548193,-0.26552441071494215,1.416112729294884,2.4827458910511915,0.9967053067699521,0.28395018797753835,-0.5501673309041699,-0.8101205645975682,2.4091016782835233,0.36162800553239904,0.15035776252976518,2.1648063411693137,-2.919933657130372,0.3978804586344573],\"type\":\"scatter\"},{\"mode\":\"markers\",\"name\":\"Test Data\",\"x\":[28.885559875727612,27.483879837795673,19.31479412127963,21.393135250024525,20.085098295202034,20.420215565296655,28.269919233737973,19.829323827967855,19.336509058836867,23.192976546482303,26.58069841121013,31.554415193509605,20.589575590569034,20.985048993566163,20.508901097988943,25.22882035190054,11.582422621329089,41.196588845286456,23.593828591159408,14.355848281268512,20.722177120278943,16.394443464398336,24.805150275004515,23.870332548903793,26.299069969595788,9.52296097962952,15.065148511726566,20.71430126989399,37.854286841215504,13.098068896262753,27.204602840509967,19.692059501259138,46.89933900181259,15.410740859804585,22.726644350619242,20.402426368953957,15.494322126503565,31.86365893161551,12.38023786633464,19.080547216458804,23.75349357070861,23.555438032391347,25.74458125694011,15.669193151407477,15.756848097931694,11.912448893761919,48.100921495707595,13.13203803135298,21.298372172659345,19.934909238001147,23.505932928710937,21.28070725916289,24.712326632588184,20.733563822816436,12.753418688650738,23.841429929584045,12.07800835046446,23.39753348115923,19.57436835878018,42.17824927642684,15.124499562028152,26.95001442067111,14.315224472501711,16.30217641600993,17.767753536759976,32.477788340098364,42.143432288267306,25.024039230441822,21.046866365484767,20.522367230408793,23.79786276413806,8.152829190962668,19.05598780488756,22.324510311553585,20.073634715879106,20.587139129744052,44.60505916396615,23.433630424163304,26.454128621078564,32.99013820056985,17.415779062912407,20.84315094287782,31.854269024564424,11.340782669624646,24.703550989991555,25.875137324092076,14.95029739190659,25.023501733221178,20.392816764530167,16.831447980549704,29.52442318070127,42.809797350641375,16.279901644466268,20.696066057576758,16.538581253613792,20.52279782258173,23.85677136162017,23.014812404541335,43.20154998800991,20.53878953888312,17.40530692513253,14.554815910380887,23.951507100628668,23.44095736493686,9.176925794733258,20.749673552042438,16.882267189601137,27.688746906791298,22.443189101404663,26.393729270578106,46.6041012432327,22.91461191815053,13.757127596343807,31.663864626692497,33.67765167219586,33.90560100540157,21.037315554157377,19.894206390221242,33.315898069469426,38.76953952387551,21.166455679463876,14.137905192193458,30.52273256949679,19.610120829541533,24.98247145554067,20.449420121891947,21.823097152554972,21.00861762167863,20.231661253688944,27.974140109082136,20.762649927974923,21.443393611141303,23.95318844927291,10.542881241714626,26.172400751214173,31.139148214926017,14.637124568209368,15.553275930333603,35.54302469466752,15.688930948403792,22.72859516660872,15.680463000885487,18.25739039046303,24.553116252727676,32.35725569117226,21.613709285965882,23.718446621807345,15.789833772020922,27.105022600457172,18.703975393910643,30.378866810384075,16.222431361433564],\"y\":[0.6855598757276127,3.583879837795674,2.7147941212796276,-0.6068647499754753,-0.7149017047979669,-2.5797844347033454,0.3699192337379742,5.329323827967855,-2.1634909411631327,0.5929765464823014,2.8806984112101297,0.35441519350960604,1.289575590569033,1.585048993566165,1.1089010979889444,-2.671179648099457,-2.3175773786709115,-8.803411154713544,-0.5061714088405935,-0.24415171873148722,4.522177120278943,0.794443464398336,1.0051502750045138,-1.129667451096207,2.799069969595788,1.2229609796295193,1.5651485117265658,3.2143012698939906,-5.245713158784497,1.5980688962627525,3.1046028405099655,1.1920595012591377,-3.100660998187408,2.8107408598045858,2.9266443506192417,-4.097573631046043,0.594322126503565,-4.336341068384492,0.4802378663346403,-0.019452783541197505,1.1534935707086085,2.8554380323913477,-4.355418743059893,2.369193151407476,1.1568480979316949,3.5124488937619187,-1.8990785042924045,0.432038031352981,-3.701627827340655,1.3349092380011456,-6.294067071289064,-0.9192927408371077,-3.9876733674118157,-3.066436177183565,4.6534186886507385,1.6414299295840458,5.77800835046446,1.2975334811592276,2.0743683587801804,-6.121750723573157,-1.5755004379718471,0.35001442067110844,5.815224472501711,1.8021764160099316,-5.932246463240023,-4.722211659901639,0.44343228826730297,8.524039230441822,-0.6531336345152319,-2.177632769591206,0.7978627641380598,-2.3471708090373316,-2.8440121951124375,1.3245103115535848,-0.32636528412089305,-1.2128608702559482,-5.394940836033847,1.4336304241633044,3.154128621078563,-4.309861799430145,-0.5842209370875935,1.6431509428778206,-3.045730975435575,-2.059217330375354,1.8035509899915567,3.3751373240920763,1.9502973919065898,0.4235017332211761,2.0928167645301663,-1.268552019450297,5.624423180701271,-7.190202649358625,2.679901644466268,-2.203933942423241,5.638581253613792,1.622797822581731,1.45677136162017,0.11481240454133612,-1.5984500119900886,-1.1612104611168803,7.205306925132529,-0.8451840896191136,-1.3484928993713332,0.14095736493685962,1.9769257947332575,-0.45032644795756127,5.182267189601138,0.6887469067912981,-7.156810898595339,-0.10627072942189386,3.104101243232698,-0.6853880818494709,2.757127596343807,-1.7361353733075013,-2.322348327804143,-2.494398994598427,2.0373155541573773,-0.3057936097787568,-1.5841019305305721,-11.230460476124492,1.8664556794638756,-0.7620948078065428,3.9227325694967874,-0.289879170458466,0.1824714555406679,-0.7505798781080522,-2.0769028474450266,0.4086176216786299,-2.868338746311057,-0.025859890917864448,0.7626499279749233,-1.6566063888586982,-1.0468115507270888,0.8428812417146272,2.2724007512141746,-4.960851785073984,1.2371245682093672,2.853275930333604,-4.256975305332475,5.288930948403792,2.1285951666087186,-2.119536999114514,-1.24260960953697,0.853116252727677,3.857255691172263,-2.6862907140341186,-0.0815533781926554,-3.31016622797908,-1.2949773995428266,-1.7960246060893574,-3.4211331896159223,1.7224313614335642],\"type\":\"scatter\"}],                        {\"template\":{\"data\":{\"histogram2dcontour\":[{\"type\":\"histogram2dcontour\",\"colorbar\":{\"outlinewidth\":0,\"ticks\":\"\"},\"colorscale\":[[0.0,\"#0d0887\"],[0.1111111111111111,\"#46039f\"],[0.2222222222222222,\"#7201a8\"],[0.3333333333333333,\"#9c179e\"],[0.4444444444444444,\"#bd3786\"],[0.5555555555555556,\"#d8576b\"],[0.6666666666666666,\"#ed7953\"],[0.7777777777777778,\"#fb9f3a\"],[0.8888888888888888,\"#fdca26\"],[1.0,\"#f0f921\"]]}],\"choropleth\":[{\"type\":\"choropleth\",\"colorbar\":{\"outlinewidth\":0,\"ticks\":\"\"}}],\"histogram2d\":[{\"type\":\"histogram2d\",\"colorbar\":{\"outlinewidth\":0,\"ticks\":\"\"},\"colorscale\":[[0.0,\"#0d0887\"],[0.1111111111111111,\"#46039f\"],[0.2222222222222222,\"#7201a8\"],[0.3333333333333333,\"#9c179e\"],[0.4444444444444444,\"#bd3786\"],[0.5555555555555556,\"#d8576b\"],[0.6666666666666666,\"#ed7953\"],[0.7777777777777778,\"#fb9f3a\"],[0.8888888888888888,\"#fdca26\"],[1.0,\"#f0f921\"]]}],\"heatmap\":[{\"type\":\"heatmap\",\"colorbar\":{\"outlinewidth\":0,\"ticks\":\"\"},\"colorscale\":[[0.0,\"#0d0887\"],[0.1111111111111111,\"#46039f\"],[0.2222222222222222,\"#7201a8\"],[0.3333333333333333,\"#9c179e\"],[0.4444444444444444,\"#bd3786\"],[0.5555555555555556,\"#d8576b\"],[0.6666666666666666,\"#ed7953\"],[0.7777777777777778,\"#fb9f3a\"],[0.8888888888888888,\"#fdca26\"],[1.0,\"#f0f921\"]]}],\"heatmapgl\":[{\"type\":\"heatmapgl\",\"colorbar\":{\"outlinewidth\":0,\"ticks\":\"\"},\"colorscale\":[[0.0,\"#0d0887\"],[0.1111111111111111,\"#46039f\"],[0.2222222222222222,\"#7201a8\"],[0.3333333333333333,\"#9c179e\"],[0.4444444444444444,\"#bd3786\"],[0.5555555555555556,\"#d8576b\"],[0.6666666666666666,\"#ed7953\"],[0.7777777777777778,\"#fb9f3a\"],[0.8888888888888888,\"#fdca26\"],[1.0,\"#f0f921\"]]}],\"contourcarpet\":[{\"type\":\"contourcarpet\",\"colorbar\":{\"outlinewidth\":0,\"ticks\":\"\"}}],\"contour\":[{\"type\":\"contour\",\"colorbar\":{\"outlinewidth\":0,\"ticks\":\"\"},\"colorscale\":[[0.0,\"#0d0887\"],[0.1111111111111111,\"#46039f\"],[0.2222222222222222,\"#7201a8\"],[0.3333333333333333,\"#9c179e\"],[0.4444444444444444,\"#bd3786\"],[0.5555555555555556,\"#d8576b\"],[0.6666666666666666,\"#ed7953\"],[0.7777777777777778,\"#fb9f3a\"],[0.8888888888888888,\"#fdca26\"],[1.0,\"#f0f921\"]]}],\"surface\":[{\"type\":\"surface\",\"colorbar\":{\"outlinewidth\":0,\"ticks\":\"\"},\"colorscale\":[[0.0,\"#0d0887\"],[0.1111111111111111,\"#46039f\"],[0.2222222222222222,\"#7201a8\"],[0.3333333333333333,\"#9c179e\"],[0.4444444444444444,\"#bd3786\"],[0.5555555555555556,\"#d8576b\"],[0.6666666666666666,\"#ed7953\"],[0.7777777777777778,\"#fb9f3a\"],[0.8888888888888888,\"#fdca26\"],[1.0,\"#f0f921\"]]}],\"mesh3d\":[{\"type\":\"mesh3d\",\"colorbar\":{\"outlinewidth\":0,\"ticks\":\"\"}}],\"scatter\":[{\"marker\":{\"line\":{\"color\":\"#283442\"}},\"type\":\"scatter\"}],\"parcoords\":[{\"type\":\"parcoords\",\"line\":{\"colorbar\":{\"outlinewidth\":0,\"ticks\":\"\"}}}],\"scatterpolargl\":[{\"type\":\"scatterpolargl\",\"marker\":{\"colorbar\":{\"outlinewidth\":0,\"ticks\":\"\"}}}],\"bar\":[{\"error_x\":{\"color\":\"#f2f5fa\"},\"error_y\":{\"color\":\"#f2f5fa\"},\"marker\":{\"line\":{\"color\":\"rgb(17,17,17)\",\"width\":0.5},\"pattern\":{\"fillmode\":\"overlay\",\"size\":10,\"solidity\":0.2}},\"type\":\"bar\"}],\"scattergeo\":[{\"type\":\"scattergeo\",\"marker\":{\"colorbar\":{\"outlinewidth\":0,\"ticks\":\"\"}}}],\"scatterpolar\":[{\"type\":\"scatterpolar\",\"marker\":{\"colorbar\":{\"outlinewidth\":0,\"ticks\":\"\"}}}],\"histogram\":[{\"marker\":{\"pattern\":{\"fillmode\":\"overlay\",\"size\":10,\"solidity\":0.2}},\"type\":\"histogram\"}],\"scattergl\":[{\"marker\":{\"line\":{\"color\":\"#283442\"}},\"type\":\"scattergl\"}],\"scatter3d\":[{\"type\":\"scatter3d\",\"line\":{\"colorbar\":{\"outlinewidth\":0,\"ticks\":\"\"}},\"marker\":{\"colorbar\":{\"outlinewidth\":0,\"ticks\":\"\"}}}],\"scattermapbox\":[{\"type\":\"scattermapbox\",\"marker\":{\"colorbar\":{\"outlinewidth\":0,\"ticks\":\"\"}}}],\"scatterternary\":[{\"type\":\"scatterternary\",\"marker\":{\"colorbar\":{\"outlinewidth\":0,\"ticks\":\"\"}}}],\"scattercarpet\":[{\"type\":\"scattercarpet\",\"marker\":{\"colorbar\":{\"outlinewidth\":0,\"ticks\":\"\"}}}],\"carpet\":[{\"aaxis\":{\"endlinecolor\":\"#A2B1C6\",\"gridcolor\":\"#506784\",\"linecolor\":\"#506784\",\"minorgridcolor\":\"#506784\",\"startlinecolor\":\"#A2B1C6\"},\"baxis\":{\"endlinecolor\":\"#A2B1C6\",\"gridcolor\":\"#506784\",\"linecolor\":\"#506784\",\"minorgridcolor\":\"#506784\",\"startlinecolor\":\"#A2B1C6\"},\"type\":\"carpet\"}],\"table\":[{\"cells\":{\"fill\":{\"color\":\"#506784\"},\"line\":{\"color\":\"rgb(17,17,17)\"}},\"header\":{\"fill\":{\"color\":\"#2a3f5f\"},\"line\":{\"color\":\"rgb(17,17,17)\"}},\"type\":\"table\"}],\"barpolar\":[{\"marker\":{\"line\":{\"color\":\"rgb(17,17,17)\",\"width\":0.5},\"pattern\":{\"fillmode\":\"overlay\",\"size\":10,\"solidity\":0.2}},\"type\":\"barpolar\"}],\"pie\":[{\"automargin\":true,\"type\":\"pie\"}]},\"layout\":{\"autotypenumbers\":\"strict\",\"colorway\":[\"#636efa\",\"#EF553B\",\"#00cc96\",\"#ab63fa\",\"#FFA15A\",\"#19d3f3\",\"#FF6692\",\"#B6E880\",\"#FF97FF\",\"#FECB52\"],\"font\":{\"color\":\"#f2f5fa\"},\"hovermode\":\"closest\",\"hoverlabel\":{\"align\":\"left\"},\"paper_bgcolor\":\"rgb(17,17,17)\",\"plot_bgcolor\":\"rgb(17,17,17)\",\"polar\":{\"bgcolor\":\"rgb(17,17,17)\",\"angularaxis\":{\"gridcolor\":\"#506784\",\"linecolor\":\"#506784\",\"ticks\":\"\"},\"radialaxis\":{\"gridcolor\":\"#506784\",\"linecolor\":\"#506784\",\"ticks\":\"\"}},\"ternary\":{\"bgcolor\":\"rgb(17,17,17)\",\"aaxis\":{\"gridcolor\":\"#506784\",\"linecolor\":\"#506784\",\"ticks\":\"\"},\"baxis\":{\"gridcolor\":\"#506784\",\"linecolor\":\"#506784\",\"ticks\":\"\"},\"caxis\":{\"gridcolor\":\"#506784\",\"linecolor\":\"#506784\",\"ticks\":\"\"}},\"coloraxis\":{\"colorbar\":{\"outlinewidth\":0,\"ticks\":\"\"}},\"colorscale\":{\"sequential\":[[0.0,\"#0d0887\"],[0.1111111111111111,\"#46039f\"],[0.2222222222222222,\"#7201a8\"],[0.3333333333333333,\"#9c179e\"],[0.4444444444444444,\"#bd3786\"],[0.5555555555555556,\"#d8576b\"],[0.6666666666666666,\"#ed7953\"],[0.7777777777777778,\"#fb9f3a\"],[0.8888888888888888,\"#fdca26\"],[1.0,\"#f0f921\"]],\"sequentialminus\":[[0.0,\"#0d0887\"],[0.1111111111111111,\"#46039f\"],[0.2222222222222222,\"#7201a8\"],[0.3333333333333333,\"#9c179e\"],[0.4444444444444444,\"#bd3786\"],[0.5555555555555556,\"#d8576b\"],[0.6666666666666666,\"#ed7953\"],[0.7777777777777778,\"#fb9f3a\"],[0.8888888888888888,\"#fdca26\"],[1.0,\"#f0f921\"]],\"diverging\":[[0,\"#8e0152\"],[0.1,\"#c51b7d\"],[0.2,\"#de77ae\"],[0.3,\"#f1b6da\"],[0.4,\"#fde0ef\"],[0.5,\"#f7f7f7\"],[0.6,\"#e6f5d0\"],[0.7,\"#b8e186\"],[0.8,\"#7fbc41\"],[0.9,\"#4d9221\"],[1,\"#276419\"]]},\"xaxis\":{\"gridcolor\":\"#283442\",\"linecolor\":\"#506784\",\"ticks\":\"\",\"title\":{\"standoff\":15},\"zerolinecolor\":\"#283442\",\"automargin\":true,\"zerolinewidth\":2},\"yaxis\":{\"gridcolor\":\"#283442\",\"linecolor\":\"#506784\",\"ticks\":\"\",\"title\":{\"standoff\":15},\"zerolinecolor\":\"#283442\",\"automargin\":true,\"zerolinewidth\":2},\"scene\":{\"xaxis\":{\"backgroundcolor\":\"rgb(17,17,17)\",\"gridcolor\":\"#506784\",\"linecolor\":\"#506784\",\"showbackground\":true,\"ticks\":\"\",\"zerolinecolor\":\"#C8D4E3\",\"gridwidth\":2},\"yaxis\":{\"backgroundcolor\":\"rgb(17,17,17)\",\"gridcolor\":\"#506784\",\"linecolor\":\"#506784\",\"showbackground\":true,\"ticks\":\"\",\"zerolinecolor\":\"#C8D4E3\",\"gridwidth\":2},\"zaxis\":{\"backgroundcolor\":\"rgb(17,17,17)\",\"gridcolor\":\"#506784\",\"linecolor\":\"#506784\",\"showbackground\":true,\"ticks\":\"\",\"zerolinecolor\":\"#C8D4E3\",\"gridwidth\":2}},\"shapedefaults\":{\"line\":{\"color\":\"#f2f5fa\"}},\"annotationdefaults\":{\"arrowcolor\":\"#f2f5fa\",\"arrowhead\":0,\"arrowwidth\":1},\"geo\":{\"bgcolor\":\"rgb(17,17,17)\",\"landcolor\":\"rgb(17,17,17)\",\"subunitcolor\":\"#506784\",\"showland\":true,\"showlakes\":true,\"lakecolor\":\"rgb(17,17,17)\"},\"title\":{\"x\":0.05},\"updatemenudefaults\":{\"bgcolor\":\"#506784\",\"borderwidth\":0},\"sliderdefaults\":{\"bgcolor\":\"#C8D4E3\",\"borderwidth\":1,\"bordercolor\":\"rgb(17,17,17)\",\"tickwidth\":0},\"mapbox\":{\"style\":\"dark\"}}},\"title\":{\"text\":\"Residual Plots versus predicted values\",\"x\":0.5},\"width\":600,\"height\":400,\"xaxis\":{\"title\":{\"text\":\"predicted values\"}},\"yaxis\":{\"title\":{\"text\":\"residuals\"}}},                        {\"responsive\": true}                    ).then(function(){\n",
       "                            \n",
       "var gd = document.getElementById('6db78653-1ec5-47e1-b4dc-9c1999e0a136');\n",
       "var x = new MutationObserver(function (mutations, observer) {{\n",
       "        var display = window.getComputedStyle(gd).display;\n",
       "        if (!display || display === 'none') {{\n",
       "            console.log([gd, 'removed!']);\n",
       "            Plotly.purge(gd);\n",
       "            observer.disconnect();\n",
       "        }}\n",
       "}});\n",
       "\n",
       "// Listen for the removal of the full notebook cells\n",
       "var notebookContainer = gd.closest('#notebook-container');\n",
       "if (notebookContainer) {{\n",
       "    x.observe(notebookContainer, {childList: true});\n",
       "}}\n",
       "\n",
       "// Listen for the clearing of the current output cell\n",
       "var outputEl = gd.closest('.output');\n",
       "if (outputEl) {{\n",
       "    x.observe(outputEl, {childList: true});\n",
       "}}\n",
       "\n",
       "                        })                };                });            </script>        </div>"
      ]
     },
     "metadata": {},
     "output_type": "display_data"
    }
   ],
   "execution_count": 49
  }
 ],
 "metadata": {
  "kernelspec": {
   "display_name": "Python 3",
   "language": "python",
   "name": "python3"
  },
  "language_info": {
   "codemirror_mode": {
    "name": "ipython",
    "version": 2
   },
   "file_extension": ".py",
   "mimetype": "text/x-python",
   "name": "python",
   "nbconvert_exporter": "python",
   "pygments_lexer": "ipython2",
   "version": "2.7.6"
  }
 },
 "nbformat": 4,
 "nbformat_minor": 5
}
