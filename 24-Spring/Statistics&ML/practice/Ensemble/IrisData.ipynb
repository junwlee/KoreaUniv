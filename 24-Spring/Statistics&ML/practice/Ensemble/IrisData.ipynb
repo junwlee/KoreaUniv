{
 "cells": [
  {
   "cell_type": "code",
   "id": "initial_id",
   "metadata": {
    "collapsed": true,
    "ExecuteTime": {
     "end_time": "2024-05-25T02:03:39.515102Z",
     "start_time": "2024-05-25T02:03:39.511216Z"
    }
   },
   "source": [
    "import seaborn as sns\n",
    "\n",
    "iris = sns.load_dataset('iris')\n",
    "X = iris.drop('species', axis=1)\n",
    "y = iris['species']\n",
    "\n",
    "# print(y)"
   ],
   "outputs": [],
   "execution_count": 2
  },
  {
   "metadata": {
    "ExecuteTime": {
     "end_time": "2024-05-25T02:03:39.524361Z",
     "start_time": "2024-05-25T02:03:39.522369Z"
    }
   },
   "cell_type": "code",
   "source": [
    "from sklearn.preprocessing import LabelEncoder\n",
    "le = LabelEncoder()\n",
    "y = le.fit_transform(y)\n",
    "\n",
    "# print(y)"
   ],
   "id": "aeb4fb62b614f115",
   "outputs": [],
   "execution_count": 3
  },
  {
   "metadata": {
    "ExecuteTime": {
     "end_time": "2024-05-25T02:03:39.528262Z",
     "start_time": "2024-05-25T02:03:39.525338Z"
    }
   },
   "cell_type": "code",
   "source": [
    "from sklearn.model_selection import train_test_split\n",
    "X_train, X_test, y_train, y_test = train_test_split(\n",
    "    X, y,\n",
    "    test_size=0.3,\n",
    "    random_state=1,\n",
    "    stratify=y\n",
    ")"
   ],
   "id": "b1167cdbfce9be03",
   "outputs": [],
   "execution_count": 4
  },
  {
   "metadata": {
    "ExecuteTime": {
     "end_time": "2024-05-25T02:03:39.585078Z",
     "start_time": "2024-05-25T02:03:39.528807Z"
    }
   },
   "cell_type": "code",
   "source": [
    "from sklearn.ensemble import RandomForestClassifier, VotingClassifier\n",
    "from sklearn.linear_model import LogisticRegression\n",
    "from sklearn.svm import SVC\n",
    "\n",
    "lr = LogisticRegression()\n",
    "rf_clf = RandomForestClassifier()\n",
    "svc = SVC()\n",
    "voting_clf = VotingClassifier(\n",
    "    estimators=[('lr', lr), ('rf', rf_clf), ('svc', svc)],\n",
    "    voting='hard'\n",
    ")"
   ],
   "id": "5769aa21f0e8508d",
   "outputs": [],
   "execution_count": 5
  },
  {
   "metadata": {
    "ExecuteTime": {
     "end_time": "2024-05-25T02:03:39.687364Z",
     "start_time": "2024-05-25T02:03:39.586351Z"
    }
   },
   "cell_type": "code",
   "source": [
    "from sklearn.metrics import classification_report\n",
    "\n",
    "for clf in (lr, rf_clf, svc, voting_clf):\n",
    "    clf.fit(X_train, y_train)\n",
    "    y_pred = clf.predict(X_test)\n",
    "    print(classification_report(y_test, y_pred, target_names=le.classes_))"
   ],
   "id": "42027cc068ff274c",
   "outputs": [
    {
     "name": "stdout",
     "output_type": "stream",
     "text": [
      "              precision    recall  f1-score   support\n",
      "\n",
      "      setosa       1.00      1.00      1.00        15\n",
      "  versicolor       0.94      1.00      0.97        15\n",
      "   virginica       1.00      0.93      0.97        15\n",
      "\n",
      "    accuracy                           0.98        45\n",
      "   macro avg       0.98      0.98      0.98        45\n",
      "weighted avg       0.98      0.98      0.98        45\n",
      "\n",
      "              precision    recall  f1-score   support\n",
      "\n",
      "      setosa       1.00      1.00      1.00        15\n",
      "  versicolor       0.94      1.00      0.97        15\n",
      "   virginica       1.00      0.93      0.97        15\n",
      "\n",
      "    accuracy                           0.98        45\n",
      "   macro avg       0.98      0.98      0.98        45\n",
      "weighted avg       0.98      0.98      0.98        45\n",
      "\n",
      "              precision    recall  f1-score   support\n",
      "\n",
      "      setosa       1.00      1.00      1.00        15\n",
      "  versicolor       0.94      1.00      0.97        15\n",
      "   virginica       1.00      0.93      0.97        15\n",
      "\n",
      "    accuracy                           0.98        45\n",
      "   macro avg       0.98      0.98      0.98        45\n",
      "weighted avg       0.98      0.98      0.98        45\n",
      "\n",
      "              precision    recall  f1-score   support\n",
      "\n",
      "      setosa       1.00      1.00      1.00        15\n",
      "  versicolor       0.94      1.00      0.97        15\n",
      "   virginica       1.00      0.93      0.97        15\n",
      "\n",
      "    accuracy                           0.98        45\n",
      "   macro avg       0.98      0.98      0.98        45\n",
      "weighted avg       0.98      0.98      0.98        45\n",
      "\n"
     ]
    }
   ],
   "execution_count": 6
  },
  {
   "metadata": {
    "ExecuteTime": {
     "end_time": "2024-05-25T02:03:40.643848Z",
     "start_time": "2024-05-25T02:03:39.687929Z"
    }
   },
   "cell_type": "code",
   "source": [
    "from sklearn.ensemble import BaggingClassifier\n",
    "from sklearn.tree import DecisionTreeClassifier\n",
    "from sklearn.metrics import accuracy_score\n",
    "\n",
    "bg_clf = BaggingClassifier(\n",
    "    DecisionTreeClassifier(),\n",
    "    n_estimators=500,\n",
    "    max_samples=0.6,\n",
    "    bootstrap=True,\n",
    "    oob_score=True,\n",
    "    n_jobs=-1\n",
    ")\n",
    "bg_clf.fit(X_train, y_train)\n",
    "y_pred = bg_clf.predict(X_test)\n",
    "\n",
    "print(f'accuracy_score: {accuracy_score(y_test, y_pred)}')\n",
    "print(f'oob_score: {bg_clf.oob_score_}')"
   ],
   "id": "6d25ff1f9ddb1487",
   "outputs": [
    {
     "name": "stdout",
     "output_type": "stream",
     "text": [
      "accuracy_score: 0.9777777777777777\n",
      "oob_score: 0.9428571428571428\n"
     ]
    }
   ],
   "execution_count": 7
  },
  {
   "metadata": {},
   "cell_type": "markdown",
   "source": "# AdaBoost",
   "id": "f977d4115e0dc86c"
  },
  {
   "metadata": {
    "ExecuteTime": {
     "end_time": "2024-05-25T02:03:40.885258Z",
     "start_time": "2024-05-25T02:03:40.644725Z"
    }
   },
   "cell_type": "code",
   "source": [
    "from sklearn.ensemble import AdaBoostClassifier\n",
    "\n",
    "ada_clf = AdaBoostClassifier(\n",
    "    DecisionTreeClassifier(max_depth=2),\n",
    "    n_estimators=500,\n",
    "    algorithm='SAMME',\n",
    "    random_state=1\n",
    ")\n",
    "\n",
    "ada_clf.fit(X_train, y_train)\n",
    "y_train_pred = ada_clf.predict(X_train)\n",
    "y_test_pred = ada_clf.predict(X_test)\n",
    "\n",
    "ada_train = accuracy_score(y_train, y_train_pred)\n",
    "ada_test = accuracy_score(y_test, y_test_pred)\n",
    "\n",
    "print(\"AdaBoost train/test accuracies %0.3f / %0.4f\"%(ada_train, ada_test))"
   ],
   "id": "83f6fe0a81cd837f",
   "outputs": [
    {
     "name": "stdout",
     "output_type": "stream",
     "text": [
      "AdaBoost train/test accuracies 1.000 / 0.9778\n"
     ]
    }
   ],
   "execution_count": 8
  },
  {
   "metadata": {},
   "cell_type": "markdown",
   "source": "# Gradient Boost",
   "id": "13ed9f3cf2b8e0b4"
  },
  {
   "metadata": {
    "ExecuteTime": {
     "end_time": "2024-05-25T02:03:41.189693Z",
     "start_time": "2024-05-25T02:03:40.885971Z"
    }
   },
   "cell_type": "code",
   "source": [
    "from sklearn.ensemble import GradientBoostingClassifier\n",
    "import numpy as np\n",
    "\n",
    "gb_clf = GradientBoostingClassifier(\n",
    "    learning_rate=0.099,\n",
    "    n_estimators=500,\n",
    "    max_depth=2\n",
    ")\n",
    "gb_clf.fit(X_train, y_train)\n",
    "\n",
    "accuracies = [accuracy_score(y_test, y_pred) for y_pred in gb_clf.staged_predict(X_test)] # 매 stage마다 정밀도 산출\n",
    "best_n_estimator = np.argmax(accuracies)\n",
    "\n",
    "print(f\"Best n_estimator: {best_n_estimator}\")\n",
    "\n",
    "gb_best = GradientBoostingClassifier(\n",
    "    learning_rate=0.099,\n",
    "    n_estimators=best_n_estimator,\n",
    "    max_depth=2\n",
    ")\n",
    "gb_best.fit(X_train, y_train)\n",
    "y_train_pred = gb_best.predict(X_train)\n",
    "y_test_pred = gb_best.predict(X_test)\n",
    "\n",
    "print(f'Train accuracy_score: {accuracy_score(y_train, y_train_pred)}')\n",
    "print(f'Test accuracy_score: {accuracy_score(y_test, y_test_pred)}')"
   ],
   "id": "581c219d9be99e25",
   "outputs": [
    {
     "name": "stdout",
     "output_type": "stream",
     "text": [
      "Best n_estimator: 1\n",
      "Train accuracy_score: 0.9523809523809523\n",
      "Test accuracy_score: 0.9555555555555556\n"
     ]
    }
   ],
   "execution_count": 9
  },
  {
   "metadata": {},
   "cell_type": "markdown",
   "source": "# 교차검증 추가",
   "id": "e13059888db34c4e"
  },
  {
   "metadata": {
    "ExecuteTime": {
     "end_time": "2024-05-25T02:08:55.313733Z",
     "start_time": "2024-05-25T02:03:41.190269Z"
    }
   },
   "cell_type": "code",
   "source": [
    "from sklearn.model_selection import cross_val_score\n",
    "\n",
    "# 교차 검증을 통해 최적의 n_estimators 찾기\n",
    "n_estimators_range = range(1, 501)\n",
    "cross_val_accuracies = []\n",
    "\n",
    "for n in n_estimators_range:\n",
    "    gb_clf = GradientBoostingClassifier(\n",
    "        learning_rate=0.099,\n",
    "        n_estimators=n,\n",
    "        max_depth=2\n",
    "    )\n",
    "    scores = cross_val_score(gb_clf, X_train, y_train, cv=5, scoring='accuracy')\n",
    "    cross_val_accuracies.append(scores.mean())\n",
    "\n",
    "best_n_estimator = np.argmax(cross_val_accuracies) + 1\n",
    "\n",
    "print(f\"Best n_estimator: {best_n_estimator}\")\n",
    "\n",
    "gb_best = GradientBoostingClassifier(\n",
    "    learning_rate=0.099,\n",
    "    n_estimators=best_n_estimator,\n",
    "    max_depth=2\n",
    ")\n",
    "gb_best.fit(X_train, y_train)\n",
    "y_train_pred = gb_best.predict(X_train)\n",
    "y_test_pred = gb_best.predict(X_test)\n",
    "\n",
    "print(f'Train accuracy_score: {accuracy_score(y_train, y_train_pred)}')\n",
    "print(f'Test accuracy_score: {accuracy_score(y_test, y_test_pred)}')"
   ],
   "id": "9e0a9f02526eae93",
   "outputs": [
    {
     "name": "stdout",
     "output_type": "stream",
     "text": [
      "Best n_estimator: 6\n",
      "Train accuracy_score: 0.9714285714285714\n",
      "Test accuracy_score: 0.9777777777777777\n"
     ]
    }
   ],
   "execution_count": 10
  },
  {
   "metadata": {},
   "cell_type": "markdown",
   "source": "# CatBoost",
   "id": "4ec460a808be9644"
  },
  {
   "metadata": {
    "ExecuteTime": {
     "end_time": "2024-05-25T02:19:21.354139Z",
     "start_time": "2024-05-25T02:19:21.346665Z"
    }
   },
   "cell_type": "code",
   "source": [
    "from catboost import CatBoostClassifier, Pool\n",
    "\n",
    "train_dataset = Pool(data=X_train, label=y_train)\n",
    "eval_dataset = Pool(data=X_test, label=y_test)\n",
    "\n",
    "model = CatBoostClassifier(\n",
    "    l2_leaf_reg=0.01,\n",
    "    iterations=10,\n",
    "    depth = 2,\n",
    "    loss_function='MultiClass'\n",
    ")\n",
    "model.fit(train_dataset, use_best_model=True, eval_set=eval_dataset)"
   ],
   "id": "5b6f9e47983af3d4",
   "outputs": [
    {
     "name": "stdout",
     "output_type": "stream",
     "text": [
      "0:\tlearn: 1.0472421\ttest: 1.0452713\tbest: 1.0452713 (0)\ttotal: 101us\tremaining: 913us\n",
      "1:\tlearn: 1.0183495\ttest: 1.0216092\tbest: 1.0216092 (1)\ttotal: 253us\tremaining: 1.01ms\n",
      "2:\tlearn: 0.9742127\ttest: 0.9796928\tbest: 0.9796928 (2)\ttotal: 439us\tremaining: 1.02ms\n",
      "3:\tlearn: 0.9319050\ttest: 0.9371843\tbest: 0.9371843 (3)\ttotal: 548us\tremaining: 823us\n",
      "4:\tlearn: 0.8939962\ttest: 0.8985023\tbest: 0.8985023 (4)\ttotal: 684us\tremaining: 684us\n",
      "5:\tlearn: 0.8588119\ttest: 0.8625838\tbest: 0.8625838 (5)\ttotal: 906us\tremaining: 604us\n",
      "6:\tlearn: 0.8289021\ttest: 0.8328717\tbest: 0.8328717 (6)\ttotal: 1.02ms\tremaining: 435us\n",
      "7:\tlearn: 0.8084883\ttest: 0.8185666\tbest: 0.8185666 (7)\ttotal: 1.1ms\tremaining: 275us\n",
      "8:\tlearn: 0.7833542\ttest: 0.7927203\tbest: 0.7927203 (8)\ttotal: 1.18ms\tremaining: 131us\n",
      "9:\tlearn: 0.7587002\ttest: 0.7666363\tbest: 0.7666363 (9)\ttotal: 1.24ms\tremaining: 0us\n",
      "\n",
      "bestTest = 0.7666363273\n",
      "bestIteration = 9\n",
      "\n"
     ]
    },
    {
     "data": {
      "text/plain": [
       "<catboost.core.CatBoostClassifier at 0x32d0c2790>"
      ]
     },
     "execution_count": 14,
     "metadata": {},
     "output_type": "execute_result"
    }
   ],
   "execution_count": 14
  },
  {
   "metadata": {
    "ExecuteTime": {
     "end_time": "2024-05-25T02:32:13.520919Z",
     "start_time": "2024-05-25T02:32:13.518872Z"
    }
   },
   "cell_type": "code",
   "source": "model.get_best_score()",
   "id": "eac1463e516150a4",
   "outputs": [
    {
     "data": {
      "text/plain": [
       "{'learn': {'MultiClass': 0.7587002153046112},\n",
       " 'validation': {'MultiClass': 0.7666363272673726}}"
      ]
     },
     "execution_count": 15,
     "metadata": {},
     "output_type": "execute_result"
    }
   ],
   "execution_count": 15
  },
  {
   "metadata": {
    "ExecuteTime": {
     "end_time": "2024-05-25T02:35:03.921636Z",
     "start_time": "2024-05-25T02:35:03.919388Z"
    }
   },
   "cell_type": "code",
   "source": "model.get_best_iteration()",
   "id": "a8fcbf8b22441694",
   "outputs": [
    {
     "data": {
      "text/plain": [
       "9"
      ]
     },
     "execution_count": 16,
     "metadata": {},
     "output_type": "execute_result"
    }
   ],
   "execution_count": 16
  },
  {
   "metadata": {
    "ExecuteTime": {
     "end_time": "2024-05-25T02:41:08.360155Z",
     "start_time": "2024-05-25T02:41:08.358486Z"
    }
   },
   "cell_type": "code",
   "source": [
    "feature_names = model.feature_names_\n",
    "print(feature_names)"
   ],
   "id": "5eaeed1f9834c0fb",
   "outputs": [
    {
     "name": "stdout",
     "output_type": "stream",
     "text": [
      "['sepal_length', 'sepal_width', 'petal_length', 'petal_width']\n"
     ]
    }
   ],
   "execution_count": 20
  },
  {
   "metadata": {
    "ExecuteTime": {
     "end_time": "2024-05-25T02:41:43.758219Z",
     "start_time": "2024-05-25T02:41:43.584605Z"
    }
   },
   "cell_type": "code",
   "source": "model.plot_tree(tree_idx=0, pool=train_dataset)",
   "id": "9d5ebfe8c9a528eb",
   "outputs": [
    {
     "data": {
      "image/svg+xml": "<?xml version=\"1.0\" encoding=\"UTF-8\" standalone=\"no\"?>\n<!DOCTYPE svg PUBLIC \"-//W3C//DTD SVG 1.1//EN\"\n \"http://www.w3.org/Graphics/SVG/1.1/DTD/svg11.dtd\">\n<!-- Generated by graphviz version 2.49.0 (0)\n -->\n<!-- Pages: 1 -->\n<svg width=\"414pt\" height=\"235pt\"\n viewBox=\"0.00 0.00 413.68 235.00\" xmlns=\"http://www.w3.org/2000/svg\" xmlns:xlink=\"http://www.w3.org/1999/xlink\">\n<g id=\"graph0\" class=\"graph\" transform=\"scale(1 1) rotate(0) translate(4 231)\">\n<polygon fill=\"white\" stroke=\"transparent\" points=\"-4,4 -4,-231 409.68,-231 409.68,4 -4,4\"/>\n<!-- 0 -->\n<g id=\"node1\" class=\"node\">\n<title>0</title>\n<ellipse fill=\"none\" stroke=\"black\" cx=\"202.84\" cy=\"-209\" rx=\"96.68\" ry=\"18\"/>\n<text text-anchor=\"middle\" x=\"202.84\" y=\"-205.3\" font-family=\"Times,serif\" font-size=\"14.00\">petal_width, value&gt;1.75</text>\n</g>\n<!-- 1 -->\n<g id=\"node2\" class=\"node\">\n<title>1</title>\n<ellipse fill=\"none\" stroke=\"black\" cx=\"96.84\" cy=\"-122\" rx=\"96.68\" ry=\"18\"/>\n<text text-anchor=\"middle\" x=\"96.84\" y=\"-118.3\" font-family=\"Times,serif\" font-size=\"14.00\">petal_width, value&gt;0.75</text>\n</g>\n<!-- 0&#45;&gt;1 -->\n<g id=\"edge1\" class=\"edge\">\n<title>0&#45;&gt;1</title>\n<path fill=\"none\" stroke=\"black\" d=\"M182.15,-191.41C166.06,-178.51 143.54,-160.45 125.68,-146.13\"/>\n<polygon fill=\"black\" stroke=\"black\" points=\"127.83,-143.36 117.84,-139.84 123.45,-148.83 127.83,-143.36\"/>\n<text text-anchor=\"middle\" x=\"165.34\" y=\"-161.8\" font-family=\"Times,serif\" font-size=\"14.00\">No</text>\n</g>\n<!-- 2 -->\n<g id=\"node3\" class=\"node\">\n<title>2</title>\n<ellipse fill=\"none\" stroke=\"black\" cx=\"308.84\" cy=\"-122\" rx=\"96.68\" ry=\"18\"/>\n<text text-anchor=\"middle\" x=\"308.84\" y=\"-118.3\" font-family=\"Times,serif\" font-size=\"14.00\">petal_width, value&gt;0.75</text>\n</g>\n<!-- 0&#45;&gt;2 -->\n<g id=\"edge2\" class=\"edge\">\n<title>0&#45;&gt;2</title>\n<path fill=\"none\" stroke=\"black\" d=\"M223.53,-191.41C239.62,-178.51 262.14,-160.45 280,-146.13\"/>\n<polygon fill=\"black\" stroke=\"black\" points=\"282.23,-148.83 287.84,-139.84 277.85,-143.36 282.23,-148.83\"/>\n<text text-anchor=\"middle\" x=\"273.34\" y=\"-161.8\" font-family=\"Times,serif\" font-size=\"14.00\">Yes</text>\n</g>\n<!-- 3 -->\n<g id=\"node4\" class=\"node\">\n<title>3</title>\n<polygon fill=\"none\" stroke=\"red\" points=\"90.84,-53 6.84,-53 6.84,0 90.84,0 90.84,-53\"/>\n<text text-anchor=\"middle\" x=\"48.84\" y=\"-37.8\" font-family=\"Times,serif\" font-size=\"14.00\">val = 0.060</text>\n<text text-anchor=\"middle\" x=\"48.84\" y=\"-22.8\" font-family=\"Times,serif\" font-size=\"14.00\">val = &#45;0.030</text>\n<text text-anchor=\"middle\" x=\"48.84\" y=\"-7.8\" font-family=\"Times,serif\" font-size=\"14.00\">val = &#45;0.030</text>\n</g>\n<!-- 1&#45;&gt;3 -->\n<g id=\"edge3\" class=\"edge\">\n<title>1&#45;&gt;3</title>\n<path fill=\"none\" stroke=\"black\" d=\"M88.04,-103.85C82.04,-92.17 73.9,-76.31 66.59,-62.07\"/>\n<polygon fill=\"black\" stroke=\"black\" points=\"69.62,-60.3 61.94,-53.01 63.39,-63.5 69.62,-60.3\"/>\n<text text-anchor=\"middle\" x=\"87.34\" y=\"-74.8\" font-family=\"Times,serif\" font-size=\"14.00\">No</text>\n</g>\n<!-- 4 -->\n<g id=\"node5\" class=\"node\">\n<title>4</title>\n<polygon fill=\"none\" stroke=\"red\" points=\"192.84,-53 108.84,-53 108.84,0 192.84,0 192.84,-53\"/>\n<text text-anchor=\"middle\" x=\"150.84\" y=\"-37.8\" font-family=\"Times,serif\" font-size=\"14.00\">val = &#45;0.030</text>\n<text text-anchor=\"middle\" x=\"150.84\" y=\"-22.8\" font-family=\"Times,serif\" font-size=\"14.00\">val = 0.050</text>\n<text text-anchor=\"middle\" x=\"150.84\" y=\"-7.8\" font-family=\"Times,serif\" font-size=\"14.00\">val = &#45;0.021</text>\n</g>\n<!-- 1&#45;&gt;4 -->\n<g id=\"edge4\" class=\"edge\">\n<title>1&#45;&gt;4</title>\n<path fill=\"none\" stroke=\"black\" d=\"M106.75,-103.85C113.49,-92.17 122.65,-76.31 130.88,-62.07\"/>\n<polygon fill=\"black\" stroke=\"black\" points=\"134.14,-63.42 136.11,-53.01 128.08,-59.92 134.14,-63.42\"/>\n<text text-anchor=\"middle\" x=\"136.34\" y=\"-74.8\" font-family=\"Times,serif\" font-size=\"14.00\">Yes</text>\n</g>\n<!-- 5 -->\n<g id=\"node6\" class=\"node\">\n<title>5</title>\n<polygon fill=\"none\" stroke=\"red\" points=\"296.84,-53 216.84,-53 216.84,0 296.84,0 296.84,-53\"/>\n<text text-anchor=\"middle\" x=\"256.84\" y=\"-37.8\" font-family=\"Times,serif\" font-size=\"14.00\">val = 0.000</text>\n<text text-anchor=\"middle\" x=\"256.84\" y=\"-22.8\" font-family=\"Times,serif\" font-size=\"14.00\">val = 0.000</text>\n<text text-anchor=\"middle\" x=\"256.84\" y=\"-7.8\" font-family=\"Times,serif\" font-size=\"14.00\">val = 0.000</text>\n</g>\n<!-- 2&#45;&gt;5 -->\n<g id=\"edge5\" class=\"edge\">\n<title>2&#45;&gt;5</title>\n<path fill=\"none\" stroke=\"black\" d=\"M299.3,-103.85C292.81,-92.17 283.99,-76.31 276.07,-62.07\"/>\n<polygon fill=\"black\" stroke=\"black\" points=\"278.95,-60.05 271.03,-53.01 272.83,-63.45 278.95,-60.05\"/>\n<text text-anchor=\"middle\" x=\"298.34\" y=\"-74.8\" font-family=\"Times,serif\" font-size=\"14.00\">No</text>\n</g>\n<!-- 6 -->\n<g id=\"node7\" class=\"node\">\n<title>6</title>\n<polygon fill=\"none\" stroke=\"red\" points=\"398.84,-53 314.84,-53 314.84,0 398.84,0 398.84,-53\"/>\n<text text-anchor=\"middle\" x=\"356.84\" y=\"-37.8\" font-family=\"Times,serif\" font-size=\"14.00\">val = &#45;0.030</text>\n<text text-anchor=\"middle\" x=\"356.84\" y=\"-22.8\" font-family=\"Times,serif\" font-size=\"14.00\">val = &#45;0.027</text>\n<text text-anchor=\"middle\" x=\"356.84\" y=\"-7.8\" font-family=\"Times,serif\" font-size=\"14.00\">val = 0.057</text>\n</g>\n<!-- 2&#45;&gt;6 -->\n<g id=\"edge6\" class=\"edge\">\n<title>2&#45;&gt;6</title>\n<path fill=\"none\" stroke=\"black\" d=\"M317.65,-103.85C323.64,-92.17 331.78,-76.31 339.09,-62.07\"/>\n<polygon fill=\"black\" stroke=\"black\" points=\"342.29,-63.5 343.75,-53.01 336.07,-60.3 342.29,-63.5\"/>\n<text text-anchor=\"middle\" x=\"344.34\" y=\"-74.8\" font-family=\"Times,serif\" font-size=\"14.00\">Yes</text>\n</g>\n</g>\n</svg>\n",
      "text/plain": [
       "<graphviz.graphs.Digraph at 0x14a5ef710>"
      ]
     },
     "execution_count": 21,
     "metadata": {},
     "output_type": "execute_result"
    }
   ],
   "execution_count": 21
  }
 ],
 "metadata": {
  "kernelspec": {
   "display_name": "Python 3",
   "language": "python",
   "name": "python3"
  },
  "language_info": {
   "codemirror_mode": {
    "name": "ipython",
    "version": 2
   },
   "file_extension": ".py",
   "mimetype": "text/x-python",
   "name": "python",
   "nbconvert_exporter": "python",
   "pygments_lexer": "ipython2",
   "version": "2.7.6"
  }
 },
 "nbformat": 4,
 "nbformat_minor": 5
}
