{
 "cells": [
  {
   "cell_type": "code",
   "outputs": [],
   "source": [
    "import numpy as np\n",
    "\n",
    "# 함수 정의\n",
    "def step_func(x):\n",
    "    return np.array(x > 0, dtype=np.int64)\n",
    "\n",
    "def sigmoid(x):\n",
    "    return 1 / (1 + np.exp(-x))\n",
    "\n",
    "def ReLU(x):\n",
    "    return np.maximum(0, x)"
   ],
   "metadata": {
    "collapsed": false,
    "ExecuteTime": {
     "end_time": "2024-04-06T09:42:46.580594Z",
     "start_time": "2024-04-06T09:42:46.498418Z"
    }
   },
   "id": "c96e9ae56bd483e8",
   "execution_count": 1
  },
  {
   "cell_type": "code",
   "outputs": [
    {
     "name": "stdout",
     "output_type": "stream",
     "text": [
      "[[0.3 0.7 1.1]]\n",
      "[[0.57444252 0.66818777 0.75026011]]\n"
     ]
    }
   ],
   "source": [
    "X = np.array([1.0, 0.5])\n",
    "W1 = np.array([ [0.1, 0.3, 0.5], \n",
    "                [0.2, 0.4, 0.6]])\n",
    "B1 = np.array([ [0.1, 0.2, 0.3]])\n",
    "\n",
    "A1 = np.dot(X, W1) + B1\n",
    "Z1 = sigmoid(A1)\n",
    "\n",
    "print(A1)\n",
    "print(Z1)"
   ],
   "metadata": {
    "collapsed": false,
    "ExecuteTime": {
     "end_time": "2024-04-06T09:51:11.267082Z",
     "start_time": "2024-04-06T09:51:11.264338Z"
    }
   },
   "id": "feba8c7034ac58d0",
   "execution_count": 3
  },
  {
   "cell_type": "code",
   "outputs": [
    {
     "name": "stdout",
     "output_type": "stream",
     "text": [
      "[[0.51615984 1.21402696]]\n",
      "[[0.62624937 0.7710107 ]]\n"
     ]
    }
   ],
   "source": [
    "W2 = np.array([ [0.1, 0.4],\n",
    "                [0.2, 0.5],\n",
    "                [0.3, 0.6]] )\n",
    "B2 = np.array([0.1, 0.2])\n",
    "\n",
    "A2 = np.dot(Z1, W2) + B2\n",
    "Z2 = sigmoid(A2)\n",
    "\n",
    "print(A2)\n",
    "print(Z2)"
   ],
   "metadata": {
    "collapsed": false,
    "ExecuteTime": {
     "end_time": "2024-04-06T09:59:15.673657Z",
     "start_time": "2024-04-06T09:59:15.670824Z"
    }
   },
   "id": "2d0af630e1d85b6b",
   "execution_count": 4
  },
  {
   "cell_type": "code",
   "outputs": [
    {
     "name": "stdout",
     "output_type": "stream",
     "text": [
      "[[0.31682708 0.69627909]]\n"
     ]
    }
   ],
   "source": [
    "def identity_func(x):\n",
    "    return x\n",
    "\n",
    "W3 = np.array([ [0.1, 0.3],\n",
    "                [0.2, 0.4]])\n",
    "B3 = np.array([0.1, 0.2])\n",
    "\n",
    "A3 = np.dot(Z2, W3) + B3\n",
    "Y = identity_func(A3)\n",
    "\n",
    "print(Y)"
   ],
   "metadata": {
    "collapsed": false,
    "ExecuteTime": {
     "end_time": "2024-04-06T10:21:50.999375Z",
     "start_time": "2024-04-06T10:21:50.996085Z"
    }
   },
   "id": "f0eaf2b7cfb8511",
   "execution_count": 8
  },
  {
   "cell_type": "code",
   "outputs": [
    {
     "name": "stdout",
     "output_type": "stream",
     "text": [
      "[[0.31682708 0.69627909]]\n"
     ]
    }
   ],
   "source": [
    "def init_network():\n",
    "    network = {}\n",
    "    \n",
    "    network['W1'] = np.array([ [0.1, 0.3, 0.5], [0.2, 0.4, 0.6] ])\n",
    "    network['b1'] = np.array([ [0.1, 0.2, 0.3]])\n",
    "    network['W2'] = np.array([ [0.1, 0.4],[0.2, 0.5],[0.3, 0.6]] )\n",
    "    network['b2'] = np.array([0.1, 0.2])\n",
    "    network['W3'] = np.array([ [0.1, 0.3],[0.2, 0.4] ])\n",
    "    network['b3'] = np.array([0.1, 0.2])\n",
    "\n",
    "    return network\n",
    "\n",
    "def forward(network, x):\n",
    "    W1, W2, W3 = network['W1'], network['W2'], network['W3']\n",
    "    b1, b2, b3 = network['b1'] , network['b2'], network['b3']\n",
    "    \n",
    "    a1 = np.dot(x, W1) + b1\n",
    "    z1 = sigmoid(a1)\n",
    "    a2 = np.dot(z1, W2) + b2\n",
    "    z2 = sigmoid(a2)\n",
    "    a3 = np.dot(z2, W3) + b3\n",
    "    y = identity_func(a3)\n",
    "    \n",
    "    return y\n",
    "\n",
    "network = init_network()\n",
    "X = np.array([1.0, 0.5])\n",
    "y = forward(network,X)\n",
    "print(y)"
   ],
   "metadata": {
    "collapsed": false,
    "ExecuteTime": {
     "end_time": "2024-04-06T10:11:32.332465Z",
     "start_time": "2024-04-06T10:11:32.327895Z"
    }
   },
   "id": "c8281977031703e3",
   "execution_count": 6
  },
  {
   "cell_type": "code",
   "outputs": [],
   "source": [],
   "metadata": {
    "collapsed": false
   },
   "id": "df444e1160eb095"
  }
 ],
 "metadata": {
  "kernelspec": {
   "display_name": "Python 3",
   "language": "python",
   "name": "python3"
  },
  "language_info": {
   "codemirror_mode": {
    "name": "ipython",
    "version": 2
   },
   "file_extension": ".py",
   "mimetype": "text/x-python",
   "name": "python",
   "nbconvert_exporter": "python",
   "pygments_lexer": "ipython2",
   "version": "2.7.6"
  }
 },
 "nbformat": 4,
 "nbformat_minor": 5
}
