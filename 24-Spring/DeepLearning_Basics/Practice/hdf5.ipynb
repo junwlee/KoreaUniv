{
 "cells": [
  {
   "metadata": {},
   "cell_type": "markdown",
   "source": "- [Reference](https://nuxlear.tistory.com/4)",
   "id": "a1be847e4d6d8f45"
  },
  {
   "metadata": {},
   "cell_type": "markdown",
   "source": "# Deprecated",
   "id": "8f9c017aaaa2ecd"
  },
  {
   "metadata": {},
   "cell_type": "code",
   "source": [
    "# import h5py\n",
    "# import numpy as np\n",
    "# \n",
    "# filename = 'test.hdf5'\n",
    "# with h5py.File(filename, 'w') as f:\n",
    "#     # 1000개의 32x32 RGB 이미지를 담는 데이터 공간을 생성\n",
    "#     f.create_dataset('image', (1000, 32, 32, 3), dtype='float32')\n",
    "#     # 1000개의 float을 담는 데이터 공간을 생성\n",
    "#     f.create_dataset('label', (1000,), dtype='float32')\n",
    "#     image_set = f['image'] # 실 데이터 공간에 접근할 변수를 할당\n",
    "#     label_set = f['label']\n",
    "#     \n",
    "#     # 파일에 값을 대입\n",
    "#     label_set[0] = 3.0 # dataset에 값을 대입\n",
    "#     label_set[10:20] = np.arange(10.) # 배열을 직접 대입\n",
    "#     labels = label_set[:] # 이미지 데이터 전체를 반환하지만, 메모리에 올리지는 않는다. 값에 접근할 때 메모리에 올린다.\n",
    "#     print(labels)\n",
    "# \n",
    "#     array = label_set[:50] # 데이터셋을 numpy array 와 비슷한 형태로 불러올 수 있다. 역시 이 명령으로 메모리에 올라가지는 않는다. \n",
    "\n",
    "# from keras.utils.io_utils import HDF5Matrix\n",
    "#  \n",
    "# n_epoch = 1000\n",
    "# batch_size = 32\n",
    "# split_pos = 800\n",
    "#  \n",
    "# x_data = HDF5Matrix(filename, 'image')    # 위에서 생성한 HDF5 파일의 image 경로의 데이터를 가져오게 된다. \n",
    "# x_train = HDF5Matrix(filename, 'image', end=split_pos)    # HDF5 파일의 데이터 중 일부만 가져오는 것도 가능하다. \n",
    "# x_test = HDF5Matrix(filename, 'image', start=split_pos)\n",
    "# y_train = HDF5Matrix(filename, 'label', end=split_pos)\n",
    "# y_test = HDF5Matrix(filename, 'label', start=split_pos)"
   ],
   "id": "736e6e7cf1d51158",
   "outputs": [],
   "execution_count": null
  },
  {
   "metadata": {},
   "cell_type": "markdown",
   "source": "# HDF5 파일 생성 및 데이터 저장",
   "id": "2cf5df4d6b7d855f"
  },
  {
   "metadata": {
    "ExecuteTime": {
     "end_time": "2024-05-28T12:15:46.994040Z",
     "start_time": "2024-05-28T12:15:46.911372Z"
    }
   },
   "cell_type": "code",
   "source": [
    "import h5py\n",
    "import numpy as np\n",
    "\n",
    "filename = 'test.hdf5'\n",
    "\n",
    "# HDF5 파일 생성 및 데이터 저장\n",
    "with h5py.File(filename, 'w') as f:\n",
    "    # 1000개의 32x32 RGB 이미지를 담는 데이터 공간을 생성\n",
    "    f.create_dataset('image', (1000, 32, 32, 3), dtype='float32')\n",
    "    # 1000개의 float을 담는 데이터 공간을 생성\n",
    "    f.create_dataset('label', (1000,), dtype='float32')\n",
    "    image_set = f['image'] # 실 데이터 공간에 접근할 변수를 할당\n",
    "    label_set = f['label']\n",
    "    \n",
    "    # 이미지와 라벨에 임의의 값을 대입\n",
    "    image_set[:] = np.random.rand(1000, 32, 32, 3)\n",
    "    label_set[:] = np.random.randint(0, 10, size=(1000,))"
   ],
   "id": "6ae5bca056d1fc3b",
   "outputs": [],
   "execution_count": 1
  },
  {
   "metadata": {},
   "cell_type": "markdown",
   "source": "# 데이터 로드 및 분할",
   "id": "951376a8596958fc"
  },
  {
   "metadata": {
    "ExecuteTime": {
     "end_time": "2024-05-28T12:15:53.559126Z",
     "start_time": "2024-05-28T12:15:53.552617Z"
    }
   },
   "cell_type": "code",
   "source": [
    "def loda_data_and_split(filename, image_key='image', label_key='label', start=None, end=None):\n",
    "    with h5py.File(filename, 'r') as f:\n",
    "        image_set = f[image_key][start:end]\n",
    "        label_set = f[label_key][start:end]\n",
    "    \n",
    "    return image_set, label_set\n",
    "\n",
    "split_pos = 800\n",
    "\n",
    "# 학습 데이터 로드\n",
    "x_train, y_train = loda_data_and_split(filename, start=0, end=split_pos)\n",
    "\n",
    "# 테스트 데이터 로드\n",
    "x_test, y_test = loda_data_and_split(filename, start=split_pos)"
   ],
   "id": "93fca843d39a5442",
   "outputs": [],
   "execution_count": 2
  },
  {
   "metadata": {},
   "cell_type": "markdown",
   "source": "# Tensorflow 데이터셋 생성",
   "id": "9a19daf954648bb2"
  },
  {
   "metadata": {
    "ExecuteTime": {
     "end_time": "2024-05-28T12:16:14.246944Z",
     "start_time": "2024-05-28T12:16:13.359909Z"
    }
   },
   "cell_type": "code",
   "source": [
    "import tensorflow as tf\n",
    "\n",
    "def create_tf_dataset(images, labels):\n",
    "    return tf.data.Dataset.from_tensor_slices((images, labels))\n",
    "\n",
    "# TensorFlow 데이터셋 생성\n",
    "train_dataset = create_tf_dataset(x_train, y_train)\n",
    "test_dataset = create_tf_dataset(x_test, y_test)\n",
    "\n",
    "batch_size = 32\n",
    "buffer_size= 1024\n",
    "train_dataset = train_dataset.shuffle(buffer_size=buffer_size).batch(batch_size)\n",
    "test_dataset = test_dataset.batch(batch_size)"
   ],
   "id": "95b2ad86140628ce",
   "outputs": [],
   "execution_count": 4
  },
  {
   "metadata": {},
   "cell_type": "markdown",
   "source": [
    "### shuffle(buffersize).batch\n",
    "    - buffer_size는 한 번에 섞는 데이터의 크기\n",
    "    - buffer_size=1024, batch_size = 32\n",
    "        - 데이터셋에서 최대 1024개의 요소가 버퍼에 로드되고 이 버퍼 내에서 데이터가 무작위로 섞임.\n",
    "        - 그 후, 섞인 데이터가 배치로 생성"
   ],
   "id": "39750260800f3771"
  },
  {
   "metadata": {},
   "cell_type": "markdown",
   "source": "# Build Model",
   "id": "330a335d90d35ecc"
  },
  {
   "metadata": {
    "ExecuteTime": {
     "end_time": "2024-05-28T12:16:17.313290Z",
     "start_time": "2024-05-28T12:16:16.341219Z"
    }
   },
   "cell_type": "code",
   "source": [
    "# 모델 정의\n",
    "model = tf.keras.models.Sequential([\n",
    "    tf.keras.layers.Conv2D(32, (3, 3), activation='relu', input_shape=(32, 32, 3)),\n",
    "    tf.keras.layers.MaxPooling2D((2, 2)),\n",
    "    tf.keras.layers.Flatten(),\n",
    "    tf.keras.layers.Dense(64, activation='relu'),\n",
    "    tf.keras.layers.Dense(10, activation='softmax')\n",
    "])\n",
    "\n",
    "# 모델 컴파일\n",
    "model.compile(optimizer='adam', loss='sparse_categorical_crossentropy', metrics=['accuracy'])\n",
    "\n",
    "# 모델 학습\n",
    "model.fit(train_dataset, epochs=10, validation_data=test_dataset)"
   ],
   "id": "682aea580af0d1df",
   "outputs": [
    {
     "name": "stdout",
     "output_type": "stream",
     "text": [
      "Epoch 1/10\n",
      "21/25 [========================>.....] - ETA: 0s - loss: 2.3829 - accuracy: 0.0818"
     ]
    },
    {
     "name": "stderr",
     "output_type": "stream",
     "text": [
      "2024-05-28 21:16:16.382403: I tensorflow/core/common_runtime/executor.cc:1197] [/device:CPU:0] (DEBUG INFO) Executor start aborting (this does not indicate an error and you can ignore this message): INVALID_ARGUMENT: You must feed a value for placeholder tensor 'Placeholder/_0' with dtype float and shape [800,32,32,3]\n",
      "\t [[{{node Placeholder/_0}}]]\n",
      "2024-05-28 21:16:16.382518: I tensorflow/core/common_runtime/executor.cc:1197] [/device:CPU:0] (DEBUG INFO) Executor start aborting (this does not indicate an error and you can ignore this message): INVALID_ARGUMENT: You must feed a value for placeholder tensor 'Placeholder/_1' with dtype float and shape [800]\n",
      "\t [[{{node Placeholder/_1}}]]\n",
      "2024-05-28 21:16:16.469879: W tensorflow/tsl/platform/profile_utils/cpu_utils.cc:128] Failed to get CPU frequency: 0 Hz\n",
      "2024-05-28 21:16:16.562644: I tensorflow/core/common_runtime/executor.cc:1197] [/device:CPU:0] (DEBUG INFO) Executor start aborting (this does not indicate an error and you can ignore this message): INVALID_ARGUMENT: You must feed a value for placeholder tensor 'Placeholder/_1' with dtype float and shape [200]\n",
      "\t [[{{node Placeholder/_1}}]]\n"
     ]
    },
    {
     "name": "stdout",
     "output_type": "stream",
     "text": [
      "25/25 [==============================] - 0s 5ms/step - loss: 2.3773 - accuracy: 0.0763 - val_loss: 2.3306 - val_accuracy: 0.0900\n",
      "Epoch 2/10\n",
      "25/25 [==============================] - 0s 3ms/step - loss: 2.2840 - accuracy: 0.1250 - val_loss: 2.3012 - val_accuracy: 0.1300\n",
      "Epoch 3/10\n",
      "25/25 [==============================] - 0s 3ms/step - loss: 2.2201 - accuracy: 0.2275 - val_loss: 2.3186 - val_accuracy: 0.0650\n",
      "Epoch 4/10\n",
      "25/25 [==============================] - 0s 3ms/step - loss: 2.1165 - accuracy: 0.3088 - val_loss: 2.3202 - val_accuracy: 0.0800\n",
      "Epoch 5/10\n",
      "25/25 [==============================] - 0s 3ms/step - loss: 1.9807 - accuracy: 0.4038 - val_loss: 2.3264 - val_accuracy: 0.1050\n",
      "Epoch 6/10\n",
      "25/25 [==============================] - 0s 3ms/step - loss: 1.8120 - accuracy: 0.6587 - val_loss: 2.3338 - val_accuracy: 0.1200\n",
      "Epoch 7/10\n",
      "25/25 [==============================] - 0s 3ms/step - loss: 1.6138 - accuracy: 0.7200 - val_loss: 2.3473 - val_accuracy: 0.0850\n",
      "Epoch 8/10\n",
      "25/25 [==============================] - 0s 3ms/step - loss: 1.4294 - accuracy: 0.7375 - val_loss: 2.3847 - val_accuracy: 0.0950\n",
      "Epoch 9/10\n",
      "25/25 [==============================] - 0s 3ms/step - loss: 1.1867 - accuracy: 0.9125 - val_loss: 2.4230 - val_accuracy: 0.1200\n",
      "Epoch 10/10\n",
      "25/25 [==============================] - 0s 3ms/step - loss: 0.9809 - accuracy: 0.9425 - val_loss: 2.4620 - val_accuracy: 0.1350\n"
     ]
    },
    {
     "data": {
      "text/plain": [
       "<keras.callbacks.History at 0x310835950>"
      ]
     },
     "execution_count": 5,
     "metadata": {},
     "output_type": "execute_result"
    }
   ],
   "execution_count": 5
  }
 ],
 "metadata": {
  "kernelspec": {
   "display_name": "Python 3",
   "language": "python",
   "name": "python3"
  },
  "language_info": {
   "codemirror_mode": {
    "name": "ipython",
    "version": 2
   },
   "file_extension": ".py",
   "mimetype": "text/x-python",
   "name": "python",
   "nbconvert_exporter": "python",
   "pygments_lexer": "ipython2",
   "version": "2.7.6"
  }
 },
 "nbformat": 4,
 "nbformat_minor": 5
}
