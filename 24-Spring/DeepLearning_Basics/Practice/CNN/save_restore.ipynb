{
 "cells": [
  {
   "cell_type": "code",
   "id": "initial_id",
   "metadata": {
    "collapsed": true,
    "ExecuteTime": {
     "end_time": "2024-05-28T11:14:35.166067Z",
     "start_time": "2024-05-28T11:14:33.160551Z"
    }
   },
   "source": [
    "import numpy as np\n",
    "import tensorflow as tf\n",
    "\n",
    "test_input = np.random.random((128, 32))\n",
    "test_target = np.random.random((128, 1))\n",
    "\n",
    "inputs = tf.keras.Input(shape=(32,))\n",
    "outputs = tf.keras.layers.Dense(1)(inputs)\n",
    "\n",
    "model = tf.keras.Model(inputs, outputs)\n",
    "model.compile(optimizer=\"adam\", loss=\"mean_squared_error\")"
   ],
   "outputs": [],
   "execution_count": 1
  },
  {
   "metadata": {
    "ExecuteTime": {
     "end_time": "2024-05-28T11:22:14.195457Z",
     "start_time": "2024-05-28T11:22:13.775461Z"
    }
   },
   "cell_type": "code",
   "source": [
    "model.fit(test_input, test_target, epochs=3)\n",
    "\n",
    "# save the trained model\n",
    "model.save('my_model')\n",
    "saved_model = tf.keras.models.load_model('my_model')\n",
    "# retrain\n",
    "saved_model.fit(test_input, test_target, epochs=3)\n",
    "\n",
    "saved_model.save('my_model_2')\n",
    "loaded_model = tf.keras.models.load_model('my_model_2')\n",
    "loaded_model.fit(test_input, test_target, epochs=3)"
   ],
   "id": "3387e0919c4c442b",
   "outputs": [
    {
     "name": "stdout",
     "output_type": "stream",
     "text": [
      "Epoch 1/3\n",
      "4/4 [==============================] - 0s 697us/step - loss: 0.3731\n",
      "Epoch 2/3\n",
      "4/4 [==============================] - 0s 616us/step - loss: 0.3229\n",
      "Epoch 3/3\n",
      "4/4 [==============================] - 0s 498us/step - loss: 0.2870\n",
      "INFO:tensorflow:Assets written to: my_model/assets\n",
      "Epoch 1/3\n",
      "4/4 [==============================] - 0s 656us/step - loss: 0.2582\n",
      "Epoch 2/3\n",
      "4/4 [==============================] - 0s 607us/step - loss: 0.2307\n",
      "Epoch 3/3\n",
      "4/4 [==============================] - 0s 484us/step - loss: 0.2182\n",
      "INFO:tensorflow:Assets written to: my_model_2/assets\n",
      "Epoch 1/3\n",
      "4/4 [==============================] - 0s 576us/step - loss: 0.2091\n",
      "Epoch 2/3\n",
      "4/4 [==============================] - 0s 533us/step - loss: 0.2057\n",
      "Epoch 3/3\n",
      "4/4 [==============================] - 0s 641us/step - loss: 0.2025\n"
     ]
    },
    {
     "data": {
      "text/plain": [
       "<keras.callbacks.History at 0x3232c7890>"
      ]
     },
     "execution_count": 3,
     "metadata": {},
     "output_type": "execute_result"
    }
   ],
   "execution_count": 3
  },
  {
   "metadata": {},
   "cell_type": "code",
   "outputs": [],
   "execution_count": null,
   "source": "",
   "id": "ff0ca28c19a8b9a5"
  }
 ],
 "metadata": {
  "kernelspec": {
   "display_name": "Python 3",
   "language": "python",
   "name": "python3"
  },
  "language_info": {
   "codemirror_mode": {
    "name": "ipython",
    "version": 2
   },
   "file_extension": ".py",
   "mimetype": "text/x-python",
   "name": "python",
   "nbconvert_exporter": "python",
   "pygments_lexer": "ipython2",
   "version": "2.7.6"
  }
 },
 "nbformat": 4,
 "nbformat_minor": 5
}
