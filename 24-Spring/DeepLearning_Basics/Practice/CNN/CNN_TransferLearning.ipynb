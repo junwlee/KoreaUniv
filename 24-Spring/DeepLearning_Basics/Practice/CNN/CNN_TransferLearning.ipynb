{
 "cells": [
  {
   "metadata": {},
   "cell_type": "markdown",
   "source": "# Exercise 1",
   "id": "d068dc33482a4455"
  },
  {
   "metadata": {
    "ExecuteTime": {
     "end_time": "2024-06-03T07:32:30.238823Z",
     "start_time": "2024-06-03T07:32:29.318402Z"
    }
   },
   "cell_type": "code",
   "source": [
    "from keras.applications.resnet import ResNet50, preprocess_input, decode_predictions\n",
    "from keras.utils import load_img, img_to_array\n",
    "import numpy as np\n",
    "\n",
    "model = ResNet50(weights='imagenet')\n",
    "\n",
    "img_path = 'Samoyed.jpg'\n",
    "img = load_img(img_path, target_size=(224, 224)) # load and reshape\n",
    "\n",
    "x = img_to_array(img) # convert img into numpy array\n",
    "print(x.shape)\n",
    "x = np.expand_dims(x, axis=0)\n",
    "print(x.shape)\n",
    "x = preprocess_input(x)\n",
    "\n",
    "preds = model.predict(x)\n",
    "print(f'Predicted: {decode_predictions(preds, top=4)}')"
   ],
   "id": "f99ce81d24d27f9",
   "outputs": [
    {
     "name": "stdout",
     "output_type": "stream",
     "text": [
      "(224, 224, 3)\n",
      "(1, 224, 224, 3)\n"
     ]
    },
    {
     "name": "stderr",
     "output_type": "stream",
     "text": [
      "2024-06-03 16:32:29.939448: W tensorflow/tsl/platform/profile_utils/cpu_utils.cc:128] Failed to get CPU frequency: 0 Hz\n"
     ]
    },
    {
     "name": "stdout",
     "output_type": "stream",
     "text": [
      "1/1 [==============================] - 0s 299ms/step\n",
      "Predicted: [[('n02111889', 'Samoyed', 0.9679061), ('n02112018', 'Pomeranian', 0.011093838), ('n02120079', 'Arctic_fox', 0.008418453), ('n02112350', 'keeshond', 0.00730042)]]\n"
     ]
    }
   ],
   "execution_count": 2
  },
  {
   "cell_type": "code",
   "id": "initial_id",
   "metadata": {
    "collapsed": true,
    "ExecuteTime": {
     "end_time": "2024-06-03T07:32:30.417020Z",
     "start_time": "2024-06-03T07:32:30.239675Z"
    }
   },
   "source": [
    "import matplotlib.pyplot as plt\n",
    "from keras.preprocessing import image\n",
    "from keras.applications.mobilenet import preprocess_input\n",
    "from keras.preprocessing.image import ImageDataGenerator\n",
    "from keras.optimizers import Adam"
   ],
   "outputs": [],
   "execution_count": 3
  },
  {
   "metadata": {},
   "cell_type": "markdown",
   "source": "# Exercise 1",
   "id": "9a66ca64dac6cf8d"
  },
  {
   "metadata": {},
   "cell_type": "markdown",
   "source": "## Load MobileNet and add classifying layer to train for ourself",
   "id": "687b5d069df3026e"
  },
  {
   "metadata": {
    "ExecuteTime": {
     "end_time": "2024-06-03T08:04:13.178802Z",
     "start_time": "2024-06-03T08:04:12.906077Z"
    }
   },
   "cell_type": "code",
   "source": [
    "from keras.applications import MobileNet\n",
    "from keras.layers import Dense,GlobalAveragePooling2D\n",
    "from keras.models import Model\n",
    "\n",
    "base_model = MobileNet(weights='imagenet', include_top=False)\n",
    "\n",
    "# Get the total number of layers in the MobileNet model\n",
    "total_layers = len(base_model.layers)\n",
    "print(\"Total layers in MobileNet:\", total_layers)\n",
    "\n",
    "x = base_model.output\n",
    "x = GlobalAveragePooling2D()(x)\n",
    "x = Dense(1024, activation='relu')(x)\n",
    "x = Dense(1024, activation='relu')(x)\n",
    "x = Dense(512, activation='relu')(x)\n",
    "preds = Dense(2, activation='softmax')(x)\n",
    "model = Model(inputs=base_model.input, outputs=preds)\n",
    "\n",
    "final_total_layers = len(model.layers)\n",
    "print(\"Final layers in MobileNet:\", final_total_layers)"
   ],
   "id": "f6ecb5e3c056823e",
   "outputs": [
    {
     "name": "stdout",
     "output_type": "stream",
     "text": [
      "WARNING:tensorflow:`input_shape` is undefined or non-square, or `rows` is not in [128, 160, 192, 224]. Weights for input shape (224, 224) will be loaded as the default.\n"
     ]
    },
    {
     "name": "stderr",
     "output_type": "stream",
     "text": [
      "WARNING:tensorflow:`input_shape` is undefined or non-square, or `rows` is not in [128, 160, 192, 224]. Weights for input shape (224, 224) will be loaded as the default.\n"
     ]
    },
    {
     "name": "stdout",
     "output_type": "stream",
     "text": [
      "Total layers in MobileNet: 86\n",
      "Total layers in MobileNet: 91\n"
     ]
    }
   ],
   "execution_count": 34
  },
  {
   "metadata": {},
   "cell_type": "markdown",
   "source": "## Model Summary",
   "id": "bbbde9cf4f1a5ef6"
  },
  {
   "metadata": {},
   "cell_type": "code",
   "outputs": [],
   "execution_count": null,
   "source": "model.summary()",
   "id": "662d7fd3ce65fefe"
  },
  {
   "metadata": {},
   "cell_type": "markdown",
   "source": "## Frozen layers",
   "id": "974a720c0cf7508a"
  },
  {
   "metadata": {
    "ExecuteTime": {
     "end_time": "2024-06-03T08:07:17.239084Z",
     "start_time": "2024-06-03T08:07:17.235231Z"
    }
   },
   "cell_type": "code",
   "source": [
    "for layer in model.layers[:10]:\n",
    "    layer.trainable=False\n",
    "for layer in model.layers[10:]:\n",
    "    layer.trainable=True"
   ],
   "id": "55448d3d0ee3be41",
   "outputs": [],
   "execution_count": 35
  },
  {
   "metadata": {},
   "cell_type": "markdown",
   "source": "## Build ImageDataGenerator",
   "id": "ee7e5ebd94232ea6"
  },
  {
   "metadata": {
    "ExecuteTime": {
     "end_time": "2024-06-03T08:07:19.458602Z",
     "start_time": "2024-06-03T08:07:19.407731Z"
    }
   },
   "cell_type": "code",
   "source": [
    "from keras.preprocessing import image\n",
    "from tensorflow.keras.applications.mobilenet import preprocess_input\n",
    "\n",
    "train_datagen = image.ImageDataGenerator(preprocessing_function=preprocess_input)\n",
    "train_generator = train_datagen.flow_from_directory(\n",
    "    './PetImages/',\n",
    "    target_size=(128, 128),\n",
    "    color_mode='rgb',\n",
    "    batch_size=32,\n",
    "    class_mode='categorical',\n",
    "    shuffle=True\n",
    ")"
   ],
   "id": "348a78cf27401871",
   "outputs": [
    {
     "name": "stdout",
     "output_type": "stream",
     "text": [
      "Found 2200 images belonging to 2 classes.\n"
     ]
    }
   ],
   "execution_count": 36
  },
  {
   "metadata": {},
   "cell_type": "markdown",
   "source": "## Compile and train",
   "id": "37e56ff1e628ae7d"
  },
  {
   "metadata": {
    "ExecuteTime": {
     "end_time": "2024-06-03T08:09:06.901768Z",
     "start_time": "2024-06-03T08:07:21.287932Z"
    }
   },
   "cell_type": "code",
   "source": [
    "from tensorflow.keras.optimizers.legacy import Adam\n",
    "\n",
    "model.compile(\n",
    "    optimizer=Adam(),\n",
    "    loss='categorical_crossentropy',\n",
    "    metrics=['accuracy']\n",
    ")\n",
    "\n",
    "step_size_train = train_generator.n // train_generator.batch_size\n",
    "# print(step_size_train)\n",
    "model.fit(\n",
    "    train_generator,\n",
    "    steps_per_epoch=step_size_train,\n",
    "    epochs=10\n",
    ")"
   ],
   "id": "47ba44cfba77a83",
   "outputs": [
    {
     "name": "stdout",
     "output_type": "stream",
     "text": [
      "Epoch 1/10\n"
     ]
    },
    {
     "name": "stderr",
     "output_type": "stream",
     "text": [
      "2024-06-03 17:07:21.343095: I tensorflow/core/common_runtime/executor.cc:1197] [/device:CPU:0] (DEBUG INFO) Executor start aborting (this does not indicate an error and you can ignore this message): INVALID_ARGUMENT: You must feed a value for placeholder tensor 'Placeholder/_0' with dtype int32\n",
      "\t [[{{node Placeholder/_0}}]]\n"
     ]
    },
    {
     "name": "stdout",
     "output_type": "stream",
     "text": [
      "68/68 [==============================] - 11s 151ms/step - loss: 0.4238 - accuracy: 0.8981\n",
      "Epoch 2/10\n",
      "68/68 [==============================] - 10s 150ms/step - loss: 0.2840 - accuracy: 0.9087\n",
      "Epoch 3/10\n",
      "68/68 [==============================] - 10s 149ms/step - loss: 0.2272 - accuracy: 0.9101\n",
      "Epoch 4/10\n",
      "68/68 [==============================] - 11s 154ms/step - loss: 0.1729 - accuracy: 0.9350\n",
      "Epoch 5/10\n",
      "68/68 [==============================] - 11s 154ms/step - loss: 0.1698 - accuracy: 0.9433\n",
      "Epoch 6/10\n",
      "68/68 [==============================] - 10s 154ms/step - loss: 0.0974 - accuracy: 0.9732\n",
      "Epoch 7/10\n",
      "68/68 [==============================] - 10s 154ms/step - loss: 0.1091 - accuracy: 0.9594\n",
      "Epoch 8/10\n",
      "68/68 [==============================] - 11s 156ms/step - loss: 0.0719 - accuracy: 0.9737\n",
      "Epoch 9/10\n",
      "68/68 [==============================] - 11s 159ms/step - loss: 0.0494 - accuracy: 0.9843\n",
      "Epoch 10/10\n",
      "68/68 [==============================] - 11s 157ms/step - loss: 0.0541 - accuracy: 0.9815\n"
     ]
    },
    {
     "data": {
      "text/plain": [
       "<keras.callbacks.History at 0x39810c810>"
      ]
     },
     "execution_count": 37,
     "metadata": {},
     "output_type": "execute_result"
    }
   ],
   "execution_count": 37
  }
 ],
 "metadata": {
  "kernelspec": {
   "display_name": "Python 3",
   "language": "python",
   "name": "python3"
  },
  "language_info": {
   "codemirror_mode": {
    "name": "ipython",
    "version": 2
   },
   "file_extension": ".py",
   "mimetype": "text/x-python",
   "name": "python",
   "nbconvert_exporter": "python",
   "pygments_lexer": "ipython2",
   "version": "2.7.6"
  }
 },
 "nbformat": 4,
 "nbformat_minor": 5
}
