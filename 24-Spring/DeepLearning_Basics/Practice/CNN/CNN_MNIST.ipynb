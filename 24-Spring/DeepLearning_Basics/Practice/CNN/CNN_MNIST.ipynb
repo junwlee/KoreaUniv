{
 "cells": [
  {
   "metadata": {},
   "cell_type": "markdown",
   "source": "# Import training dataset",
   "id": "a31be90a495bec0"
  },
  {
   "cell_type": "code",
   "id": "initial_id",
   "metadata": {
    "collapsed": true,
    "ExecuteTime": {
     "end_time": "2024-06-02T02:38:05.166903Z",
     "start_time": "2024-06-02T02:38:04.997440Z"
    }
   },
   "source": [
    "from keras.datasets import mnist\n",
    "from keras.models import Sequential\n",
    "from keras.layers import Input, Conv2D, MaxPool2D, Flatten, Dense, Rescaling, GlobalAveragePooling2D\n",
    "import tensorflow as tf; tf.config.set_visible_devices([], 'GPU')\n",
    "\n",
    "(train_images, train_labels), (test_images, test_labels) = mnist.load_data()\n",
    "\n",
    "train_images = train_images.reshape((60000, 28, 28, 1))\n",
    "train_images = train_images / 255.0\n",
    "test_images = test_images.reshape((10000, 28, 28, 1))\n",
    "test_images = test_images / 255.0"
   ],
   "outputs": [],
   "execution_count": 25
  },
  {
   "metadata": {},
   "cell_type": "markdown",
   "source": "# Build CNN",
   "id": "868e4e59df46f3c5"
  },
  {
   "metadata": {
    "ExecuteTime": {
     "end_time": "2024-06-02T02:38:05.189874Z",
     "start_time": "2024-06-02T02:38:05.167880Z"
    }
   },
   "cell_type": "code",
   "source": [
    "model = Sequential(name=\"First_CNN\")\n",
    "\n",
    "model.add(Input(shape=(28, 28, 1)))\n",
    "model.add(Conv2D(32, kernel_size=(3,3), activation='relu'))\n",
    "model.add(MaxPool2D((2,2)))\n",
    "model.add(Conv2D(64, kernel_size=(3,3), activation='relu'))\n",
    "model.add(MaxPool2D((2,2)))\n",
    "model.add(Conv2D(64, kernel_size=(3,3), activation='relu'))\n",
    "model.add(Conv2D(32, kernel_size=(3,3), activation='relu'))\n",
    "\n",
    "model.add(GlobalAveragePooling2D())\n",
    "model.add(Dense(512, activation='relu'))\n",
    "model.add(Dense(10, activation='softmax'))"
   ],
   "id": "ca5a59a655eba852",
   "outputs": [],
   "execution_count": 26
  },
  {
   "metadata": {},
   "cell_type": "markdown",
   "source": "# CNN Model Information",
   "id": "5a8d9852c9ddea8a"
  },
  {
   "metadata": {
    "ExecuteTime": {
     "end_time": "2024-06-02T02:38:05.196038Z",
     "start_time": "2024-06-02T02:38:05.190504Z"
    }
   },
   "cell_type": "code",
   "source": "model.summary()",
   "id": "53e7e4490c729ddb",
   "outputs": [
    {
     "name": "stdout",
     "output_type": "stream",
     "text": [
      "Model: \"First_CNN\"\n",
      "_________________________________________________________________\n",
      " Layer (type)                Output Shape              Param #   \n",
      "=================================================================\n",
      " conv2d_10 (Conv2D)          (None, 26, 26, 32)        320       \n",
      "                                                                 \n",
      " max_pooling2d_6 (MaxPooling  (None, 13, 13, 32)       0         \n",
      " 2D)                                                             \n",
      "                                                                 \n",
      " conv2d_11 (Conv2D)          (None, 11, 11, 64)        18496     \n",
      "                                                                 \n",
      " max_pooling2d_7 (MaxPooling  (None, 5, 5, 64)         0         \n",
      " 2D)                                                             \n",
      "                                                                 \n",
      " conv2d_12 (Conv2D)          (None, 3, 3, 64)          36928     \n",
      "                                                                 \n",
      " conv2d_13 (Conv2D)          (None, 1, 1, 32)          18464     \n",
      "                                                                 \n",
      " global_average_pooling2d_1   (None, 32)               0         \n",
      " (GlobalAveragePooling2D)                                        \n",
      "                                                                 \n",
      " dense_6 (Dense)             (None, 512)               16896     \n",
      "                                                                 \n",
      " dense_7 (Dense)             (None, 10)                5130      \n",
      "                                                                 \n",
      "=================================================================\n",
      "Total params: 96,234\n",
      "Trainable params: 96,234\n",
      "Non-trainable params: 0\n",
      "_________________________________________________________________\n"
     ]
    }
   ],
   "execution_count": 27
  },
  {
   "metadata": {},
   "cell_type": "markdown",
   "source": "# Train CNN Model",
   "id": "68b6f9ed916b61ff"
  },
  {
   "metadata": {
    "ExecuteTime": {
     "end_time": "2024-06-02T02:40:36.726340Z",
     "start_time": "2024-06-02T02:38:05.197129Z"
    }
   },
   "cell_type": "code",
   "source": [
    "model.compile(\n",
    "    optimizer='Adam',\n",
    "    loss='sparse_categorical_crossentropy',\n",
    "    metrics=['accuracy']\n",
    ")\n",
    "model.fit(\n",
    "    train_images, train_labels,\n",
    "    epochs=10,\n",
    "    batch_size=32,\n",
    "    validation_data=(test_images, test_labels)\n",
    ")"
   ],
   "id": "2f73832dcd7541ef",
   "outputs": [
    {
     "name": "stdout",
     "output_type": "stream",
     "text": [
      "Epoch 1/10\n",
      "1875/1875 [==============================] - 15s 8ms/step - loss: 0.1607 - accuracy: 0.9499 - val_loss: 0.0605 - val_accuracy: 0.9805\n",
      "Epoch 2/10\n",
      "1875/1875 [==============================] - 14s 8ms/step - loss: 0.0527 - accuracy: 0.9840 - val_loss: 0.0517 - val_accuracy: 0.9837\n",
      "Epoch 3/10\n",
      "1875/1875 [==============================] - 16s 8ms/step - loss: 0.0389 - accuracy: 0.9877 - val_loss: 0.0395 - val_accuracy: 0.9883\n",
      "Epoch 4/10\n",
      "1875/1875 [==============================] - 16s 8ms/step - loss: 0.0313 - accuracy: 0.9906 - val_loss: 0.0339 - val_accuracy: 0.9897\n",
      "Epoch 5/10\n",
      "1875/1875 [==============================] - 15s 8ms/step - loss: 0.0252 - accuracy: 0.9927 - val_loss: 0.0395 - val_accuracy: 0.9885\n",
      "Epoch 6/10\n",
      "1875/1875 [==============================] - 15s 8ms/step - loss: 0.0222 - accuracy: 0.9929 - val_loss: 0.0309 - val_accuracy: 0.9905\n",
      "Epoch 7/10\n",
      "1875/1875 [==============================] - 16s 8ms/step - loss: 0.0186 - accuracy: 0.9942 - val_loss: 0.0293 - val_accuracy: 0.9925\n",
      "Epoch 8/10\n",
      "1875/1875 [==============================] - 15s 8ms/step - loss: 0.0153 - accuracy: 0.9953 - val_loss: 0.0311 - val_accuracy: 0.9921\n",
      "Epoch 9/10\n",
      "1875/1875 [==============================] - 15s 8ms/step - loss: 0.0138 - accuracy: 0.9959 - val_loss: 0.0306 - val_accuracy: 0.9918\n",
      "Epoch 10/10\n",
      "1875/1875 [==============================] - 15s 8ms/step - loss: 0.0125 - accuracy: 0.9962 - val_loss: 0.0304 - val_accuracy: 0.9926\n"
     ]
    },
    {
     "data": {
      "text/plain": [
       "<keras.callbacks.History at 0x12828b2d0>"
      ]
     },
     "execution_count": 28,
     "metadata": {},
     "output_type": "execute_result"
    }
   ],
   "execution_count": 28
  },
  {
   "metadata": {},
   "cell_type": "markdown",
   "source": "# Test model",
   "id": "c7bd808f71afe6ed"
  },
  {
   "metadata": {
    "ExecuteTime": {
     "end_time": "2024-06-02T04:55:06.182474Z",
     "start_time": "2024-06-02T04:55:06.130255Z"
    }
   },
   "cell_type": "code",
   "source": [
    "import matplotlib.pyplot as plt\n",
    "import cv2 as cv\n",
    "\n",
    "def preprocess_image(image_path):\n",
    "    img = cv.imread(image_path, cv.IMREAD_GRAYSCALE)\n",
    "    img = cv.resize(img, (28, 28))\n",
    "    img = img.astype('float32')\n",
    "    img = img.reshape(1, 784)\n",
    "    img = 255-img\n",
    "    img /= 255.0\n",
    "    img = img.reshape(1,28,28,1)\n",
    "\n",
    "    return img\n",
    "\n",
    "image = preprocess_image('handwriting/0.png')  # 전처리된 이미지 얻기\n",
    "\n",
    "plt.imshow(image.reshape(28, 28), cmap='Greys')\n",
    "plt.show()"
   ],
   "id": "644e3950a2501a6d",
   "outputs": [
    {
     "data": {
      "text/plain": [
       "<Figure size 640x480 with 1 Axes>"
      ],
      "image/png": "[encoded data removed]"
     },
     "metadata": {},
     "output_type": "display_data"
    }
   ],
   "execution_count": 64
  },
  {
   "metadata": {
    "ExecuteTime": {
     "end_time": "2024-06-02T04:55:13.804140Z",
     "start_time": "2024-06-02T04:55:13.764475Z"
    }
   },
   "cell_type": "code",
   "source": [
    "@tf.function\n",
    "def predict_image(model, image):\n",
    "    return model(image)  # model.predict가 아니라 model(image)를 호출\n",
    "\n",
    "pred = predict_image(model, image)  # 전처리된 이미지를 모델에 전달하여 예측\n",
    "print(pred)\n",
    "print(f'predicted number = {pred.numpy().argmax()}')"
   ],
   "id": "dc92a34930c5e5bf",
   "outputs": [
    {
     "name": "stdout",
     "output_type": "stream",
     "text": [
      "tf.Tensor(\n",
      "[[7.63131082e-02 1.42438908e-03 1.38792896e-03 1.13983944e-04\n",
      "  4.91432229e-06 2.04983735e-06 3.63340951e-05 2.40275244e-06\n",
      "  9.02910948e-01 1.78040098e-02]], shape=(1, 10), dtype=float32)\n",
      "predicted number = 8\n"
     ]
    }
   ],
   "execution_count": 65
  },
  {
   "metadata": {},
   "cell_type": "markdown",
   "source": [
    "### tf.function 데코레이터\n",
    "    - @tf.function을 통해 Keras 모델의 __call__ 메서드를 호출하는 경우, 실제로 model.predict, model.fit, model.evaluate와 같은 특정 메서드 호출이 아니라 모델 자체에 입력 데이터를 직접 전달\n",
    "    - 이는 예측(inference)을 수행하는 행위로 볼 수 있다."
   ],
   "id": "a1efc690ff8b944d"
  },
  {
   "metadata": {},
   "cell_type": "markdown",
   "source": [
    "### numpy() 메서드\n",
    "    - TensorFlow 텐서를 NumPy 배열로 변환하는 메서드"
   ],
   "id": "5c2e11296f9083a"
  }
 ],
 "metadata": {
  "kernelspec": {
   "display_name": "Python 3",
   "language": "python",
   "name": "python3"
  },
  "language_info": {
   "codemirror_mode": {
    "name": "ipython",
    "version": 2
   },
   "file_extension": ".py",
   "mimetype": "text/x-python",
   "name": "python",
   "nbconvert_exporter": "python",
   "pygments_lexer": "ipython2",
   "version": "2.7.6"
  }
 },
 "nbformat": 4,
 "nbformat_minor": 5
}
