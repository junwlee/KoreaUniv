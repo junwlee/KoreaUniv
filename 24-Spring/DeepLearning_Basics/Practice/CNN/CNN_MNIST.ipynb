{
 "cells": [
  {
   "metadata": {},
   "cell_type": "markdown",
   "source": "# Import training dataset",
   "id": "a31be90a495bec0"
  },
  {
   "cell_type": "code",
   "id": "initial_id",
   "metadata": {
    "collapsed": true,
    "ExecuteTime": {
     "end_time": "2024-06-01T09:36:01.529636Z",
     "start_time": "2024-06-01T09:35:51.649831Z"
    }
   },
   "source": [
    "from keras.datasets import mnist\n",
    "from keras.models import Sequential\n",
    "from keras.layers import Input, Conv2D, MaxPool2D, Flatten, Dense, Rescaling\n",
    "import tensorflow as tf; tf.config.set_visible_devices([], 'GPU')\n",
    "\n",
    "(train_images, train_labels), (test_images, test_labels) = mnist.load_data()\n",
    "\n",
    "train_images = train_images.reshape((60000, 28, 28, 1))\n",
    "train_images = train_images / 255.0\n",
    "test_images = tf.expand_dims(test_images, axis=-1)\n",
    "test_images = Rescaling(scale=1.0 / 255.0)(test_images)"
   ],
   "outputs": [],
   "execution_count": 1
  },
  {
   "metadata": {},
   "cell_type": "markdown",
   "source": "# Build CNN",
   "id": "868e4e59df46f3c5"
  },
  {
   "metadata": {
    "ExecuteTime": {
     "end_time": "2024-06-01T09:36:01.559082Z",
     "start_time": "2024-06-01T09:36:01.530676Z"
    }
   },
   "cell_type": "code",
   "source": [
    "model = Sequential(name=\"First_CNN\")\n",
    "\n",
    "model.add(Input(shape=(28, 28, 1)))\n",
    "model.add(Conv2D(32, kernel_size=(3,3), activation='relu'))\n",
    "model.add(MaxPool2D((2,2)))\n",
    "model.add(Conv2D(64, kernel_size=(3,3), activation='relu'))\n",
    "model.add(MaxPool2D((2,2)))\n",
    "model.add(Conv2D(64, kernel_size=(3,3), activation='relu'))\n",
    "\n",
    "model.add(Flatten())\n",
    "model.add(Dense(512, activation='relu'))\n",
    "model.add(Dense(10, activation='softmax'))"
   ],
   "id": "ca5a59a655eba852",
   "outputs": [],
   "execution_count": 2
  },
  {
   "metadata": {},
   "cell_type": "markdown",
   "source": "# CNN Model Information",
   "id": "5a8d9852c9ddea8a"
  },
  {
   "metadata": {
    "ExecuteTime": {
     "end_time": "2024-06-01T09:36:01.565755Z",
     "start_time": "2024-06-01T09:36:01.559787Z"
    }
   },
   "cell_type": "code",
   "source": "model.summary()",
   "id": "53e7e4490c729ddb",
   "outputs": [
    {
     "name": "stdout",
     "output_type": "stream",
     "text": [
      "Model: \"First_CNN\"\n",
      "_________________________________________________________________\n",
      " Layer (type)                Output Shape              Param #   \n",
      "=================================================================\n",
      " conv2d (Conv2D)             (None, 26, 26, 32)        320       \n",
      "                                                                 \n",
      " max_pooling2d (MaxPooling2D  (None, 13, 13, 32)       0         \n",
      " )                                                               \n",
      "                                                                 \n",
      " conv2d_1 (Conv2D)           (None, 11, 11, 64)        18496     \n",
      "                                                                 \n",
      " max_pooling2d_1 (MaxPooling  (None, 5, 5, 64)         0         \n",
      " 2D)                                                             \n",
      "                                                                 \n",
      " conv2d_2 (Conv2D)           (None, 3, 3, 64)          36928     \n",
      "                                                                 \n",
      " flatten (Flatten)           (None, 576)               0         \n",
      "                                                                 \n",
      " dense (Dense)               (None, 512)               295424    \n",
      "                                                                 \n",
      " dense_1 (Dense)             (None, 10)                5130      \n",
      "                                                                 \n",
      "=================================================================\n",
      "Total params: 356,298\n",
      "Trainable params: 356,298\n",
      "Non-trainable params: 0\n",
      "_________________________________________________________________\n"
     ]
    }
   ],
   "execution_count": 3
  },
  {
   "metadata": {},
   "cell_type": "markdown",
   "source": "# Train CNN Model",
   "id": "68b6f9ed916b61ff"
  },
  {
   "metadata": {
    "ExecuteTime": {
     "end_time": "2024-06-01T09:37:27.562510Z",
     "start_time": "2024-06-01T09:36:01.566349Z"
    }
   },
   "cell_type": "code",
   "source": [
    "model.compile(\n",
    "    optimizer='SGD',\n",
    "    loss='sparse_categorical_crossentropy',\n",
    "    metrics=['accuracy']\n",
    ")\n",
    "model.fit(\n",
    "    train_images, train_labels,\n",
    "    epochs=10,\n",
    "    batch_size=32,\n",
    "    validation_data=(test_images, test_labels)\n",
    ")"
   ],
   "id": "2f73832dcd7541ef",
   "outputs": [
    {
     "name": "stdout",
     "output_type": "stream",
     "text": [
      "Epoch 1/10\n",
      "  14/1875 [..............................] - ETA: 7s - loss: 2.3019 - accuracy: 0.0759  "
     ]
    },
    {
     "name": "stderr",
     "output_type": "stream",
     "text": [
      "2024-06-01 18:36:01.604818: W tensorflow/tsl/platform/profile_utils/cpu_utils.cc:128] Failed to get CPU frequency: 0 Hz\n"
     ]
    },
    {
     "name": "stdout",
     "output_type": "stream",
     "text": [
      "1875/1875 [==============================] - 8s 4ms/step - loss: 0.5420 - accuracy: 0.8415 - val_loss: 0.1611 - val_accuracy: 0.9512\n",
      "Epoch 2/10\n",
      "1875/1875 [==============================] - 8s 5ms/step - loss: 0.1332 - accuracy: 0.9596 - val_loss: 0.0951 - val_accuracy: 0.9710\n",
      "Epoch 3/10\n",
      "1875/1875 [==============================] - 9s 5ms/step - loss: 0.0938 - accuracy: 0.9705 - val_loss: 0.0696 - val_accuracy: 0.9783\n",
      "Epoch 4/10\n",
      "1875/1875 [==============================] - 9s 5ms/step - loss: 0.0728 - accuracy: 0.9772 - val_loss: 0.0621 - val_accuracy: 0.9810\n",
      "Epoch 5/10\n",
      "1875/1875 [==============================] - 9s 5ms/step - loss: 0.0611 - accuracy: 0.9809 - val_loss: 0.0522 - val_accuracy: 0.9839\n",
      "Epoch 6/10\n",
      "1875/1875 [==============================] - 9s 5ms/step - loss: 0.0526 - accuracy: 0.9837 - val_loss: 0.0450 - val_accuracy: 0.9856\n",
      "Epoch 7/10\n",
      "1875/1875 [==============================] - 9s 5ms/step - loss: 0.0459 - accuracy: 0.9851 - val_loss: 0.0452 - val_accuracy: 0.9861\n",
      "Epoch 8/10\n",
      "1875/1875 [==============================] - 8s 5ms/step - loss: 0.0410 - accuracy: 0.9865 - val_loss: 0.0439 - val_accuracy: 0.9866\n",
      "Epoch 9/10\n",
      "1875/1875 [==============================] - 9s 5ms/step - loss: 0.0364 - accuracy: 0.9886 - val_loss: 0.0386 - val_accuracy: 0.9886\n",
      "Epoch 10/10\n",
      "1875/1875 [==============================] - 9s 5ms/step - loss: 0.0333 - accuracy: 0.9893 - val_loss: 0.0369 - val_accuracy: 0.9889\n"
     ]
    },
    {
     "data": {
      "text/plain": [
       "<keras.callbacks.History at 0x16d15c350>"
      ]
     },
     "execution_count": 4,
     "metadata": {},
     "output_type": "execute_result"
    }
   ],
   "execution_count": 4
  },
  {
   "metadata": {},
   "cell_type": "markdown",
   "source": "# Test model",
   "id": "c7bd808f71afe6ed"
  },
  {
   "metadata": {
    "ExecuteTime": {
     "end_time": "2024-06-01T09:42:15.551262Z",
     "start_time": "2024-06-01T09:42:15.504849Z"
    }
   },
   "cell_type": "code",
   "source": [
    "import matplotlib.pyplot as plt\n",
    "import cv2 as cv\n",
    "\n",
    "def preprocess_image(image_path):\n",
    "    img = cv.imread(image_path, cv.IMREAD_GRAYSCALE)\n",
    "    img = cv.resize(img, (28, 28))\n",
    "    img = img.astype('float32')\n",
    "    img = img.reshape(784, 1)\n",
    "    img = 255-img\n",
    "    img /= 255.0\n",
    "    img = img.reshape(1,28,28,1)\n",
    "\n",
    "    return img\n",
    "\n",
    "image = preprocess_image('handwriting/9.png')  # 전처리된 이미지 얻기\n",
    "\n",
    "plt.imshow(image.reshape(28, 28), cmap='Greys')\n",
    "plt.show()"
   ],
   "id": "644e3950a2501a6d",
   "outputs": [
    {
     "data": {
      "text/plain": [
       "<Figure size 640x480 with 1 Axes>"
      ],
      "image/png": "[encoded data removed]"
     },
     "metadata": {},
     "output_type": "display_data"
    }
   ],
   "execution_count": 26
  },
  {
   "metadata": {
    "ExecuteTime": {
     "end_time": "2024-06-01T09:42:18.158903Z",
     "start_time": "2024-06-01T09:42:18.125411Z"
    }
   },
   "cell_type": "code",
   "source": [
    "@tf.function\n",
    "def predict_image(model, image):\n",
    "    return model(image)  # model.predict가 아니라 model(image)를 호출\n",
    "\n",
    "pred = predict_image(model, image)  # 전처리된 이미지를 모델에 전달하여 예측\n",
    "# print(pred)\n",
    "print(f'predicted number = {pred.numpy().argmax()}')"
   ],
   "id": "dc92a34930c5e5bf",
   "outputs": [
    {
     "name": "stdout",
     "output_type": "stream",
     "text": [
      "predicted number = 7\n"
     ]
    }
   ],
   "execution_count": 27
  },
  {
   "metadata": {},
   "cell_type": "markdown",
   "source": [
    "### tf.function 데코레이터\n",
    "    - @tf.function을 통해 Keras 모델의 __call__ 메서드를 호출하는 경우, 실제로 model.predict, model.fit, model.evaluate와 같은 특정 메서드 호출이 아니라 모델 자체에 입력 데이터를 직접 전달\n",
    "    - 이는 예측(inference)을 수행하는 행위로 볼 수 있다."
   ],
   "id": "a1efc690ff8b944d"
  },
  {
   "metadata": {},
   "cell_type": "markdown",
   "source": [
    "### numpy() 메서드\n",
    "    - TensorFlow 텐서를 NumPy 배열로 변환하는 메서드"
   ],
   "id": "5c2e11296f9083a"
  }
 ],
 "metadata": {
  "kernelspec": {
   "display_name": "Python 3",
   "language": "python",
   "name": "python3"
  },
  "language_info": {
   "codemirror_mode": {
    "name": "ipython",
    "version": 2
   },
   "file_extension": ".py",
   "mimetype": "text/x-python",
   "name": "python",
   "nbconvert_exporter": "python",
   "pygments_lexer": "ipython2",
   "version": "2.7.6"
  }
 },
 "nbformat": 4,
 "nbformat_minor": 5
}
