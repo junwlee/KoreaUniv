{
 "cells": [
  {
   "metadata": {},
   "cell_type": "markdown",
   "source": "# Import training dataset",
   "id": "a31be90a495bec0"
  },
  {
   "cell_type": "code",
   "id": "initial_id",
   "metadata": {
    "collapsed": true,
    "ExecuteTime": {
     "end_time": "2024-05-26T09:57:03.557588Z",
     "start_time": "2024-05-26T09:57:03.395956Z"
    }
   },
   "source": [
    "from keras.datasets import mnist\n",
    "from keras.models import Sequential\n",
    "from keras.layers import Input, Conv2D, MaxPool2D, Flatten, Dense, Rescaling\n",
    "import tensorflow as tf; tf.config.set_visible_devices([], 'GPU')\n",
    "\n",
    "(train_images, train_labels), (test_images, test_labels) = mnist.load_data()\n",
    "\n",
    "train_images = train_images.reshape((60000, 28, 28, 1))\n",
    "train_images = train_images / 255.0\n",
    "test_images = tf.expand_dims(test_images, axis=-1)\n",
    "test_images = Rescaling(scale=1.0 / 255.0)(test_images)"
   ],
   "outputs": [],
   "execution_count": 45
  },
  {
   "metadata": {},
   "cell_type": "markdown",
   "source": "# Build CNN",
   "id": "868e4e59df46f3c5"
  },
  {
   "metadata": {
    "ExecuteTime": {
     "end_time": "2024-05-26T09:57:03.578483Z",
     "start_time": "2024-05-26T09:57:03.558641Z"
    }
   },
   "cell_type": "code",
   "source": [
    "model = Sequential(name=\"First_CNN\")\n",
    "\n",
    "model.add(Input(shape=(28, 28, 1)))\n",
    "model.add(Conv2D(32, kernel_size=(3,3), activation='relu'))\n",
    "model.add(MaxPool2D((2,2)))\n",
    "model.add(Conv2D(64, kernel_size=(3,3), activation='relu'))\n",
    "model.add(MaxPool2D((2,2)))\n",
    "model.add(Conv2D(64, kernel_size=(3,3), activation='relu'))\n",
    "\n",
    "model.add(Flatten())\n",
    "model.add(Dense(512, activation='relu'))\n",
    "model.add(Dense(10, activation='softmax'))"
   ],
   "id": "ca5a59a655eba852",
   "outputs": [],
   "execution_count": 46
  },
  {
   "metadata": {},
   "cell_type": "markdown",
   "source": "# CNN Model Information",
   "id": "5a8d9852c9ddea8a"
  },
  {
   "metadata": {
    "ExecuteTime": {
     "end_time": "2024-05-26T09:57:03.583869Z",
     "start_time": "2024-05-26T09:57:03.579075Z"
    }
   },
   "cell_type": "code",
   "source": "model.summary()",
   "id": "53e7e4490c729ddb",
   "outputs": [
    {
     "name": "stdout",
     "output_type": "stream",
     "text": [
      "Model: \"First_CNN\"\n",
      "_________________________________________________________________\n",
      " Layer (type)                Output Shape              Param #   \n",
      "=================================================================\n",
      " conv2d_27 (Conv2D)          (None, 26, 26, 32)        320       \n",
      "                                                                 \n",
      " max_pooling2d_18 (MaxPoolin  (None, 13, 13, 32)       0         \n",
      " g2D)                                                            \n",
      "                                                                 \n",
      " conv2d_28 (Conv2D)          (None, 11, 11, 64)        18496     \n",
      "                                                                 \n",
      " max_pooling2d_19 (MaxPoolin  (None, 5, 5, 64)         0         \n",
      " g2D)                                                            \n",
      "                                                                 \n",
      " conv2d_29 (Conv2D)          (None, 3, 3, 64)          36928     \n",
      "                                                                 \n",
      " flatten_9 (Flatten)         (None, 576)               0         \n",
      "                                                                 \n",
      " dense_18 (Dense)            (None, 512)               295424    \n",
      "                                                                 \n",
      " dense_19 (Dense)            (None, 10)                5130      \n",
      "                                                                 \n",
      "=================================================================\n",
      "Total params: 356,298\n",
      "Trainable params: 356,298\n",
      "Non-trainable params: 0\n",
      "_________________________________________________________________\n"
     ]
    }
   ],
   "execution_count": 47
  },
  {
   "metadata": {},
   "cell_type": "markdown",
   "source": "# Train CNN Model",
   "id": "68b6f9ed916b61ff"
  },
  {
   "metadata": {
    "ExecuteTime": {
     "end_time": "2024-05-26T09:59:32.272829Z",
     "start_time": "2024-05-26T09:57:03.584854Z"
    }
   },
   "cell_type": "code",
   "source": [
    "model.compile(\n",
    "    optimizer='SGD',\n",
    "    loss='sparse_categorical_crossentropy',\n",
    "    metrics=['accuracy']\n",
    ")\n",
    "model.fit(\n",
    "    train_images, train_labels,\n",
    "    epochs=10,\n",
    "    batch_size=32,\n",
    "    validation_data=(test_images, test_labels)\n",
    ")"
   ],
   "id": "2f73832dcd7541ef",
   "outputs": [
    {
     "name": "stdout",
     "output_type": "stream",
     "text": [
      "Epoch 1/10\n",
      "1875/1875 [==============================] - 15s 8ms/step - loss: 0.5841 - accuracy: 0.8371 - val_loss: 0.1698 - val_accuracy: 0.9465\n",
      "Epoch 2/10\n",
      "1875/1875 [==============================] - 15s 8ms/step - loss: 0.1327 - accuracy: 0.9593 - val_loss: 0.1083 - val_accuracy: 0.9650\n",
      "Epoch 3/10\n",
      "1875/1875 [==============================] - 15s 8ms/step - loss: 0.0880 - accuracy: 0.9728 - val_loss: 0.0624 - val_accuracy: 0.9819\n",
      "Epoch 4/10\n",
      "1875/1875 [==============================] - 15s 8ms/step - loss: 0.0692 - accuracy: 0.9783 - val_loss: 0.0527 - val_accuracy: 0.9850\n",
      "Epoch 5/10\n",
      "1875/1875 [==============================] - 15s 8ms/step - loss: 0.0576 - accuracy: 0.9823 - val_loss: 0.0462 - val_accuracy: 0.9860\n",
      "Epoch 6/10\n",
      "1875/1875 [==============================] - 14s 8ms/step - loss: 0.0492 - accuracy: 0.9851 - val_loss: 0.0480 - val_accuracy: 0.9840\n",
      "Epoch 7/10\n",
      "1875/1875 [==============================] - 15s 8ms/step - loss: 0.0426 - accuracy: 0.9871 - val_loss: 0.0387 - val_accuracy: 0.9880\n",
      "Epoch 8/10\n",
      "1875/1875 [==============================] - 15s 8ms/step - loss: 0.0379 - accuracy: 0.9884 - val_loss: 0.0346 - val_accuracy: 0.9896\n",
      "Epoch 9/10\n",
      "1875/1875 [==============================] - 15s 8ms/step - loss: 0.0336 - accuracy: 0.9898 - val_loss: 0.0373 - val_accuracy: 0.9880\n",
      "Epoch 10/10\n",
      "1875/1875 [==============================] - 15s 8ms/step - loss: 0.0309 - accuracy: 0.9905 - val_loss: 0.0396 - val_accuracy: 0.9864\n"
     ]
    },
    {
     "data": {
      "text/plain": [
       "<keras.callbacks.History at 0x3ce05d950>"
      ]
     },
     "execution_count": 48,
     "metadata": {},
     "output_type": "execute_result"
    }
   ],
   "execution_count": 48
  },
  {
   "metadata": {},
   "cell_type": "markdown",
   "source": "# Test model",
   "id": "c7bd808f71afe6ed"
  },
  {
   "metadata": {
    "ExecuteTime": {
     "end_time": "2024-05-26T09:59:32.443259Z",
     "start_time": "2024-05-26T09:59:32.273421Z"
    }
   },
   "cell_type": "code",
   "source": [
    "import matplotlib.pyplot as plt\n",
    "import cv2 as cv\n",
    "\n",
    "def preprocess_image(image_path):\n",
    "    img = cv.imread(image_path, cv.IMREAD_GRAYSCALE)\n",
    "    img = cv.resize(img, (28, 28))\n",
    "    img = img.astype('float32')\n",
    "    img = img.reshape(784, 1)\n",
    "    img = 255-img\n",
    "    img /= 255.0\n",
    "    img = img.reshape(1,28,28,1)\n",
    "\n",
    "    return img\n",
    "\n",
    "image = preprocess_image('test.png')  # 전처리된 이미지 얻기\n",
    "\n",
    "plt.imshow(image.reshape(28, 28), cmap='Greys')\n",
    "plt.show()"
   ],
   "id": "644e3950a2501a6d",
   "outputs": [
    {
     "data": {
      "text/plain": [
       "<Figure size 640x480 with 1 Axes>"
      ],
      "image/png": "[encoded data removed]"
     },
     "metadata": {},
     "output_type": "display_data"
    }
   ],
   "execution_count": 49
  },
  {
   "metadata": {
    "ExecuteTime": {
     "end_time": "2024-05-26T10:00:59.779839Z",
     "start_time": "2024-05-26T10:00:59.746628Z"
    }
   },
   "cell_type": "code",
   "source": [
    "@tf.function\n",
    "def predict_image(model, image):\n",
    "    return model(image)  # model.predict가 아니라 model(image)를 호출\n",
    "\n",
    "pred = predict_image(model, image)  # 전처리된 이미지를 모델에 전달하여 예측\n",
    "# print(pred) # shpae: (1,10)\n",
    "print(f'predicted number = {pred.numpy().argmax()}')"
   ],
   "id": "dc92a34930c5e5bf",
   "outputs": [
    {
     "name": "stdout",
     "output_type": "stream",
     "text": [
      "predicted number = 6\n"
     ]
    }
   ],
   "execution_count": 51
  },
  {
   "metadata": {},
   "cell_type": "markdown",
   "source": [
    "### tf.function 데코레이터\n",
    "    - @tf.function을 통해 Keras 모델의 __call__ 메서드를 호출하는 경우, 실제로 model.predict, model.fit, model.evaluate와 같은 특정 메서드 호출이 아니라 모델 자체에 입력 데이터를 직접 전달\n",
    "    - 이는 예측(inference)을 수행하는 행위로 볼 수 있다."
   ],
   "id": "a1efc690ff8b944d"
  },
  {
   "metadata": {},
   "cell_type": "markdown",
   "source": [
    "### numpy() 메서드\n",
    "    - TensorFlow 텐서를 NumPy 배열로 변환하는 메서드"
   ],
   "id": "5c2e11296f9083a"
  }
 ],
 "metadata": {
  "kernelspec": {
   "display_name": "Python 3",
   "language": "python",
   "name": "python3"
  },
  "language_info": {
   "codemirror_mode": {
    "name": "ipython",
    "version": 2
   },
   "file_extension": ".py",
   "mimetype": "text/x-python",
   "name": "python",
   "nbconvert_exporter": "python",
   "pygments_lexer": "ipython2",
   "version": "2.7.6"
  }
 },
 "nbformat": 4,
 "nbformat_minor": 5
}
