{
 "cells": [
  {
   "cell_type": "code",
   "execution_count": 25,
   "id": "initial_id",
   "metadata": {
    "collapsed": true,
    "ExecuteTime": {
     "end_time": "2024-04-20T08:11:20.144504Z",
     "start_time": "2024-04-20T08:11:20.141891Z"
    }
   },
   "outputs": [],
   "source": [
    "from sklearn import datasets\n",
    "import pandas as pd\n",
    "import numpy as np"
   ]
  },
  {
   "cell_type": "code",
   "outputs": [
    {
     "name": "stdout",
     "output_type": "stream",
     "text": [
      "   sepal length (cm)  sepal width (cm)  petal length (cm)  petal width (cm)  \\\n",
      "0                5.1               3.5                1.4               0.2   \n",
      "1                4.9               3.0                1.4               0.2   \n",
      "2                4.7               3.2                1.3               0.2   \n",
      "3                4.6               3.1                1.5               0.2   \n",
      "4                5.0               3.6                1.4               0.2   \n",
      "\n",
      "   target  \n",
      "0     0.0  \n",
      "1     0.0  \n",
      "2     0.0  \n",
      "3     0.0  \n",
      "4     0.0  \n"
     ]
    }
   ],
   "source": [
    "# 붓꽃 데이터셋 로드\n",
    "iris = datasets.load_iris()\n",
    "\n",
    "# 데이터셋을 Pandas DataFrame으로 변환\n",
    "# np.c_[]는 Numpy의 기능을 사용해 두 배열을 옆으로 연결\n",
    "# iris['feature_names']에 'target'을 추가하여 DataFrame의 컬럼 이름을 지정\n",
    "iris_df = pd.DataFrame(data=np.c_[iris['data'], iris['target']],\n",
    "                       columns=iris['feature_names'] + ['target'])\n",
    "\n",
    "# DataFrame 출력 시 칼럼 생략 없이 모든 칼럼을 출력하도록 설정\n",
    "pd.set_option('display.max_columns', None)\n",
    "\n",
    "# DataFrame 출력\n",
    "print(iris_df.head())\n",
    "\n",
    "# '꽃받침 길이(sepal length (cm))'와 '꽃잎 길이(petal length (cm))'만 선택\n",
    "# selected_features_df = iris_df[['sepal length (cm)', 'petal length (cm)']]\n",
    "# selected_features_df.index += 1  # 인덱스에 1을 더해 1부터 시작하도록 조정\n",
    "#\n",
    "# print(selected_features_df)"
   ],
   "metadata": {
    "collapsed": false,
    "ExecuteTime": {
     "end_time": "2024-04-20T08:11:20.151777Z",
     "start_time": "2024-04-20T08:11:20.145826Z"
    }
   },
   "id": "208ae654037a92fd",
   "execution_count": 26
  },
  {
   "cell_type": "code",
   "outputs": [],
   "source": [
    "from sklearn.model_selection import train_test_split\n",
    "X = iris.data\n",
    "y = iris.target\n",
    "\n",
    "X_train, X_test, y_train, y_test = train_test_split(X, y, test_size=0.2, random_state=4)"
   ],
   "metadata": {
    "collapsed": false,
    "ExecuteTime": {
     "end_time": "2024-04-20T08:11:20.155154Z",
     "start_time": "2024-04-20T08:11:20.152515Z"
    }
   },
   "id": "c79642d67555d746",
   "execution_count": 27
  },
  {
   "cell_type": "code",
   "outputs": [],
   "source": [
    "from sklearn.neighbors import KNeighborsClassifier\n",
    "\n",
    "knn = KNeighborsClassifier(n_neighbors=6, metric='minkowski')\n",
    "knn.fit(X_train, y_train)\n",
    "\n",
    "y_pred = knn.predict(X_test)"
   ],
   "metadata": {
    "collapsed": false,
    "ExecuteTime": {
     "end_time": "2024-04-20T08:11:20.161400Z",
     "start_time": "2024-04-20T08:11:20.156520Z"
    }
   },
   "id": "93146d32382b4fc2",
   "execution_count": 28
  },
  {
   "cell_type": "code",
   "outputs": [
    {
     "name": "stdout",
     "output_type": "stream",
     "text": [
      "0.9666666666666667\n"
     ]
    }
   ],
   "source": [
    "from sklearn import metrics\n",
    "scores = metrics.accuracy_score(y_test, y_pred)\n",
    "print(scores)"
   ],
   "metadata": {
    "collapsed": false,
    "ExecuteTime": {
     "end_time": "2024-04-20T08:11:20.164210Z",
     "start_time": "2024-04-20T08:11:20.162051Z"
    }
   },
   "id": "12f4631399ce8159",
   "execution_count": 29
  },
  {
   "cell_type": "code",
   "outputs": [
    {
     "name": "stdout",
     "output_type": "stream",
     "text": [
      "Iris-setosa\n",
      "Iris-versicolor\n"
     ]
    }
   ],
   "source": [
    "classes = {0: 'Iris-setosa', 1: 'Iris-versicolor', 2: 'Iris-virginica'}\n",
    "x_new = [[4,4,2,2], [6,3,4.5, 0.5]]\n",
    "y_predict = knn.predict(x_new)\n",
    "\n",
    "print(classes[y_predict[0]])\n",
    "print(classes[y_predict[1]])"
   ],
   "metadata": {
    "collapsed": false,
    "ExecuteTime": {
     "end_time": "2024-04-20T08:11:20.167873Z",
     "start_time": "2024-04-20T08:11:20.164871Z"
    }
   },
   "id": "b886ff02d1e0d55",
   "execution_count": 30
  }
 ],
 "metadata": {
  "kernelspec": {
   "display_name": "Python 3",
   "language": "python",
   "name": "python3"
  },
  "language_info": {
   "codemirror_mode": {
    "name": "ipython",
    "version": 2
   },
   "file_extension": ".py",
   "mimetype": "text/x-python",
   "name": "python",
   "nbconvert_exporter": "python",
   "pygments_lexer": "ipython2",
   "version": "2.7.6"
  }
 },
 "nbformat": 4,
 "nbformat_minor": 5
}
