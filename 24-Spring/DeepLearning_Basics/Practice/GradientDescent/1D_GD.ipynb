{
 "cells": [
  {
   "cell_type": "code",
   "execution_count": 7,
   "id": "initial_id",
   "metadata": {
    "collapsed": true,
    "ExecuteTime": {
     "end_time": "2024-04-16T15:19:21.353440Z",
     "start_time": "2024-04-16T15:19:21.351404Z"
    }
   },
   "outputs": [],
   "source": [
    "def loss_func(x):\n",
    "    return (x-3)**2 + 10\n",
    "\n",
    "def differentiation(x, delta):\n",
    "    y_delta = loss_func(x + delta)\n",
    "    y = loss_func(x - delta)\n",
    "    return (y_delta - y) / (2 * delta)"
   ]
  },
  {
   "cell_type": "code",
   "outputs": [
    {
     "name": "stdout",
     "output_type": "stream",
     "text": [
      "loss(0.7286228170880201) = 15.159154307053162\n",
      "loss(2.6932175254944397) = 10.094115486663755\n",
      "loss(2.9585645715860416) = 10.001716894727847\n",
      "loss(2.9944035436488576) = 10.000031320323691\n",
      "loss(2.9992441172955537) = 10.000000571358663\n",
      "When x is 2.999501566761344, minimum = 10.000000248435693\n"
     ]
    }
   ],
   "source": [
    "import random\n",
    "\n",
    "x_i = random.random()\n",
    "\n",
    "precision = 0.000001\n",
    "delta = 1e-4\n",
    "lr = 0.001\n",
    "max_iter = 100000\n",
    "for i in range(max_iter):\n",
    "    g_d = differentiation(x_i, delta)\n",
    "    x_n = x_i + (-g_d*lr)\n",
    "    if abs(x_n - x_i) <= precision:\n",
    "        print(f'When x is {x_n}, minimum = {loss_func(x_n)}')\n",
    "        break\n",
    "        \n",
    "    x_i = x_n # Update previous x to x+\n",
    "    \n",
    "    if i % 1000 == 0:\n",
    "        print(f'loss({x_n}) = {loss_func(x_n)}')"
   ],
   "metadata": {
    "collapsed": false,
    "ExecuteTime": {
     "end_time": "2024-04-16T15:19:21.358863Z",
     "start_time": "2024-04-16T15:19:21.354656Z"
    }
   },
   "id": "53d28862a4199b42",
   "execution_count": 8
  },
  {
   "cell_type": "code",
   "outputs": [],
   "source": [],
   "metadata": {
    "collapsed": false,
    "ExecuteTime": {
     "end_time": "2024-04-16T15:19:21.361129Z",
     "start_time": "2024-04-16T15:19:21.359830Z"
    }
   },
   "id": "678e62dc958cd1b6",
   "execution_count": 8
  }
 ],
 "metadata": {
  "kernelspec": {
   "display_name": "Python 3",
   "language": "python",
   "name": "python3"
  },
  "language_info": {
   "codemirror_mode": {
    "name": "ipython",
    "version": 2
   },
   "file_extension": ".py",
   "mimetype": "text/x-python",
   "name": "python",
   "nbconvert_exporter": "python",
   "pygments_lexer": "ipython2",
   "version": "2.7.6"
  }
 },
 "nbformat": 4,
 "nbformat_minor": 5
}
