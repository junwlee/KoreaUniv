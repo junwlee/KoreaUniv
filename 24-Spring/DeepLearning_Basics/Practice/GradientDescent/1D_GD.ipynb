{
 "cells": [
  {
   "cell_type": "code",
   "execution_count": 1,
   "id": "initial_id",
   "metadata": {
    "collapsed": true,
    "ExecuteTime": {
     "end_time": "2024-04-16T08:09:02.997700Z",
     "start_time": "2024-04-16T08:09:02.993513Z"
    }
   },
   "outputs": [],
   "source": [
    "def loss_func(x):\n",
    "    return (x-3)**2 + 10\n",
    "\n",
    "def differentiation(x, delta):\n",
    "    y_delta = loss_func(x + delta)\n",
    "    y = loss_func(x)\n",
    "    return (y_delta - y) / delta"
   ]
  },
  {
   "cell_type": "code",
   "outputs": [
    {
     "name": "stdout",
     "output_type": "stream",
     "text": [
      "loss(0.2050949479175106) = 17.811494250156223\n",
      "loss(2.622507564668391) = 10.14250053873259\n",
      "loss(2.949013995449528) = 10.00259957266002\n",
      "loss(2.993113581654521) = 10.000047422757628\n",
      "loss(2.999070096935535) = 10.00000086471971\n",
      "When x is 2.9994999575271013, minimum = 10.000000250042474\n"
     ]
    }
   ],
   "source": [
    "import random\n",
    "\n",
    "x_i = random.random()\n",
    "\n",
    "precision = 0.000001\n",
    "delta = 1e-10\n",
    "lr = 0.001\n",
    "max_iter = 100000\n",
    "for i in range(max_iter):\n",
    "    g_d = differentiation(x_i, delta)\n",
    "    x_n = x_i + (-g_d*lr)\n",
    "    if abs(x_n - x_i) <= precision:\n",
    "        print(f'When x is {x_n}, minimum = {loss_func(x_n)}')\n",
    "        break\n",
    "        \n",
    "    x_i = x_n # Update previous x to x+\n",
    "    \n",
    "    if i % 1000 == 0:\n",
    "        print(f'loss({x_n}) = {loss_func(x_n)}')"
   ],
   "metadata": {
    "collapsed": false,
    "ExecuteTime": {
     "end_time": "2024-04-16T08:30:02.143998Z",
     "start_time": "2024-04-16T08:30:02.138559Z"
    }
   },
   "id": "53d28862a4199b42",
   "execution_count": 18
  },
  {
   "cell_type": "code",
   "outputs": [],
   "source": [],
   "metadata": {
    "collapsed": false
   },
   "id": "678e62dc958cd1b6"
  }
 ],
 "metadata": {
  "kernelspec": {
   "display_name": "Python 3",
   "language": "python",
   "name": "python3"
  },
  "language_info": {
   "codemirror_mode": {
    "name": "ipython",
    "version": 2
   },
   "file_extension": ".py",
   "mimetype": "text/x-python",
   "name": "python",
   "nbconvert_exporter": "python",
   "pygments_lexer": "ipython2",
   "version": "2.7.6"
  }
 },
 "nbformat": 4,
 "nbformat_minor": 5
}
