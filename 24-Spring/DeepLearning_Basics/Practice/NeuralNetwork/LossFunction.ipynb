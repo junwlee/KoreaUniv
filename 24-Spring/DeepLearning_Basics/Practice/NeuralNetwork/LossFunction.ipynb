{
 "cells": [
  {
   "cell_type": "code",
   "execution_count": 7,
   "id": "initial_id",
   "metadata": {
    "collapsed": true,
    "ExecuteTime": {
     "end_time": "2024-04-14T08:33:53.258736Z",
     "start_time": "2024-04-14T08:33:53.256476Z"
    }
   },
   "outputs": [],
   "source": [
    "import numpy as np"
   ]
  },
  {
   "cell_type": "code",
   "outputs": [
    {
     "data": {
      "text/plain": "0.09625000000000003"
     },
     "execution_count": 13,
     "metadata": {},
     "output_type": "execute_result"
    }
   ],
   "source": [
    "def mean_squared_error(y_true, y_pred):\n",
    "    return 0.5 * np.sum(np.square(y_true - y_pred))\n",
    "\n",
    "t = [0, 0, 1, 0, 0, 0, 0, 0, 0, 0]\n",
    "p = [0.1, 0.05, 0.6, 0.0, 0.1, 0.0, 0.0, 0.1, 0.0, 0.0] # 2\n",
    "\n",
    "mean_squared_error(np.array(t),np.array(p))"
   ],
   "metadata": {
    "collapsed": false,
    "ExecuteTime": {
     "end_time": "2024-04-14T08:39:13.054167Z",
     "start_time": "2024-04-14T08:39:13.049675Z"
    }
   },
   "id": "93abfd45a1672e41",
   "execution_count": 13
  },
  {
   "cell_type": "code",
   "outputs": [
    {
     "data": {
      "text/plain": "0.59625"
     },
     "execution_count": 14,
     "metadata": {},
     "output_type": "execute_result"
    }
   ],
   "source": [
    "p = [0.1, 0.05, 0.1, 0.0, 0.1, 0.0, 0.0, 0.6, 0.0, 0.0] # 7\n",
    "\n",
    "mean_squared_error(np.array(t),np.array(p))"
   ],
   "metadata": {
    "collapsed": false,
    "ExecuteTime": {
     "end_time": "2024-04-14T08:39:16.682582Z",
     "start_time": "2024-04-14T08:39:16.679197Z"
    }
   },
   "id": "a73fed3db3db388f",
   "execution_count": 14
  },
  {
   "cell_type": "code",
   "outputs": [],
   "source": [
    "def cross_entropy(y_true, y_pred):\n",
    "    delta = 1e-7\n",
    "    return -np.sum(y_true * np.log(y_pred + delta))"
   ],
   "metadata": {
    "collapsed": false,
    "ExecuteTime": {
     "end_time": "2024-04-14T08:37:25.218598Z",
     "start_time": "2024-04-14T08:37:25.216417Z"
    }
   },
   "id": "1650351dd77eafe3",
   "execution_count": 10
  },
  {
   "cell_type": "code",
   "outputs": [
    {
     "data": {
      "text/plain": "0.510825457099338"
     },
     "execution_count": 11,
     "metadata": {},
     "output_type": "execute_result"
    }
   ],
   "source": [
    "t = [0, 0, 1, 0, 0, 0, 0, 0, 0, 0]\n",
    "p = [0.1, 0.05, 0.6, 0.0, 0.1, 0.0, 0.0, 0.1, 0.0, 0.0] # 2\n",
    "\n",
    "cross_entropy(np.array(t),np.array(p))"
   ],
   "metadata": {
    "collapsed": false,
    "ExecuteTime": {
     "end_time": "2024-04-14T08:37:38.895051Z",
     "start_time": "2024-04-14T08:37:38.891926Z"
    }
   },
   "id": "850e27137beb8461",
   "execution_count": 11
  },
  {
   "cell_type": "code",
   "outputs": [
    {
     "data": {
      "text/plain": "2.302584092994546"
     },
     "execution_count": 12,
     "metadata": {},
     "output_type": "execute_result"
    }
   ],
   "source": [
    "p = [0.1, 0.05, 0.1, 0.0, 0.1, 0.0, 0.0, 0.6, 0.0, 0.0] # 7\n",
    "\n",
    "cross_entropy(np.array(t),np.array(p))"
   ],
   "metadata": {
    "collapsed": false,
    "ExecuteTime": {
     "end_time": "2024-04-14T08:37:57.536324Z",
     "start_time": "2024-04-14T08:37:57.533088Z"
    }
   },
   "id": "776669dd5b91c48f",
   "execution_count": 12
  }
 ],
 "metadata": {
  "kernelspec": {
   "display_name": "Python 3",
   "language": "python",
   "name": "python3"
  },
  "language_info": {
   "codemirror_mode": {
    "name": "ipython",
    "version": 2
   },
   "file_extension": ".py",
   "mimetype": "text/x-python",
   "name": "python",
   "nbconvert_exporter": "python",
   "pygments_lexer": "ipython2",
   "version": "2.7.6"
  }
 },
 "nbformat": 4,
 "nbformat_minor": 5
}
