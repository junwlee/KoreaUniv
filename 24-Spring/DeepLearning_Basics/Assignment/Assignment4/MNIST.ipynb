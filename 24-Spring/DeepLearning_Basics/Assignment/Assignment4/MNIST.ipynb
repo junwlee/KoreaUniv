{
 "cells": [
  {
   "cell_type": "code",
   "id": "initial_id",
   "metadata": {
    "collapsed": true,
    "ExecuteTime": {
     "end_time": "2024-06-01T10:18:54.457665Z",
     "start_time": "2024-06-01T10:18:54.156393Z"
    }
   },
   "source": [
    "from keras.applications import ResNet50\n",
    "from keras.layers import Dense, GlobalAveragePooling2D\n",
    "from keras.models import Model\n",
    "\n",
    "base_model = ResNet50(\n",
    "    weights=None,\n",
    "    include_top=False,\n",
    "input_shape=(32, 32, 1)\n",
    ")\n",
    "\n",
    "x = base_model.output\n",
    "x = GlobalAveragePooling2D()(x)\n",
    "x = Dense(64, activation='relu')(x)\n",
    "x = Dense(64, activation='relu')(x)\n",
    "x = Dense(32, activation='relu')(x)\n",
    "preds = Dense(10, activation='softmax')(x)\n",
    "model = Model(inputs=base_model.input, outputs=preds)\n",
    "\n",
    "for layer in base_model.layers:\n",
    "    layer.trainable = False\n",
    "    \n",
    "# model.summary()"
   ],
   "outputs": [],
   "execution_count": 72
  },
  {
   "metadata": {},
   "cell_type": "markdown",
   "source": "# Preprocess",
   "id": "e09a8e46cd8b8ba1"
  },
  {
   "metadata": {
    "ExecuteTime": {
     "end_time": "2024-06-01T10:18:56.803431Z",
     "start_time": "2024-06-01T10:18:56.756693Z"
    }
   },
   "cell_type": "code",
   "source": [
    "import matplotlib.pyplot as plt\n",
    "import cv2 as cv\n",
    "\n",
    "def preprocess_image(image_path):\n",
    "    img = cv.imread(image_path, cv.IMREAD_GRAYSCALE)\n",
    "    img = cv.resize(img, (32, 32))\n",
    "    img = img.astype('float32')\n",
    "    img = img.reshape(1024, 1)\n",
    "    img = 255-img\n",
    "    img /= 255.0\n",
    "    img = img.reshape(1,32,32,1)\n",
    "\n",
    "    return img\n",
    "\n",
    "image = preprocess_image('handwriting/4.png')  # 전처리된 이미지 얻기\n",
    "\n",
    "plt.imshow(image.reshape(32, 32), cmap='Greys')\n",
    "plt.show()"
   ],
   "id": "d3b5ede7295672e0",
   "outputs": [
    {
     "data": {
      "text/plain": [
       "<Figure size 640x480 with 1 Axes>"
      ],
      "image/png": "[encoded data removed]"
     },
     "metadata": {},
     "output_type": "display_data"
    }
   ],
   "execution_count": 73
  },
  {
   "metadata": {},
   "cell_type": "markdown",
   "source": "# Predict",
   "id": "e2da4d1ac0486cd3"
  },
  {
   "metadata": {
    "ExecuteTime": {
     "end_time": "2024-06-01T10:18:59.308383Z",
     "start_time": "2024-06-01T10:18:59.047298Z"
    }
   },
   "cell_type": "code",
   "source": [
    "import tensorflow as tf\n",
    "\n",
    "@tf.function\n",
    "def predict_image(model, image):\n",
    "    return model(image)  # model.predict가 아니라 model(image)를 호출\n",
    "\n",
    "pred = predict_image(model, image)  # 전처리된 이미지를 모델에 전달하여 예측\n",
    "print(pred)\n",
    "print(f'predicted number = {pred.numpy().argmax()}')"
   ],
   "id": "8591ad5159f27926",
   "outputs": [
    {
     "name": "stdout",
     "output_type": "stream",
     "text": [
      "tf.Tensor(\n",
      "[[0.10022581 0.10041957 0.10051839 0.09994617 0.09970164 0.09927037\n",
      "  0.10084131 0.1003659  0.09975921 0.09895162]], shape=(1, 10), dtype=float32)\n",
      "predicted number = 6\n"
     ]
    }
   ],
   "execution_count": 74
  },
  {
   "metadata": {},
   "cell_type": "code",
   "outputs": [],
   "execution_count": null,
   "source": "",
   "id": "1011e746ab0de67e"
  }
 ],
 "metadata": {
  "kernelspec": {
   "display_name": "Python 3",
   "language": "python",
   "name": "python3"
  },
  "language_info": {
   "codemirror_mode": {
    "name": "ipython",
    "version": 2
   },
   "file_extension": ".py",
   "mimetype": "text/x-python",
   "name": "python",
   "nbconvert_exporter": "python",
   "pygments_lexer": "ipython2",
   "version": "2.7.6"
  }
 },
 "nbformat": 4,
 "nbformat_minor": 5
}
